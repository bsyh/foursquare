{
 "cells": [
  {
   "cell_type": "code",
   "execution_count": 1,
   "id": "ffb9b89a",
   "metadata": {
    "_cell_guid": "b1076dfc-b9ad-4769-8c92-a6c4dae69d19",
    "_uuid": "8f2839f25d086af736a60e9eeb907d3b93b6e0e5",
    "execution": {
     "iopub.execute_input": "2022-06-30T03:10:14.204128Z",
     "iopub.status.busy": "2022-06-30T03:10:14.203656Z",
     "iopub.status.idle": "2022-06-30T03:10:16.503975Z",
     "shell.execute_reply": "2022-06-30T03:10:16.502708Z"
    },
    "papermill": {
     "duration": 2.315846,
     "end_time": "2022-06-30T03:10:16.507090",
     "exception": false,
     "start_time": "2022-06-30T03:10:14.191244",
     "status": "completed"
    },
    "tags": []
   },
   "outputs": [],
   "source": [
    "import pandas as pd\n",
    "import numpy as np\n",
    "from sklearn.neighbors import NearestNeighbors\n",
    "from sklearn.feature_extraction.text import TfidfVectorizer\n",
    "\n",
    "from geopy.geocoders import Nominatim\n",
    "\n",
    "import re\n",
    "import string\n",
    "from nltk.tokenize import word_tokenize\n",
    "from nltk.corpus import stopwords, wordnet as wn\n",
    "from nltk.stem import PorterStemmer, WordNetLemmatizer\n",
    "\n",
    "import Levenshtein as lev\n",
    "import math\n",
    "from collections import Counter\n",
    "\n",
    "from sklearn.preprocessing import RobustScaler\n",
    "from sklearn.model_selection import cross_val_score\n",
    "\n",
    "from xgboost import XGBClassifier"
   ]
  },
  {
   "cell_type": "code",
   "execution_count": 2,
   "id": "8f80ba6d",
   "metadata": {
    "execution": {
     "iopub.execute_input": "2022-06-30T03:10:16.528641Z",
     "iopub.status.busy": "2022-06-30T03:10:16.527956Z",
     "iopub.status.idle": "2022-06-30T03:10:26.983921Z",
     "shell.execute_reply": "2022-06-30T03:10:26.982745Z"
    },
    "papermill": {
     "duration": 10.470114,
     "end_time": "2022-06-30T03:10:26.987126",
     "exception": false,
     "start_time": "2022-06-30T03:10:16.517012",
     "status": "completed"
    },
    "tags": []
   },
   "outputs": [],
   "source": [
    "train = pd.read_csv('../input/foursquare-location-matching/train.csv')\n",
    "#train = train.head()\n",
    "#train.head()"
   ]
  },
  {
   "cell_type": "markdown",
   "id": "3e616b79",
   "metadata": {
    "papermill": {
     "duration": 0.008947,
     "end_time": "2022-06-30T03:10:27.005457",
     "exception": false,
     "start_time": "2022-06-30T03:10:26.996510",
     "status": "completed"
    },
    "tags": []
   },
   "source": [
    "# Generate test pairs dataset"
   ]
  },
  {
   "cell_type": "code",
   "execution_count": 3,
   "id": "4372124f",
   "metadata": {
    "execution": {
     "iopub.execute_input": "2022-06-30T03:10:27.026680Z",
     "iopub.status.busy": "2022-06-30T03:10:27.026281Z",
     "iopub.status.idle": "2022-06-30T03:10:27.043280Z",
     "shell.execute_reply": "2022-06-30T03:10:27.042118Z"
    },
    "papermill": {
     "duration": 0.030914,
     "end_time": "2022-06-30T03:10:27.046036",
     "exception": false,
     "start_time": "2022-06-30T03:10:27.015122",
     "status": "completed"
    },
    "tags": []
   },
   "outputs": [],
   "source": [
    "test = pd.read_csv('../input/foursquare-location-matching/test.csv')\n",
    "#test = test.head()\n",
    "#test.head()"
   ]
  },
  {
   "cell_type": "code",
   "execution_count": 4,
   "id": "335c9106",
   "metadata": {
    "execution": {
     "iopub.execute_input": "2022-06-30T03:10:27.068254Z",
     "iopub.status.busy": "2022-06-30T03:10:27.067412Z",
     "iopub.status.idle": "2022-06-30T03:10:27.080244Z",
     "shell.execute_reply": "2022-06-30T03:10:27.079245Z"
    },
    "papermill": {
     "duration": 0.027177,
     "end_time": "2022-06-30T03:10:27.082862",
     "exception": false,
     "start_time": "2022-06-30T03:10:27.055685",
     "status": "completed"
    },
    "tags": []
   },
   "outputs": [],
   "source": [
    "def create_match_by_pos(df, train = False, neighbour = 10):\n",
    "    # create data by nearest 10 neighbours, by train or test dataset\n",
    "    \n",
    "    if len(df) < neighbour:\n",
    "        neighbour = len(df)-1\n",
    "    neighbor = NearestNeighbors(n_neighbors=neighbour+1, metric=\"haversine\", n_jobs=-1) # haversine: 2 arcsin(sqrt(sin^2(0.5*dx) + cos(x1)cos(x2)sin^2(0.5*dy)))\n",
    "    position = df.iloc[:,2:4]\n",
    "    neighbor.fit(position)\n",
    "    #distance = neighbor.kneighbors(position)[0]\n",
    "    cloest_pos = neighbor.kneighbors(position)[1]\n",
    "    \n",
    "    df_combine = pd.DataFrame()\n",
    "    for i in range(1,neighbour+1):\n",
    "        df1 = df.loc[cloest_pos[:,0]]\n",
    "        df2 = df.loc[cloest_pos[:,i]]\n",
    "        for col in df1.columns:\n",
    "            df1.rename(columns={col: f\"{col}_1\"}, inplace = True)\n",
    "            df2.rename(columns={col: f\"{col}_2\"}, inplace = True)    \n",
    "        df2.reset_index(drop=True,inplace = True)\n",
    "        df_new = pd.concat([df1,df2], axis = 1)\n",
    "        if train == True:\n",
    "            df_new['match'] = df_new['point_of_interest_1'] == df_new['point_of_interest_2']\n",
    "            df_new.drop(columns=['point_of_interest_1', 'point_of_interest_2'], inplace = True)\n",
    "        df_combine = pd.concat([df_combine,df_new], axis = 0)\n",
    "    df_combine.reset_index(drop=True, inplace = True)\n",
    "    return df_combine"
   ]
  },
  {
   "cell_type": "code",
   "execution_count": 5,
   "id": "d75e4429",
   "metadata": {
    "execution": {
     "iopub.execute_input": "2022-06-30T03:10:27.103923Z",
     "iopub.status.busy": "2022-06-30T03:10:27.103257Z",
     "iopub.status.idle": "2022-06-30T03:10:27.272606Z",
     "shell.execute_reply": "2022-06-30T03:10:27.271640Z"
    },
    "papermill": {
     "duration": 0.182794,
     "end_time": "2022-06-30T03:10:27.275160",
     "exception": false,
     "start_time": "2022-06-30T03:10:27.092366",
     "status": "completed"
    },
    "tags": []
   },
   "outputs": [],
   "source": [
    "test_pairs = create_match_by_pos(test)\n",
    "#test_pairs"
   ]
  },
  {
   "cell_type": "code",
   "execution_count": 6,
   "id": "319ee60a",
   "metadata": {
    "execution": {
     "iopub.execute_input": "2022-06-30T03:10:27.295874Z",
     "iopub.status.busy": "2022-06-30T03:10:27.295462Z",
     "iopub.status.idle": "2022-06-30T03:10:36.754669Z",
     "shell.execute_reply": "2022-06-30T03:10:36.753456Z"
    },
    "papermill": {
     "duration": 9.472928,
     "end_time": "2022-06-30T03:10:36.757508",
     "exception": false,
     "start_time": "2022-06-30T03:10:27.284580",
     "status": "completed"
    },
    "tags": []
   },
   "outputs": [],
   "source": [
    "pairs = pd.read_csv('../input/foursquare-location-matching/pairs.csv')\n",
    "#pairs = pairs.head()\n",
    "pairs = pairs.iloc[0:10000,:]\n",
    "#pairs.head()"
   ]
  },
  {
   "cell_type": "code",
   "execution_count": 7,
   "id": "543d3e16",
   "metadata": {
    "execution": {
     "iopub.execute_input": "2022-06-30T03:10:36.778682Z",
     "iopub.status.busy": "2022-06-30T03:10:36.778282Z",
     "iopub.status.idle": "2022-06-30T03:10:36.788306Z",
     "shell.execute_reply": "2022-06-30T03:10:36.786857Z"
    },
    "papermill": {
     "duration": 0.023922,
     "end_time": "2022-06-30T03:10:36.790976",
     "exception": false,
     "start_time": "2022-06-30T03:10:36.767054",
     "status": "completed"
    },
    "tags": []
   },
   "outputs": [],
   "source": [
    "loc_name_1 = ['city_1','state_1','zip_1']\n",
    "loc_name_2 = ['city_2','state_2','zip_2']\n",
    "name = ['city','state','postcode']\n",
    "\n",
    "def find_loc(lat,lon,name):\n",
    "    geolocator = Nominatim(user_agent=\"geoapiExercises\")\n",
    "    lat = str(lat); lon = str(lon)\n",
    "    location = geolocator.reverse(lat+\",\"+lon)\n",
    "    address = location.raw['address']\n",
    "    return address.get(name)\n",
    "    \n",
    "def find_loc_all(df,lat,lon,loc_name,name):\n",
    "\n",
    "    for i in range(len(loc_name)):\n",
    "        new_col = df.apply(lambda x: find_loc(x[lat],x[lon],name[i]), axis = 1)\n",
    "        df[loc_name[i]].fillna(new_col, inplace=True)\n",
    "    return df"
   ]
  },
  {
   "cell_type": "code",
   "execution_count": 8,
   "id": "21e129d1",
   "metadata": {
    "execution": {
     "iopub.execute_input": "2022-06-30T03:10:36.812828Z",
     "iopub.status.busy": "2022-06-30T03:10:36.811687Z",
     "iopub.status.idle": "2022-06-30T03:10:36.816401Z",
     "shell.execute_reply": "2022-06-30T03:10:36.815250Z"
    },
    "papermill": {
     "duration": 0.017874,
     "end_time": "2022-06-30T03:10:36.818909",
     "exception": false,
     "start_time": "2022-06-30T03:10:36.801035",
     "status": "completed"
    },
    "tags": []
   },
   "outputs": [],
   "source": [
    "# impute data base on location\n",
    "# pairs = find_loc_all(pairs,'latitude_1','longitude_1',loc_name_1,name)\n",
    "# pairs = find_loc_all(pairs,'latitude_2','longitude_2',loc_name_2,name)\n",
    "# pairs.head()"
   ]
  },
  {
   "cell_type": "code",
   "execution_count": 9,
   "id": "3139e5ac",
   "metadata": {
    "execution": {
     "iopub.execute_input": "2022-06-30T03:10:36.839604Z",
     "iopub.status.busy": "2022-06-30T03:10:36.839165Z",
     "iopub.status.idle": "2022-06-30T03:10:36.844278Z",
     "shell.execute_reply": "2022-06-30T03:10:36.842930Z"
    },
    "papermill": {
     "duration": 0.018117,
     "end_time": "2022-06-30T03:10:36.846456",
     "exception": false,
     "start_time": "2022-06-30T03:10:36.828339",
     "status": "completed"
    },
    "tags": []
   },
   "outputs": [],
   "source": [
    "#pairs.iloc[:,0:12]"
   ]
  },
  {
   "cell_type": "code",
   "execution_count": 10,
   "id": "c5481a81",
   "metadata": {
    "execution": {
     "iopub.execute_input": "2022-06-30T03:10:36.868222Z",
     "iopub.status.busy": "2022-06-30T03:10:36.867200Z",
     "iopub.status.idle": "2022-06-30T03:10:36.871944Z",
     "shell.execute_reply": "2022-06-30T03:10:36.870860Z"
    },
    "papermill": {
     "duration": 0.018145,
     "end_time": "2022-06-30T03:10:36.874611",
     "exception": false,
     "start_time": "2022-06-30T03:10:36.856466",
     "status": "completed"
    },
    "tags": []
   },
   "outputs": [],
   "source": [
    "#pairs.iloc[:,12:]"
   ]
  },
  {
   "cell_type": "code",
   "execution_count": 11,
   "id": "354dc9ac",
   "metadata": {
    "execution": {
     "iopub.execute_input": "2022-06-30T03:10:36.896897Z",
     "iopub.status.busy": "2022-06-30T03:10:36.896434Z",
     "iopub.status.idle": "2022-06-30T03:10:36.903034Z",
     "shell.execute_reply": "2022-06-30T03:10:36.901675Z"
    },
    "papermill": {
     "duration": 0.020745,
     "end_time": "2022-06-30T03:10:36.905633",
     "exception": false,
     "start_time": "2022-06-30T03:10:36.884888",
     "status": "completed"
    },
    "tags": []
   },
   "outputs": [],
   "source": [
    "#pairs.info()"
   ]
  },
  {
   "cell_type": "code",
   "execution_count": 12,
   "id": "39b2ecf9",
   "metadata": {
    "execution": {
     "iopub.execute_input": "2022-06-30T03:10:36.926219Z",
     "iopub.status.busy": "2022-06-30T03:10:36.925831Z",
     "iopub.status.idle": "2022-06-30T03:10:36.930619Z",
     "shell.execute_reply": "2022-06-30T03:10:36.929324Z"
    },
    "papermill": {
     "duration": 0.018024,
     "end_time": "2022-06-30T03:10:36.933206",
     "exception": false,
     "start_time": "2022-06-30T03:10:36.915182",
     "status": "completed"
    },
    "tags": []
   },
   "outputs": [],
   "source": [
    "#pairs.match.value_counts()"
   ]
  },
  {
   "cell_type": "markdown",
   "id": "fd2b12d4",
   "metadata": {
    "papermill": {
     "duration": 0.009449,
     "end_time": "2022-06-30T03:10:36.952114",
     "exception": false,
     "start_time": "2022-06-30T03:10:36.942665",
     "status": "completed"
    },
    "tags": []
   },
   "source": [
    "# Data preprocessing & Feature transformation:\n",
    "\n",
    "1. location (latitude, longtitude): finding the distance between two variables\n",
    "2. word preprocessing: remove url symbol, lowercasing, number removing, punctuation removal, white spaces removal, stop words removal, stemming and lemmatization\n"
   ]
  },
  {
   "cell_type": "code",
   "execution_count": 13,
   "id": "24c6f543",
   "metadata": {
    "execution": {
     "iopub.execute_input": "2022-06-30T03:10:36.972548Z",
     "iopub.status.busy": "2022-06-30T03:10:36.972163Z",
     "iopub.status.idle": "2022-06-30T03:10:36.979852Z",
     "shell.execute_reply": "2022-06-30T03:10:36.978563Z"
    },
    "papermill": {
     "duration": 0.020963,
     "end_time": "2022-06-30T03:10:36.982315",
     "exception": false,
     "start_time": "2022-06-30T03:10:36.961352",
     "status": "completed"
    },
    "tags": []
   },
   "outputs": [],
   "source": [
    "# 1. location\n",
    "def distance(lat1, lon1, lat2, lon2):\n",
    "    R = 6373.0\n",
    "    d_lon = lon2 - lon1; d_lat = lat2 - lat1\n",
    "    a = (np.sin(d_lat/2)) ** 2 + np.cos(lat1) * np.cos(lat2) * (np.sin(d_lon/2)) ** 2\n",
    "    c = 2 * np.arctan2(np.sqrt(a), np.sqrt(1-a))\n",
    "    distance = R * c\n",
    "    return distance"
   ]
  },
  {
   "cell_type": "code",
   "execution_count": 14,
   "id": "29078ef9",
   "metadata": {
    "execution": {
     "iopub.execute_input": "2022-06-30T03:10:37.002951Z",
     "iopub.status.busy": "2022-06-30T03:10:37.002540Z",
     "iopub.status.idle": "2022-06-30T03:10:37.020531Z",
     "shell.execute_reply": "2022-06-30T03:10:37.019164Z"
    },
    "papermill": {
     "duration": 0.031306,
     "end_time": "2022-06-30T03:10:37.023261",
     "exception": false,
     "start_time": "2022-06-30T03:10:36.991955",
     "status": "completed"
    },
    "tags": []
   },
   "outputs": [],
   "source": [
    "pairs['distance'] = distance(pairs.latitude_1,pairs.longitude_1,pairs.latitude_2,pairs.longitude_2)\n",
    "test_pairs['distance'] = distance(test_pairs.latitude_1,test_pairs.longitude_1,test_pairs.latitude_2,test_pairs.longitude_2)"
   ]
  },
  {
   "cell_type": "code",
   "execution_count": 15,
   "id": "8122d89a",
   "metadata": {
    "execution": {
     "iopub.execute_input": "2022-06-30T03:10:37.044293Z",
     "iopub.status.busy": "2022-06-30T03:10:37.043584Z",
     "iopub.status.idle": "2022-06-30T03:10:37.061211Z",
     "shell.execute_reply": "2022-06-30T03:10:37.060080Z"
    },
    "papermill": {
     "duration": 0.031282,
     "end_time": "2022-06-30T03:10:37.064033",
     "exception": false,
     "start_time": "2022-06-30T03:10:37.032751",
     "status": "completed"
    },
    "tags": []
   },
   "outputs": [],
   "source": [
    "# 2 word preprocessing\n",
    "\n",
    "# lowercase\n",
    "def lower(df, cols):\n",
    "    for col in cols:\n",
    "        df[col] = df[col].fillna('').apply(lambda x: x.lower())\n",
    "    return df\n",
    "\n",
    "# number removing\n",
    "def num_remove(df, cols):\n",
    "    for col in cols:\n",
    "        df[col] = df[col].fillna('').apply(lambda x: re.sub(r'\\d+', '', x))\n",
    "    return df\n",
    "\n",
    "# punctuation removal\n",
    "def punc_remove(df,cols):\n",
    "    for col in cols:\n",
    "        df[col] = df[col].fillna('').apply(lambda x: x.translate(str.maketrans(\"\",\"\", string.punctuation)))\n",
    "    return df\n",
    "\n",
    "# white spaces removal\n",
    "def space_remove(df,cols):\n",
    "    for col in cols:\n",
    "        df[col] = df[col].fillna('').apply(lambda x: x.strip())\n",
    "    return df\n",
    "\n",
    "# stop words removal\n",
    "\n",
    "def list_to_string(lis):\n",
    "    string = ''\n",
    "    for i in lis:\n",
    "        string += i\n",
    "        string += ' '\n",
    "    return string\n",
    "\n",
    "def stop(string):\n",
    "    stops = set(stopwords.words('english'))\n",
    "    tokens = word_tokenize(string)\n",
    "    result = [i for i in tokens if not i in stops]\n",
    "    return result\n",
    "    \n",
    "def stop_remove(df,cols):\n",
    "    for col in cols:\n",
    "        df[col] = df[col].fillna('').apply(lambda x: stop(x))\n",
    "    return df\n",
    "\n",
    "# stemming and lemmatization\n",
    "def lemma_stem(lis):\n",
    "    stemmer = PorterStemmer()\n",
    "    lemmatizer = WordNetLemmatizer()\n",
    "    new_lis = []\n",
    "    for word in lis:\n",
    "        word_new = lemmatizer.lemmatize(word)\n",
    "        word_new = stemmer.stem(word_new)\n",
    "        new_lis += [word_new]\n",
    "    return new_lis\n",
    "\n",
    "def lemma_stemming(df,cols):\n",
    "    for col in cols:\n",
    "        df[col] = df[col].fillna('').apply(lambda x: lemma_stem(x))\n",
    "    return df"
   ]
  },
  {
   "cell_type": "code",
   "execution_count": 16,
   "id": "046329d6",
   "metadata": {
    "execution": {
     "iopub.execute_input": "2022-06-30T03:10:37.085220Z",
     "iopub.status.busy": "2022-06-30T03:10:37.084434Z",
     "iopub.status.idle": "2022-06-30T03:10:37.091226Z",
     "shell.execute_reply": "2022-06-30T03:10:37.090066Z"
    },
    "papermill": {
     "duration": 0.020446,
     "end_time": "2022-06-30T03:10:37.093845",
     "exception": false,
     "start_time": "2022-06-30T03:10:37.073399",
     "status": "completed"
    },
    "tags": []
   },
   "outputs": [],
   "source": [
    "# remove url\n",
    "def remove_URL(df,cols):\n",
    "    for col in cols:\n",
    "        df[col] = df[col].fillna('').apply(lambda x: re.sub(r\"http\\S+\", \"\", x))\n",
    "    return df"
   ]
  },
  {
   "cell_type": "code",
   "execution_count": 17,
   "id": "66cbcd6a",
   "metadata": {
    "execution": {
     "iopub.execute_input": "2022-06-30T03:10:37.114822Z",
     "iopub.status.busy": "2022-06-30T03:10:37.113860Z",
     "iopub.status.idle": "2022-06-30T03:11:17.788325Z",
     "shell.execute_reply": "2022-06-30T03:11:17.787025Z"
    },
    "papermill": {
     "duration": 40.688254,
     "end_time": "2022-06-30T03:11:17.791460",
     "exception": false,
     "start_time": "2022-06-30T03:10:37.103206",
     "status": "completed"
    },
    "tags": []
   },
   "outputs": [],
   "source": [
    "word_columns = ['name_1','address_1','city_1','state_1','url_1','categories_1','name_2','address_2','city_2','state_2','url_2','categories_2']\n",
    "url_columns = ['url_1','url_2']\n",
    "for data in [pairs, test_pairs]:\n",
    "    data[url_columns] = remove_URL(data, url_columns)[url_columns]\n",
    "    data[word_columns] = lower(data, word_columns)[word_columns]\n",
    "    data[word_columns] = num_remove(data, word_columns)[word_columns]\n",
    "    data[word_columns] = punc_remove(data, word_columns)[word_columns]\n",
    "    data[word_columns] = space_remove(data, word_columns)[word_columns]\n",
    "    data[word_columns] = stop_remove(data, word_columns)[word_columns]\n",
    "    data[word_columns] = lemma_stemming(data, word_columns)[word_columns]"
   ]
  },
  {
   "cell_type": "markdown",
   "id": "dca7e496",
   "metadata": {
    "papermill": {
     "duration": 0.009069,
     "end_time": "2022-06-30T03:11:17.810342",
     "exception": false,
     "start_time": "2022-06-30T03:11:17.801273",
     "status": "completed"
    },
    "tags": []
   },
   "source": [
    "text similarity"
   ]
  },
  {
   "cell_type": "code",
   "execution_count": 18,
   "id": "84fa71eb",
   "metadata": {
    "execution": {
     "iopub.execute_input": "2022-06-30T03:11:17.832429Z",
     "iopub.status.busy": "2022-06-30T03:11:17.831540Z",
     "iopub.status.idle": "2022-06-30T03:11:17.841286Z",
     "shell.execute_reply": "2022-06-30T03:11:17.840341Z"
    },
    "papermill": {
     "duration": 0.023687,
     "end_time": "2022-06-30T03:11:17.843946",
     "exception": false,
     "start_time": "2022-06-30T03:11:17.820259",
     "status": "completed"
    },
    "tags": []
   },
   "outputs": [],
   "source": [
    "def fuzzy_similarity(df, cols_1, cols_2):\n",
    "    # length for cols_1 and cols_2 must be the same.\n",
    "    for i in range(len(cols_1)):\n",
    "        df[f\"{cols_1[i]}_fuzzy\"] = df.apply(lambda x: lev.ratio(x[cols_1[i]],x[cols_2[i]]), axis = 1)\n",
    "    return df    \n",
    "\n",
    "def counter_cosine_similarity(c1, c2):\n",
    "    terms = set(c1).union(c2)\n",
    "    dotprod = sum(c1.get(k, 0) * c2.get(k, 0) for k in terms)\n",
    "    magA = math.sqrt(sum(c1.get(k, 0)**2 for k in terms))\n",
    "    magB = math.sqrt(sum(c2.get(k, 0)**2 for k in terms))\n",
    "    return dotprod / (magA * magB)"
   ]
  },
  {
   "cell_type": "code",
   "execution_count": 19,
   "id": "23dc803a",
   "metadata": {
    "execution": {
     "iopub.execute_input": "2022-06-30T03:11:17.864875Z",
     "iopub.status.busy": "2022-06-30T03:11:17.864057Z",
     "iopub.status.idle": "2022-06-30T03:11:19.407431Z",
     "shell.execute_reply": "2022-06-30T03:11:19.406253Z"
    },
    "papermill": {
     "duration": 1.557163,
     "end_time": "2022-06-30T03:11:19.410397",
     "exception": false,
     "start_time": "2022-06-30T03:11:17.853234",
     "status": "completed"
    },
    "tags": []
   },
   "outputs": [],
   "source": [
    "col_1 = ['name_1','address_1','city_1','state_1','url_1','categories_1']\n",
    "col_2 = ['name_2','address_2','city_2','state_2','url_2','categories_2']\n",
    "\n",
    "def fuzzy(data):\n",
    "    pairs_new = data.copy()\n",
    "    for col in word_columns:\n",
    "        pairs_new[col] = pairs_new[col].apply(lambda x: list_to_string(x))\n",
    "    pairs_fuzzy = fuzzy_similarity(pairs_new, col_1,col_2)\n",
    "    pairs_fuzzy = pairs_fuzzy.iloc[:,-len(col_1):]\n",
    "    data = pd.concat([data, pairs_fuzzy], axis = 1)\n",
    "    return data\n",
    "pairs = fuzzy(pairs); test_pairs = fuzzy(test_pairs)\n"
   ]
  },
  {
   "cell_type": "code",
   "execution_count": 20,
   "id": "0fb0f789",
   "metadata": {
    "execution": {
     "iopub.execute_input": "2022-06-30T03:11:19.430981Z",
     "iopub.status.busy": "2022-06-30T03:11:19.430581Z",
     "iopub.status.idle": "2022-06-30T03:11:19.443545Z",
     "shell.execute_reply": "2022-06-30T03:11:19.442299Z"
    },
    "papermill": {
     "duration": 0.026423,
     "end_time": "2022-06-30T03:11:19.446205",
     "exception": false,
     "start_time": "2022-06-30T03:11:19.419782",
     "status": "completed"
    },
    "tags": []
   },
   "outputs": [],
   "source": [
    "# wordnet similarity method\n",
    "def similarity(word1, word2):\n",
    "    max_sim = []\n",
    "    syn1 = wn.synsets(word1)\n",
    "    syn2 = wn.synsets(word2)\n",
    "    for s1 in syn1:\n",
    "        for s2 in syn2:\n",
    "            max_sim.append(s1.path_similarity(s2))\n",
    "    max_sim = [z for z in max_sim if z!=None]\n",
    "    if max_sim == []:\n",
    "        return 0\n",
    "    return max(max_sim)\n",
    "    \n",
    "def similarity_lis(lis_1, lis_2):\n",
    "    score_lis = []\n",
    "    for word in lis_1:\n",
    "        score_lis2 = []\n",
    "        for word_2 in lis_2:\n",
    "            sim = similarity(word, word_2)\n",
    "            if sim != 0:\n",
    "                score_lis2 += [sim]\n",
    "        if score_lis2 == []:\n",
    "            score_lis += [0]\n",
    "        else:\n",
    "            score_lis+=[max(score_lis2)]\n",
    "    if score_lis == []:\n",
    "        return 0\n",
    "    return sum(score_lis)/len(score_lis)\n",
    "\n",
    "def sim_lis(lis_1, lis_2):\n",
    "    return (similarity_lis(lis_1, lis_2) + similarity_lis(lis_2, lis_1))/2\n",
    "\n",
    "def nltk_similarity(df, cols_1, cols_2):\n",
    "    # length for cols_1 and cols_2 must be the same.\n",
    "    for i in range(len(cols_1)):\n",
    "        df[f\"{cols_1[i]}_nltk\"] = df.apply(lambda x: sim_lis(x[cols_1[i]],x[cols_2[i]]), axis = 1)\n",
    "    return df   "
   ]
  },
  {
   "cell_type": "markdown",
   "id": "82abdb22",
   "metadata": {
    "papermill": {
     "duration": 0.008958,
     "end_time": "2022-06-30T03:11:19.464604",
     "exception": false,
     "start_time": "2022-06-30T03:11:19.455646",
     "status": "completed"
    },
    "tags": []
   },
   "source": []
  },
  {
   "cell_type": "code",
   "execution_count": 21,
   "id": "0271d1b3",
   "metadata": {
    "execution": {
     "iopub.execute_input": "2022-06-30T03:11:19.486280Z",
     "iopub.status.busy": "2022-06-30T03:11:19.485724Z",
     "iopub.status.idle": "2022-06-30T03:18:55.581096Z",
     "shell.execute_reply": "2022-06-30T03:18:55.579824Z"
    },
    "papermill": {
     "duration": 456.109437,
     "end_time": "2022-06-30T03:18:55.584570",
     "exception": false,
     "start_time": "2022-06-30T03:11:19.475133",
     "status": "completed"
    },
    "tags": []
   },
   "outputs": [],
   "source": [
    "col_1 = ['name_1','address_1','city_1','state_1','url_1','categories_1']\n",
    "col_2 = ['name_2','address_2','city_2','state_2','url_2','categories_2']\n",
    "for data in [pairs, test_pairs]:\n",
    "    data = nltk_similarity(data, col_1,col_2)"
   ]
  },
  {
   "cell_type": "code",
   "execution_count": 22,
   "id": "427eaf16",
   "metadata": {
    "execution": {
     "iopub.execute_input": "2022-06-30T03:18:55.605697Z",
     "iopub.status.busy": "2022-06-30T03:18:55.605295Z",
     "iopub.status.idle": "2022-06-30T03:18:55.613216Z",
     "shell.execute_reply": "2022-06-30T03:18:55.611827Z"
    },
    "papermill": {
     "duration": 0.021431,
     "end_time": "2022-06-30T03:18:55.615893",
     "exception": false,
     "start_time": "2022-06-30T03:18:55.594462",
     "status": "completed"
    },
    "tags": []
   },
   "outputs": [],
   "source": [
    "cols = ['latitude_1','longitude_1','country_1','latitude_2','longitude_2','country_2','name_1_fuzzy', 'address_1_fuzzy', 'city_1_fuzzy',\n",
    "       'state_1_fuzzy', 'url_1_fuzzy', 'categories_1_fuzzy','name_1_nltk', 'address_1_nltk', 'city_1_nltk', 'state_1_nltk',\n",
    "       'url_1_nltk', 'categories_1_nltk','match']\n",
    "test_cols = ['latitude_1','longitude_1','country_1','latitude_2','longitude_2','country_2','name_1_fuzzy', 'address_1_fuzzy', 'city_1_fuzzy',\n",
    "       'state_1_fuzzy', 'url_1_fuzzy', 'categories_1_fuzzy','name_1_nltk', 'address_1_nltk', 'city_1_nltk', 'state_1_nltk',\n",
    "       'url_1_nltk', 'categories_1_nltk']\n",
    "ids = ['id_1','id_2']\n",
    "#pairs[cols].head()"
   ]
  },
  {
   "cell_type": "code",
   "execution_count": 23,
   "id": "5db43770",
   "metadata": {
    "execution": {
     "iopub.execute_input": "2022-06-30T03:18:55.637183Z",
     "iopub.status.busy": "2022-06-30T03:18:55.636481Z",
     "iopub.status.idle": "2022-06-30T03:18:55.656231Z",
     "shell.execute_reply": "2022-06-30T03:18:55.655109Z"
    },
    "papermill": {
     "duration": 0.033759,
     "end_time": "2022-06-30T03:18:55.659254",
     "exception": false,
     "start_time": "2022-06-30T03:18:55.625495",
     "status": "completed"
    },
    "tags": []
   },
   "outputs": [
    {
     "name": "stderr",
     "output_type": "stream",
     "text": [
      "/opt/conda/lib/python3.7/site-packages/ipykernel_launcher.py:4: SettingWithCopyWarning: \n",
      "A value is trying to be set on a copy of a slice from a DataFrame.\n",
      "Try using .loc[row_indexer,col_indexer] = value instead\n",
      "\n",
      "See the caveats in the documentation: https://pandas.pydata.org/pandas-docs/stable/user_guide/indexing.html#returning-a-view-versus-a-copy\n",
      "  after removing the cwd from sys.path.\n"
     ]
    }
   ],
   "source": [
    "train_id = pairs[ids]; test_id = pairs[ids]\n",
    "train_X = pairs[cols]; test_X = test_pairs[test_cols]\n",
    "for X in [train_X,test_X]:\n",
    "    X['country_same'] = np.where(X['country_1'] == X['country_2'],1,0)\n",
    "    del X['country_1'] \n",
    "    del X['country_2']"
   ]
  },
  {
   "cell_type": "code",
   "execution_count": 24,
   "id": "c9fcac00",
   "metadata": {
    "execution": {
     "iopub.execute_input": "2022-06-30T03:18:55.680704Z",
     "iopub.status.busy": "2022-06-30T03:18:55.680306Z",
     "iopub.status.idle": "2022-06-30T03:18:55.708221Z",
     "shell.execute_reply": "2022-06-30T03:18:55.706861Z"
    },
    "papermill": {
     "duration": 0.041676,
     "end_time": "2022-06-30T03:18:55.710738",
     "exception": false,
     "start_time": "2022-06-30T03:18:55.669062",
     "status": "completed"
    },
    "tags": []
   },
   "outputs": [
    {
     "name": "stderr",
     "output_type": "stream",
     "text": [
      "/opt/conda/lib/python3.7/site-packages/pandas/core/frame.py:3678: SettingWithCopyWarning: \n",
      "A value is trying to be set on a copy of a slice from a DataFrame.\n",
      "Try using .loc[row_indexer,col_indexer] = value instead\n",
      "\n",
      "See the caveats in the documentation: https://pandas.pydata.org/pandas-docs/stable/user_guide/indexing.html#returning-a-view-versus-a-copy\n",
      "  self[col] = igetitem(value, i)\n",
      "/opt/conda/lib/python3.7/site-packages/pandas/core/frame.py:3678: SettingWithCopyWarning: \n",
      "A value is trying to be set on a copy of a slice from a DataFrame.\n",
      "Try using .loc[row_indexer,col_indexer] = value instead\n",
      "\n",
      "See the caveats in the documentation: https://pandas.pydata.org/pandas-docs/stable/user_guide/indexing.html#returning-a-view-versus-a-copy\n",
      "  self[col] = igetitem(value, i)\n"
     ]
    }
   ],
   "source": [
    "col_scaler = ['latitude_1','longitude_1','latitude_2','longitude_2']\n",
    "X_transform = train_X[col_scaler]; X_transform_test = test_X[col_scaler]\n",
    "transformer = RobustScaler().fit(X_transform)\n",
    "train_X[col_scaler] = transformer.transform(X_transform)\n",
    "test_X[col_scaler] = transformer.transform(X_transform_test)\n",
    "train_y = pairs['match']"
   ]
  },
  {
   "cell_type": "code",
   "execution_count": 25,
   "id": "0ff2372e",
   "metadata": {
    "execution": {
     "iopub.execute_input": "2022-06-30T03:18:55.733057Z",
     "iopub.status.busy": "2022-06-30T03:18:55.731980Z",
     "iopub.status.idle": "2022-06-30T03:18:55.972244Z",
     "shell.execute_reply": "2022-06-30T03:18:55.970989Z"
    },
    "papermill": {
     "duration": 0.254127,
     "end_time": "2022-06-30T03:18:55.975140",
     "exception": false,
     "start_time": "2022-06-30T03:18:55.721013",
     "status": "completed"
    },
    "tags": []
   },
   "outputs": [],
   "source": [
    "train_X.to_csv(\"train_X.csv\", index=False)\n",
    "pd.DataFrame({'match':train_y}).to_csv(\"train_y.csv\", index=False)"
   ]
  },
  {
   "cell_type": "code",
   "execution_count": 26,
   "id": "238f8cef",
   "metadata": {
    "execution": {
     "iopub.execute_input": "2022-06-30T03:18:55.997020Z",
     "iopub.status.busy": "2022-06-30T03:18:55.996602Z",
     "iopub.status.idle": "2022-06-30T03:19:01.582525Z",
     "shell.execute_reply": "2022-06-30T03:19:01.581314Z"
    },
    "papermill": {
     "duration": 5.600257,
     "end_time": "2022-06-30T03:19:01.585187",
     "exception": false,
     "start_time": "2022-06-30T03:18:55.984930",
     "status": "completed"
    },
    "tags": []
   },
   "outputs": [
    {
     "data": {
      "text/plain": [
       "XGBClassifier(base_score=0.5, booster='gbtree', callbacks=None,\n",
       "              colsample_bylevel=1, colsample_bynode=1, colsample_bytree=0.5,\n",
       "              early_stopping_rounds=None, enable_categorical=False,\n",
       "              eval_metric=None, gamma=0, gpu_id=-1, grow_policy='depthwise',\n",
       "              importance_type='gain', interaction_constraints='',\n",
       "              learning_rate=0.3, max_bin=256, max_cat_to_onehot=4,\n",
       "              max_delta_step=0, max_depth=3, max_leaves=0, min_child_weight=2,\n",
       "              missing=nan, monotone_constraints='()', n_estimators=1600,\n",
       "              n_jobs=-1, nthread=-1, num_parallel_tree=1, predictor='auto',\n",
       "              random_state=0, reg_alpha=0, ...)"
      ]
     },
     "execution_count": 26,
     "metadata": {},
     "output_type": "execute_result"
    }
   ],
   "source": [
    "xgb = XGBClassifier(base_score=0.5, booster='gbtree', colsample_bylevel=1,\n",
    "              colsample_bynode=1, colsample_bytree=0.5, gamma=0, gpu_id=-1,\n",
    "              importance_type='gain', interaction_constraints='',\n",
    "              learning_rate=0.3, max_delta_step=0, max_depth=3,\n",
    "              min_child_weight=2, monotone_constraints='()',\n",
    "              n_estimators=1600, n_jobs=-1, nthread=-1, num_parallel_tree=1,\n",
    "              random_state=0, reg_alpha=0, reg_lambda=1, scale_pos_weight=1,\n",
    "              subsample=0.9, tree_method='exact', validate_parameters=1,\n",
    "              verbosity=None)\n",
    "xgb.fit(train_X, train_y)"
   ]
  },
  {
   "cell_type": "code",
   "execution_count": 27,
   "id": "35eb2e5a",
   "metadata": {
    "execution": {
     "iopub.execute_input": "2022-06-30T03:19:01.606662Z",
     "iopub.status.busy": "2022-06-30T03:19:01.606225Z",
     "iopub.status.idle": "2022-06-30T03:19:01.665282Z",
     "shell.execute_reply": "2022-06-30T03:19:01.664278Z"
    },
    "papermill": {
     "duration": 0.072894,
     "end_time": "2022-06-30T03:19:01.667993",
     "exception": false,
     "start_time": "2022-06-30T03:19:01.595099",
     "status": "completed"
    },
    "tags": []
   },
   "outputs": [],
   "source": [
    "test_y = xgb.predict(train_X)"
   ]
  },
  {
   "cell_type": "code",
   "execution_count": 28,
   "id": "f5b72173",
   "metadata": {
    "execution": {
     "iopub.execute_input": "2022-06-30T03:19:01.691329Z",
     "iopub.status.busy": "2022-06-30T03:19:01.690946Z",
     "iopub.status.idle": "2022-06-30T03:19:01.700342Z",
     "shell.execute_reply": "2022-06-30T03:19:01.699198Z"
    },
    "papermill": {
     "duration": 0.023048,
     "end_time": "2022-06-30T03:19:01.702726",
     "exception": false,
     "start_time": "2022-06-30T03:19:01.679678",
     "status": "completed"
    },
    "tags": []
   },
   "outputs": [
    {
     "name": "stderr",
     "output_type": "stream",
     "text": [
      "/opt/conda/lib/python3.7/site-packages/ipykernel_launcher.py:2: SettingWithCopyWarning: \n",
      "A value is trying to be set on a copy of a slice from a DataFrame.\n",
      "Try using .loc[row_indexer,col_indexer] = value instead\n",
      "\n",
      "See the caveats in the documentation: https://pandas.pydata.org/pandas-docs/stable/user_guide/indexing.html#returning-a-view-versus-a-copy\n",
      "  \n"
     ]
    }
   ],
   "source": [
    "test_pairs_final = test_id\n",
    "test_pairs_final['match'] = test_y\n",
    "test_id_unique = test['id']\n",
    "\n",
    "def id_match(test_id_unique, test_pairs_final):\n",
    "    match_list = []\n",
    "    for id in test_id_unique:\n",
    "        id_pairs = test_pairs_final[test_pairs_final.id_1 == id]\n",
    "        success_pairs = id_pairs[id_pairs['match'] == 1]\n",
    "        if len(success_pairs) == 0:\n",
    "            matches = id\n",
    "        else:\n",
    "            matches = ' '.join([id] + success_pairs.id_2.tolist())\n",
    "        match_list += [matches]\n",
    "    return match_list"
   ]
  },
  {
   "cell_type": "code",
   "execution_count": 29,
   "id": "753a1d01",
   "metadata": {
    "execution": {
     "iopub.execute_input": "2022-06-30T03:19:01.724353Z",
     "iopub.status.busy": "2022-06-30T03:19:01.723952Z",
     "iopub.status.idle": "2022-06-30T03:19:01.746135Z",
     "shell.execute_reply": "2022-06-30T03:19:01.744843Z"
    },
    "papermill": {
     "duration": 0.036134,
     "end_time": "2022-06-30T03:19:01.748874",
     "exception": false,
     "start_time": "2022-06-30T03:19:01.712740",
     "status": "completed"
    },
    "tags": []
   },
   "outputs": [],
   "source": [
    "match = id_match(test_id_unique, test_pairs_final)\n",
    "submission = pd.DataFrame({'id':test['id'],'matches':match})"
   ]
  },
  {
   "cell_type": "code",
   "execution_count": 30,
   "id": "3366d64b",
   "metadata": {
    "execution": {
     "iopub.execute_input": "2022-06-30T03:19:01.771890Z",
     "iopub.status.busy": "2022-06-30T03:19:01.771098Z",
     "iopub.status.idle": "2022-06-30T03:19:01.777600Z",
     "shell.execute_reply": "2022-06-30T03:19:01.776782Z"
    },
    "papermill": {
     "duration": 0.021379,
     "end_time": "2022-06-30T03:19:01.780193",
     "exception": false,
     "start_time": "2022-06-30T03:19:01.758814",
     "status": "completed"
    },
    "tags": []
   },
   "outputs": [],
   "source": [
    "submission.to_csv(\"submission.csv\", index=False)"
   ]
  },
  {
   "cell_type": "code",
   "execution_count": 31,
   "id": "4cdab30c",
   "metadata": {
    "execution": {
     "iopub.execute_input": "2022-06-30T03:19:01.801972Z",
     "iopub.status.busy": "2022-06-30T03:19:01.801210Z",
     "iopub.status.idle": "2022-06-30T03:19:01.817213Z",
     "shell.execute_reply": "2022-06-30T03:19:01.815997Z"
    },
    "papermill": {
     "duration": 0.029771,
     "end_time": "2022-06-30T03:19:01.819731",
     "exception": false,
     "start_time": "2022-06-30T03:19:01.789960",
     "status": "completed"
    },
    "tags": []
   },
   "outputs": [
    {
     "data": {
      "text/html": [
       "<div>\n",
       "<style scoped>\n",
       "    .dataframe tbody tr th:only-of-type {\n",
       "        vertical-align: middle;\n",
       "    }\n",
       "\n",
       "    .dataframe tbody tr th {\n",
       "        vertical-align: top;\n",
       "    }\n",
       "\n",
       "    .dataframe thead th {\n",
       "        text-align: right;\n",
       "    }\n",
       "</style>\n",
       "<table border=\"1\" class=\"dataframe\">\n",
       "  <thead>\n",
       "    <tr style=\"text-align: right;\">\n",
       "      <th></th>\n",
       "      <th>id</th>\n",
       "      <th>matches</th>\n",
       "    </tr>\n",
       "  </thead>\n",
       "  <tbody>\n",
       "    <tr>\n",
       "      <th>0</th>\n",
       "      <td>E_00001118ad0191</td>\n",
       "      <td>E_00001118ad0191</td>\n",
       "    </tr>\n",
       "    <tr>\n",
       "      <th>1</th>\n",
       "      <td>E_000020eb6fed40</td>\n",
       "      <td>E_000020eb6fed40</td>\n",
       "    </tr>\n",
       "    <tr>\n",
       "      <th>2</th>\n",
       "      <td>E_00002f98667edf</td>\n",
       "      <td>E_00002f98667edf</td>\n",
       "    </tr>\n",
       "    <tr>\n",
       "      <th>3</th>\n",
       "      <td>E_001b6bad66eb98</td>\n",
       "      <td>E_001b6bad66eb98</td>\n",
       "    </tr>\n",
       "    <tr>\n",
       "      <th>4</th>\n",
       "      <td>E_0283d9f61e569d</td>\n",
       "      <td>E_0283d9f61e569d E_5ec7420a228da8 E_9c05396793...</td>\n",
       "    </tr>\n",
       "  </tbody>\n",
       "</table>\n",
       "</div>"
      ],
      "text/plain": [
       "                 id                                            matches\n",
       "0  E_00001118ad0191                                   E_00001118ad0191\n",
       "1  E_000020eb6fed40                                   E_000020eb6fed40\n",
       "2  E_00002f98667edf                                   E_00002f98667edf\n",
       "3  E_001b6bad66eb98                                   E_001b6bad66eb98\n",
       "4  E_0283d9f61e569d  E_0283d9f61e569d E_5ec7420a228da8 E_9c05396793..."
      ]
     },
     "execution_count": 31,
     "metadata": {},
     "output_type": "execute_result"
    }
   ],
   "source": [
    "submission.head()"
   ]
  }
 ],
 "metadata": {
  "kernelspec": {
   "display_name": "Python 3",
   "language": "python",
   "name": "python3"
  },
  "language_info": {
   "codemirror_mode": {
    "name": "ipython",
    "version": 3
   },
   "file_extension": ".py",
   "mimetype": "text/x-python",
   "name": "python",
   "nbconvert_exporter": "python",
   "pygments_lexer": "ipython3",
   "version": "3.7.12"
  },
  "papermill": {
   "default_parameters": {},
   "duration": 540.483934,
   "end_time": "2022-06-30T03:19:03.557847",
   "environment_variables": {},
   "exception": null,
   "input_path": "__notebook__.ipynb",
   "output_path": "__notebook__.ipynb",
   "parameters": {},
   "start_time": "2022-06-30T03:10:03.073913",
   "version": "2.3.4"
  }
 },
 "nbformat": 4,
 "nbformat_minor": 5
}
