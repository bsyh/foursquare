{
 "cells": [
  {
   "cell_type": "code",
   "execution_count": 1,
   "id": "6b19bc61",
   "metadata": {
    "_cell_guid": "b1076dfc-b9ad-4769-8c92-a6c4dae69d19",
    "_uuid": "8f2839f25d086af736a60e9eeb907d3b93b6e0e5",
    "execution": {
     "iopub.execute_input": "2022-06-29T22:27:15.932295Z",
     "iopub.status.busy": "2022-06-29T22:27:15.931846Z",
     "iopub.status.idle": "2022-06-29T22:27:18.277066Z",
     "shell.execute_reply": "2022-06-29T22:27:18.275924Z"
    },
    "papermill": {
     "duration": 2.361843,
     "end_time": "2022-06-29T22:27:18.280003",
     "exception": false,
     "start_time": "2022-06-29T22:27:15.918160",
     "status": "completed"
    },
    "tags": []
   },
   "outputs": [],
   "source": [
    "import pandas as pd\n",
    "import numpy as np\n",
    "from sklearn.neighbors import NearestNeighbors\n",
    "from sklearn.feature_extraction.text import TfidfVectorizer\n",
    "\n",
    "from geopy.geocoders import Nominatim\n",
    "\n",
    "import re\n",
    "import string\n",
    "from nltk.tokenize import word_tokenize\n",
    "from nltk.corpus import stopwords, wordnet as wn\n",
    "from nltk.stem import PorterStemmer, WordNetLemmatizer\n",
    "\n",
    "import Levenshtein as lev\n",
    "import math\n",
    "from collections import Counter\n",
    "\n",
    "from sklearn.preprocessing import RobustScaler\n",
    "from sklearn.model_selection import cross_val_score\n",
    "\n",
    "from xgboost import XGBClassifier"
   ]
  },
  {
   "cell_type": "code",
   "execution_count": 2,
   "id": "f87b1f61",
   "metadata": {
    "execution": {
     "iopub.execute_input": "2022-06-29T22:27:18.301155Z",
     "iopub.status.busy": "2022-06-29T22:27:18.300582Z",
     "iopub.status.idle": "2022-06-29T22:27:27.690913Z",
     "shell.execute_reply": "2022-06-29T22:27:27.689584Z"
    },
    "papermill": {
     "duration": 9.404244,
     "end_time": "2022-06-29T22:27:27.694049",
     "exception": false,
     "start_time": "2022-06-29T22:27:18.289805",
     "status": "completed"
    },
    "tags": []
   },
   "outputs": [],
   "source": [
    "train = pd.read_csv('../input/foursquare-location-matching/train.csv')\n",
    "#train = train.head()\n",
    "#train.head()"
   ]
  },
  {
   "cell_type": "markdown",
   "id": "1aac9ffb",
   "metadata": {
    "papermill": {
     "duration": 0.012419,
     "end_time": "2022-06-29T22:27:27.716997",
     "exception": false,
     "start_time": "2022-06-29T22:27:27.704578",
     "status": "completed"
    },
    "tags": []
   },
   "source": [
    "# Generate test pairs dataset"
   ]
  },
  {
   "cell_type": "code",
   "execution_count": 3,
   "id": "114c0e3c",
   "metadata": {
    "execution": {
     "iopub.execute_input": "2022-06-29T22:27:27.738399Z",
     "iopub.status.busy": "2022-06-29T22:27:27.738001Z",
     "iopub.status.idle": "2022-06-29T22:27:27.753251Z",
     "shell.execute_reply": "2022-06-29T22:27:27.751947Z"
    },
    "papermill": {
     "duration": 0.028888,
     "end_time": "2022-06-29T22:27:27.756016",
     "exception": false,
     "start_time": "2022-06-29T22:27:27.727128",
     "status": "completed"
    },
    "tags": []
   },
   "outputs": [],
   "source": [
    "test = pd.read_csv('../input/foursquare-location-matching/test.csv')\n",
    "#test = test.head()\n",
    "#test.head()"
   ]
  },
  {
   "cell_type": "code",
   "execution_count": 4,
   "id": "0bd137b1",
   "metadata": {
    "execution": {
     "iopub.execute_input": "2022-06-29T22:27:27.777530Z",
     "iopub.status.busy": "2022-06-29T22:27:27.777116Z",
     "iopub.status.idle": "2022-06-29T22:27:27.790680Z",
     "shell.execute_reply": "2022-06-29T22:27:27.789280Z"
    },
    "papermill": {
     "duration": 0.027328,
     "end_time": "2022-06-29T22:27:27.793311",
     "exception": false,
     "start_time": "2022-06-29T22:27:27.765983",
     "status": "completed"
    },
    "tags": []
   },
   "outputs": [],
   "source": [
    "def create_match_by_pos(df, train = False, neighbour = 10):\n",
    "    # create data by nearest 10 neighbours, by train or test dataset\n",
    "    \n",
    "    if len(df) < neighbour:\n",
    "        neighbour = len(df)-1\n",
    "    neighbor = NearestNeighbors(n_neighbors=neighbour+1, metric=\"haversine\", n_jobs=-1) # haversine: 2 arcsin(sqrt(sin^2(0.5*dx) + cos(x1)cos(x2)sin^2(0.5*dy)))\n",
    "    position = df.iloc[:,2:4]\n",
    "    neighbor.fit(position)\n",
    "    #distance = neighbor.kneighbors(position)[0]\n",
    "    cloest_pos = neighbor.kneighbors(position)[1]\n",
    "    \n",
    "    df_combine = pd.DataFrame()\n",
    "    for i in range(1,neighbour+1):\n",
    "        df1 = df.loc[cloest_pos[:,0]]\n",
    "        df2 = df.loc[cloest_pos[:,i]]\n",
    "        for col in df1.columns:\n",
    "            df1.rename(columns={col: f\"{col}_1\"}, inplace = True)\n",
    "            df2.rename(columns={col: f\"{col}_2\"}, inplace = True)    \n",
    "        df2.reset_index(drop=True,inplace = True)\n",
    "        df_new = pd.concat([df1,df2], axis = 1)\n",
    "        if train == True:\n",
    "            df_new['match'] = df_new['point_of_interest_1'] == df_new['point_of_interest_2']\n",
    "            df_new.drop(columns=['point_of_interest_1', 'point_of_interest_2'], inplace = True)\n",
    "        df_combine = pd.concat([df_combine,df_new], axis = 0)\n",
    "    df_combine.reset_index(drop=True, inplace = True)\n",
    "    return df_combine"
   ]
  },
  {
   "cell_type": "code",
   "execution_count": 5,
   "id": "f97898ab",
   "metadata": {
    "execution": {
     "iopub.execute_input": "2022-06-29T22:27:27.814298Z",
     "iopub.status.busy": "2022-06-29T22:27:27.813845Z",
     "iopub.status.idle": "2022-06-29T22:27:27.983810Z",
     "shell.execute_reply": "2022-06-29T22:27:27.982821Z"
    },
    "papermill": {
     "duration": 0.183298,
     "end_time": "2022-06-29T22:27:27.986315",
     "exception": false,
     "start_time": "2022-06-29T22:27:27.803017",
     "status": "completed"
    },
    "tags": []
   },
   "outputs": [],
   "source": [
    "test_pairs = create_match_by_pos(test)\n",
    "#test_pairs"
   ]
  },
  {
   "cell_type": "code",
   "execution_count": 6,
   "id": "c429a139",
   "metadata": {
    "execution": {
     "iopub.execute_input": "2022-06-29T22:27:28.007677Z",
     "iopub.status.busy": "2022-06-29T22:27:28.006591Z",
     "iopub.status.idle": "2022-06-29T22:27:36.938127Z",
     "shell.execute_reply": "2022-06-29T22:27:36.936791Z"
    },
    "papermill": {
     "duration": 8.9452,
     "end_time": "2022-06-29T22:27:36.941065",
     "exception": false,
     "start_time": "2022-06-29T22:27:27.995865",
     "status": "completed"
    },
    "tags": []
   },
   "outputs": [],
   "source": [
    "pairs = pd.read_csv('../input/foursquare-location-matching/pairs.csv')\n",
    "#pairs = pairs.head()\n",
    "pairs = pairs.iloc[0:10000,:]\n",
    "#pairs.head()"
   ]
  },
  {
   "cell_type": "code",
   "execution_count": 7,
   "id": "5b6e3186",
   "metadata": {
    "execution": {
     "iopub.execute_input": "2022-06-29T22:27:36.963020Z",
     "iopub.status.busy": "2022-06-29T22:27:36.962226Z",
     "iopub.status.idle": "2022-06-29T22:27:36.972332Z",
     "shell.execute_reply": "2022-06-29T22:27:36.970924Z"
    },
    "papermill": {
     "duration": 0.02401,
     "end_time": "2022-06-29T22:27:36.974937",
     "exception": false,
     "start_time": "2022-06-29T22:27:36.950927",
     "status": "completed"
    },
    "tags": []
   },
   "outputs": [],
   "source": [
    "loc_name_1 = ['city_1','state_1','zip_1']\n",
    "loc_name_2 = ['city_2','state_2','zip_2']\n",
    "name = ['city','state','postcode']\n",
    "\n",
    "def find_loc(lat,lon,name):\n",
    "    geolocator = Nominatim(user_agent=\"geoapiExercises\")\n",
    "    lat = str(lat); lon = str(lon)\n",
    "    location = geolocator.reverse(lat+\",\"+lon)\n",
    "    address = location.raw['address']\n",
    "    return address.get(name)\n",
    "    \n",
    "def find_loc_all(df,lat,lon,loc_name,name):\n",
    "\n",
    "    for i in range(len(loc_name)):\n",
    "        new_col = df.apply(lambda x: find_loc(x[lat],x[lon],name[i]), axis = 1)\n",
    "        df[loc_name[i]].fillna(new_col, inplace=True)\n",
    "    return df"
   ]
  },
  {
   "cell_type": "code",
   "execution_count": 8,
   "id": "11959579",
   "metadata": {
    "execution": {
     "iopub.execute_input": "2022-06-29T22:27:36.996389Z",
     "iopub.status.busy": "2022-06-29T22:27:36.995960Z",
     "iopub.status.idle": "2022-06-29T22:27:37.001690Z",
     "shell.execute_reply": "2022-06-29T22:27:36.999727Z"
    },
    "papermill": {
     "duration": 0.019158,
     "end_time": "2022-06-29T22:27:37.004121",
     "exception": false,
     "start_time": "2022-06-29T22:27:36.984963",
     "status": "completed"
    },
    "tags": []
   },
   "outputs": [],
   "source": [
    "# impute data base on location\n",
    "# pairs = find_loc_all(pairs,'latitude_1','longitude_1',loc_name_1,name)\n",
    "# pairs = find_loc_all(pairs,'latitude_2','longitude_2',loc_name_2,name)\n",
    "# pairs.head()"
   ]
  },
  {
   "cell_type": "code",
   "execution_count": 9,
   "id": "f8f8f766",
   "metadata": {
    "execution": {
     "iopub.execute_input": "2022-06-29T22:27:37.025052Z",
     "iopub.status.busy": "2022-06-29T22:27:37.024655Z",
     "iopub.status.idle": "2022-06-29T22:27:37.030225Z",
     "shell.execute_reply": "2022-06-29T22:27:37.028869Z"
    },
    "papermill": {
     "duration": 0.018883,
     "end_time": "2022-06-29T22:27:37.032648",
     "exception": false,
     "start_time": "2022-06-29T22:27:37.013765",
     "status": "completed"
    },
    "tags": []
   },
   "outputs": [],
   "source": [
    "#pairs.iloc[:,0:12]"
   ]
  },
  {
   "cell_type": "code",
   "execution_count": 10,
   "id": "0849b06d",
   "metadata": {
    "execution": {
     "iopub.execute_input": "2022-06-29T22:27:37.055152Z",
     "iopub.status.busy": "2022-06-29T22:27:37.054315Z",
     "iopub.status.idle": "2022-06-29T22:27:37.060275Z",
     "shell.execute_reply": "2022-06-29T22:27:37.059026Z"
    },
    "papermill": {
     "duration": 0.019653,
     "end_time": "2022-06-29T22:27:37.062769",
     "exception": false,
     "start_time": "2022-06-29T22:27:37.043116",
     "status": "completed"
    },
    "tags": []
   },
   "outputs": [],
   "source": [
    "#pairs.iloc[:,12:]"
   ]
  },
  {
   "cell_type": "code",
   "execution_count": 11,
   "id": "c6f53ee3",
   "metadata": {
    "execution": {
     "iopub.execute_input": "2022-06-29T22:27:37.087886Z",
     "iopub.status.busy": "2022-06-29T22:27:37.087468Z",
     "iopub.status.idle": "2022-06-29T22:27:37.092437Z",
     "shell.execute_reply": "2022-06-29T22:27:37.091218Z"
    },
    "papermill": {
     "duration": 0.019895,
     "end_time": "2022-06-29T22:27:37.094924",
     "exception": false,
     "start_time": "2022-06-29T22:27:37.075029",
     "status": "completed"
    },
    "tags": []
   },
   "outputs": [],
   "source": [
    "#pairs.info()"
   ]
  },
  {
   "cell_type": "code",
   "execution_count": 12,
   "id": "ea5e8f2a",
   "metadata": {
    "execution": {
     "iopub.execute_input": "2022-06-29T22:27:37.115723Z",
     "iopub.status.busy": "2022-06-29T22:27:37.115278Z",
     "iopub.status.idle": "2022-06-29T22:27:37.121062Z",
     "shell.execute_reply": "2022-06-29T22:27:37.119598Z"
    },
    "papermill": {
     "duration": 0.019443,
     "end_time": "2022-06-29T22:27:37.123835",
     "exception": false,
     "start_time": "2022-06-29T22:27:37.104392",
     "status": "completed"
    },
    "tags": []
   },
   "outputs": [],
   "source": [
    "#pairs.match.value_counts()"
   ]
  },
  {
   "cell_type": "markdown",
   "id": "d41ef5d4",
   "metadata": {
    "papermill": {
     "duration": 0.010124,
     "end_time": "2022-06-29T22:27:37.143879",
     "exception": false,
     "start_time": "2022-06-29T22:27:37.133755",
     "status": "completed"
    },
    "tags": []
   },
   "source": [
    "# Data preprocessing & Feature transformation:\n",
    "\n",
    "1. location (latitude, longtitude): finding the distance between two variables\n",
    "2. word preprocessing: remove url symbol, lowercasing, number removing, punctuation removal, white spaces removal, stop words removal, stemming and lemmatization\n"
   ]
  },
  {
   "cell_type": "code",
   "execution_count": 13,
   "id": "bb01fb79",
   "metadata": {
    "execution": {
     "iopub.execute_input": "2022-06-29T22:27:37.167396Z",
     "iopub.status.busy": "2022-06-29T22:27:37.166958Z",
     "iopub.status.idle": "2022-06-29T22:27:37.175343Z",
     "shell.execute_reply": "2022-06-29T22:27:37.173888Z"
    },
    "papermill": {
     "duration": 0.02344,
     "end_time": "2022-06-29T22:27:37.177914",
     "exception": false,
     "start_time": "2022-06-29T22:27:37.154474",
     "status": "completed"
    },
    "tags": []
   },
   "outputs": [],
   "source": [
    "# 1. location\n",
    "def distance(lat1, lon1, lat2, lon2):\n",
    "    R = 6373.0\n",
    "    d_lon = lon2 - lon1; d_lat = lat2 - lat1\n",
    "    a = (np.sin(d_lat/2)) ** 2 + np.cos(lat1) * np.cos(lat2) * (np.sin(d_lon/2)) ** 2\n",
    "    c = 2 * np.arctan2(np.sqrt(a), np.sqrt(1-a))\n",
    "    distance = R * c\n",
    "    return distance"
   ]
  },
  {
   "cell_type": "code",
   "execution_count": 14,
   "id": "833f532c",
   "metadata": {
    "execution": {
     "iopub.execute_input": "2022-06-29T22:27:37.200674Z",
     "iopub.status.busy": "2022-06-29T22:27:37.200178Z",
     "iopub.status.idle": "2022-06-29T22:27:37.218467Z",
     "shell.execute_reply": "2022-06-29T22:27:37.217315Z"
    },
    "papermill": {
     "duration": 0.033732,
     "end_time": "2022-06-29T22:27:37.221399",
     "exception": false,
     "start_time": "2022-06-29T22:27:37.187667",
     "status": "completed"
    },
    "tags": []
   },
   "outputs": [],
   "source": [
    "pairs['distance'] = distance(pairs.latitude_1,pairs.longitude_1,pairs.latitude_2,pairs.longitude_2)\n",
    "test_pairs['distance'] = distance(test_pairs.latitude_1,test_pairs.longitude_1,test_pairs.latitude_2,test_pairs.longitude_2)"
   ]
  },
  {
   "cell_type": "code",
   "execution_count": 15,
   "id": "92f22c7b",
   "metadata": {
    "execution": {
     "iopub.execute_input": "2022-06-29T22:27:37.245477Z",
     "iopub.status.busy": "2022-06-29T22:27:37.244573Z",
     "iopub.status.idle": "2022-06-29T22:27:37.263794Z",
     "shell.execute_reply": "2022-06-29T22:27:37.262856Z"
    },
    "papermill": {
     "duration": 0.03481,
     "end_time": "2022-06-29T22:27:37.266529",
     "exception": false,
     "start_time": "2022-06-29T22:27:37.231719",
     "status": "completed"
    },
    "tags": []
   },
   "outputs": [],
   "source": [
    "# 2 word preprocessing\n",
    "\n",
    "# lowercase\n",
    "def lower(df, cols):\n",
    "    for col in cols:\n",
    "        df[col] = df[col].fillna('').apply(lambda x: x.lower())\n",
    "    return df\n",
    "\n",
    "# number removing\n",
    "def num_remove(df, cols):\n",
    "    for col in cols:\n",
    "        df[col] = df[col].fillna('').apply(lambda x: re.sub(r'\\d+', '', x))\n",
    "    return df\n",
    "\n",
    "# punctuation removal\n",
    "def punc_remove(df,cols):\n",
    "    for col in cols:\n",
    "        df[col] = df[col].fillna('').apply(lambda x: x.translate(str.maketrans(\"\",\"\", string.punctuation)))\n",
    "    return df\n",
    "\n",
    "# white spaces removal\n",
    "def space_remove(df,cols):\n",
    "    for col in cols:\n",
    "        df[col] = df[col].fillna('').apply(lambda x: x.strip())\n",
    "    return df\n",
    "\n",
    "# stop words removal\n",
    "\n",
    "def list_to_string(lis):\n",
    "    string = ''\n",
    "    for i in lis:\n",
    "        string += i\n",
    "        string += ' '\n",
    "    return string\n",
    "\n",
    "def stop(string):\n",
    "    stops = set(stopwords.words('english'))\n",
    "    tokens = word_tokenize(string)\n",
    "    result = [i for i in tokens if not i in stops]\n",
    "    return result\n",
    "    \n",
    "def stop_remove(df,cols):\n",
    "    for col in cols:\n",
    "        df[col] = df[col].fillna('').apply(lambda x: stop(x))\n",
    "    return df\n",
    "\n",
    "# stemming and lemmatization\n",
    "def lemma_stem(lis):\n",
    "    stemmer = PorterStemmer()\n",
    "    lemmatizer = WordNetLemmatizer()\n",
    "    new_lis = []\n",
    "    for word in lis:\n",
    "        word_new = lemmatizer.lemmatize(word)\n",
    "        word_new = stemmer.stem(word_new)\n",
    "        new_lis += [word_new]\n",
    "    return new_lis\n",
    "\n",
    "def lemma_stemming(df,cols):\n",
    "    for col in cols:\n",
    "        df[col] = df[col].fillna('').apply(lambda x: lemma_stem(x))\n",
    "    return df"
   ]
  },
  {
   "cell_type": "code",
   "execution_count": 16,
   "id": "3521343e",
   "metadata": {
    "execution": {
     "iopub.execute_input": "2022-06-29T22:27:37.289078Z",
     "iopub.status.busy": "2022-06-29T22:27:37.288695Z",
     "iopub.status.idle": "2022-06-29T22:27:37.294940Z",
     "shell.execute_reply": "2022-06-29T22:27:37.293597Z"
    },
    "papermill": {
     "duration": 0.020691,
     "end_time": "2022-06-29T22:27:37.297432",
     "exception": false,
     "start_time": "2022-06-29T22:27:37.276741",
     "status": "completed"
    },
    "tags": []
   },
   "outputs": [],
   "source": [
    "# remove url\n",
    "def remove_URL(df,cols):\n",
    "    for col in cols:\n",
    "        df[col] = df[col].fillna('').apply(lambda x: re.sub(r\"http\\S+\", \"\", x))\n",
    "    return df"
   ]
  },
  {
   "cell_type": "code",
   "execution_count": 17,
   "id": "364eb55e",
   "metadata": {
    "execution": {
     "iopub.execute_input": "2022-06-29T22:27:37.320800Z",
     "iopub.status.busy": "2022-06-29T22:27:37.319353Z",
     "iopub.status.idle": "2022-06-29T22:28:18.633405Z",
     "shell.execute_reply": "2022-06-29T22:28:18.632081Z"
    },
    "papermill": {
     "duration": 41.328619,
     "end_time": "2022-06-29T22:28:18.636571",
     "exception": false,
     "start_time": "2022-06-29T22:27:37.307952",
     "status": "completed"
    },
    "tags": []
   },
   "outputs": [],
   "source": [
    "word_columns = ['name_1','address_1','city_1','state_1','url_1','categories_1','name_2','address_2','city_2','state_2','url_2','categories_2']\n",
    "url_columns = ['url_1','url_2']\n",
    "for data in [pairs, test_pairs]:\n",
    "    data[url_columns] = remove_URL(data, url_columns)[url_columns]\n",
    "    data[word_columns] = lower(data, word_columns)[word_columns]\n",
    "    data[word_columns] = num_remove(data, word_columns)[word_columns]\n",
    "    data[word_columns] = punc_remove(data, word_columns)[word_columns]\n",
    "    data[word_columns] = space_remove(data, word_columns)[word_columns]\n",
    "    data[word_columns] = stop_remove(data, word_columns)[word_columns]\n",
    "    data[word_columns] = lemma_stemming(data, word_columns)[word_columns]"
   ]
  },
  {
   "cell_type": "markdown",
   "id": "4f523af0",
   "metadata": {
    "papermill": {
     "duration": 0.010555,
     "end_time": "2022-06-29T22:28:18.657691",
     "exception": false,
     "start_time": "2022-06-29T22:28:18.647136",
     "status": "completed"
    },
    "tags": []
   },
   "source": [
    "text similarity"
   ]
  },
  {
   "cell_type": "code",
   "execution_count": 18,
   "id": "1198a36b",
   "metadata": {
    "execution": {
     "iopub.execute_input": "2022-06-29T22:28:18.680440Z",
     "iopub.status.busy": "2022-06-29T22:28:18.679738Z",
     "iopub.status.idle": "2022-06-29T22:28:18.690365Z",
     "shell.execute_reply": "2022-06-29T22:28:18.689089Z"
    },
    "papermill": {
     "duration": 0.025328,
     "end_time": "2022-06-29T22:28:18.693634",
     "exception": false,
     "start_time": "2022-06-29T22:28:18.668306",
     "status": "completed"
    },
    "tags": []
   },
   "outputs": [],
   "source": [
    "def fuzzy_similarity(df, cols_1, cols_2):\n",
    "    # length for cols_1 and cols_2 must be the same.\n",
    "    for i in range(len(cols_1)):\n",
    "        df[f\"{cols_1[i]}_fuzzy\"] = df.apply(lambda x: lev.ratio(x[cols_1[i]],x[cols_2[i]]), axis = 1)\n",
    "    return df    \n",
    "\n",
    "def counter_cosine_similarity(c1, c2):\n",
    "    terms = set(c1).union(c2)\n",
    "    dotprod = sum(c1.get(k, 0) * c2.get(k, 0) for k in terms)\n",
    "    magA = math.sqrt(sum(c1.get(k, 0)**2 for k in terms))\n",
    "    magB = math.sqrt(sum(c2.get(k, 0)**2 for k in terms))\n",
    "    return dotprod / (magA * magB)"
   ]
  },
  {
   "cell_type": "code",
   "execution_count": 19,
   "id": "ea08ea78",
   "metadata": {
    "execution": {
     "iopub.execute_input": "2022-06-29T22:28:18.716405Z",
     "iopub.status.busy": "2022-06-29T22:28:18.715974Z",
     "iopub.status.idle": "2022-06-29T22:28:20.397445Z",
     "shell.execute_reply": "2022-06-29T22:28:20.395623Z"
    },
    "papermill": {
     "duration": 1.696693,
     "end_time": "2022-06-29T22:28:20.400499",
     "exception": false,
     "start_time": "2022-06-29T22:28:18.703806",
     "status": "completed"
    },
    "tags": []
   },
   "outputs": [],
   "source": [
    "col_1 = ['name_1','address_1','city_1','state_1','url_1','categories_1']\n",
    "col_2 = ['name_2','address_2','city_2','state_2','url_2','categories_2']\n",
    "\n",
    "def fuzzy(data):\n",
    "    pairs_new = data.copy()\n",
    "    for col in word_columns:\n",
    "        pairs_new[col] = pairs_new[col].apply(lambda x: list_to_string(x))\n",
    "    pairs_fuzzy = fuzzy_similarity(pairs_new, col_1,col_2)\n",
    "    pairs_fuzzy = pairs_fuzzy.iloc[:,-len(col_1):]\n",
    "    data = pd.concat([data, pairs_fuzzy], axis = 1)\n",
    "    return data\n",
    "pairs = fuzzy(pairs); test_pairs = fuzzy(test_pairs)\n"
   ]
  },
  {
   "cell_type": "code",
   "execution_count": 20,
   "id": "97d13091",
   "metadata": {
    "execution": {
     "iopub.execute_input": "2022-06-29T22:28:20.423926Z",
     "iopub.status.busy": "2022-06-29T22:28:20.423474Z",
     "iopub.status.idle": "2022-06-29T22:28:20.437084Z",
     "shell.execute_reply": "2022-06-29T22:28:20.435736Z"
    },
    "papermill": {
     "duration": 0.028008,
     "end_time": "2022-06-29T22:28:20.439655",
     "exception": false,
     "start_time": "2022-06-29T22:28:20.411647",
     "status": "completed"
    },
    "tags": []
   },
   "outputs": [],
   "source": [
    "# wordnet similarity method\n",
    "def similarity(word1, word2):\n",
    "    max_sim = []\n",
    "    syn1 = wn.synsets(word1)\n",
    "    syn2 = wn.synsets(word2)\n",
    "    for s1 in syn1:\n",
    "        for s2 in syn2:\n",
    "            max_sim.append(s1.path_similarity(s2))\n",
    "    max_sim = [z for z in max_sim if z!=None]\n",
    "    if max_sim == []:\n",
    "        return 0\n",
    "    return max(max_sim)\n",
    "    \n",
    "def similarity_lis(lis_1, lis_2):\n",
    "    score_lis = []\n",
    "    for word in lis_1:\n",
    "        score_lis2 = []\n",
    "        for word_2 in lis_2:\n",
    "            sim = similarity(word, word_2)\n",
    "            if sim != 0:\n",
    "                score_lis2 += [sim]\n",
    "        if score_lis2 == []:\n",
    "            score_lis += [0]\n",
    "        else:\n",
    "            score_lis+=[max(score_lis2)]\n",
    "    if score_lis == []:\n",
    "        return 0\n",
    "    return sum(score_lis)/len(score_lis)\n",
    "\n",
    "def sim_lis(lis_1, lis_2):\n",
    "    return (similarity_lis(lis_1, lis_2) + similarity_lis(lis_2, lis_1))/2\n",
    "\n",
    "def nltk_similarity(df, cols_1, cols_2):\n",
    "    # length for cols_1 and cols_2 must be the same.\n",
    "    for i in range(len(cols_1)):\n",
    "        df[f\"{cols_1[i]}_nltk\"] = df.apply(lambda x: sim_lis(x[cols_1[i]],x[cols_2[i]]), axis = 1)\n",
    "    return df   "
   ]
  },
  {
   "cell_type": "markdown",
   "id": "849c24a4",
   "metadata": {
    "papermill": {
     "duration": 0.009954,
     "end_time": "2022-06-29T22:28:20.460226",
     "exception": false,
     "start_time": "2022-06-29T22:28:20.450272",
     "status": "completed"
    },
    "tags": []
   },
   "source": []
  },
  {
   "cell_type": "code",
   "execution_count": 21,
   "id": "a43c137a",
   "metadata": {
    "execution": {
     "iopub.execute_input": "2022-06-29T22:28:20.485037Z",
     "iopub.status.busy": "2022-06-29T22:28:20.483580Z",
     "iopub.status.idle": "2022-06-29T22:36:02.382102Z",
     "shell.execute_reply": "2022-06-29T22:36:02.380763Z"
    },
    "papermill": {
     "duration": 461.91322,
     "end_time": "2022-06-29T22:36:02.385184",
     "exception": false,
     "start_time": "2022-06-29T22:28:20.471964",
     "status": "completed"
    },
    "tags": []
   },
   "outputs": [],
   "source": [
    "col_1 = ['name_1','address_1','city_1','state_1','url_1','categories_1']\n",
    "col_2 = ['name_2','address_2','city_2','state_2','url_2','categories_2']\n",
    "for data in [pairs, test_pairs]:\n",
    "    data = nltk_similarity(data, col_1,col_2)"
   ]
  },
  {
   "cell_type": "code",
   "execution_count": 22,
   "id": "c19da43d",
   "metadata": {
    "execution": {
     "iopub.execute_input": "2022-06-29T22:36:02.406168Z",
     "iopub.status.busy": "2022-06-29T22:36:02.405790Z",
     "iopub.status.idle": "2022-06-29T22:36:02.413350Z",
     "shell.execute_reply": "2022-06-29T22:36:02.412191Z"
    },
    "papermill": {
     "duration": 0.021402,
     "end_time": "2022-06-29T22:36:02.416459",
     "exception": false,
     "start_time": "2022-06-29T22:36:02.395057",
     "status": "completed"
    },
    "tags": []
   },
   "outputs": [],
   "source": [
    "cols = ['latitude_1','longitude_1','country_1','latitude_2','longitude_2','country_2','name_1_fuzzy', 'address_1_fuzzy', 'city_1_fuzzy',\n",
    "       'state_1_fuzzy', 'url_1_fuzzy', 'categories_1_fuzzy','name_1_nltk', 'address_1_nltk', 'city_1_nltk', 'state_1_nltk',\n",
    "       'url_1_nltk', 'categories_1_nltk','match']\n",
    "test_cols = ['latitude_1','longitude_1','country_1','latitude_2','longitude_2','country_2','name_1_fuzzy', 'address_1_fuzzy', 'city_1_fuzzy',\n",
    "       'state_1_fuzzy', 'url_1_fuzzy', 'categories_1_fuzzy','name_1_nltk', 'address_1_nltk', 'city_1_nltk', 'state_1_nltk',\n",
    "       'url_1_nltk', 'categories_1_nltk']\n",
    "ids = ['id_1','id_2']\n",
    "#pairs[cols].head()"
   ]
  },
  {
   "cell_type": "code",
   "execution_count": 23,
   "id": "3a73e7f5",
   "metadata": {
    "execution": {
     "iopub.execute_input": "2022-06-29T22:36:02.437674Z",
     "iopub.status.busy": "2022-06-29T22:36:02.436901Z",
     "iopub.status.idle": "2022-06-29T22:36:02.455720Z",
     "shell.execute_reply": "2022-06-29T22:36:02.454581Z"
    },
    "papermill": {
     "duration": 0.032803,
     "end_time": "2022-06-29T22:36:02.458829",
     "exception": false,
     "start_time": "2022-06-29T22:36:02.426026",
     "status": "completed"
    },
    "tags": []
   },
   "outputs": [
    {
     "name": "stderr",
     "output_type": "stream",
     "text": [
      "/opt/conda/lib/python3.7/site-packages/ipykernel_launcher.py:4: SettingWithCopyWarning: \n",
      "A value is trying to be set on a copy of a slice from a DataFrame.\n",
      "Try using .loc[row_indexer,col_indexer] = value instead\n",
      "\n",
      "See the caveats in the documentation: https://pandas.pydata.org/pandas-docs/stable/user_guide/indexing.html#returning-a-view-versus-a-copy\n",
      "  after removing the cwd from sys.path.\n"
     ]
    }
   ],
   "source": [
    "train_id = pairs[ids]; test_id = pairs[ids]\n",
    "train_X = pairs[cols]; test_X = test_pairs[test_cols]\n",
    "for X in [train_X,test_X]:\n",
    "    X['country_same'] = np.where(X['country_1'] == X['country_2'],1,0)\n",
    "    del X['country_1'] \n",
    "    del X['country_2']"
   ]
  },
  {
   "cell_type": "code",
   "execution_count": 24,
   "id": "aa23dc42",
   "metadata": {
    "execution": {
     "iopub.execute_input": "2022-06-29T22:36:02.480235Z",
     "iopub.status.busy": "2022-06-29T22:36:02.479426Z",
     "iopub.status.idle": "2022-06-29T22:36:02.506437Z",
     "shell.execute_reply": "2022-06-29T22:36:02.505581Z"
    },
    "papermill": {
     "duration": 0.040843,
     "end_time": "2022-06-29T22:36:02.509189",
     "exception": false,
     "start_time": "2022-06-29T22:36:02.468346",
     "status": "completed"
    },
    "tags": []
   },
   "outputs": [
    {
     "name": "stderr",
     "output_type": "stream",
     "text": [
      "/opt/conda/lib/python3.7/site-packages/pandas/core/frame.py:3678: SettingWithCopyWarning: \n",
      "A value is trying to be set on a copy of a slice from a DataFrame.\n",
      "Try using .loc[row_indexer,col_indexer] = value instead\n",
      "\n",
      "See the caveats in the documentation: https://pandas.pydata.org/pandas-docs/stable/user_guide/indexing.html#returning-a-view-versus-a-copy\n",
      "  self[col] = igetitem(value, i)\n",
      "/opt/conda/lib/python3.7/site-packages/pandas/core/frame.py:3678: SettingWithCopyWarning: \n",
      "A value is trying to be set on a copy of a slice from a DataFrame.\n",
      "Try using .loc[row_indexer,col_indexer] = value instead\n",
      "\n",
      "See the caveats in the documentation: https://pandas.pydata.org/pandas-docs/stable/user_guide/indexing.html#returning-a-view-versus-a-copy\n",
      "  self[col] = igetitem(value, i)\n"
     ]
    }
   ],
   "source": [
    "col_scaler = ['latitude_1','longitude_1','latitude_2','longitude_2']\n",
    "X_transform = train_X[col_scaler]; X_transform_test = test_X[col_scaler]\n",
    "transformer = RobustScaler().fit(X_transform)\n",
    "train_X[col_scaler] = transformer.transform(X_transform)\n",
    "test_X[col_scaler] = transformer.transform(X_transform_test)"
   ]
  },
  {
   "cell_type": "code",
   "execution_count": 25,
   "id": "69cd0b8b",
   "metadata": {
    "execution": {
     "iopub.execute_input": "2022-06-29T22:36:02.532461Z",
     "iopub.status.busy": "2022-06-29T22:36:02.531568Z",
     "iopub.status.idle": "2022-06-29T22:36:07.933566Z",
     "shell.execute_reply": "2022-06-29T22:36:07.932346Z"
    },
    "papermill": {
     "duration": 5.416877,
     "end_time": "2022-06-29T22:36:07.936292",
     "exception": false,
     "start_time": "2022-06-29T22:36:02.519415",
     "status": "completed"
    },
    "tags": []
   },
   "outputs": [
    {
     "data": {
      "text/plain": [
       "XGBClassifier(base_score=0.5, booster='gbtree', callbacks=None,\n",
       "              colsample_bylevel=1, colsample_bynode=1, colsample_bytree=0.5,\n",
       "              early_stopping_rounds=None, enable_categorical=False,\n",
       "              eval_metric=None, gamma=0, gpu_id=-1, grow_policy='depthwise',\n",
       "              importance_type='gain', interaction_constraints='',\n",
       "              learning_rate=0.3, max_bin=256, max_cat_to_onehot=4,\n",
       "              max_delta_step=0, max_depth=3, max_leaves=0, min_child_weight=2,\n",
       "              missing=nan, monotone_constraints='()', n_estimators=1600,\n",
       "              n_jobs=-1, nthread=-1, num_parallel_tree=1, predictor='auto',\n",
       "              random_state=0, reg_alpha=0, ...)"
      ]
     },
     "execution_count": 25,
     "metadata": {},
     "output_type": "execute_result"
    }
   ],
   "source": [
    "train_y = pairs['match']\n",
    "xgb = XGBClassifier(base_score=0.5, booster='gbtree', colsample_bylevel=1,\n",
    "              colsample_bynode=1, colsample_bytree=0.5, gamma=0, gpu_id=-1,\n",
    "              importance_type='gain', interaction_constraints='',\n",
    "              learning_rate=0.3, max_delta_step=0, max_depth=3,\n",
    "              min_child_weight=2, monotone_constraints='()',\n",
    "              n_estimators=1600, n_jobs=-1, nthread=-1, num_parallel_tree=1,\n",
    "              random_state=0, reg_alpha=0, reg_lambda=1, scale_pos_weight=1,\n",
    "              subsample=0.9, tree_method='exact', validate_parameters=1,\n",
    "              verbosity=None)\n",
    "xgb.fit(train_X, train_y)"
   ]
  },
  {
   "cell_type": "code",
   "execution_count": 26,
   "id": "4b2916bb",
   "metadata": {
    "execution": {
     "iopub.execute_input": "2022-06-29T22:36:07.959853Z",
     "iopub.status.busy": "2022-06-29T22:36:07.959446Z",
     "iopub.status.idle": "2022-06-29T22:36:08.016524Z",
     "shell.execute_reply": "2022-06-29T22:36:08.015342Z"
    },
    "papermill": {
     "duration": 0.073552,
     "end_time": "2022-06-29T22:36:08.019557",
     "exception": false,
     "start_time": "2022-06-29T22:36:07.946005",
     "status": "completed"
    },
    "tags": []
   },
   "outputs": [],
   "source": [
    "test_y = xgb.predict(train_X)"
   ]
  },
  {
   "cell_type": "code",
   "execution_count": 27,
   "id": "1c507dd9",
   "metadata": {
    "execution": {
     "iopub.execute_input": "2022-06-29T22:36:08.043135Z",
     "iopub.status.busy": "2022-06-29T22:36:08.042745Z",
     "iopub.status.idle": "2022-06-29T22:36:08.052140Z",
     "shell.execute_reply": "2022-06-29T22:36:08.050820Z"
    },
    "papermill": {
     "duration": 0.024333,
     "end_time": "2022-06-29T22:36:08.055293",
     "exception": false,
     "start_time": "2022-06-29T22:36:08.030960",
     "status": "completed"
    },
    "tags": []
   },
   "outputs": [
    {
     "name": "stderr",
     "output_type": "stream",
     "text": [
      "/opt/conda/lib/python3.7/site-packages/ipykernel_launcher.py:2: SettingWithCopyWarning: \n",
      "A value is trying to be set on a copy of a slice from a DataFrame.\n",
      "Try using .loc[row_indexer,col_indexer] = value instead\n",
      "\n",
      "See the caveats in the documentation: https://pandas.pydata.org/pandas-docs/stable/user_guide/indexing.html#returning-a-view-versus-a-copy\n",
      "  \n"
     ]
    }
   ],
   "source": [
    "test_pairs_final = test_id\n",
    "test_pairs_final['match'] = test_y\n",
    "test_id_unique = test['id']\n",
    "\n",
    "def id_match(test_id_unique, test_pairs_final):\n",
    "    match_list = []\n",
    "    for id in test_id_unique:\n",
    "        id_pairs = test_pairs_final[test_pairs_final.id_1 == id]\n",
    "        success_pairs = id_pairs[id_pairs['match'] == 1]\n",
    "        if len(success_pairs) == 0:\n",
    "            matches = id\n",
    "        else:\n",
    "            matches = ' '.join([id] + success_pairs.id_2.tolist())\n",
    "        match_list += [matches]\n",
    "    return match_list"
   ]
  },
  {
   "cell_type": "code",
   "execution_count": 28,
   "id": "22959070",
   "metadata": {
    "execution": {
     "iopub.execute_input": "2022-06-29T22:36:08.077047Z",
     "iopub.status.busy": "2022-06-29T22:36:08.076667Z",
     "iopub.status.idle": "2022-06-29T22:36:08.098375Z",
     "shell.execute_reply": "2022-06-29T22:36:08.096999Z"
    },
    "papermill": {
     "duration": 0.035302,
     "end_time": "2022-06-29T22:36:08.100852",
     "exception": false,
     "start_time": "2022-06-29T22:36:08.065550",
     "status": "completed"
    },
    "tags": []
   },
   "outputs": [],
   "source": [
    "match = id_match(test_id_unique, test_pairs_final)\n",
    "submission = pd.DataFrame({'id':test['id'],'matches':match})"
   ]
  },
  {
   "cell_type": "code",
   "execution_count": 29,
   "id": "f31413c9",
   "metadata": {
    "execution": {
     "iopub.execute_input": "2022-06-29T22:36:08.122277Z",
     "iopub.status.busy": "2022-06-29T22:36:08.121855Z",
     "iopub.status.idle": "2022-06-29T22:36:08.129418Z",
     "shell.execute_reply": "2022-06-29T22:36:08.128574Z"
    },
    "papermill": {
     "duration": 0.021152,
     "end_time": "2022-06-29T22:36:08.131689",
     "exception": false,
     "start_time": "2022-06-29T22:36:08.110537",
     "status": "completed"
    },
    "tags": []
   },
   "outputs": [],
   "source": [
    "submission.to_csv(\"submission.csv\", index=False)"
   ]
  },
  {
   "cell_type": "code",
   "execution_count": 30,
   "id": "6cc30d91",
   "metadata": {
    "execution": {
     "iopub.execute_input": "2022-06-29T22:36:08.153415Z",
     "iopub.status.busy": "2022-06-29T22:36:08.152219Z",
     "iopub.status.idle": "2022-06-29T22:36:08.167327Z",
     "shell.execute_reply": "2022-06-29T22:36:08.166162Z"
    },
    "papermill": {
     "duration": 0.02857,
     "end_time": "2022-06-29T22:36:08.169977",
     "exception": false,
     "start_time": "2022-06-29T22:36:08.141407",
     "status": "completed"
    },
    "tags": []
   },
   "outputs": [
    {
     "data": {
      "text/html": [
       "<div>\n",
       "<style scoped>\n",
       "    .dataframe tbody tr th:only-of-type {\n",
       "        vertical-align: middle;\n",
       "    }\n",
       "\n",
       "    .dataframe tbody tr th {\n",
       "        vertical-align: top;\n",
       "    }\n",
       "\n",
       "    .dataframe thead th {\n",
       "        text-align: right;\n",
       "    }\n",
       "</style>\n",
       "<table border=\"1\" class=\"dataframe\">\n",
       "  <thead>\n",
       "    <tr style=\"text-align: right;\">\n",
       "      <th></th>\n",
       "      <th>id</th>\n",
       "      <th>matches</th>\n",
       "    </tr>\n",
       "  </thead>\n",
       "  <tbody>\n",
       "    <tr>\n",
       "      <th>0</th>\n",
       "      <td>E_00001118ad0191</td>\n",
       "      <td>E_00001118ad0191</td>\n",
       "    </tr>\n",
       "    <tr>\n",
       "      <th>1</th>\n",
       "      <td>E_000020eb6fed40</td>\n",
       "      <td>E_000020eb6fed40</td>\n",
       "    </tr>\n",
       "    <tr>\n",
       "      <th>2</th>\n",
       "      <td>E_00002f98667edf</td>\n",
       "      <td>E_00002f98667edf</td>\n",
       "    </tr>\n",
       "    <tr>\n",
       "      <th>3</th>\n",
       "      <td>E_001b6bad66eb98</td>\n",
       "      <td>E_001b6bad66eb98</td>\n",
       "    </tr>\n",
       "    <tr>\n",
       "      <th>4</th>\n",
       "      <td>E_0283d9f61e569d</td>\n",
       "      <td>E_0283d9f61e569d E_5ec7420a228da8 E_9c05396793...</td>\n",
       "    </tr>\n",
       "  </tbody>\n",
       "</table>\n",
       "</div>"
      ],
      "text/plain": [
       "                 id                                            matches\n",
       "0  E_00001118ad0191                                   E_00001118ad0191\n",
       "1  E_000020eb6fed40                                   E_000020eb6fed40\n",
       "2  E_00002f98667edf                                   E_00002f98667edf\n",
       "3  E_001b6bad66eb98                                   E_001b6bad66eb98\n",
       "4  E_0283d9f61e569d  E_0283d9f61e569d E_5ec7420a228da8 E_9c05396793..."
      ]
     },
     "execution_count": 30,
     "metadata": {},
     "output_type": "execute_result"
    }
   ],
   "source": [
    "submission.head()"
   ]
  }
 ],
 "metadata": {
  "kernelspec": {
   "display_name": "Python 3",
   "language": "python",
   "name": "python3"
  },
  "language_info": {
   "codemirror_mode": {
    "name": "ipython",
    "version": 3
   },
   "file_extension": ".py",
   "mimetype": "text/x-python",
   "name": "python",
   "nbconvert_exporter": "python",
   "pygments_lexer": "ipython3",
   "version": "3.7.12"
  },
  "papermill": {
   "default_parameters": {},
   "duration": 545.894671,
   "end_time": "2022-06-29T22:36:09.806418",
   "environment_variables": {},
   "exception": null,
   "input_path": "__notebook__.ipynb",
   "output_path": "__notebook__.ipynb",
   "parameters": {},
   "start_time": "2022-06-29T22:27:03.911747",
   "version": "2.3.4"
  }
 },
 "nbformat": 4,
 "nbformat_minor": 5
}
