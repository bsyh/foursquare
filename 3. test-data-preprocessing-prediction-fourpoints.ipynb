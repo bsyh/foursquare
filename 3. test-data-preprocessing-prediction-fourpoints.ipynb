{
 "cells": [
  {
   "cell_type": "code",
   "execution_count": 1,
   "id": "7868c0fe",
   "metadata": {
    "_cell_guid": "b1076dfc-b9ad-4769-8c92-a6c4dae69d19",
    "_uuid": "8f2839f25d086af736a60e9eeb907d3b93b6e0e5",
    "execution": {
     "iopub.execute_input": "2022-06-30T21:38:13.257725Z",
     "iopub.status.busy": "2022-06-30T21:38:13.257283Z",
     "iopub.status.idle": "2022-06-30T21:38:15.488554Z",
     "shell.execute_reply": "2022-06-30T21:38:15.487197Z"
    },
    "papermill": {
     "duration": 2.243918,
     "end_time": "2022-06-30T21:38:15.491413",
     "exception": false,
     "start_time": "2022-06-30T21:38:13.247495",
     "status": "completed"
    },
    "tags": []
   },
   "outputs": [],
   "source": [
    "import pandas as pd\n",
    "import numpy as np\n",
    "from sklearn.neighbors import NearestNeighbors\n",
    "from sklearn.feature_extraction.text import TfidfVectorizer\n",
    "\n",
    "from geopy.geocoders import Nominatim\n",
    "\n",
    "import re\n",
    "import string\n",
    "from nltk.tokenize import word_tokenize\n",
    "from nltk.corpus import stopwords, wordnet as wn\n",
    "from nltk.stem import PorterStemmer, WordNetLemmatizer\n",
    "\n",
    "import Levenshtein as lev\n",
    "import math\n",
    "from collections import Counter\n",
    "\n",
    "from sklearn.preprocessing import RobustScaler\n",
    "from sklearn.model_selection import cross_val_score\n",
    "\n",
    "from xgboost import XGBClassifier\n",
    "from pickle import dump, load"
   ]
  },
  {
   "cell_type": "markdown",
   "id": "9f44ae5e",
   "metadata": {
    "papermill": {
     "duration": 0.006221,
     "end_time": "2022-06-30T21:38:15.504272",
     "exception": false,
     "start_time": "2022-06-30T21:38:15.498051",
     "status": "completed"
    },
    "tags": []
   },
   "source": [
    "# Generate test pairs dataset"
   ]
  },
  {
   "cell_type": "code",
   "execution_count": 2,
   "id": "520b640a",
   "metadata": {
    "execution": {
     "iopub.execute_input": "2022-06-30T21:38:15.520196Z",
     "iopub.status.busy": "2022-06-30T21:38:15.518582Z",
     "iopub.status.idle": "2022-06-30T21:38:15.535533Z",
     "shell.execute_reply": "2022-06-30T21:38:15.534113Z"
    },
    "papermill": {
     "duration": 0.027593,
     "end_time": "2022-06-30T21:38:15.538259",
     "exception": false,
     "start_time": "2022-06-30T21:38:15.510666",
     "status": "completed"
    },
    "tags": []
   },
   "outputs": [],
   "source": [
    "test = pd.read_csv('../input/foursquare-location-matching/test.csv')"
   ]
  },
  {
   "cell_type": "code",
   "execution_count": 3,
   "id": "02986f8f",
   "metadata": {
    "execution": {
     "iopub.execute_input": "2022-06-30T21:38:15.552780Z",
     "iopub.status.busy": "2022-06-30T21:38:15.552401Z",
     "iopub.status.idle": "2022-06-30T21:38:15.564800Z",
     "shell.execute_reply": "2022-06-30T21:38:15.563966Z"
    },
    "papermill": {
     "duration": 0.022457,
     "end_time": "2022-06-30T21:38:15.567239",
     "exception": false,
     "start_time": "2022-06-30T21:38:15.544782",
     "status": "completed"
    },
    "tags": []
   },
   "outputs": [],
   "source": [
    "def create_match_by_pos(df, train = False, neighbour = 10):\n",
    "    # create data by nearest 10 neighbours, by train or test dataset\n",
    "    \n",
    "    if len(df) < neighbour:\n",
    "        neighbour = len(df)-1\n",
    "    neighbor = NearestNeighbors(n_neighbors=neighbour+1, metric=\"haversine\", n_jobs=-1) # haversine: 2 arcsin(sqrt(sin^2(0.5*dx) + cos(x1)cos(x2)sin^2(0.5*dy)))\n",
    "    position = df.iloc[:,2:4]\n",
    "    neighbor.fit(position)\n",
    "    #distance = neighbor.kneighbors(position)[0]\n",
    "    cloest_pos = neighbor.kneighbors(position)[1]\n",
    "    \n",
    "    df_combine = pd.DataFrame()\n",
    "    for i in range(1,neighbour+1):\n",
    "        df1 = df.loc[cloest_pos[:,0]]\n",
    "        df2 = df.loc[cloest_pos[:,i]]\n",
    "        for col in df1.columns:\n",
    "            df1.rename(columns={col: f\"{col}_1\"}, inplace = True)\n",
    "            df2.rename(columns={col: f\"{col}_2\"}, inplace = True)    \n",
    "        df2.reset_index(drop=True,inplace = True)\n",
    "        df_new = pd.concat([df1,df2], axis = 1)\n",
    "        if train == True:\n",
    "            df_new['match'] = df_new['point_of_interest_1'] == df_new['point_of_interest_2']\n",
    "            df_new.drop(columns=['point_of_interest_1', 'point_of_interest_2'], inplace = True)\n",
    "        df_combine = pd.concat([df_combine,df_new], axis = 0)\n",
    "    df_combine.reset_index(drop=True, inplace = True)\n",
    "    return df_combine"
   ]
  },
  {
   "cell_type": "code",
   "execution_count": 4,
   "id": "4098e596",
   "metadata": {
    "execution": {
     "iopub.execute_input": "2022-06-30T21:38:15.582857Z",
     "iopub.status.busy": "2022-06-30T21:38:15.582260Z",
     "iopub.status.idle": "2022-06-30T21:38:15.753836Z",
     "shell.execute_reply": "2022-06-30T21:38:15.752285Z"
    },
    "papermill": {
     "duration": 0.183205,
     "end_time": "2022-06-30T21:38:15.756869",
     "exception": false,
     "start_time": "2022-06-30T21:38:15.573664",
     "status": "completed"
    },
    "tags": []
   },
   "outputs": [],
   "source": [
    "test_pairs = create_match_by_pos(test)"
   ]
  },
  {
   "cell_type": "markdown",
   "id": "9cb9e7d1",
   "metadata": {
    "papermill": {
     "duration": 0.006699,
     "end_time": "2022-06-30T21:38:15.770125",
     "exception": false,
     "start_time": "2022-06-30T21:38:15.763426",
     "status": "completed"
    },
    "tags": []
   },
   "source": [
    "# Data Cleanning: categorical filling with '', numerical filling with 0"
   ]
  },
  {
   "cell_type": "code",
   "execution_count": 5,
   "id": "97771bf0",
   "metadata": {
    "execution": {
     "iopub.execute_input": "2022-06-30T21:38:15.785886Z",
     "iopub.status.busy": "2022-06-30T21:38:15.785095Z",
     "iopub.status.idle": "2022-06-30T21:38:15.800807Z",
     "shell.execute_reply": "2022-06-30T21:38:15.799297Z"
    },
    "papermill": {
     "duration": 0.02678,
     "end_time": "2022-06-30T21:38:15.803770",
     "exception": false,
     "start_time": "2022-06-30T21:38:15.776990",
     "status": "completed"
    },
    "tags": []
   },
   "outputs": [],
   "source": [
    "cat_col = test_pairs.select_dtypes(include = ['object']).columns\n",
    "test_pairs[cat_col] = test_pairs[cat_col].fillna('')"
   ]
  },
  {
   "cell_type": "markdown",
   "id": "6cc54a38",
   "metadata": {
    "papermill": {
     "duration": 0.006038,
     "end_time": "2022-06-30T21:38:15.816549",
     "exception": false,
     "start_time": "2022-06-30T21:38:15.810511",
     "status": "completed"
    },
    "tags": []
   },
   "source": [
    "Data preprocessing & Feature transformation:\n",
    "1. location (latitude, longtitude): finding the distance between two variables\n",
    "2. word preprocessing: remove url symbol, stop words removal"
   ]
  },
  {
   "cell_type": "code",
   "execution_count": 6,
   "id": "ab62052a",
   "metadata": {
    "execution": {
     "iopub.execute_input": "2022-06-30T21:38:15.831812Z",
     "iopub.status.busy": "2022-06-30T21:38:15.831159Z",
     "iopub.status.idle": "2022-06-30T21:38:15.843989Z",
     "shell.execute_reply": "2022-06-30T21:38:15.843011Z"
    },
    "papermill": {
     "duration": 0.023554,
     "end_time": "2022-06-30T21:38:15.846638",
     "exception": false,
     "start_time": "2022-06-30T21:38:15.823084",
     "status": "completed"
    },
    "tags": []
   },
   "outputs": [],
   "source": [
    "# 1. location\n",
    "def distance(lat1, lon1, lat2, lon2):\n",
    "    R = 6373.0\n",
    "    d_lon = lon2 - lon1; d_lat = lat2 - lat1\n",
    "    a = (np.sin(d_lat/2)) ** 2 + np.cos(lat1) * np.cos(lat2) * (np.sin(d_lon/2)) ** 2\n",
    "    c = 2 * np.arctan2(np.sqrt(a), np.sqrt(1-a))\n",
    "    distance = R * c\n",
    "    return distance\n",
    "\n",
    "# remove url\n",
    "def remove_URL(df,cols):\n",
    "    for col in cols:\n",
    "        df[col] = df[col].fillna('').apply(lambda x: re.sub(r\"http\\S+\", \"\", x))\n",
    "    return df\n",
    "\n",
    "# stop words removal\n",
    "\n",
    "def list_to_string(lis):\n",
    "    string = ''\n",
    "    for i in lis:\n",
    "        string += i\n",
    "        string += ' '\n",
    "    return string[:-1]\n",
    "\n",
    "def stop(string):\n",
    "    stops = set(stopwords.words('english'))\n",
    "    tokens = word_tokenize(string)\n",
    "    result = [i for i in tokens if not i in stops]\n",
    "    return result\n",
    "    \n",
    "def stop_remove(df,cols):\n",
    "    for col in cols:\n",
    "        df[col] = df[col].fillna('').apply(lambda x: stop(x))\n",
    "        df[col] = df[col].apply(lambda x: list_to_string(x))\n",
    "    return df"
   ]
  },
  {
   "cell_type": "code",
   "execution_count": 7,
   "id": "d11037dd",
   "metadata": {
    "execution": {
     "iopub.execute_input": "2022-06-30T21:38:15.861483Z",
     "iopub.status.busy": "2022-06-30T21:38:15.861082Z",
     "iopub.status.idle": "2022-06-30T21:38:15.953337Z",
     "shell.execute_reply": "2022-06-30T21:38:15.952147Z"
    },
    "papermill": {
     "duration": 0.103025,
     "end_time": "2022-06-30T21:38:15.956111",
     "exception": false,
     "start_time": "2022-06-30T21:38:15.853086",
     "status": "completed"
    },
    "tags": []
   },
   "outputs": [],
   "source": [
    "stop_columns = ['name_1','address_1','url_1','categories_1','name_2','address_2','url_2','categories_2']\n",
    "url_columns = ['url_1','url_2']\n",
    "test_pairs['distance'] = distance(test_pairs.latitude_1,test_pairs.longitude_1,test_pairs.latitude_2,test_pairs.longitude_2)\n",
    "test_pairs[url_columns] = remove_URL(test_pairs, url_columns)[url_columns]\n",
    "test_pairs[stop_columns] = stop_remove(test_pairs, stop_columns)[stop_columns]"
   ]
  },
  {
   "cell_type": "code",
   "execution_count": 8,
   "id": "4b652ad1",
   "metadata": {
    "execution": {
     "iopub.execute_input": "2022-06-30T21:38:15.971587Z",
     "iopub.status.busy": "2022-06-30T21:38:15.970976Z",
     "iopub.status.idle": "2022-06-30T21:38:15.977544Z",
     "shell.execute_reply": "2022-06-30T21:38:15.976649Z"
    },
    "papermill": {
     "duration": 0.017223,
     "end_time": "2022-06-30T21:38:15.979999",
     "exception": false,
     "start_time": "2022-06-30T21:38:15.962776",
     "status": "completed"
    },
    "tags": []
   },
   "outputs": [],
   "source": [
    "def fuzzy_similarity(df, cols_1, cols_2):\n",
    "    # length for cols_1 and cols_2 must be the same.\n",
    "    for i in range(len(cols_1)):\n",
    "        df[f\"{cols_1[i]}_fuzzy\"] = df.apply(lambda x: lev.ratio(x[cols_1[i]],x[cols_2[i]]), axis = 1)\n",
    "    return df    "
   ]
  },
  {
   "cell_type": "code",
   "execution_count": 9,
   "id": "a99246f9",
   "metadata": {
    "execution": {
     "iopub.execute_input": "2022-06-30T21:38:15.995863Z",
     "iopub.status.busy": "2022-06-30T21:38:15.995094Z",
     "iopub.status.idle": "2022-06-30T21:38:16.012226Z",
     "shell.execute_reply": "2022-06-30T21:38:16.011243Z"
    },
    "papermill": {
     "duration": 0.028126,
     "end_time": "2022-06-30T21:38:16.014805",
     "exception": false,
     "start_time": "2022-06-30T21:38:15.986679",
     "status": "completed"
    },
    "tags": []
   },
   "outputs": [],
   "source": [
    "col_1 = ['name_1','address_1','city_1','state_1','url_1','categories_1']\n",
    "col_2 = ['name_2','address_2','city_2','state_2','url_2','categories_2']\n",
    "test_pairs = fuzzy_similarity(test_pairs, col_1, col_2)"
   ]
  },
  {
   "cell_type": "markdown",
   "id": "bda12377",
   "metadata": {
    "papermill": {
     "duration": 0.006651,
     "end_time": "2022-06-30T21:38:16.028118",
     "exception": false,
     "start_time": "2022-06-30T21:38:16.021467",
     "status": "completed"
    },
    "tags": []
   },
   "source": [
    "Feature Selection"
   ]
  },
  {
   "cell_type": "code",
   "execution_count": 10,
   "id": "b291b532",
   "metadata": {
    "execution": {
     "iopub.execute_input": "2022-06-30T21:38:16.042479Z",
     "iopub.status.busy": "2022-06-30T21:38:16.042094Z",
     "iopub.status.idle": "2022-06-30T21:38:16.047867Z",
     "shell.execute_reply": "2022-06-30T21:38:16.046986Z"
    },
    "papermill": {
     "duration": 0.015464,
     "end_time": "2022-06-30T21:38:16.050003",
     "exception": false,
     "start_time": "2022-06-30T21:38:16.034539",
     "status": "completed"
    },
    "tags": []
   },
   "outputs": [],
   "source": [
    "cols = ['latitude_1','longitude_1','country_1','latitude_2','longitude_2','country_2','name_1_fuzzy', 'address_1_fuzzy', 'city_1_fuzzy',\n",
    "       'state_1_fuzzy', 'url_1_fuzzy', 'categories_1_fuzzy']\n",
    "ids = ['id_1','id_2']"
   ]
  },
  {
   "cell_type": "code",
   "execution_count": 11,
   "id": "f91c1c0f",
   "metadata": {
    "execution": {
     "iopub.execute_input": "2022-06-30T21:38:16.065453Z",
     "iopub.status.busy": "2022-06-30T21:38:16.064486Z",
     "iopub.status.idle": "2022-06-30T21:38:16.075271Z",
     "shell.execute_reply": "2022-06-30T21:38:16.074293Z"
    },
    "papermill": {
     "duration": 0.022251,
     "end_time": "2022-06-30T21:38:16.078580",
     "exception": false,
     "start_time": "2022-06-30T21:38:16.056329",
     "status": "completed"
    },
    "tags": []
   },
   "outputs": [
    {
     "name": "stderr",
     "output_type": "stream",
     "text": [
      "/opt/conda/lib/python3.7/site-packages/ipykernel_launcher.py:3: SettingWithCopyWarning: \n",
      "A value is trying to be set on a copy of a slice from a DataFrame.\n",
      "Try using .loc[row_indexer,col_indexer] = value instead\n",
      "\n",
      "See the caveats in the documentation: https://pandas.pydata.org/pandas-docs/stable/user_guide/indexing.html#returning-a-view-versus-a-copy\n",
      "  This is separate from the ipykernel package so we can avoid doing imports until\n"
     ]
    }
   ],
   "source": [
    "test_id = test_pairs[ids]\n",
    "test_X = test_pairs[cols]\n",
    "test_X['country_same'] = np.where(test_X['country_1'] == test_X['country_2'],1,0)\n",
    "del test_X['country_1'] \n",
    "del test_X['country_2']"
   ]
  },
  {
   "cell_type": "markdown",
   "id": "946322bd",
   "metadata": {
    "papermill": {
     "duration": 0.006198,
     "end_time": "2022-06-30T21:38:16.091448",
     "exception": false,
     "start_time": "2022-06-30T21:38:16.085250",
     "status": "completed"
    },
    "tags": []
   },
   "source": [
    "# model"
   ]
  },
  {
   "cell_type": "code",
   "execution_count": 12,
   "id": "695f719d",
   "metadata": {
    "execution": {
     "iopub.execute_input": "2022-06-30T21:38:16.107269Z",
     "iopub.status.busy": "2022-06-30T21:38:16.106522Z",
     "iopub.status.idle": "2022-06-30T21:38:16.128507Z",
     "shell.execute_reply": "2022-06-30T21:38:16.127249Z"
    },
    "papermill": {
     "duration": 0.033283,
     "end_time": "2022-06-30T21:38:16.131279",
     "exception": false,
     "start_time": "2022-06-30T21:38:16.097996",
     "status": "completed"
    },
    "tags": []
   },
   "outputs": [
    {
     "name": "stderr",
     "output_type": "stream",
     "text": [
      "/opt/conda/lib/python3.7/site-packages/pandas/core/frame.py:3678: SettingWithCopyWarning: \n",
      "A value is trying to be set on a copy of a slice from a DataFrame.\n",
      "Try using .loc[row_indexer,col_indexer] = value instead\n",
      "\n",
      "See the caveats in the documentation: https://pandas.pydata.org/pandas-docs/stable/user_guide/indexing.html#returning-a-view-versus-a-copy\n",
      "  self[col] = igetitem(value, i)\n"
     ]
    }
   ],
   "source": [
    "# load robust scaler\n",
    "col_scaler = ['latitude_1','longitude_1','latitude_2','longitude_2']\n",
    "X_transform = test_X[col_scaler]\n",
    "scaler = load(open('../input/fourpoints-location-matching/scaler.pkl', 'rb'))\n",
    "test_X[col_scaler] = scaler.transform(X_transform)"
   ]
  },
  {
   "cell_type": "code",
   "execution_count": 13,
   "id": "24f3b47a",
   "metadata": {
    "execution": {
     "iopub.execute_input": "2022-06-30T21:38:16.146409Z",
     "iopub.status.busy": "2022-06-30T21:38:16.145450Z",
     "iopub.status.idle": "2022-06-30T21:38:16.209080Z",
     "shell.execute_reply": "2022-06-30T21:38:16.208096Z"
    },
    "papermill": {
     "duration": 0.0744,
     "end_time": "2022-06-30T21:38:16.212156",
     "exception": false,
     "start_time": "2022-06-30T21:38:16.137756",
     "status": "completed"
    },
    "tags": []
   },
   "outputs": [],
   "source": [
    "# load xgboost\n",
    "xgb = XGBClassifier()\n",
    "xgb.load_model(\"../input/fourpoints-location-matching/model.json\")"
   ]
  },
  {
   "cell_type": "code",
   "execution_count": 14,
   "id": "4431f47a",
   "metadata": {
    "execution": {
     "iopub.execute_input": "2022-06-30T21:38:16.227370Z",
     "iopub.status.busy": "2022-06-30T21:38:16.226964Z",
     "iopub.status.idle": "2022-06-30T21:38:16.239390Z",
     "shell.execute_reply": "2022-06-30T21:38:16.238409Z"
    },
    "papermill": {
     "duration": 0.023261,
     "end_time": "2022-06-30T21:38:16.242402",
     "exception": false,
     "start_time": "2022-06-30T21:38:16.219141",
     "status": "completed"
    },
    "tags": []
   },
   "outputs": [],
   "source": [
    "# predict\n",
    "test_y = xgb.predict(test_X)"
   ]
  },
  {
   "cell_type": "code",
   "execution_count": 15,
   "id": "990ffa82",
   "metadata": {
    "execution": {
     "iopub.execute_input": "2022-06-30T21:38:16.259065Z",
     "iopub.status.busy": "2022-06-30T21:38:16.258612Z",
     "iopub.status.idle": "2022-06-30T21:38:16.265053Z",
     "shell.execute_reply": "2022-06-30T21:38:16.264154Z"
    },
    "papermill": {
     "duration": 0.017485,
     "end_time": "2022-06-30T21:38:16.267580",
     "exception": false,
     "start_time": "2022-06-30T21:38:16.250095",
     "status": "completed"
    },
    "tags": []
   },
   "outputs": [
    {
     "name": "stderr",
     "output_type": "stream",
     "text": [
      "/opt/conda/lib/python3.7/site-packages/ipykernel_launcher.py:2: SettingWithCopyWarning: \n",
      "A value is trying to be set on a copy of a slice from a DataFrame.\n",
      "Try using .loc[row_indexer,col_indexer] = value instead\n",
      "\n",
      "See the caveats in the documentation: https://pandas.pydata.org/pandas-docs/stable/user_guide/indexing.html#returning-a-view-versus-a-copy\n",
      "  \n"
     ]
    }
   ],
   "source": [
    "test_pairs_final = test_id\n",
    "test_pairs_final['match'] = test_y\n",
    "test_id_unique = test['id']"
   ]
  },
  {
   "cell_type": "code",
   "execution_count": 16,
   "id": "c710c021",
   "metadata": {
    "execution": {
     "iopub.execute_input": "2022-06-30T21:38:16.282892Z",
     "iopub.status.busy": "2022-06-30T21:38:16.282178Z",
     "iopub.status.idle": "2022-06-30T21:38:16.289055Z",
     "shell.execute_reply": "2022-06-30T21:38:16.288065Z"
    },
    "papermill": {
     "duration": 0.017686,
     "end_time": "2022-06-30T21:38:16.291832",
     "exception": false,
     "start_time": "2022-06-30T21:38:16.274146",
     "status": "completed"
    },
    "tags": []
   },
   "outputs": [],
   "source": [
    "def id_match(test_id_unique, test_pairs_final):\n",
    "    match_list = []\n",
    "    for id in test_id_unique:\n",
    "        id_pairs = test_pairs_final[test_pairs_final.id_1 == id]\n",
    "        success_pairs = id_pairs[id_pairs['match'] == 1]\n",
    "        if len(success_pairs) == 0:\n",
    "            matches = id\n",
    "        else:\n",
    "            matches = ' '.join([id] + success_pairs.id_2.tolist())\n",
    "        match_list += [matches]\n",
    "    return match_list"
   ]
  },
  {
   "cell_type": "code",
   "execution_count": 17,
   "id": "e9cfd9d5",
   "metadata": {
    "execution": {
     "iopub.execute_input": "2022-06-30T21:38:16.306804Z",
     "iopub.status.busy": "2022-06-30T21:38:16.306386Z",
     "iopub.status.idle": "2022-06-30T21:38:16.335720Z",
     "shell.execute_reply": "2022-06-30T21:38:16.334894Z"
    },
    "papermill": {
     "duration": 0.039694,
     "end_time": "2022-06-30T21:38:16.338106",
     "exception": false,
     "start_time": "2022-06-30T21:38:16.298412",
     "status": "completed"
    },
    "tags": []
   },
   "outputs": [
    {
     "data": {
      "text/html": [
       "<div>\n",
       "<style scoped>\n",
       "    .dataframe tbody tr th:only-of-type {\n",
       "        vertical-align: middle;\n",
       "    }\n",
       "\n",
       "    .dataframe tbody tr th {\n",
       "        vertical-align: top;\n",
       "    }\n",
       "\n",
       "    .dataframe thead th {\n",
       "        text-align: right;\n",
       "    }\n",
       "</style>\n",
       "<table border=\"1\" class=\"dataframe\">\n",
       "  <thead>\n",
       "    <tr style=\"text-align: right;\">\n",
       "      <th></th>\n",
       "      <th>id</th>\n",
       "      <th>matches</th>\n",
       "    </tr>\n",
       "  </thead>\n",
       "  <tbody>\n",
       "    <tr>\n",
       "      <th>0</th>\n",
       "      <td>E_00001118ad0191</td>\n",
       "      <td>E_00001118ad0191 E_001b6bad66eb98 E_0283d9f61e...</td>\n",
       "    </tr>\n",
       "    <tr>\n",
       "      <th>1</th>\n",
       "      <td>E_000020eb6fed40</td>\n",
       "      <td>E_000020eb6fed40 E_00001118ad0191 E_001b6bad66...</td>\n",
       "    </tr>\n",
       "    <tr>\n",
       "      <th>2</th>\n",
       "      <td>E_00002f98667edf</td>\n",
       "      <td>E_00002f98667edf E_00001118ad0191 E_0283d9f61e...</td>\n",
       "    </tr>\n",
       "    <tr>\n",
       "      <th>3</th>\n",
       "      <td>E_001b6bad66eb98</td>\n",
       "      <td>E_001b6bad66eb98 E_0283d9f61e569d E_00001118ad...</td>\n",
       "    </tr>\n",
       "    <tr>\n",
       "      <th>4</th>\n",
       "      <td>E_0283d9f61e569d</td>\n",
       "      <td>E_0283d9f61e569d E_001b6bad66eb98 E_00001118ad...</td>\n",
       "    </tr>\n",
       "  </tbody>\n",
       "</table>\n",
       "</div>"
      ],
      "text/plain": [
       "                 id                                            matches\n",
       "0  E_00001118ad0191  E_00001118ad0191 E_001b6bad66eb98 E_0283d9f61e...\n",
       "1  E_000020eb6fed40  E_000020eb6fed40 E_00001118ad0191 E_001b6bad66...\n",
       "2  E_00002f98667edf  E_00002f98667edf E_00001118ad0191 E_0283d9f61e...\n",
       "3  E_001b6bad66eb98  E_001b6bad66eb98 E_0283d9f61e569d E_00001118ad...\n",
       "4  E_0283d9f61e569d  E_0283d9f61e569d E_001b6bad66eb98 E_00001118ad..."
      ]
     },
     "execution_count": 17,
     "metadata": {},
     "output_type": "execute_result"
    }
   ],
   "source": [
    "match = id_match(test_id_unique, test_pairs_final)\n",
    "submission = pd.DataFrame({'id':test['id'],'matches':match})\n",
    "submission.to_csv(\"submission.csv\", index=False)\n",
    "submission.head()"
   ]
  }
 ],
 "metadata": {
  "kernelspec": {
   "display_name": "Python 3",
   "language": "python",
   "name": "python3"
  },
  "language_info": {
   "codemirror_mode": {
    "name": "ipython",
    "version": 3
   },
   "file_extension": ".py",
   "mimetype": "text/x-python",
   "name": "python",
   "nbconvert_exporter": "python",
   "pygments_lexer": "ipython3",
   "version": "3.7.12"
  },
  "papermill": {
   "default_parameters": {},
   "duration": 15.456676,
   "end_time": "2022-06-30T21:38:17.166236",
   "environment_variables": {},
   "exception": null,
   "input_path": "__notebook__.ipynb",
   "output_path": "__notebook__.ipynb",
   "parameters": {},
   "start_time": "2022-06-30T21:38:01.709560",
   "version": "2.3.4"
  }
 },
 "nbformat": 4,
 "nbformat_minor": 5
}
