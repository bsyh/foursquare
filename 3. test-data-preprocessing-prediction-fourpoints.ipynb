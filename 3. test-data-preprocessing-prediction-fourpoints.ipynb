{
 "cells": [
  {
   "cell_type": "code",
   "execution_count": 1,
   "id": "6e791c36",
   "metadata": {
    "_cell_guid": "b1076dfc-b9ad-4769-8c92-a6c4dae69d19",
    "_uuid": "8f2839f25d086af736a60e9eeb907d3b93b6e0e5",
    "execution": {
     "iopub.execute_input": "2022-07-01T15:10:24.111120Z",
     "iopub.status.busy": "2022-07-01T15:10:24.110417Z",
     "iopub.status.idle": "2022-07-01T15:10:26.022241Z",
     "shell.execute_reply": "2022-07-01T15:10:26.021037Z"
    },
    "papermill": {
     "duration": 1.924504,
     "end_time": "2022-07-01T15:10:26.024963",
     "exception": false,
     "start_time": "2022-07-01T15:10:24.100459",
     "status": "completed"
    },
    "tags": []
   },
   "outputs": [],
   "source": [
    "import pandas as pd\n",
    "import numpy as np\n",
    "from sklearn.neighbors import NearestNeighbors\n",
    "from sklearn.feature_extraction.text import TfidfVectorizer\n",
    "\n",
    "from geopy.geocoders import Nominatim\n",
    "\n",
    "import re\n",
    "import string\n",
    "from nltk.tokenize import word_tokenize\n",
    "from nltk.corpus import stopwords, wordnet as wn\n",
    "from nltk.stem import PorterStemmer, WordNetLemmatizer\n",
    "\n",
    "import Levenshtein as lev\n",
    "import math\n",
    "from collections import Counter\n",
    "\n",
    "from sklearn.preprocessing import RobustScaler\n",
    "from sklearn.model_selection import cross_val_score\n",
    "\n",
    "from xgboost import XGBClassifier\n",
    "from pickle import dump, load\n",
    "import time\n",
    "from sklearn.neighbors import BallTree\n",
    "import itertools"
   ]
  },
  {
   "cell_type": "markdown",
   "id": "52256cdb",
   "metadata": {
    "papermill": {
     "duration": 0.006842,
     "end_time": "2022-07-01T15:10:26.038906",
     "exception": false,
     "start_time": "2022-07-01T15:10:26.032064",
     "status": "completed"
    },
    "tags": []
   },
   "source": [
    "# Generate test pairs dataset"
   ]
  },
  {
   "cell_type": "code",
   "execution_count": 2,
   "id": "642734bf",
   "metadata": {
    "execution": {
     "iopub.execute_input": "2022-07-01T15:10:26.055383Z",
     "iopub.status.busy": "2022-07-01T15:10:26.054467Z",
     "iopub.status.idle": "2022-07-01T15:10:26.070131Z",
     "shell.execute_reply": "2022-07-01T15:10:26.069146Z"
    },
    "papermill": {
     "duration": 0.026839,
     "end_time": "2022-07-01T15:10:26.072675",
     "exception": false,
     "start_time": "2022-07-01T15:10:26.045836",
     "status": "completed"
    },
    "tags": []
   },
   "outputs": [],
   "source": [
    "test = pd.read_csv('../input/foursquare-location-matching/test.csv')\n",
    "#test = pd.read_csv('../input/foursquare-location-matching/train.csv').iloc[:,:-1]"
   ]
  },
  {
   "cell_type": "code",
   "execution_count": 3,
   "id": "fa5c2237",
   "metadata": {
    "execution": {
     "iopub.execute_input": "2022-07-01T15:10:26.088879Z",
     "iopub.status.busy": "2022-07-01T15:10:26.088155Z",
     "iopub.status.idle": "2022-07-01T15:10:26.095980Z",
     "shell.execute_reply": "2022-07-01T15:10:26.095258Z"
    },
    "papermill": {
     "duration": 0.018092,
     "end_time": "2022-07-01T15:10:26.098092",
     "exception": false,
     "start_time": "2022-07-01T15:10:26.080000",
     "status": "completed"
    },
    "tags": []
   },
   "outputs": [
    {
     "data": {
      "text/plain": [
       "(5, 12)"
      ]
     },
     "execution_count": 3,
     "metadata": {},
     "output_type": "execute_result"
    }
   ],
   "source": [
    "test.shape"
   ]
  },
  {
   "cell_type": "code",
   "execution_count": 4,
   "id": "dd960535",
   "metadata": {
    "execution": {
     "iopub.execute_input": "2022-07-01T15:10:26.114555Z",
     "iopub.status.busy": "2022-07-01T15:10:26.113903Z",
     "iopub.status.idle": "2022-07-01T15:10:26.122928Z",
     "shell.execute_reply": "2022-07-01T15:10:26.121884Z"
    },
    "papermill": {
     "duration": 0.020028,
     "end_time": "2022-07-01T15:10:26.125256",
     "exception": false,
     "start_time": "2022-07-01T15:10:26.105228",
     "status": "completed"
    },
    "tags": []
   },
   "outputs": [],
   "source": [
    "def create_match_loc(test, neighbour = 10):\n",
    "    if len(test) < neighbour:\n",
    "        neighbour = len(test)\n",
    "    tree = BallTree(np.deg2rad(test[['latitude', 'longitude']].values), metric='haversine')\n",
    "    \n",
    "    dist, ind = tree.query(np.deg2rad(test[['latitude', 'longitude']].values), k=neighbour)\n",
    "    ind = ind.squeeze()\n",
    "    test_col = test.columns.tolist()\n",
    "    combine_col = [str + '_1' for str in test_col] + [str + '_2' for str in test_col]\n",
    "    df_combine = pd.DataFrame(np.concatenate([\n",
    "                np.repeat(np.array(test), neighbour, axis = 0),\n",
    "                test.iloc[list(itertools.chain.from_iterable(ind.tolist())),:]\n",
    "               ], axis=1))    \n",
    "    df_combine.columns = combine_col\n",
    "    return df_combine                          "
   ]
  },
  {
   "cell_type": "code",
   "execution_count": 5,
   "id": "7cf3c0a7",
   "metadata": {
    "execution": {
     "iopub.execute_input": "2022-07-01T15:10:26.140767Z",
     "iopub.status.busy": "2022-07-01T15:10:26.140379Z",
     "iopub.status.idle": "2022-07-01T15:10:26.160731Z",
     "shell.execute_reply": "2022-07-01T15:10:26.159362Z"
    },
    "papermill": {
     "duration": 0.030875,
     "end_time": "2022-07-01T15:10:26.163025",
     "exception": false,
     "start_time": "2022-07-01T15:10:26.132150",
     "status": "completed"
    },
    "tags": []
   },
   "outputs": [
    {
     "name": "stdout",
     "output_type": "stream",
     "text": [
      "--- 0.014561176300048828 seconds ---\n"
     ]
    }
   ],
   "source": [
    "start_time = time.time()\n",
    "create_match_loc(test)\n",
    "print(\"--- %s seconds ---\" % (time.time() - start_time))"
   ]
  },
  {
   "cell_type": "markdown",
   "id": "a05ddf69",
   "metadata": {
    "execution": {
     "iopub.execute_input": "2022-07-01T14:30:32.598175Z",
     "iopub.status.busy": "2022-07-01T14:30:32.597688Z",
     "iopub.status.idle": "2022-07-01T14:30:32.611709Z",
     "shell.execute_reply": "2022-07-01T14:30:32.610685Z",
     "shell.execute_reply.started": "2022-07-01T14:30:32.598137Z"
    },
    "papermill": {
     "duration": 0.006653,
     "end_time": "2022-07-01T15:10:26.176702",
     "exception": false,
     "start_time": "2022-07-01T15:10:26.170049",
     "status": "completed"
    },
    "tags": []
   },
   "source": [
    "# old function\n",
    "\n",
    "def create_match_by_pos(df, train = False, neighbour = 10):\n",
    "    # create data by nearest 10 neighbours, by train or test dataset\n",
    "    \n",
    "    if len(df) < neighbour:\n",
    "        neighbour = len(df)-1\n",
    "    neighbor = NearestNeighbors(n_neighbors=neighbour+1, metric=\"haversine\", n_jobs=-1) # haversine: 2 arcsin(sqrt(sin^2(0.5*dx) + cos(x1)cos(x2)sin^2(0.5*dy)))\n",
    "    position = df.iloc[:,2:4]\n",
    "    neighbor.fit(position)\n",
    "    #distance = neighbor.kneighbors(position)[0]\n",
    "    cloest_pos = neighbor.kneighbors(position)[1]\n",
    "    \n",
    "    df_combine = pd.DataFrame()\n",
    "    for i in range(1,neighbour+1):\n",
    "        df1 = df.loc[cloest_pos[:,0]]\n",
    "        df2 = df.loc[cloest_pos[:,i]]\n",
    "        for col in df1.columns:\n",
    "            df1.rename(columns={col: f\"{col}_1\"}, inplace = True)\n",
    "            df2.rename(columns={col: f\"{col}_2\"}, inplace = True)    \n",
    "        df2.reset_index(drop=True,inplace = True)\n",
    "        df_new = pd.concat([df1,df2], axis = 1)\n",
    "        if train == True:\n",
    "            df_new['match'] = df_new['point_of_interest_1'] == df_new['point_of_interest_2']\n",
    "            df_new.drop(columns=['point_of_interest_1', 'point_of_interest_2'], inplace = True)\n",
    "        df_combine = pd.concat([df_combine,df_new], axis = 0)\n",
    "    df_combine.reset_index(drop=True, inplace = True)\n",
    "    return df_combine"
   ]
  },
  {
   "cell_type": "code",
   "execution_count": 6,
   "id": "ad0176ae",
   "metadata": {
    "execution": {
     "iopub.execute_input": "2022-07-01T15:10:26.192445Z",
     "iopub.status.busy": "2022-07-01T15:10:26.191714Z",
     "iopub.status.idle": "2022-07-01T15:10:26.200207Z",
     "shell.execute_reply": "2022-07-01T15:10:26.199462Z"
    },
    "papermill": {
     "duration": 0.018832,
     "end_time": "2022-07-01T15:10:26.202443",
     "exception": false,
     "start_time": "2022-07-01T15:10:26.183611",
     "status": "completed"
    },
    "tags": []
   },
   "outputs": [],
   "source": [
    "test_pairs = create_match_loc(test, neighbour = 2)"
   ]
  },
  {
   "cell_type": "markdown",
   "id": "63639a42",
   "metadata": {
    "papermill": {
     "duration": 0.006498,
     "end_time": "2022-07-01T15:10:26.215887",
     "exception": false,
     "start_time": "2022-07-01T15:10:26.209389",
     "status": "completed"
    },
    "tags": []
   },
   "source": [
    "# Data Cleanning: categorical filling with '', numerical filling with 0"
   ]
  },
  {
   "cell_type": "code",
   "execution_count": 7,
   "id": "a3d6956b",
   "metadata": {
    "execution": {
     "iopub.execute_input": "2022-07-01T15:10:26.231368Z",
     "iopub.status.busy": "2022-07-01T15:10:26.230707Z",
     "iopub.status.idle": "2022-07-01T15:10:26.247560Z",
     "shell.execute_reply": "2022-07-01T15:10:26.246762Z"
    },
    "papermill": {
     "duration": 0.027289,
     "end_time": "2022-07-01T15:10:26.249930",
     "exception": false,
     "start_time": "2022-07-01T15:10:26.222641",
     "status": "completed"
    },
    "tags": []
   },
   "outputs": [],
   "source": [
    "cat_col = test_pairs.select_dtypes(include = ['object']).columns\n",
    "test_pairs[cat_col] = test_pairs[cat_col].fillna('')"
   ]
  },
  {
   "cell_type": "markdown",
   "id": "3802aafa",
   "metadata": {
    "papermill": {
     "duration": 0.007202,
     "end_time": "2022-07-01T15:10:26.264159",
     "exception": false,
     "start_time": "2022-07-01T15:10:26.256957",
     "status": "completed"
    },
    "tags": []
   },
   "source": [
    "Data preprocessing & Feature transformation:\n",
    "1. location (latitude, longtitude): finding the distance between two variables\n",
    "2. word preprocessing: remove url symbol, stop words removal"
   ]
  },
  {
   "cell_type": "code",
   "execution_count": 8,
   "id": "917e4e96",
   "metadata": {
    "execution": {
     "iopub.execute_input": "2022-07-01T15:10:26.280667Z",
     "iopub.status.busy": "2022-07-01T15:10:26.279903Z",
     "iopub.status.idle": "2022-07-01T15:10:26.292051Z",
     "shell.execute_reply": "2022-07-01T15:10:26.291147Z"
    },
    "papermill": {
     "duration": 0.022875,
     "end_time": "2022-07-01T15:10:26.294295",
     "exception": false,
     "start_time": "2022-07-01T15:10:26.271420",
     "status": "completed"
    },
    "tags": []
   },
   "outputs": [],
   "source": [
    "# 1. location\n",
    "def distance(lat1, lon1, lat2, lon2):\n",
    "    R = 6373.0\n",
    "    d_lon = lon2 - lon1; d_lat = lat2 - lat1\n",
    "    a = (np.sin(d_lat/2)) ** 2 + np.cos(lat1) * np.cos(lat2) * (np.sin(d_lon/2)) ** 2\n",
    "    c = 2 * np.arctan2(np.sqrt(a), np.sqrt(1-a))\n",
    "    distance = R * c\n",
    "    return distance\n",
    "\n",
    "# remove url\n",
    "def remove_URL(df,cols):\n",
    "    for col in cols:\n",
    "        df[col] = df[col].fillna('').apply(lambda x: re.sub(r\"http\\S+\", \"\", x))\n",
    "    return df\n",
    "\n",
    "# stop words removal\n",
    "\n",
    "def list_to_string(lis):\n",
    "    string = ''\n",
    "    for i in lis:\n",
    "        string += i\n",
    "        string += ' '\n",
    "    return string[:-1]\n",
    "\n",
    "def stop(string):\n",
    "    stops = set(stopwords.words('english'))\n",
    "    tokens = word_tokenize(string)\n",
    "    result = [i for i in tokens if not i in stops]\n",
    "    return result\n",
    "    \n",
    "def stop_remove(df,cols):\n",
    "    for col in cols:\n",
    "        df[col] = df[col].fillna('').apply(lambda x: stop(x))\n",
    "        df[col] = df[col].apply(lambda x: list_to_string(x))\n",
    "    return df"
   ]
  },
  {
   "cell_type": "code",
   "execution_count": 9,
   "id": "c6d4118e",
   "metadata": {
    "execution": {
     "iopub.execute_input": "2022-07-01T15:10:26.310338Z",
     "iopub.status.busy": "2022-07-01T15:10:26.309673Z",
     "iopub.status.idle": "2022-07-01T15:10:26.370727Z",
     "shell.execute_reply": "2022-07-01T15:10:26.369614Z"
    },
    "papermill": {
     "duration": 0.072075,
     "end_time": "2022-07-01T15:10:26.373256",
     "exception": false,
     "start_time": "2022-07-01T15:10:26.301181",
     "status": "completed"
    },
    "tags": []
   },
   "outputs": [],
   "source": [
    "stop_columns = ['name_1','address_1','url_1','categories_1','name_2','address_2','url_2','categories_2']\n",
    "url_columns = ['url_1','url_2']\n",
    "test_pairs['distance'] = distance(test_pairs.latitude_1,test_pairs.longitude_1,test_pairs.latitude_2,test_pairs.longitude_2)\n",
    "test_pairs[url_columns] = remove_URL(test_pairs, url_columns)[url_columns]\n",
    "test_pairs[stop_columns] = stop_remove(test_pairs, stop_columns)[stop_columns]"
   ]
  },
  {
   "cell_type": "code",
   "execution_count": 10,
   "id": "f6fe00e1",
   "metadata": {
    "execution": {
     "iopub.execute_input": "2022-07-01T15:10:26.389394Z",
     "iopub.status.busy": "2022-07-01T15:10:26.389007Z",
     "iopub.status.idle": "2022-07-01T15:10:26.395028Z",
     "shell.execute_reply": "2022-07-01T15:10:26.394019Z"
    },
    "papermill": {
     "duration": 0.016611,
     "end_time": "2022-07-01T15:10:26.397112",
     "exception": false,
     "start_time": "2022-07-01T15:10:26.380501",
     "status": "completed"
    },
    "tags": []
   },
   "outputs": [],
   "source": [
    "def fuzzy_similarity(df, cols_1, cols_2):\n",
    "    # length for cols_1 and cols_2 must be the same.\n",
    "    for i in range(len(cols_1)):\n",
    "        df[f\"{cols_1[i]}_fuzzy\"] = df.apply(lambda x: lev.ratio(x[cols_1[i]],x[cols_2[i]]), axis = 1)\n",
    "    return df    "
   ]
  },
  {
   "cell_type": "code",
   "execution_count": 11,
   "id": "3451b55f",
   "metadata": {
    "execution": {
     "iopub.execute_input": "2022-07-01T15:10:26.413500Z",
     "iopub.status.busy": "2022-07-01T15:10:26.412888Z",
     "iopub.status.idle": "2022-07-01T15:10:26.426246Z",
     "shell.execute_reply": "2022-07-01T15:10:26.425094Z"
    },
    "papermill": {
     "duration": 0.024751,
     "end_time": "2022-07-01T15:10:26.428762",
     "exception": false,
     "start_time": "2022-07-01T15:10:26.404011",
     "status": "completed"
    },
    "tags": []
   },
   "outputs": [],
   "source": [
    "col_1 = ['name_1','address_1','city_1','state_1','url_1','categories_1']\n",
    "col_2 = ['name_2','address_2','city_2','state_2','url_2','categories_2']\n",
    "test_pairs = fuzzy_similarity(test_pairs, col_1, col_2)"
   ]
  },
  {
   "cell_type": "markdown",
   "id": "5f713dee",
   "metadata": {
    "papermill": {
     "duration": 0.006974,
     "end_time": "2022-07-01T15:10:26.442826",
     "exception": false,
     "start_time": "2022-07-01T15:10:26.435852",
     "status": "completed"
    },
    "tags": []
   },
   "source": [
    "Feature Selection"
   ]
  },
  {
   "cell_type": "code",
   "execution_count": 12,
   "id": "76c4705e",
   "metadata": {
    "execution": {
     "iopub.execute_input": "2022-07-01T15:10:26.460058Z",
     "iopub.status.busy": "2022-07-01T15:10:26.459310Z",
     "iopub.status.idle": "2022-07-01T15:10:26.464962Z",
     "shell.execute_reply": "2022-07-01T15:10:26.463998Z"
    },
    "papermill": {
     "duration": 0.016635,
     "end_time": "2022-07-01T15:10:26.467271",
     "exception": false,
     "start_time": "2022-07-01T15:10:26.450636",
     "status": "completed"
    },
    "tags": []
   },
   "outputs": [],
   "source": [
    "cols = ['latitude_1','longitude_1','country_1','latitude_2','longitude_2','country_2','name_1_fuzzy', 'address_1_fuzzy', 'city_1_fuzzy',\n",
    "       'state_1_fuzzy', 'url_1_fuzzy', 'categories_1_fuzzy']\n",
    "ids = ['id_1','id_2']"
   ]
  },
  {
   "cell_type": "code",
   "execution_count": 13,
   "id": "be578e00",
   "metadata": {
    "execution": {
     "iopub.execute_input": "2022-07-01T15:10:26.483829Z",
     "iopub.status.busy": "2022-07-01T15:10:26.483100Z",
     "iopub.status.idle": "2022-07-01T15:10:26.493795Z",
     "shell.execute_reply": "2022-07-01T15:10:26.492305Z"
    },
    "papermill": {
     "duration": 0.021776,
     "end_time": "2022-07-01T15:10:26.496162",
     "exception": false,
     "start_time": "2022-07-01T15:10:26.474386",
     "status": "completed"
    },
    "tags": []
   },
   "outputs": [
    {
     "name": "stderr",
     "output_type": "stream",
     "text": [
      "/opt/conda/lib/python3.7/site-packages/ipykernel_launcher.py:3: SettingWithCopyWarning: \n",
      "A value is trying to be set on a copy of a slice from a DataFrame.\n",
      "Try using .loc[row_indexer,col_indexer] = value instead\n",
      "\n",
      "See the caveats in the documentation: https://pandas.pydata.org/pandas-docs/stable/user_guide/indexing.html#returning-a-view-versus-a-copy\n",
      "  This is separate from the ipykernel package so we can avoid doing imports until\n"
     ]
    }
   ],
   "source": [
    "test_id = test_pairs[ids]\n",
    "test_X = test_pairs[cols]\n",
    "test_X['country_same'] = np.where(test_X['country_1'] == test_X['country_2'],1,0)\n",
    "del test_X['country_1'] \n",
    "del test_X['country_2']"
   ]
  },
  {
   "cell_type": "markdown",
   "id": "fdd1441d",
   "metadata": {
    "papermill": {
     "duration": 0.00711,
     "end_time": "2022-07-01T15:10:26.510355",
     "exception": false,
     "start_time": "2022-07-01T15:10:26.503245",
     "status": "completed"
    },
    "tags": []
   },
   "source": [
    "# model"
   ]
  },
  {
   "cell_type": "code",
   "execution_count": 14,
   "id": "92b4d4bf",
   "metadata": {
    "execution": {
     "iopub.execute_input": "2022-07-01T15:10:26.527117Z",
     "iopub.status.busy": "2022-07-01T15:10:26.526455Z",
     "iopub.status.idle": "2022-07-01T15:10:26.549203Z",
     "shell.execute_reply": "2022-07-01T15:10:26.547998Z"
    },
    "papermill": {
     "duration": 0.035168,
     "end_time": "2022-07-01T15:10:26.552861",
     "exception": false,
     "start_time": "2022-07-01T15:10:26.517693",
     "status": "completed"
    },
    "tags": []
   },
   "outputs": [
    {
     "name": "stderr",
     "output_type": "stream",
     "text": [
      "/opt/conda/lib/python3.7/site-packages/pandas/core/frame.py:3678: SettingWithCopyWarning: \n",
      "A value is trying to be set on a copy of a slice from a DataFrame.\n",
      "Try using .loc[row_indexer,col_indexer] = value instead\n",
      "\n",
      "See the caveats in the documentation: https://pandas.pydata.org/pandas-docs/stable/user_guide/indexing.html#returning-a-view-versus-a-copy\n",
      "  self[col] = igetitem(value, i)\n"
     ]
    }
   ],
   "source": [
    "# load robust scaler\n",
    "col_scaler = ['latitude_1','longitude_1','latitude_2','longitude_2']\n",
    "X_transform = test_X[col_scaler]\n",
    "scaler = load(open('../input/fourpoints-location-matching/scaler.pkl', 'rb'))\n",
    "test_X[col_scaler] = scaler.transform(X_transform)"
   ]
  },
  {
   "cell_type": "code",
   "execution_count": 15,
   "id": "63c0a777",
   "metadata": {
    "execution": {
     "iopub.execute_input": "2022-07-01T15:10:26.570007Z",
     "iopub.status.busy": "2022-07-01T15:10:26.569555Z",
     "iopub.status.idle": "2022-07-01T15:10:26.644322Z",
     "shell.execute_reply": "2022-07-01T15:10:26.643283Z"
    },
    "papermill": {
     "duration": 0.086137,
     "end_time": "2022-07-01T15:10:26.647068",
     "exception": false,
     "start_time": "2022-07-01T15:10:26.560931",
     "status": "completed"
    },
    "tags": []
   },
   "outputs": [],
   "source": [
    "# load xgboost\n",
    "xgb = XGBClassifier()\n",
    "xgb.load_model(\"../input/fourpoints-location-matching/model.json\")"
   ]
  },
  {
   "cell_type": "code",
   "execution_count": 16,
   "id": "d2d3eddd",
   "metadata": {
    "execution": {
     "iopub.execute_input": "2022-07-01T15:10:26.664170Z",
     "iopub.status.busy": "2022-07-01T15:10:26.663460Z",
     "iopub.status.idle": "2022-07-01T15:10:26.675836Z",
     "shell.execute_reply": "2022-07-01T15:10:26.674925Z"
    },
    "papermill": {
     "duration": 0.02387,
     "end_time": "2022-07-01T15:10:26.678707",
     "exception": false,
     "start_time": "2022-07-01T15:10:26.654837",
     "status": "completed"
    },
    "tags": []
   },
   "outputs": [],
   "source": [
    "# predict\n",
    "test_y = xgb.predict(test_X)"
   ]
  },
  {
   "cell_type": "code",
   "execution_count": 17,
   "id": "2f437ce5",
   "metadata": {
    "execution": {
     "iopub.execute_input": "2022-07-01T15:10:26.697396Z",
     "iopub.status.busy": "2022-07-01T15:10:26.696966Z",
     "iopub.status.idle": "2022-07-01T15:10:26.703721Z",
     "shell.execute_reply": "2022-07-01T15:10:26.702366Z"
    },
    "papermill": {
     "duration": 0.019865,
     "end_time": "2022-07-01T15:10:26.707169",
     "exception": false,
     "start_time": "2022-07-01T15:10:26.687304",
     "status": "completed"
    },
    "tags": []
   },
   "outputs": [
    {
     "name": "stderr",
     "output_type": "stream",
     "text": [
      "/opt/conda/lib/python3.7/site-packages/ipykernel_launcher.py:2: SettingWithCopyWarning: \n",
      "A value is trying to be set on a copy of a slice from a DataFrame.\n",
      "Try using .loc[row_indexer,col_indexer] = value instead\n",
      "\n",
      "See the caveats in the documentation: https://pandas.pydata.org/pandas-docs/stable/user_guide/indexing.html#returning-a-view-versus-a-copy\n",
      "  \n"
     ]
    }
   ],
   "source": [
    "test_pairs_final = test_id\n",
    "test_pairs_final['match'] = test_y\n",
    "test_id_unique = test['id']"
   ]
  },
  {
   "cell_type": "code",
   "execution_count": 18,
   "id": "1042f475",
   "metadata": {
    "execution": {
     "iopub.execute_input": "2022-07-01T15:10:26.725098Z",
     "iopub.status.busy": "2022-07-01T15:10:26.724388Z",
     "iopub.status.idle": "2022-07-01T15:10:26.730413Z",
     "shell.execute_reply": "2022-07-01T15:10:26.729654Z"
    },
    "papermill": {
     "duration": 0.017269,
     "end_time": "2022-07-01T15:10:26.732590",
     "exception": false,
     "start_time": "2022-07-01T15:10:26.715321",
     "status": "completed"
    },
    "tags": []
   },
   "outputs": [],
   "source": [
    "def id_match(test_id_unique, test_pairs_final):\n",
    "    match_list = []\n",
    "    for id in test_id_unique:\n",
    "        id_pairs = test_pairs_final[test_pairs_final.id_1 == id]\n",
    "        success_pairs = id_pairs[id_pairs['match'] == 1]\n",
    "        if len(success_pairs) == 0:\n",
    "            matches = id\n",
    "        else:\n",
    "            matches = ' '.join([id] + success_pairs.id_2.tolist())\n",
    "        match_list += [matches]\n",
    "    return match_list"
   ]
  },
  {
   "cell_type": "code",
   "execution_count": 19,
   "id": "f475aee5",
   "metadata": {
    "execution": {
     "iopub.execute_input": "2022-07-01T15:10:26.749477Z",
     "iopub.status.busy": "2022-07-01T15:10:26.749085Z",
     "iopub.status.idle": "2022-07-01T15:10:26.773884Z",
     "shell.execute_reply": "2022-07-01T15:10:26.772779Z"
    },
    "papermill": {
     "duration": 0.036086,
     "end_time": "2022-07-01T15:10:26.776100",
     "exception": false,
     "start_time": "2022-07-01T15:10:26.740014",
     "status": "completed"
    },
    "tags": []
   },
   "outputs": [
    {
     "data": {
      "text/html": [
       "<div>\n",
       "<style scoped>\n",
       "    .dataframe tbody tr th:only-of-type {\n",
       "        vertical-align: middle;\n",
       "    }\n",
       "\n",
       "    .dataframe tbody tr th {\n",
       "        vertical-align: top;\n",
       "    }\n",
       "\n",
       "    .dataframe thead th {\n",
       "        text-align: right;\n",
       "    }\n",
       "</style>\n",
       "<table border=\"1\" class=\"dataframe\">\n",
       "  <thead>\n",
       "    <tr style=\"text-align: right;\">\n",
       "      <th></th>\n",
       "      <th>id</th>\n",
       "      <th>matches</th>\n",
       "    </tr>\n",
       "  </thead>\n",
       "  <tbody>\n",
       "    <tr>\n",
       "      <th>0</th>\n",
       "      <td>E_00001118ad0191</td>\n",
       "      <td>E_00001118ad0191 E_00001118ad0191 E_001b6bad66...</td>\n",
       "    </tr>\n",
       "    <tr>\n",
       "      <th>1</th>\n",
       "      <td>E_000020eb6fed40</td>\n",
       "      <td>E_000020eb6fed40 E_000020eb6fed40</td>\n",
       "    </tr>\n",
       "    <tr>\n",
       "      <th>2</th>\n",
       "      <td>E_00002f98667edf</td>\n",
       "      <td>E_00002f98667edf E_00002f98667edf E_00001118ad...</td>\n",
       "    </tr>\n",
       "    <tr>\n",
       "      <th>3</th>\n",
       "      <td>E_001b6bad66eb98</td>\n",
       "      <td>E_001b6bad66eb98 E_001b6bad66eb98 E_0283d9f61e...</td>\n",
       "    </tr>\n",
       "    <tr>\n",
       "      <th>4</th>\n",
       "      <td>E_0283d9f61e569d</td>\n",
       "      <td>E_0283d9f61e569d E_0283d9f61e569d E_001b6bad66...</td>\n",
       "    </tr>\n",
       "  </tbody>\n",
       "</table>\n",
       "</div>"
      ],
      "text/plain": [
       "                 id                                            matches\n",
       "0  E_00001118ad0191  E_00001118ad0191 E_00001118ad0191 E_001b6bad66...\n",
       "1  E_000020eb6fed40                  E_000020eb6fed40 E_000020eb6fed40\n",
       "2  E_00002f98667edf  E_00002f98667edf E_00002f98667edf E_00001118ad...\n",
       "3  E_001b6bad66eb98  E_001b6bad66eb98 E_001b6bad66eb98 E_0283d9f61e...\n",
       "4  E_0283d9f61e569d  E_0283d9f61e569d E_0283d9f61e569d E_001b6bad66..."
      ]
     },
     "execution_count": 19,
     "metadata": {},
     "output_type": "execute_result"
    }
   ],
   "source": [
    "match = id_match(test_id_unique, test_pairs_final)\n",
    "submission = pd.DataFrame({'id':test['id'],'matches':match})\n",
    "submission.to_csv(\"submission.csv\", index=False)\n",
    "submission.head()"
   ]
  }
 ],
 "metadata": {
  "kernelspec": {
   "display_name": "Python 3",
   "language": "python",
   "name": "python3"
  },
  "language_info": {
   "codemirror_mode": {
    "name": "ipython",
    "version": 3
   },
   "file_extension": ".py",
   "mimetype": "text/x-python",
   "name": "python",
   "nbconvert_exporter": "python",
   "pygments_lexer": "ipython3",
   "version": "3.7.12"
  },
  "papermill": {
   "default_parameters": {},
   "duration": 13.03675,
   "end_time": "2022-07-01T15:10:27.604763",
   "environment_variables": {},
   "exception": null,
   "input_path": "__notebook__.ipynb",
   "output_path": "__notebook__.ipynb",
   "parameters": {},
   "start_time": "2022-07-01T15:10:14.568013",
   "version": "2.3.4"
  }
 },
 "nbformat": 4,
 "nbformat_minor": 5
}
