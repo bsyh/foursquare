{
  "nbformat": 4,
  "nbformat_minor": 0,
  "metadata": {
    "colab": {
      "name": "Nltk-CatBoost.ipynb",
      "provenance": [],
      "collapsed_sections": [],
      "include_colab_link": true
    },
    "kernelspec": {
      "name": "python3",
      "display_name": "Python 3"
    },
    "accelerator": "GPU",
    "widgets": {
      "application/vnd.jupyter.widget-state+json": {
        "017515a5afb441eeb80422b6a42236a2": {
          "model_module": "catboost-widget",
          "model_name": "CatboostWidgetModel",
          "model_module_version": "^1.0.0",
          "state": {
            "_dom_classes": [],
            "_model_module": "catboost-widget",
            "_model_module_version": "^1.0.0",
            "_model_name": "CatboostWidgetModel",
            "_view_count": null,
            "_view_module": "catboost-widget",
            "_view_module_version": "^1.0.0",
            "_view_name": "CatboostWidgetView",
            "data": {
              "catboost_info": {
                "path": "catboost_info",
                "name": "catboost_info",
                "content": {
                  "passed_iterations": 99,
                  "total_iterations": 100,
                  "data": {
                    "iterations": [
                      {
                        "learn": [
                          0.9052631579,
                          0.6582903506
                        ],
                        "iteration": 0,
                        "passed_time": 0.03260511643,
                        "remaining_time": 3.227906527,
                        "test": [
                          0.76,
                          0.6780700106
                        ]
                      },
                      {
                        "learn": [
                          0.9,
                          0.6364136881
                        ],
                        "iteration": 1,
                        "passed_time": 0.06365296746,
                        "remaining_time": 3.118995406,
                        "test": [
                          0.7692307692,
                          0.6692913518
                        ]
                      },
                      {
                        "learn": [
                          0.9038461538,
                          0.6129669076
                        ],
                        "iteration": 2,
                        "passed_time": 0.09392275244,
                        "remaining_time": 3.036835662,
                        "test": [
                          0.8771929825,
                          0.6445109049
                        ]
                      },
                      {
                        "learn": [
                          0.8952380952,
                          0.5961882748
                        ],
                        "iteration": 3,
                        "passed_time": 0.1166326283,
                        "remaining_time": 2.799183079,
                        "test": [
                          0.8571428571,
                          0.6394108859
                        ]
                      },
                      {
                        "learn": [
                          0.9126213592,
                          0.5745034289
                        ],
                        "iteration": 4,
                        "passed_time": 0.1211453878,
                        "remaining_time": 2.301762368,
                        "test": [
                          0.8771929825,
                          0.6231276772
                        ]
                      },
                      {
                        "learn": [
                          0.8952380952,
                          0.5576375136
                        ],
                        "iteration": 5,
                        "passed_time": 0.1258547213,
                        "remaining_time": 1.971723966,
                        "test": [
                          0.8771929825,
                          0.6154400797
                        ]
                      },
                      {
                        "learn": [
                          0.8867924528,
                          0.5426592471
                        ],
                        "iteration": 6,
                        "passed_time": 0.1306004192,
                        "remaining_time": 1.735119855,
                        "test": [
                          0.8771929825,
                          0.5997620207
                        ]
                      },
                      {
                        "learn": [
                          0.9126213592,
                          0.5200895623
                        ],
                        "iteration": 7,
                        "passed_time": 0.1354688712,
                        "remaining_time": 1.557892018,
                        "test": [
                          0.8771929825,
                          0.5860666217
                        ]
                      },
                      {
                        "learn": [
                          0.9038461538,
                          0.5089396576
                        ],
                        "iteration": 8,
                        "passed_time": 0.1443083621,
                        "remaining_time": 1.459117884,
                        "test": [
                          0.8771929825,
                          0.5791288434
                        ]
                      },
                      {
                        "learn": [
                          0.9126213592,
                          0.497139888
                        ],
                        "iteration": 9,
                        "passed_time": 0.1490460493,
                        "remaining_time": 1.341414444,
                        "test": [
                          0.8771929825,
                          0.5740966219
                        ]
                      },
                      {
                        "learn": [
                          0.9038461538,
                          0.4880555566
                        ],
                        "iteration": 10,
                        "passed_time": 0.1538147324,
                        "remaining_time": 1.244501017,
                        "test": [
                          0.8771929825,
                          0.5692877336
                        ]
                      },
                      {
                        "learn": [
                          0.8952380952,
                          0.480181509
                        ],
                        "iteration": 11,
                        "passed_time": 0.1627280905,
                        "remaining_time": 1.193339331,
                        "test": [
                          0.8771929825,
                          0.567512281
                        ]
                      },
                      {
                        "learn": [
                          0.8952380952,
                          0.4680539032
                        ],
                        "iteration": 12,
                        "passed_time": 0.1751794618,
                        "remaining_time": 1.17235486,
                        "test": [
                          0.8620689655,
                          0.5618947925
                        ]
                      },
                      {
                        "learn": [
                          0.8952380952,
                          0.4582341607
                        ],
                        "iteration": 13,
                        "passed_time": 0.1798053995,
                        "remaining_time": 1.104518883,
                        "test": [
                          0.8620689655,
                          0.5625724214
                        ]
                      },
                      {
                        "learn": [
                          0.8952380952,
                          0.4482246797
                        ],
                        "iteration": 14,
                        "passed_time": 0.184316353,
                        "remaining_time": 1.044459333,
                        "test": [
                          0.8813559322,
                          0.559820811
                        ]
                      },
                      {
                        "learn": [
                          0.9126213592,
                          0.4381967801
                        ],
                        "iteration": 15,
                        "passed_time": 0.1923433558,
                        "remaining_time": 1.009802618,
                        "test": [
                          0.8620689655,
                          0.5530643463
                        ]
                      },
                      {
                        "learn": [
                          0.9038461538,
                          0.4290884217
                        ],
                        "iteration": 16,
                        "passed_time": 0.2047313749,
                        "remaining_time": 0.9995708303,
                        "test": [
                          0.8421052632,
                          0.5552390127
                        ]
                      },
                      {
                        "learn": [
                          0.9126213592,
                          0.4206509377
                        ],
                        "iteration": 17,
                        "passed_time": 0.214352534,
                        "remaining_time": 0.9764948772,
                        "test": [
                          0.8214285714,
                          0.557592681
                        ]
                      },
                      {
                        "learn": [
                          0.9126213592,
                          0.4134065144
                        ],
                        "iteration": 18,
                        "passed_time": 0.2236552547,
                        "remaining_time": 0.953477665,
                        "test": [
                          0.8214285714,
                          0.552007155
                        ]
                      },
                      {
                        "learn": [
                          0.9126213592,
                          0.4075797636
                        ],
                        "iteration": 19,
                        "passed_time": 0.233775108,
                        "remaining_time": 0.9351004322,
                        "test": [
                          0.8214285714,
                          0.5534221187
                        ]
                      },
                      {
                        "learn": [
                          0.9215686275,
                          0.4012883884
                        ],
                        "iteration": 20,
                        "passed_time": 0.2442549555,
                        "remaining_time": 0.9188638803,
                        "test": [
                          0.8214285714,
                          0.5530778711
                        ]
                      },
                      {
                        "learn": [
                          0.9126213592,
                          0.390940652
                        ],
                        "iteration": 21,
                        "passed_time": 0.2537655303,
                        "remaining_time": 0.8997141528,
                        "test": [
                          0.8,
                          0.5443766045
                        ]
                      },
                      {
                        "learn": [
                          0.9215686275,
                          0.3834267801
                        ],
                        "iteration": 22,
                        "passed_time": 0.2641777429,
                        "remaining_time": 0.8844211394,
                        "test": [
                          0.8,
                          0.5467964519
                        ]
                      },
                      {
                        "learn": [
                          0.9215686275,
                          0.3777427104
                        ],
                        "iteration": 23,
                        "passed_time": 0.2739633592,
                        "remaining_time": 0.8675506375,
                        "test": [
                          0.8,
                          0.5452388417
                        ]
                      },
                      {
                        "learn": [
                          0.9215686275,
                          0.3703205621
                        ],
                        "iteration": 24,
                        "passed_time": 0.2837282637,
                        "remaining_time": 0.8511847912,
                        "test": [
                          0.8,
                          0.5466774449
                        ]
                      },
                      {
                        "learn": [
                          0.9215686275,
                          0.3637370209
                        ],
                        "iteration": 25,
                        "passed_time": 0.2937007563,
                        "remaining_time": 0.8359175372,
                        "test": [
                          0.8,
                          0.54133421
                        ]
                      },
                      {
                        "learn": [
                          0.9306930693,
                          0.3569075741
                        ],
                        "iteration": 26,
                        "passed_time": 0.3037033051,
                        "remaining_time": 0.8211237508,
                        "test": [
                          0.8,
                          0.5329996745
                        ]
                      },
                      {
                        "learn": [
                          0.94,
                          0.3502152856
                        ],
                        "iteration": 27,
                        "passed_time": 0.3141236575,
                        "remaining_time": 0.807746548,
                        "test": [
                          0.8,
                          0.5315478932
                        ]
                      },
                      {
                        "learn": [
                          0.94,
                          0.3428322522
                        ],
                        "iteration": 28,
                        "passed_time": 0.3300583232,
                        "remaining_time": 0.8080738257,
                        "test": [
                          0.8,
                          0.5336213545
                        ]
                      },
                      {
                        "learn": [
                          0.94,
                          0.3385609299
                        ],
                        "iteration": 29,
                        "passed_time": 0.3403302171,
                        "remaining_time": 0.7941038399,
                        "test": [
                          0.8,
                          0.5361566255
                        ]
                      },
                      {
                        "learn": [
                          0.9494949495,
                          0.3339219164
                        ],
                        "iteration": 30,
                        "passed_time": 0.3508278411,
                        "remaining_time": 0.7808748721,
                        "test": [
                          0.8,
                          0.5373994076
                        ]
                      },
                      {
                        "learn": [
                          0.9494949495,
                          0.327382472
                        ],
                        "iteration": 31,
                        "passed_time": 0.3603935769,
                        "remaining_time": 0.7658363509,
                        "test": [
                          0.8,
                          0.5345947381
                        ]
                      },
                      {
                        "learn": [
                          0.9494949495,
                          0.3214926933
                        ],
                        "iteration": 32,
                        "passed_time": 0.3739097649,
                        "remaining_time": 0.7591501287,
                        "test": [
                          0.8148148148,
                          0.5370066672
                        ]
                      },
                      {
                        "learn": [
                          0.9494949495,
                          0.3142188627
                        ],
                        "iteration": 33,
                        "passed_time": 0.3838779662,
                        "remaining_time": 0.7451748756,
                        "test": [
                          0.8148148148,
                          0.5385825417
                        ]
                      },
                      {
                        "learn": [
                          0.9494949495,
                          0.3106340437
                        ],
                        "iteration": 34,
                        "passed_time": 0.4003736217,
                        "remaining_time": 0.7435510118,
                        "test": [
                          0.8148148148,
                          0.5336182912
                        ]
                      },
                      {
                        "learn": [
                          0.9591836735,
                          0.306300149
                        ],
                        "iteration": 35,
                        "passed_time": 0.4105821885,
                        "remaining_time": 0.7299238906,
                        "test": [
                          0.8148148148,
                          0.5286019065
                        ]
                      },
                      {
                        "learn": [
                          0.9591836735,
                          0.304180373
                        ],
                        "iteration": 36,
                        "passed_time": 0.4209542327,
                        "remaining_time": 0.7167599097,
                        "test": [
                          0.8148148148,
                          0.5271700079
                        ]
                      },
                      {
                        "learn": [
                          0.9591836735,
                          0.2998143096
                        ],
                        "iteration": 37,
                        "passed_time": 0.4309616351,
                        "remaining_time": 0.7031479309,
                        "test": [
                          0.8461538462,
                          0.5246664683
                        ]
                      },
                      {
                        "learn": [
                          0.9591836735,
                          0.2942284541
                        ],
                        "iteration": 38,
                        "passed_time": 0.4408802376,
                        "remaining_time": 0.6895819102,
                        "test": [
                          0.8301886792,
                          0.5273410913
                        ]
                      },
                      {
                        "learn": [
                          0.9591836735,
                          0.2897989928
                        ],
                        "iteration": 39,
                        "passed_time": 0.4531395876,
                        "remaining_time": 0.6797093814,
                        "test": [
                          0.8461538462,
                          0.5312224301
                        ]
                      },
                      {
                        "learn": [
                          0.9690721649,
                          0.285748496
                        ],
                        "iteration": 40,
                        "passed_time": 0.4633530211,
                        "remaining_time": 0.6667762986,
                        "test": [
                          0.8461538462,
                          0.5292667042
                        ]
                      },
                      {
                        "learn": [
                          0.9690721649,
                          0.2824190624
                        ],
                        "iteration": 41,
                        "passed_time": 0.4736385898,
                        "remaining_time": 0.6540723383,
                        "test": [
                          0.8301886792,
                          0.5289000309
                        ]
                      },
                      {
                        "learn": [
                          0.9690721649,
                          0.2785779469
                        ],
                        "iteration": 42,
                        "passed_time": 0.4839119907,
                        "remaining_time": 0.6414647318,
                        "test": [
                          0.8148148148,
                          0.5296882861
                        ]
                      },
                      {
                        "learn": [
                          0.9690721649,
                          0.27516812
                        ],
                        "iteration": 43,
                        "passed_time": 0.4940074755,
                        "remaining_time": 0.6287367871,
                        "test": [
                          0.8461538462,
                          0.5291971727
                        ]
                      },
                      {
                        "learn": [
                          0.9690721649,
                          0.2701905094
                        ],
                        "iteration": 44,
                        "passed_time": 0.5040314711,
                        "remaining_time": 0.6160384647,
                        "test": [
                          0.8301886792,
                          0.5268443714
                        ]
                      },
                      {
                        "learn": [
                          0.9690721649,
                          0.266995672
                        ],
                        "iteration": 45,
                        "passed_time": 0.5136935224,
                        "remaining_time": 0.6030315263,
                        "test": [
                          0.8301886792,
                          0.5298774026
                        ]
                      },
                      {
                        "learn": [
                          0.9690721649,
                          0.263966233
                        ],
                        "iteration": 46,
                        "passed_time": 0.523849957,
                        "remaining_time": 0.5907244196,
                        "test": [
                          0.8301886792,
                          0.5303103129
                        ]
                      },
                      {
                        "learn": [
                          0.9690721649,
                          0.2605417736
                        ],
                        "iteration": 47,
                        "passed_time": 0.5338271463,
                        "remaining_time": 0.5783127418,
                        "test": [
                          0.8301886792,
                          0.5274190036
                        ]
                      },
                      {
                        "learn": [
                          0.9690721649,
                          0.2561303608
                        ],
                        "iteration": 48,
                        "passed_time": 0.5446816765,
                        "remaining_time": 0.5669135817,
                        "test": [
                          0.8461538462,
                          0.5313508583
                        ]
                      },
                      {
                        "learn": [
                          0.9690721649,
                          0.2524082412
                        ],
                        "iteration": 49,
                        "passed_time": 0.5551577155,
                        "remaining_time": 0.5551577155,
                        "test": [
                          0.8301886792,
                          0.5336915218
                        ]
                      },
                      {
                        "learn": [
                          0.9690721649,
                          0.2502798963
                        ],
                        "iteration": 50,
                        "passed_time": 0.5653508787,
                        "remaining_time": 0.543180256,
                        "test": [
                          0.8301886792,
                          0.5344802394
                        ]
                      },
                      {
                        "learn": [
                          0.9690721649,
                          0.246928884
                        ],
                        "iteration": 51,
                        "passed_time": 0.5784371315,
                        "remaining_time": 0.5339419676,
                        "test": [
                          0.8301886792,
                          0.53406542
                        ]
                      },
                      {
                        "learn": [
                          0.9690721649,
                          0.2441998951
                        ],
                        "iteration": 52,
                        "passed_time": 0.5888091167,
                        "remaining_time": 0.5221514808,
                        "test": [
                          0.8301886792,
                          0.5304922624
                        ]
                      },
                      {
                        "learn": [
                          0.9690721649,
                          0.2413552982
                        ],
                        "iteration": 53,
                        "passed_time": 0.5989401405,
                        "remaining_time": 0.5102082678,
                        "test": [
                          0.8301886792,
                          0.5346632871
                        ]
                      },
                      {
                        "learn": [
                          0.9690721649,
                          0.2396529468
                        ],
                        "iteration": 54,
                        "passed_time": 0.6090154991,
                        "remaining_time": 0.4982854083,
                        "test": [
                          0.8301886792,
                          0.5346487219
                        ]
                      },
                      {
                        "learn": [
                          0.9791666667,
                          0.2368479487
                        ],
                        "iteration": 55,
                        "passed_time": 0.6192255059,
                        "remaining_time": 0.4865343261,
                        "test": [
                          0.8076923077,
                          0.5359932293
                        ]
                      },
                      {
                        "learn": [
                          0.9791666667,
                          0.2343996105
                        ],
                        "iteration": 56,
                        "passed_time": 0.6288741065,
                        "remaining_time": 0.4744137996,
                        "test": [
                          0.8076923077,
                          0.5332843896
                        ]
                      },
                      {
                        "learn": [
                          0.9791666667,
                          0.2306732776
                        ],
                        "iteration": 57,
                        "passed_time": 0.6388474719,
                        "remaining_time": 0.4626136865,
                        "test": [
                          0.8076923077,
                          0.5330896089
                        ]
                      },
                      {
                        "learn": [
                          0.9894736842,
                          0.2281073528
                        ],
                        "iteration": 58,
                        "passed_time": 0.648548356,
                        "remaining_time": 0.4506861457,
                        "test": [
                          0.8076923077,
                          0.5351844556
                        ]
                      },
                      {
                        "learn": [
                          0.9894736842,
                          0.2261482922
                        ],
                        "iteration": 59,
                        "passed_time": 0.6583775618,
                        "remaining_time": 0.4389183746,
                        "test": [
                          0.8076923077,
                          0.5327352466
                        ]
                      },
                      {
                        "learn": [
                          0.9791666667,
                          0.2229706636
                        ],
                        "iteration": 60,
                        "passed_time": 0.6684028462,
                        "remaining_time": 0.4273395246,
                        "test": [
                          0.8076923077,
                          0.5309877107
                        ]
                      },
                      {
                        "learn": [
                          0.9791666667,
                          0.2204341319
                        ],
                        "iteration": 61,
                        "passed_time": 0.6783507613,
                        "remaining_time": 0.4157633698,
                        "test": [
                          0.8076923077,
                          0.526816397
                        ]
                      },
                      {
                        "learn": [
                          0.9894736842,
                          0.2183423968
                        ],
                        "iteration": 62,
                        "passed_time": 0.6878504142,
                        "remaining_time": 0.4039756401,
                        "test": [
                          0.8235294118,
                          0.5264494347
                        ]
                      },
                      {
                        "learn": [
                          0.9894736842,
                          0.2155406155
                        ],
                        "iteration": 63,
                        "passed_time": 0.6976560653,
                        "remaining_time": 0.3924315367,
                        "test": [
                          0.8461538462,
                          0.5272547404
                        ]
                      },
                      {
                        "learn": [
                          0.9894736842,
                          0.213547607
                        ],
                        "iteration": 64,
                        "passed_time": 0.7072993731,
                        "remaining_time": 0.3808535086,
                        "test": [
                          0.8235294118,
                          0.5297296697
                        ]
                      },
                      {
                        "learn": [
                          0.9894736842,
                          0.2107112087
                        ],
                        "iteration": 65,
                        "passed_time": 0.7167639517,
                        "remaining_time": 0.3692420357,
                        "test": [
                          0.8461538462,
                          0.5327321255
                        ]
                      },
                      {
                        "learn": [
                          0.9894736842,
                          0.2083927268
                        ],
                        "iteration": 66,
                        "passed_time": 0.7295565456,
                        "remaining_time": 0.3593338209,
                        "test": [
                          0.8076923077,
                          0.5292664152
                        ]
                      },
                      {
                        "learn": [
                          0.9894736842,
                          0.2059884854
                        ],
                        "iteration": 67,
                        "passed_time": 0.7342790211,
                        "remaining_time": 0.3455430687,
                        "test": [
                          0.8301886792,
                          0.5325889587
                        ]
                      },
                      {
                        "learn": [
                          0.9894736842,
                          0.2047522246
                        ],
                        "iteration": 68,
                        "passed_time": 0.739329168,
                        "remaining_time": 0.3321623798,
                        "test": [
                          0.8076923077,
                          0.5331341137
                        ]
                      },
                      {
                        "learn": [
                          0.9894736842,
                          0.2024519194
                        ],
                        "iteration": 69,
                        "passed_time": 0.7443684013,
                        "remaining_time": 0.3190150291,
                        "test": [
                          0.8076923077,
                          0.5343348763
                        ]
                      },
                      {
                        "learn": [
                          0.9894736842,
                          0.2006932301
                        ],
                        "iteration": 70,
                        "passed_time": 0.7495594825,
                        "remaining_time": 0.3061580985,
                        "test": [
                          0.8076923077,
                          0.537828561
                        ]
                      },
                      {
                        "learn": [
                          1,
                          0.1982983831
                        ],
                        "iteration": 71,
                        "passed_time": 0.7546122328,
                        "remaining_time": 0.2934603128,
                        "test": [
                          0.8076923077,
                          0.5380032857
                        ]
                      },
                      {
                        "learn": [
                          0.9894736842,
                          0.1959693112
                        ],
                        "iteration": 72,
                        "passed_time": 0.7642446416,
                        "remaining_time": 0.2826658263,
                        "test": [
                          0.8301886792,
                          0.5403562604
                        ]
                      },
                      {
                        "learn": [
                          1,
                          0.1939996748
                        ],
                        "iteration": 73,
                        "passed_time": 0.7690079592,
                        "remaining_time": 0.2701919857,
                        "test": [
                          0.8076923077,
                          0.5448277791
                        ]
                      },
                      {
                        "learn": [
                          1,
                          0.1917778129
                        ],
                        "iteration": 74,
                        "passed_time": 0.7796860594,
                        "remaining_time": 0.2598953531,
                        "test": [
                          0.8301886792,
                          0.5501402653
                        ]
                      },
                      {
                        "learn": [
                          1,
                          0.1905079173
                        ],
                        "iteration": 75,
                        "passed_time": 0.7851655142,
                        "remaining_time": 0.2479470045,
                        "test": [
                          0.8301886792,
                          0.549750357
                        ]
                      },
                      {
                        "learn": [
                          1,
                          0.1887700664
                        ],
                        "iteration": 76,
                        "passed_time": 0.794228079,
                        "remaining_time": 0.2372369587,
                        "test": [
                          0.8301886792,
                          0.5485488429
                        ]
                      },
                      {
                        "learn": [
                          1,
                          0.1867402205
                        ],
                        "iteration": 77,
                        "passed_time": 0.7990148077,
                        "remaining_time": 0.2253631509,
                        "test": [
                          0.8301886792,
                          0.5477779273
                        ]
                      },
                      {
                        "learn": [
                          1,
                          0.1839996736
                        ],
                        "iteration": 78,
                        "passed_time": 0.8060756404,
                        "remaining_time": 0.2142732715,
                        "test": [
                          0.8301886792,
                          0.5492551399
                        ]
                      },
                      {
                        "learn": [
                          1,
                          0.182075956
                        ],
                        "iteration": 79,
                        "passed_time": 0.8111589201,
                        "remaining_time": 0.20278973,
                        "test": [
                          0.8301886792,
                          0.545588869
                        ]
                      },
                      {
                        "learn": [
                          1,
                          0.180170657
                        ],
                        "iteration": 80,
                        "passed_time": 0.816509729,
                        "remaining_time": 0.1915269735,
                        "test": [
                          0.8301886792,
                          0.5429419315
                        ]
                      },
                      {
                        "learn": [
                          1,
                          0.1786849463
                        ],
                        "iteration": 81,
                        "passed_time": 0.8252314349,
                        "remaining_time": 0.1811483638,
                        "test": [
                          0.8301886792,
                          0.5448812427
                        ]
                      },
                      {
                        "learn": [
                          1,
                          0.1766091247
                        ],
                        "iteration": 82,
                        "passed_time": 0.8300244405,
                        "remaining_time": 0.1700050059,
                        "test": [
                          0.8301886792,
                          0.5448162772
                        ]
                      },
                      {
                        "learn": [
                          1,
                          0.1724028516
                        ],
                        "iteration": 83,
                        "passed_time": 0.8394681696,
                        "remaining_time": 0.159898699,
                        "test": [
                          0.8301886792,
                          0.5461069743
                        ]
                      },
                      {
                        "learn": [
                          1,
                          0.1706079512
                        ],
                        "iteration": 84,
                        "passed_time": 0.845351675,
                        "remaining_time": 0.1491797074,
                        "test": [
                          0.8301886792,
                          0.5467212561
                        ]
                      },
                      {
                        "learn": [
                          1,
                          0.1694040156
                        ],
                        "iteration": 85,
                        "passed_time": 0.8708186849,
                        "remaining_time": 0.1417611813,
                        "test": [
                          0.8301886792,
                          0.5470435403
                        ]
                      },
                      {
                        "learn": [
                          1,
                          0.168232505
                        ],
                        "iteration": 86,
                        "passed_time": 0.8762604179,
                        "remaining_time": 0.1309354647,
                        "test": [
                          0.8301886792,
                          0.5468881202
                        ]
                      },
                      {
                        "learn": [
                          1,
                          0.1648853928
                        ],
                        "iteration": 87,
                        "passed_time": 0.8858232707,
                        "remaining_time": 0.1207940824,
                        "test": [
                          0.8076923077,
                          0.5486612031
                        ]
                      },
                      {
                        "learn": [
                          1,
                          0.1638170499
                        ],
                        "iteration": 88,
                        "passed_time": 0.8994357819,
                        "remaining_time": 0.1111662202,
                        "test": [
                          0.8076923077,
                          0.5495847644
                        ]
                      },
                      {
                        "learn": [
                          1,
                          0.162370881
                        ],
                        "iteration": 89,
                        "passed_time": 0.9142108113,
                        "remaining_time": 0.101578979,
                        "test": [
                          0.8076923077,
                          0.5500221252
                        ]
                      },
                      {
                        "learn": [
                          1,
                          0.1606118216
                        ],
                        "iteration": 90,
                        "passed_time": 0.9201805172,
                        "remaining_time": 0.09100686434,
                        "test": [
                          0.8235294118,
                          0.5459142743
                        ]
                      },
                      {
                        "learn": [
                          1,
                          0.1588157255
                        ],
                        "iteration": 91,
                        "passed_time": 0.9254223946,
                        "remaining_time": 0.08047151257,
                        "test": [
                          0.8076923077,
                          0.5455480633
                        ]
                      },
                      {
                        "learn": [
                          1,
                          0.1577559371
                        ],
                        "iteration": 92,
                        "passed_time": 0.9305405877,
                        "remaining_time": 0.0700406894,
                        "test": [
                          0.8076923077,
                          0.5459635185
                        ]
                      },
                      {
                        "learn": [
                          1,
                          0.1549349116
                        ],
                        "iteration": 93,
                        "passed_time": 0.9356598756,
                        "remaining_time": 0.05972297078,
                        "test": [
                          0.8235294118,
                          0.5470194383
                        ]
                      },
                      {
                        "learn": [
                          1,
                          0.1540723345
                        ],
                        "iteration": 94,
                        "passed_time": 0.9413291592,
                        "remaining_time": 0.04954363996,
                        "test": [
                          0.8235294118,
                          0.5467517737
                        ]
                      },
                      {
                        "learn": [
                          1,
                          0.151768841
                        ],
                        "iteration": 95,
                        "passed_time": 0.9503654696,
                        "remaining_time": 0.03959856123,
                        "test": [
                          0.8235294118,
                          0.5503477039
                        ]
                      },
                      {
                        "learn": [
                          1,
                          0.1499199369
                        ],
                        "iteration": 96,
                        "passed_time": 0.9552259895,
                        "remaining_time": 0.02954307184,
                        "test": [
                          0.84,
                          0.5446649031
                        ]
                      },
                      {
                        "learn": [
                          1,
                          0.1485590294
                        ],
                        "iteration": 97,
                        "passed_time": 0.9607066221,
                        "remaining_time": 0.01960625759,
                        "test": [
                          0.84,
                          0.5440494653
                        ]
                      },
                      {
                        "learn": [
                          1,
                          0.147597014
                        ],
                        "iteration": 98,
                        "passed_time": 0.9698487305,
                        "remaining_time": 0.009796451824,
                        "test": [
                          0.84,
                          0.5450724977
                        ]
                      },
                      {
                        "learn": [
                          1,
                          0.1457162544
                        ],
                        "iteration": 99,
                        "passed_time": 0.9789726065,
                        "remaining_time": 0,
                        "test": [
                          0.8235294118,
                          0.548307939
                        ]
                      }
                    ],
                    "meta": {
                      "test_sets": [
                        "test"
                      ],
                      "test_metrics": [
                        {
                          "best_value": "Max",
                          "name": "F1"
                        },
                        {
                          "best_value": "Min",
                          "name": "Logloss"
                        }
                      ],
                      "learn_metrics": [
                        {
                          "best_value": "Max",
                          "name": "F1"
                        },
                        {
                          "best_value": "Min",
                          "name": "Logloss"
                        }
                      ],
                      "launch_mode": "Train",
                      "parameters": "",
                      "iteration_count": 100,
                      "learn_sets": [
                        "learn"
                      ],
                      "name": "experiment"
                    }
                  }
                }
              }
            },
            "layout": "IPY_MODEL_066d6e774a504860916e0036b7786b10"
          }
        }
      }
    }
  },
  "cells": [
    {
      "cell_type": "markdown",
      "metadata": {
        "id": "view-in-github",
        "colab_type": "text"
      },
      "source": [
        "<a href=\"https://colab.research.google.com/github/bsyh/foursquare/blob/main/Nltk_CatBoost.ipynb\" target=\"_parent\"><img src=\"https://colab.research.google.com/assets/colab-badge.svg\" alt=\"Open In Colab\"/></a>"
      ]
    },
    {
      "cell_type": "code",
      "metadata": {
        "id": "VAgu4i6g4WE2",
        "outputId": "88afb595-ba4a-4e52-8396-541aa09fac78",
        "colab": {
          "base_uri": "https://localhost:8080/"
        }
      },
      "source": [
        "!pip install catboost"
      ],
      "execution_count": 3,
      "outputs": [
        {
          "output_type": "stream",
          "name": "stdout",
          "text": [
            "Looking in indexes: https://pypi.org/simple, https://us-python.pkg.dev/colab-wheels/public/simple/\n",
            "Collecting catboost\n",
            "  Downloading catboost-1.0.6-cp37-none-manylinux1_x86_64.whl (76.6 MB)\n",
            "\u001b[K     |████████████████████████████████| 76.6 MB 1.2 MB/s \n",
            "\u001b[?25hRequirement already satisfied: pandas>=0.24.0 in /usr/local/lib/python3.7/dist-packages (from catboost) (1.3.5)\n",
            "Requirement already satisfied: matplotlib in /usr/local/lib/python3.7/dist-packages (from catboost) (3.2.2)\n",
            "Requirement already satisfied: scipy in /usr/local/lib/python3.7/dist-packages (from catboost) (1.4.1)\n",
            "Requirement already satisfied: plotly in /usr/local/lib/python3.7/dist-packages (from catboost) (5.5.0)\n",
            "Requirement already satisfied: six in /usr/local/lib/python3.7/dist-packages (from catboost) (1.15.0)\n",
            "Requirement already satisfied: graphviz in /usr/local/lib/python3.7/dist-packages (from catboost) (0.10.1)\n",
            "Requirement already satisfied: numpy>=1.16.0 in /usr/local/lib/python3.7/dist-packages (from catboost) (1.21.6)\n",
            "Requirement already satisfied: python-dateutil>=2.7.3 in /usr/local/lib/python3.7/dist-packages (from pandas>=0.24.0->catboost) (2.8.2)\n",
            "Requirement already satisfied: pytz>=2017.3 in /usr/local/lib/python3.7/dist-packages (from pandas>=0.24.0->catboost) (2022.1)\n",
            "Requirement already satisfied: pyparsing!=2.0.4,!=2.1.2,!=2.1.6,>=2.0.1 in /usr/local/lib/python3.7/dist-packages (from matplotlib->catboost) (3.0.9)\n",
            "Requirement already satisfied: kiwisolver>=1.0.1 in /usr/local/lib/python3.7/dist-packages (from matplotlib->catboost) (1.4.3)\n",
            "Requirement already satisfied: cycler>=0.10 in /usr/local/lib/python3.7/dist-packages (from matplotlib->catboost) (0.11.0)\n",
            "Requirement already satisfied: typing-extensions in /usr/local/lib/python3.7/dist-packages (from kiwisolver>=1.0.1->matplotlib->catboost) (4.1.1)\n",
            "Requirement already satisfied: tenacity>=6.2.0 in /usr/local/lib/python3.7/dist-packages (from plotly->catboost) (8.0.1)\n",
            "Installing collected packages: catboost\n",
            "Successfully installed catboost-1.0.6\n"
          ]
        }
      ]
    },
    {
      "cell_type": "code",
      "source": [
        "!pip install Levenshtein"
      ],
      "metadata": {
        "colab": {
          "base_uri": "https://localhost:8080/"
        },
        "id": "PAOF_SFr0STk",
        "outputId": "b2ddcb8e-46e6-4ec5-a5c1-2b42b3580b49"
      },
      "execution_count": 4,
      "outputs": [
        {
          "output_type": "stream",
          "name": "stdout",
          "text": [
            "Looking in indexes: https://pypi.org/simple, https://us-python.pkg.dev/colab-wheels/public/simple/\n",
            "Collecting Levenshtein\n",
            "  Downloading Levenshtein-0.18.1-cp37-cp37m-manylinux_2_17_x86_64.manylinux2014_x86_64.whl (258 kB)\n",
            "\u001b[K     |████████████████████████████████| 258 kB 34.0 MB/s \n",
            "\u001b[?25hCollecting rapidfuzz<3.0.0,>=2.0.1\n",
            "  Downloading rapidfuzz-2.1.0-cp37-cp37m-manylinux_2_17_x86_64.manylinux2014_x86_64.whl (2.0 MB)\n",
            "\u001b[K     |████████████████████████████████| 2.0 MB 59.3 MB/s \n",
            "\u001b[?25hCollecting jarowinkler<1.1.0,>=1.0.3\n",
            "  Downloading jarowinkler-1.0.5-cp37-cp37m-manylinux_2_17_x86_64.manylinux2014_x86_64.whl (102 kB)\n",
            "\u001b[K     |████████████████████████████████| 102 kB 53.6 MB/s \n",
            "\u001b[?25hInstalling collected packages: jarowinkler, rapidfuzz, Levenshtein\n",
            "Successfully installed Levenshtein-0.18.1 jarowinkler-1.0.5 rapidfuzz-2.1.0\n"
          ]
        }
      ]
    },
    {
      "cell_type": "code",
      "source": [
        "from google.colab import drive\n",
        "\n",
        "drive.mount('/content/drive')\n",
        "root_path = 'drive/MyDrive/Foursquare/'\n",
        "!ls"
      ],
      "metadata": {
        "colab": {
          "base_uri": "https://localhost:8080/"
        },
        "id": "pM1GmSdyvhz4",
        "outputId": "178c0a31-f767-4fe4-dff0-93d73839c6e6"
      },
      "execution_count": 5,
      "outputs": [
        {
          "output_type": "stream",
          "name": "stdout",
          "text": [
            "Mounted at /content/drive\n",
            "drive  sample_data\n"
          ]
        }
      ]
    },
    {
      "cell_type": "code",
      "metadata": {
        "id": "8OnzPUF84dPV",
        "colab": {
          "base_uri": "https://localhost:8080/"
        },
        "outputId": "e9263727-a47d-4fb0-bd52-6403ba5482ce"
      },
      "source": [
        "import numpy as np\n",
        "import pandas as pd\n",
        "import seaborn as sns\n",
        "import statsmodels.api as sm\n",
        "from catboost import CatBoostClassifier\n",
        "from scipy import stats\n",
        "from sklearn.model_selection import train_test_split\n",
        "from sklearn.metrics import f1_score, accuracy_score\n",
        "import pandas as pd\n",
        "import numpy as np\n",
        "from sklearn.neighbors import NearestNeighbors\n",
        "from sklearn.feature_extraction.text import TfidfVectorizer\n",
        "\n",
        "import re\n",
        "import string\n",
        "from nltk.tokenize import word_tokenize\n",
        "from nltk.corpus import stopwords, wordnet as wn\n",
        "from nltk.stem import PorterStemmer, WordNetLemmatizer\n",
        "\n",
        "import Levenshtein as lev\n",
        "import math\n",
        "from collections import Counter"
      ],
      "execution_count": 6,
      "outputs": [
        {
          "output_type": "stream",
          "name": "stderr",
          "text": [
            "/usr/local/lib/python3.7/dist-packages/statsmodels/tools/_testing.py:19: FutureWarning: pandas.util.testing is deprecated. Use the functions in the public API at pandas.testing instead.\n",
            "  import pandas.util.testing as tm\n"
          ]
        }
      ]
    },
    {
      "cell_type": "code",
      "metadata": {
        "id": "Y4-9Zgec5Mu9"
      },
      "source": [
        "def resumetable(df):\n",
        "    print(f\"Dataset Shape: {df.shape}\")\n",
        "    summary = pd.DataFrame(df.dtypes,columns=['dtypes'])\n",
        "    summary = summary.reset_index()\n",
        "    summary['Name'] = summary['index']\n",
        "    summary = summary[['Name','dtypes']]\n",
        "    summary['Missing'] = df.isnull().sum().values    \n",
        "    summary['Uniques'] = df.nunique().values\n",
        "    summary['First Value'] = df.loc[0].values\n",
        "    summary['Second Value'] = df.loc[1].values\n",
        "    return summary"
      ],
      "execution_count": 7,
      "outputs": []
    },
    {
      "cell_type": "code",
      "metadata": {
        "id": "wWCnybbgUDci",
        "colab": {
          "base_uri": "https://localhost:8080/"
        },
        "outputId": "fc298adc-108d-405b-993b-c818c2c7c190"
      },
      "source": [
        "!ls"
      ],
      "execution_count": 8,
      "outputs": [
        {
          "output_type": "stream",
          "name": "stdout",
          "text": [
            "drive  sample_data\n"
          ]
        }
      ]
    },
    {
      "cell_type": "code",
      "metadata": {
        "id": "BBSz0k6Y47su"
      },
      "source": [
        "file_loc = \"/content/drive/MyDrive/Foursquare/data/pairs_tiny_800.csv\""
      ],
      "execution_count": 9,
      "outputs": []
    },
    {
      "cell_type": "code",
      "metadata": {
        "id": "VApPPwXY4l5X"
      },
      "source": [
        "df = pd.read_csv(file_loc)"
      ],
      "execution_count": 10,
      "outputs": []
    },
    {
      "cell_type": "code",
      "metadata": {
        "id": "XB_pQwFu46mO",
        "outputId": "5624e822-a65a-4278-d240-a721f999d310",
        "colab": {
          "base_uri": "https://localhost:8080/",
          "height": 508
        }
      },
      "source": [
        "df.head()"
      ],
      "execution_count": 11,
      "outputs": [
        {
          "output_type": "execute_result",
          "data": {
            "text/plain": [
              "               id_1                name_1  latitude_1  longitude_1  \\\n",
              "0  E_000001272c6c5d  Café Stad Oudenaarde   50.859975     3.634196   \n",
              "1  E_000008a8ba4f48              Turkcell   37.844510    27.844202   \n",
              "2  E_000023d8f4be44            Island Spa   14.518970   121.018702   \n",
              "3  E_00007dcd2bb53f     TOGO'S Sandwiches   38.257797  -122.064599   \n",
              "4  E_0000c362229d93            Coffee Cat    7.082218   125.610244   \n",
              "\n",
              "                                     address_1      city_1          state_1  \\\n",
              "0                                  Abdijstraat  Nederename  Oost-Vlaanderen   \n",
              "1                       Adnan Menderes Bulvarı         NaN              NaN   \n",
              "2  5th Flr, Newport Mall, Resorts World Manila  Pasay City     Metro Manila   \n",
              "3                     1380 Holiday Ln., Ste. B   Fairfield               CA   \n",
              "4                                F. Torres St.  Davao City     Davao Region   \n",
              "\n",
              "   zip_1 country_1                                              url_1  ...  \\\n",
              "0   9700        BE                                                NaN  ...   \n",
              "1    NaN        TR                                                NaN  ...   \n",
              "2    NaN        PH                                                NaN  ...   \n",
              "3  94534        US  https://locations.togos.com/ll/US/CA/Fairfield...  ...   \n",
              "4   8000        PH                                                NaN  ...   \n",
              "\n",
              "  longitude_2             address_2      city_2       state_2  zip_2  \\\n",
              "0    3.635206                   NaN         NaN           NaN    NaN   \n",
              "1   27.845560            batı aydın       aydın           NaN  67500   \n",
              "2  121.019827                   NaN         NaN           NaN    NaN   \n",
              "3 -122.064606                   NaN   Fairfield            CA    NaN   \n",
              "4  125.611457  E. Jacinto Extension  Davao City  Davao Region   8000   \n",
              "\n",
              "   country_2 url_2 phone_2                        categories_2  match  \n",
              "0         BE   NaN     NaN                                Bars   True  \n",
              "1         TR   NaN     NaN                  Electronics Stores  False  \n",
              "2         PH   NaN     NaN                                Spas   True  \n",
              "3         US   NaN     NaN                     Sandwich Places   True  \n",
              "4         PH   NaN     NaN  Coffee Shops, Cafés, Dessert Shops  False  \n",
              "\n",
              "[5 rows x 25 columns]"
            ],
            "text/html": [
              "\n",
              "  <div id=\"df-1f25d39d-31b5-4cf5-802f-870a61e1f212\">\n",
              "    <div class=\"colab-df-container\">\n",
              "      <div>\n",
              "<style scoped>\n",
              "    .dataframe tbody tr th:only-of-type {\n",
              "        vertical-align: middle;\n",
              "    }\n",
              "\n",
              "    .dataframe tbody tr th {\n",
              "        vertical-align: top;\n",
              "    }\n",
              "\n",
              "    .dataframe thead th {\n",
              "        text-align: right;\n",
              "    }\n",
              "</style>\n",
              "<table border=\"1\" class=\"dataframe\">\n",
              "  <thead>\n",
              "    <tr style=\"text-align: right;\">\n",
              "      <th></th>\n",
              "      <th>id_1</th>\n",
              "      <th>name_1</th>\n",
              "      <th>latitude_1</th>\n",
              "      <th>longitude_1</th>\n",
              "      <th>address_1</th>\n",
              "      <th>city_1</th>\n",
              "      <th>state_1</th>\n",
              "      <th>zip_1</th>\n",
              "      <th>country_1</th>\n",
              "      <th>url_1</th>\n",
              "      <th>...</th>\n",
              "      <th>longitude_2</th>\n",
              "      <th>address_2</th>\n",
              "      <th>city_2</th>\n",
              "      <th>state_2</th>\n",
              "      <th>zip_2</th>\n",
              "      <th>country_2</th>\n",
              "      <th>url_2</th>\n",
              "      <th>phone_2</th>\n",
              "      <th>categories_2</th>\n",
              "      <th>match</th>\n",
              "    </tr>\n",
              "  </thead>\n",
              "  <tbody>\n",
              "    <tr>\n",
              "      <th>0</th>\n",
              "      <td>E_000001272c6c5d</td>\n",
              "      <td>Café Stad Oudenaarde</td>\n",
              "      <td>50.859975</td>\n",
              "      <td>3.634196</td>\n",
              "      <td>Abdijstraat</td>\n",
              "      <td>Nederename</td>\n",
              "      <td>Oost-Vlaanderen</td>\n",
              "      <td>9700</td>\n",
              "      <td>BE</td>\n",
              "      <td>NaN</td>\n",
              "      <td>...</td>\n",
              "      <td>3.635206</td>\n",
              "      <td>NaN</td>\n",
              "      <td>NaN</td>\n",
              "      <td>NaN</td>\n",
              "      <td>NaN</td>\n",
              "      <td>BE</td>\n",
              "      <td>NaN</td>\n",
              "      <td>NaN</td>\n",
              "      <td>Bars</td>\n",
              "      <td>True</td>\n",
              "    </tr>\n",
              "    <tr>\n",
              "      <th>1</th>\n",
              "      <td>E_000008a8ba4f48</td>\n",
              "      <td>Turkcell</td>\n",
              "      <td>37.844510</td>\n",
              "      <td>27.844202</td>\n",
              "      <td>Adnan Menderes Bulvarı</td>\n",
              "      <td>NaN</td>\n",
              "      <td>NaN</td>\n",
              "      <td>NaN</td>\n",
              "      <td>TR</td>\n",
              "      <td>NaN</td>\n",
              "      <td>...</td>\n",
              "      <td>27.845560</td>\n",
              "      <td>batı aydın</td>\n",
              "      <td>aydın</td>\n",
              "      <td>NaN</td>\n",
              "      <td>67500</td>\n",
              "      <td>TR</td>\n",
              "      <td>NaN</td>\n",
              "      <td>NaN</td>\n",
              "      <td>Electronics Stores</td>\n",
              "      <td>False</td>\n",
              "    </tr>\n",
              "    <tr>\n",
              "      <th>2</th>\n",
              "      <td>E_000023d8f4be44</td>\n",
              "      <td>Island Spa</td>\n",
              "      <td>14.518970</td>\n",
              "      <td>121.018702</td>\n",
              "      <td>5th Flr, Newport Mall, Resorts World Manila</td>\n",
              "      <td>Pasay City</td>\n",
              "      <td>Metro Manila</td>\n",
              "      <td>NaN</td>\n",
              "      <td>PH</td>\n",
              "      <td>NaN</td>\n",
              "      <td>...</td>\n",
              "      <td>121.019827</td>\n",
              "      <td>NaN</td>\n",
              "      <td>NaN</td>\n",
              "      <td>NaN</td>\n",
              "      <td>NaN</td>\n",
              "      <td>PH</td>\n",
              "      <td>NaN</td>\n",
              "      <td>NaN</td>\n",
              "      <td>Spas</td>\n",
              "      <td>True</td>\n",
              "    </tr>\n",
              "    <tr>\n",
              "      <th>3</th>\n",
              "      <td>E_00007dcd2bb53f</td>\n",
              "      <td>TOGO'S Sandwiches</td>\n",
              "      <td>38.257797</td>\n",
              "      <td>-122.064599</td>\n",
              "      <td>1380 Holiday Ln., Ste. B</td>\n",
              "      <td>Fairfield</td>\n",
              "      <td>CA</td>\n",
              "      <td>94534</td>\n",
              "      <td>US</td>\n",
              "      <td>https://locations.togos.com/ll/US/CA/Fairfield...</td>\n",
              "      <td>...</td>\n",
              "      <td>-122.064606</td>\n",
              "      <td>NaN</td>\n",
              "      <td>Fairfield</td>\n",
              "      <td>CA</td>\n",
              "      <td>NaN</td>\n",
              "      <td>US</td>\n",
              "      <td>NaN</td>\n",
              "      <td>NaN</td>\n",
              "      <td>Sandwich Places</td>\n",
              "      <td>True</td>\n",
              "    </tr>\n",
              "    <tr>\n",
              "      <th>4</th>\n",
              "      <td>E_0000c362229d93</td>\n",
              "      <td>Coffee Cat</td>\n",
              "      <td>7.082218</td>\n",
              "      <td>125.610244</td>\n",
              "      <td>F. Torres St.</td>\n",
              "      <td>Davao City</td>\n",
              "      <td>Davao Region</td>\n",
              "      <td>8000</td>\n",
              "      <td>PH</td>\n",
              "      <td>NaN</td>\n",
              "      <td>...</td>\n",
              "      <td>125.611457</td>\n",
              "      <td>E. Jacinto Extension</td>\n",
              "      <td>Davao City</td>\n",
              "      <td>Davao Region</td>\n",
              "      <td>8000</td>\n",
              "      <td>PH</td>\n",
              "      <td>NaN</td>\n",
              "      <td>NaN</td>\n",
              "      <td>Coffee Shops, Cafés, Dessert Shops</td>\n",
              "      <td>False</td>\n",
              "    </tr>\n",
              "  </tbody>\n",
              "</table>\n",
              "<p>5 rows × 25 columns</p>\n",
              "</div>\n",
              "      <button class=\"colab-df-convert\" onclick=\"convertToInteractive('df-1f25d39d-31b5-4cf5-802f-870a61e1f212')\"\n",
              "              title=\"Convert this dataframe to an interactive table.\"\n",
              "              style=\"display:none;\">\n",
              "        \n",
              "  <svg xmlns=\"http://www.w3.org/2000/svg\" height=\"24px\"viewBox=\"0 0 24 24\"\n",
              "       width=\"24px\">\n",
              "    <path d=\"M0 0h24v24H0V0z\" fill=\"none\"/>\n",
              "    <path d=\"M18.56 5.44l.94 2.06.94-2.06 2.06-.94-2.06-.94-.94-2.06-.94 2.06-2.06.94zm-11 1L8.5 8.5l.94-2.06 2.06-.94-2.06-.94L8.5 2.5l-.94 2.06-2.06.94zm10 10l.94 2.06.94-2.06 2.06-.94-2.06-.94-.94-2.06-.94 2.06-2.06.94z\"/><path d=\"M17.41 7.96l-1.37-1.37c-.4-.4-.92-.59-1.43-.59-.52 0-1.04.2-1.43.59L10.3 9.45l-7.72 7.72c-.78.78-.78 2.05 0 2.83L4 21.41c.39.39.9.59 1.41.59.51 0 1.02-.2 1.41-.59l7.78-7.78 2.81-2.81c.8-.78.8-2.07 0-2.86zM5.41 20L4 18.59l7.72-7.72 1.47 1.35L5.41 20z\"/>\n",
              "  </svg>\n",
              "      </button>\n",
              "      \n",
              "  <style>\n",
              "    .colab-df-container {\n",
              "      display:flex;\n",
              "      flex-wrap:wrap;\n",
              "      gap: 12px;\n",
              "    }\n",
              "\n",
              "    .colab-df-convert {\n",
              "      background-color: #E8F0FE;\n",
              "      border: none;\n",
              "      border-radius: 50%;\n",
              "      cursor: pointer;\n",
              "      display: none;\n",
              "      fill: #1967D2;\n",
              "      height: 32px;\n",
              "      padding: 0 0 0 0;\n",
              "      width: 32px;\n",
              "    }\n",
              "\n",
              "    .colab-df-convert:hover {\n",
              "      background-color: #E2EBFA;\n",
              "      box-shadow: 0px 1px 2px rgba(60, 64, 67, 0.3), 0px 1px 3px 1px rgba(60, 64, 67, 0.15);\n",
              "      fill: #174EA6;\n",
              "    }\n",
              "\n",
              "    [theme=dark] .colab-df-convert {\n",
              "      background-color: #3B4455;\n",
              "      fill: #D2E3FC;\n",
              "    }\n",
              "\n",
              "    [theme=dark] .colab-df-convert:hover {\n",
              "      background-color: #434B5C;\n",
              "      box-shadow: 0px 1px 3px 1px rgba(0, 0, 0, 0.15);\n",
              "      filter: drop-shadow(0px 1px 2px rgba(0, 0, 0, 0.3));\n",
              "      fill: #FFFFFF;\n",
              "    }\n",
              "  </style>\n",
              "\n",
              "      <script>\n",
              "        const buttonEl =\n",
              "          document.querySelector('#df-1f25d39d-31b5-4cf5-802f-870a61e1f212 button.colab-df-convert');\n",
              "        buttonEl.style.display =\n",
              "          google.colab.kernel.accessAllowed ? 'block' : 'none';\n",
              "\n",
              "        async function convertToInteractive(key) {\n",
              "          const element = document.querySelector('#df-1f25d39d-31b5-4cf5-802f-870a61e1f212');\n",
              "          const dataTable =\n",
              "            await google.colab.kernel.invokeFunction('convertToInteractive',\n",
              "                                                     [key], {});\n",
              "          if (!dataTable) return;\n",
              "\n",
              "          const docLinkHtml = 'Like what you see? Visit the ' +\n",
              "            '<a target=\"_blank\" href=https://colab.research.google.com/notebooks/data_table.ipynb>data table notebook</a>'\n",
              "            + ' to learn more about interactive tables.';\n",
              "          element.innerHTML = '';\n",
              "          dataTable['output_type'] = 'display_data';\n",
              "          await google.colab.output.renderOutput(dataTable, element);\n",
              "          const docLink = document.createElement('div');\n",
              "          docLink.innerHTML = docLinkHtml;\n",
              "          element.appendChild(docLink);\n",
              "        }\n",
              "      </script>\n",
              "    </div>\n",
              "  </div>\n",
              "  "
            ]
          },
          "metadata": {},
          "execution_count": 11
        }
      ]
    },
    {
      "cell_type": "code",
      "metadata": {
        "id": "QtD-QFme4_o9",
        "outputId": "a0189a37-5c97-406f-a1f5-ce73b9e87bc8",
        "colab": {
          "base_uri": "https://localhost:8080/"
        }
      },
      "source": [
        "print (\"Total number of rows in dataset = {}\".format(df.shape[0]))\n",
        "print (\"Total number of columns in dataset = {}\".format(df.shape[1]))"
      ],
      "execution_count": 12,
      "outputs": [
        {
          "output_type": "stream",
          "name": "stdout",
          "text": [
            "Total number of rows in dataset = 800\n",
            "Total number of columns in dataset = 25\n"
          ]
        }
      ]
    },
    {
      "cell_type": "code",
      "metadata": {
        "id": "VfGknafk5INC",
        "outputId": "2416fb86-4744-4f07-d837-39d9f949ffe2",
        "colab": {
          "base_uri": "https://localhost:8080/",
          "height": 947
        }
      },
      "source": [
        "result = resumetable(df)\n",
        "result"
      ],
      "execution_count": 13,
      "outputs": [
        {
          "output_type": "stream",
          "name": "stdout",
          "text": [
            "Dataset Shape: (800, 25)\n"
          ]
        },
        {
          "output_type": "execute_result",
          "data": {
            "text/plain": [
              "            Name   dtypes  Missing  Uniques           First Value  \\\n",
              "0           id_1   object        0      667      E_000001272c6c5d   \n",
              "1         name_1   object        0      654  Café Stad Oudenaarde   \n",
              "2     latitude_1  float64        0      665             50.859975   \n",
              "3    longitude_1  float64        0      665              3.634196   \n",
              "4      address_1   object      152      531           Abdijstraat   \n",
              "5         city_1   object       90      485            Nederename   \n",
              "6        state_1   object      176      273       Oost-Vlaanderen   \n",
              "7          zip_1   object      295      408                  9700   \n",
              "8      country_1   object        0       65                    BE   \n",
              "9          url_1   object      468      256                   NaN   \n",
              "10       phone_1   object      439      293                   NaN   \n",
              "11  categories_1   object       20      363                  Bars   \n",
              "12          id_2   object        0      800      E_da7fa3963561f8   \n",
              "13        name_2   object        0      784       Café Oudenaarde   \n",
              "14    latitude_2  float64        0      793             50.869358   \n",
              "15   longitude_2  float64        0      795              3.635206   \n",
              "16     address_2   object      364      426                   NaN   \n",
              "17        city_2   object      290      391                   NaN   \n",
              "18       state_2   object      368      212                   NaN   \n",
              "19         zip_2   object      493      282                   NaN   \n",
              "20     country_2   object        0       65                    BE   \n",
              "21         url_2   object      683      115                   NaN   \n",
              "22       phone_2   object      639      154                   NaN   \n",
              "23  categories_2   object       96      289                  Bars   \n",
              "24         match     bool        0        2                  True   \n",
              "\n",
              "              Second Value  \n",
              "0         E_000008a8ba4f48  \n",
              "1                 Turkcell  \n",
              "2                 37.84451  \n",
              "3                27.844202  \n",
              "4   Adnan Menderes Bulvarı  \n",
              "5                      NaN  \n",
              "6                      NaN  \n",
              "7                      NaN  \n",
              "8                       TR  \n",
              "9                      NaN  \n",
              "10                     NaN  \n",
              "11      Mobile Phone Shops  \n",
              "12        E_3f12df0b045062  \n",
              "13                Turkcell  \n",
              "14                37.83802  \n",
              "15                27.84556  \n",
              "16              batı aydın  \n",
              "17                   aydın  \n",
              "18                     NaN  \n",
              "19                   67500  \n",
              "20                      TR  \n",
              "21                     NaN  \n",
              "22                     NaN  \n",
              "23      Electronics Stores  \n",
              "24                   False  "
            ],
            "text/html": [
              "\n",
              "  <div id=\"df-f638f4e1-cfa8-41ac-b4ce-4a48de16cc73\">\n",
              "    <div class=\"colab-df-container\">\n",
              "      <div>\n",
              "<style scoped>\n",
              "    .dataframe tbody tr th:only-of-type {\n",
              "        vertical-align: middle;\n",
              "    }\n",
              "\n",
              "    .dataframe tbody tr th {\n",
              "        vertical-align: top;\n",
              "    }\n",
              "\n",
              "    .dataframe thead th {\n",
              "        text-align: right;\n",
              "    }\n",
              "</style>\n",
              "<table border=\"1\" class=\"dataframe\">\n",
              "  <thead>\n",
              "    <tr style=\"text-align: right;\">\n",
              "      <th></th>\n",
              "      <th>Name</th>\n",
              "      <th>dtypes</th>\n",
              "      <th>Missing</th>\n",
              "      <th>Uniques</th>\n",
              "      <th>First Value</th>\n",
              "      <th>Second Value</th>\n",
              "    </tr>\n",
              "  </thead>\n",
              "  <tbody>\n",
              "    <tr>\n",
              "      <th>0</th>\n",
              "      <td>id_1</td>\n",
              "      <td>object</td>\n",
              "      <td>0</td>\n",
              "      <td>667</td>\n",
              "      <td>E_000001272c6c5d</td>\n",
              "      <td>E_000008a8ba4f48</td>\n",
              "    </tr>\n",
              "    <tr>\n",
              "      <th>1</th>\n",
              "      <td>name_1</td>\n",
              "      <td>object</td>\n",
              "      <td>0</td>\n",
              "      <td>654</td>\n",
              "      <td>Café Stad Oudenaarde</td>\n",
              "      <td>Turkcell</td>\n",
              "    </tr>\n",
              "    <tr>\n",
              "      <th>2</th>\n",
              "      <td>latitude_1</td>\n",
              "      <td>float64</td>\n",
              "      <td>0</td>\n",
              "      <td>665</td>\n",
              "      <td>50.859975</td>\n",
              "      <td>37.84451</td>\n",
              "    </tr>\n",
              "    <tr>\n",
              "      <th>3</th>\n",
              "      <td>longitude_1</td>\n",
              "      <td>float64</td>\n",
              "      <td>0</td>\n",
              "      <td>665</td>\n",
              "      <td>3.634196</td>\n",
              "      <td>27.844202</td>\n",
              "    </tr>\n",
              "    <tr>\n",
              "      <th>4</th>\n",
              "      <td>address_1</td>\n",
              "      <td>object</td>\n",
              "      <td>152</td>\n",
              "      <td>531</td>\n",
              "      <td>Abdijstraat</td>\n",
              "      <td>Adnan Menderes Bulvarı</td>\n",
              "    </tr>\n",
              "    <tr>\n",
              "      <th>5</th>\n",
              "      <td>city_1</td>\n",
              "      <td>object</td>\n",
              "      <td>90</td>\n",
              "      <td>485</td>\n",
              "      <td>Nederename</td>\n",
              "      <td>NaN</td>\n",
              "    </tr>\n",
              "    <tr>\n",
              "      <th>6</th>\n",
              "      <td>state_1</td>\n",
              "      <td>object</td>\n",
              "      <td>176</td>\n",
              "      <td>273</td>\n",
              "      <td>Oost-Vlaanderen</td>\n",
              "      <td>NaN</td>\n",
              "    </tr>\n",
              "    <tr>\n",
              "      <th>7</th>\n",
              "      <td>zip_1</td>\n",
              "      <td>object</td>\n",
              "      <td>295</td>\n",
              "      <td>408</td>\n",
              "      <td>9700</td>\n",
              "      <td>NaN</td>\n",
              "    </tr>\n",
              "    <tr>\n",
              "      <th>8</th>\n",
              "      <td>country_1</td>\n",
              "      <td>object</td>\n",
              "      <td>0</td>\n",
              "      <td>65</td>\n",
              "      <td>BE</td>\n",
              "      <td>TR</td>\n",
              "    </tr>\n",
              "    <tr>\n",
              "      <th>9</th>\n",
              "      <td>url_1</td>\n",
              "      <td>object</td>\n",
              "      <td>468</td>\n",
              "      <td>256</td>\n",
              "      <td>NaN</td>\n",
              "      <td>NaN</td>\n",
              "    </tr>\n",
              "    <tr>\n",
              "      <th>10</th>\n",
              "      <td>phone_1</td>\n",
              "      <td>object</td>\n",
              "      <td>439</td>\n",
              "      <td>293</td>\n",
              "      <td>NaN</td>\n",
              "      <td>NaN</td>\n",
              "    </tr>\n",
              "    <tr>\n",
              "      <th>11</th>\n",
              "      <td>categories_1</td>\n",
              "      <td>object</td>\n",
              "      <td>20</td>\n",
              "      <td>363</td>\n",
              "      <td>Bars</td>\n",
              "      <td>Mobile Phone Shops</td>\n",
              "    </tr>\n",
              "    <tr>\n",
              "      <th>12</th>\n",
              "      <td>id_2</td>\n",
              "      <td>object</td>\n",
              "      <td>0</td>\n",
              "      <td>800</td>\n",
              "      <td>E_da7fa3963561f8</td>\n",
              "      <td>E_3f12df0b045062</td>\n",
              "    </tr>\n",
              "    <tr>\n",
              "      <th>13</th>\n",
              "      <td>name_2</td>\n",
              "      <td>object</td>\n",
              "      <td>0</td>\n",
              "      <td>784</td>\n",
              "      <td>Café Oudenaarde</td>\n",
              "      <td>Turkcell</td>\n",
              "    </tr>\n",
              "    <tr>\n",
              "      <th>14</th>\n",
              "      <td>latitude_2</td>\n",
              "      <td>float64</td>\n",
              "      <td>0</td>\n",
              "      <td>793</td>\n",
              "      <td>50.869358</td>\n",
              "      <td>37.83802</td>\n",
              "    </tr>\n",
              "    <tr>\n",
              "      <th>15</th>\n",
              "      <td>longitude_2</td>\n",
              "      <td>float64</td>\n",
              "      <td>0</td>\n",
              "      <td>795</td>\n",
              "      <td>3.635206</td>\n",
              "      <td>27.84556</td>\n",
              "    </tr>\n",
              "    <tr>\n",
              "      <th>16</th>\n",
              "      <td>address_2</td>\n",
              "      <td>object</td>\n",
              "      <td>364</td>\n",
              "      <td>426</td>\n",
              "      <td>NaN</td>\n",
              "      <td>batı aydın</td>\n",
              "    </tr>\n",
              "    <tr>\n",
              "      <th>17</th>\n",
              "      <td>city_2</td>\n",
              "      <td>object</td>\n",
              "      <td>290</td>\n",
              "      <td>391</td>\n",
              "      <td>NaN</td>\n",
              "      <td>aydın</td>\n",
              "    </tr>\n",
              "    <tr>\n",
              "      <th>18</th>\n",
              "      <td>state_2</td>\n",
              "      <td>object</td>\n",
              "      <td>368</td>\n",
              "      <td>212</td>\n",
              "      <td>NaN</td>\n",
              "      <td>NaN</td>\n",
              "    </tr>\n",
              "    <tr>\n",
              "      <th>19</th>\n",
              "      <td>zip_2</td>\n",
              "      <td>object</td>\n",
              "      <td>493</td>\n",
              "      <td>282</td>\n",
              "      <td>NaN</td>\n",
              "      <td>67500</td>\n",
              "    </tr>\n",
              "    <tr>\n",
              "      <th>20</th>\n",
              "      <td>country_2</td>\n",
              "      <td>object</td>\n",
              "      <td>0</td>\n",
              "      <td>65</td>\n",
              "      <td>BE</td>\n",
              "      <td>TR</td>\n",
              "    </tr>\n",
              "    <tr>\n",
              "      <th>21</th>\n",
              "      <td>url_2</td>\n",
              "      <td>object</td>\n",
              "      <td>683</td>\n",
              "      <td>115</td>\n",
              "      <td>NaN</td>\n",
              "      <td>NaN</td>\n",
              "    </tr>\n",
              "    <tr>\n",
              "      <th>22</th>\n",
              "      <td>phone_2</td>\n",
              "      <td>object</td>\n",
              "      <td>639</td>\n",
              "      <td>154</td>\n",
              "      <td>NaN</td>\n",
              "      <td>NaN</td>\n",
              "    </tr>\n",
              "    <tr>\n",
              "      <th>23</th>\n",
              "      <td>categories_2</td>\n",
              "      <td>object</td>\n",
              "      <td>96</td>\n",
              "      <td>289</td>\n",
              "      <td>Bars</td>\n",
              "      <td>Electronics Stores</td>\n",
              "    </tr>\n",
              "    <tr>\n",
              "      <th>24</th>\n",
              "      <td>match</td>\n",
              "      <td>bool</td>\n",
              "      <td>0</td>\n",
              "      <td>2</td>\n",
              "      <td>True</td>\n",
              "      <td>False</td>\n",
              "    </tr>\n",
              "  </tbody>\n",
              "</table>\n",
              "</div>\n",
              "      <button class=\"colab-df-convert\" onclick=\"convertToInteractive('df-f638f4e1-cfa8-41ac-b4ce-4a48de16cc73')\"\n",
              "              title=\"Convert this dataframe to an interactive table.\"\n",
              "              style=\"display:none;\">\n",
              "        \n",
              "  <svg xmlns=\"http://www.w3.org/2000/svg\" height=\"24px\"viewBox=\"0 0 24 24\"\n",
              "       width=\"24px\">\n",
              "    <path d=\"M0 0h24v24H0V0z\" fill=\"none\"/>\n",
              "    <path d=\"M18.56 5.44l.94 2.06.94-2.06 2.06-.94-2.06-.94-.94-2.06-.94 2.06-2.06.94zm-11 1L8.5 8.5l.94-2.06 2.06-.94-2.06-.94L8.5 2.5l-.94 2.06-2.06.94zm10 10l.94 2.06.94-2.06 2.06-.94-2.06-.94-.94-2.06-.94 2.06-2.06.94z\"/><path d=\"M17.41 7.96l-1.37-1.37c-.4-.4-.92-.59-1.43-.59-.52 0-1.04.2-1.43.59L10.3 9.45l-7.72 7.72c-.78.78-.78 2.05 0 2.83L4 21.41c.39.39.9.59 1.41.59.51 0 1.02-.2 1.41-.59l7.78-7.78 2.81-2.81c.8-.78.8-2.07 0-2.86zM5.41 20L4 18.59l7.72-7.72 1.47 1.35L5.41 20z\"/>\n",
              "  </svg>\n",
              "      </button>\n",
              "      \n",
              "  <style>\n",
              "    .colab-df-container {\n",
              "      display:flex;\n",
              "      flex-wrap:wrap;\n",
              "      gap: 12px;\n",
              "    }\n",
              "\n",
              "    .colab-df-convert {\n",
              "      background-color: #E8F0FE;\n",
              "      border: none;\n",
              "      border-radius: 50%;\n",
              "      cursor: pointer;\n",
              "      display: none;\n",
              "      fill: #1967D2;\n",
              "      height: 32px;\n",
              "      padding: 0 0 0 0;\n",
              "      width: 32px;\n",
              "    }\n",
              "\n",
              "    .colab-df-convert:hover {\n",
              "      background-color: #E2EBFA;\n",
              "      box-shadow: 0px 1px 2px rgba(60, 64, 67, 0.3), 0px 1px 3px 1px rgba(60, 64, 67, 0.15);\n",
              "      fill: #174EA6;\n",
              "    }\n",
              "\n",
              "    [theme=dark] .colab-df-convert {\n",
              "      background-color: #3B4455;\n",
              "      fill: #D2E3FC;\n",
              "    }\n",
              "\n",
              "    [theme=dark] .colab-df-convert:hover {\n",
              "      background-color: #434B5C;\n",
              "      box-shadow: 0px 1px 3px 1px rgba(0, 0, 0, 0.15);\n",
              "      filter: drop-shadow(0px 1px 2px rgba(0, 0, 0, 0.3));\n",
              "      fill: #FFFFFF;\n",
              "    }\n",
              "  </style>\n",
              "\n",
              "      <script>\n",
              "        const buttonEl =\n",
              "          document.querySelector('#df-f638f4e1-cfa8-41ac-b4ce-4a48de16cc73 button.colab-df-convert');\n",
              "        buttonEl.style.display =\n",
              "          google.colab.kernel.accessAllowed ? 'block' : 'none';\n",
              "\n",
              "        async function convertToInteractive(key) {\n",
              "          const element = document.querySelector('#df-f638f4e1-cfa8-41ac-b4ce-4a48de16cc73');\n",
              "          const dataTable =\n",
              "            await google.colab.kernel.invokeFunction('convertToInteractive',\n",
              "                                                     [key], {});\n",
              "          if (!dataTable) return;\n",
              "\n",
              "          const docLinkHtml = 'Like what you see? Visit the ' +\n",
              "            '<a target=\"_blank\" href=https://colab.research.google.com/notebooks/data_table.ipynb>data table notebook</a>'\n",
              "            + ' to learn more about interactive tables.';\n",
              "          element.innerHTML = '';\n",
              "          dataTable['output_type'] = 'display_data';\n",
              "          await google.colab.output.renderOutput(dataTable, element);\n",
              "          const docLink = document.createElement('div');\n",
              "          docLink.innerHTML = docLinkHtml;\n",
              "          element.appendChild(docLink);\n",
              "        }\n",
              "      </script>\n",
              "    </div>\n",
              "  </div>\n",
              "  "
            ]
          },
          "metadata": {},
          "execution_count": 13
        }
      ]
    },
    {
      "cell_type": "code",
      "source": [
        "# 2 word preprocessing\n",
        "\n",
        "# lowercase\n",
        "def lower(df, cols):\n",
        "    for col in cols:\n",
        "        df[col] = df[col].fillna('').apply(lambda x: x.lower())\n",
        "    return df\n",
        "\n",
        "# number removing\n",
        "def num_remove(df, cols):\n",
        "    for col in cols:\n",
        "        df[col] = df[col].fillna('').apply(lambda x: re.sub(r'\\d+', '', x))\n",
        "    return df\n",
        "\n",
        "# punctuation removal\n",
        "def punc_remove(df,cols):\n",
        "    for col in cols:\n",
        "        df[col] = df[col].fillna('').apply(lambda x: x.translate(str.maketrans(\"\",\"\", string.punctuation)))\n",
        "    return df\n",
        "\n",
        "# white spaces removal\n",
        "def space_remove(df,cols):\n",
        "    for col in cols:\n",
        "        df[col] = df[col].fillna('').apply(lambda x: x.strip())\n",
        "    return df\n",
        "\n",
        "# stop words removal\n",
        "\n",
        "def list_to_string(lis):\n",
        "    string = ''\n",
        "    for i in lis:\n",
        "        string += i\n",
        "        string += ' '\n",
        "    return string\n",
        "\n",
        "def stop(string):\n",
        "    stops = set(stopwords.words('english'))\n",
        "    tokens = word_tokenize(string)\n",
        "    result = [i for i in tokens if not i in stops]\n",
        "    return result\n",
        "    \n",
        "def stop_remove(df,cols):\n",
        "    for col in cols:\n",
        "        df[col] = df[col].fillna('').apply(lambda x: stop(x))\n",
        "    return df\n",
        "\n",
        "# stemming and lemmatization\n",
        "def lemma_stem(lis):\n",
        "    stemmer = PorterStemmer()\n",
        "    lemmatizer = WordNetLemmatizer()\n",
        "    new_lis = []\n",
        "    for word in lis:\n",
        "        word_new = lemmatizer.lemmatize(word)\n",
        "        word_new = stemmer.stem(word_new)\n",
        "        new_lis += [word_new]\n",
        "    return new_lis\n",
        "\n",
        "def lemma_stemming(df,cols):\n",
        "    for col in cols:\n",
        "        df[col] = df[col].fillna('').apply(lambda x: lemma_stem(x))\n",
        "    return df\n",
        "\n",
        "# remove url\n",
        "def remove_URL(df,cols):\n",
        "    for col in cols:\n",
        "        df[col] = df[col].fillna('').apply(lambda x: re.sub(r\"http\\S+\", \"\", x))\n",
        "    return df"
      ],
      "metadata": {
        "id": "iqoFc36_zPZr"
      },
      "execution_count": 16,
      "outputs": []
    },
    {
      "cell_type": "code",
      "source": [
        "pairs = pd.read_csv('/content/drive/MyDrive/Foursquare/data/pairs_tiny_100.csv')\n",
        "pairs = pairs\n",
        "pairs"
      ],
      "metadata": {
        "colab": {
          "base_uri": "https://localhost:8080/",
          "height": 852
        },
        "id": "_D8Bnrr4zyi0",
        "outputId": "c6778fb7-1d6d-4404-8075-5c6140a32359"
      },
      "execution_count": 17,
      "outputs": [
        {
          "output_type": "execute_result",
          "data": {
            "text/plain": [
              "                id_1                            name_1  latitude_1  \\\n",
              "0   E_000001272c6c5d              Café Stad Oudenaarde   50.859975   \n",
              "1   E_000008a8ba4f48                          Turkcell   37.844510   \n",
              "2   E_000023d8f4be44                        Island Spa   14.518970   \n",
              "3   E_00007dcd2bb53f                 TOGO'S Sandwiches   38.257797   \n",
              "4   E_0000c362229d93                        Coffee Cat    7.082218   \n",
              "..               ...                               ...         ...   \n",
              "95  E_000d7da93f373c                        ローソン 小樽色内店   43.198794   \n",
              "96  E_000da284c9870c                Cityplace Parade 2   43.640253   \n",
              "97  E_000dfeb9eb4e87                      Plac Zawiszy   52.225121   \n",
              "98  E_000e3b02cbde30       Walmart Neighborhood Market   36.055210   \n",
              "99  E_000e43f78a6063  Sense of Luxury - احساس الرفاهية   21.645936   \n",
              "\n",
              "    longitude_1                                    address_1      city_1  \\\n",
              "0      3.634196                                  Abdijstraat  Nederename   \n",
              "1     27.844202                       Adnan Menderes Bulvarı         NaN   \n",
              "2    121.018702  5th Flr, Newport Mall, Resorts World Manila  Pasay City   \n",
              "3   -122.064599                     1380 Holiday Ln., Ste. B   Fairfield   \n",
              "4    125.610244                                F. Torres St.  Davao City   \n",
              "..          ...                                          ...         ...   \n",
              "95   140.998369                                    色内1-15-13         小樽市   \n",
              "96   -79.397529      21 Iceboat Terrace & 151 Dan Leckie Way     Toronto   \n",
              "97    20.989843                                          NaN    Warszawa   \n",
              "98  -115.119751                           7445 S Eastern Ave   Las Vegas   \n",
              "99    39.137486                                          NaN      Jeddah   \n",
              "\n",
              "            state_1     zip_1 country_1  \\\n",
              "0   Oost-Vlaanderen      9700        BE   \n",
              "1               NaN       NaN        TR   \n",
              "2      Metro Manila       NaN        PH   \n",
              "3                CA     94534        US   \n",
              "4      Davao Region      8000        PH   \n",
              "..              ...       ...       ...   \n",
              "95              北海道  047-0031        JP   \n",
              "96               ON   M5V 4A9        CA   \n",
              "97      Mazowieckie    02-017        PL   \n",
              "98               NV     89123        US   \n",
              "99              NaN       NaN        SA   \n",
              "\n",
              "                                                url_1  ... longitude_2  \\\n",
              "0                                                 NaN  ...    3.635206   \n",
              "1                                                 NaN  ...   27.845560   \n",
              "2                                                 NaN  ...  121.019827   \n",
              "3   https://locations.togos.com/ll/US/CA/Fairfield...  ... -122.064606   \n",
              "4                                                 NaN  ...  125.611457   \n",
              "..                                                ...  ...         ...   \n",
              "95                           https://www.lawson.co.jp  ...  140.998318   \n",
              "96                            http://www.cityplace.ca  ...  -79.398128   \n",
              "97                                                NaN  ...   20.987290   \n",
              "98  https://www.walmart.com/store/3356/las-vegas-n...  ... -115.136438   \n",
              "99                                                NaN  ...   39.137598   \n",
              "\n",
              "               address_2      city_2       state_2     zip_2  country_2  \\\n",
              "0                    NaN         NaN           NaN       NaN         BE   \n",
              "1             batı aydın       aydın           NaN     67500         TR   \n",
              "2                    NaN         NaN           NaN       NaN         PH   \n",
              "3                    NaN   Fairfield            CA       NaN         US   \n",
              "4   E. Jacinto Extension  Davao City  Davao Region      8000         PH   \n",
              "..                   ...         ...           ...       ...        ...   \n",
              "95             色内1-15-13          小樽           北海道  047-0031         JP   \n",
              "96    21 Iceboat Terrace     Toronto            ON   M5V 4A9         CA   \n",
              "97                   NaN      Warsaw      Masovian    00-811         PL   \n",
              "98                   NaN   Las Vegas            NV     89119         US   \n",
              "99  Prince sultan street      Jeddah           NaN       NaN         SA   \n",
              "\n",
              "                       url_2   phone_2  \\\n",
              "0                        NaN       NaN   \n",
              "1                        NaN       NaN   \n",
              "2                        NaN       NaN   \n",
              "3                        NaN       NaN   \n",
              "4                        NaN       NaN   \n",
              "..                       ...       ...   \n",
              "95  https://www.lawson.co.jp       NaN   \n",
              "96                       NaN       NaN   \n",
              "97                       NaN       NaN   \n",
              "98                       NaN       NaN   \n",
              "99                       NaN  22158050   \n",
              "\n",
              "                                   categories_2  match  \n",
              "0                                          Bars   True  \n",
              "1                            Electronics Stores  False  \n",
              "2                                          Spas   True  \n",
              "3                               Sandwich Places   True  \n",
              "4            Coffee Shops, Cafés, Dessert Shops  False  \n",
              "..                                          ...    ...  \n",
              "95                           Convenience Stores   True  \n",
              "96  Residential Buildings (Apartments / Condos)   True  \n",
              "97                                    Bus Stops  False  \n",
              "98                          Miscellaneous Shops   True  \n",
              "99            Nail Salons, Salons / Barbershops   True  \n",
              "\n",
              "[100 rows x 25 columns]"
            ],
            "text/html": [
              "\n",
              "  <div id=\"df-eb0840e5-3fb1-4ac1-b9be-3b976b44e938\">\n",
              "    <div class=\"colab-df-container\">\n",
              "      <div>\n",
              "<style scoped>\n",
              "    .dataframe tbody tr th:only-of-type {\n",
              "        vertical-align: middle;\n",
              "    }\n",
              "\n",
              "    .dataframe tbody tr th {\n",
              "        vertical-align: top;\n",
              "    }\n",
              "\n",
              "    .dataframe thead th {\n",
              "        text-align: right;\n",
              "    }\n",
              "</style>\n",
              "<table border=\"1\" class=\"dataframe\">\n",
              "  <thead>\n",
              "    <tr style=\"text-align: right;\">\n",
              "      <th></th>\n",
              "      <th>id_1</th>\n",
              "      <th>name_1</th>\n",
              "      <th>latitude_1</th>\n",
              "      <th>longitude_1</th>\n",
              "      <th>address_1</th>\n",
              "      <th>city_1</th>\n",
              "      <th>state_1</th>\n",
              "      <th>zip_1</th>\n",
              "      <th>country_1</th>\n",
              "      <th>url_1</th>\n",
              "      <th>...</th>\n",
              "      <th>longitude_2</th>\n",
              "      <th>address_2</th>\n",
              "      <th>city_2</th>\n",
              "      <th>state_2</th>\n",
              "      <th>zip_2</th>\n",
              "      <th>country_2</th>\n",
              "      <th>url_2</th>\n",
              "      <th>phone_2</th>\n",
              "      <th>categories_2</th>\n",
              "      <th>match</th>\n",
              "    </tr>\n",
              "  </thead>\n",
              "  <tbody>\n",
              "    <tr>\n",
              "      <th>0</th>\n",
              "      <td>E_000001272c6c5d</td>\n",
              "      <td>Café Stad Oudenaarde</td>\n",
              "      <td>50.859975</td>\n",
              "      <td>3.634196</td>\n",
              "      <td>Abdijstraat</td>\n",
              "      <td>Nederename</td>\n",
              "      <td>Oost-Vlaanderen</td>\n",
              "      <td>9700</td>\n",
              "      <td>BE</td>\n",
              "      <td>NaN</td>\n",
              "      <td>...</td>\n",
              "      <td>3.635206</td>\n",
              "      <td>NaN</td>\n",
              "      <td>NaN</td>\n",
              "      <td>NaN</td>\n",
              "      <td>NaN</td>\n",
              "      <td>BE</td>\n",
              "      <td>NaN</td>\n",
              "      <td>NaN</td>\n",
              "      <td>Bars</td>\n",
              "      <td>True</td>\n",
              "    </tr>\n",
              "    <tr>\n",
              "      <th>1</th>\n",
              "      <td>E_000008a8ba4f48</td>\n",
              "      <td>Turkcell</td>\n",
              "      <td>37.844510</td>\n",
              "      <td>27.844202</td>\n",
              "      <td>Adnan Menderes Bulvarı</td>\n",
              "      <td>NaN</td>\n",
              "      <td>NaN</td>\n",
              "      <td>NaN</td>\n",
              "      <td>TR</td>\n",
              "      <td>NaN</td>\n",
              "      <td>...</td>\n",
              "      <td>27.845560</td>\n",
              "      <td>batı aydın</td>\n",
              "      <td>aydın</td>\n",
              "      <td>NaN</td>\n",
              "      <td>67500</td>\n",
              "      <td>TR</td>\n",
              "      <td>NaN</td>\n",
              "      <td>NaN</td>\n",
              "      <td>Electronics Stores</td>\n",
              "      <td>False</td>\n",
              "    </tr>\n",
              "    <tr>\n",
              "      <th>2</th>\n",
              "      <td>E_000023d8f4be44</td>\n",
              "      <td>Island Spa</td>\n",
              "      <td>14.518970</td>\n",
              "      <td>121.018702</td>\n",
              "      <td>5th Flr, Newport Mall, Resorts World Manila</td>\n",
              "      <td>Pasay City</td>\n",
              "      <td>Metro Manila</td>\n",
              "      <td>NaN</td>\n",
              "      <td>PH</td>\n",
              "      <td>NaN</td>\n",
              "      <td>...</td>\n",
              "      <td>121.019827</td>\n",
              "      <td>NaN</td>\n",
              "      <td>NaN</td>\n",
              "      <td>NaN</td>\n",
              "      <td>NaN</td>\n",
              "      <td>PH</td>\n",
              "      <td>NaN</td>\n",
              "      <td>NaN</td>\n",
              "      <td>Spas</td>\n",
              "      <td>True</td>\n",
              "    </tr>\n",
              "    <tr>\n",
              "      <th>3</th>\n",
              "      <td>E_00007dcd2bb53f</td>\n",
              "      <td>TOGO'S Sandwiches</td>\n",
              "      <td>38.257797</td>\n",
              "      <td>-122.064599</td>\n",
              "      <td>1380 Holiday Ln., Ste. B</td>\n",
              "      <td>Fairfield</td>\n",
              "      <td>CA</td>\n",
              "      <td>94534</td>\n",
              "      <td>US</td>\n",
              "      <td>https://locations.togos.com/ll/US/CA/Fairfield...</td>\n",
              "      <td>...</td>\n",
              "      <td>-122.064606</td>\n",
              "      <td>NaN</td>\n",
              "      <td>Fairfield</td>\n",
              "      <td>CA</td>\n",
              "      <td>NaN</td>\n",
              "      <td>US</td>\n",
              "      <td>NaN</td>\n",
              "      <td>NaN</td>\n",
              "      <td>Sandwich Places</td>\n",
              "      <td>True</td>\n",
              "    </tr>\n",
              "    <tr>\n",
              "      <th>4</th>\n",
              "      <td>E_0000c362229d93</td>\n",
              "      <td>Coffee Cat</td>\n",
              "      <td>7.082218</td>\n",
              "      <td>125.610244</td>\n",
              "      <td>F. Torres St.</td>\n",
              "      <td>Davao City</td>\n",
              "      <td>Davao Region</td>\n",
              "      <td>8000</td>\n",
              "      <td>PH</td>\n",
              "      <td>NaN</td>\n",
              "      <td>...</td>\n",
              "      <td>125.611457</td>\n",
              "      <td>E. Jacinto Extension</td>\n",
              "      <td>Davao City</td>\n",
              "      <td>Davao Region</td>\n",
              "      <td>8000</td>\n",
              "      <td>PH</td>\n",
              "      <td>NaN</td>\n",
              "      <td>NaN</td>\n",
              "      <td>Coffee Shops, Cafés, Dessert Shops</td>\n",
              "      <td>False</td>\n",
              "    </tr>\n",
              "    <tr>\n",
              "      <th>...</th>\n",
              "      <td>...</td>\n",
              "      <td>...</td>\n",
              "      <td>...</td>\n",
              "      <td>...</td>\n",
              "      <td>...</td>\n",
              "      <td>...</td>\n",
              "      <td>...</td>\n",
              "      <td>...</td>\n",
              "      <td>...</td>\n",
              "      <td>...</td>\n",
              "      <td>...</td>\n",
              "      <td>...</td>\n",
              "      <td>...</td>\n",
              "      <td>...</td>\n",
              "      <td>...</td>\n",
              "      <td>...</td>\n",
              "      <td>...</td>\n",
              "      <td>...</td>\n",
              "      <td>...</td>\n",
              "      <td>...</td>\n",
              "      <td>...</td>\n",
              "    </tr>\n",
              "    <tr>\n",
              "      <th>95</th>\n",
              "      <td>E_000d7da93f373c</td>\n",
              "      <td>ローソン 小樽色内店</td>\n",
              "      <td>43.198794</td>\n",
              "      <td>140.998369</td>\n",
              "      <td>色内1-15-13</td>\n",
              "      <td>小樽市</td>\n",
              "      <td>北海道</td>\n",
              "      <td>047-0031</td>\n",
              "      <td>JP</td>\n",
              "      <td>https://www.lawson.co.jp</td>\n",
              "      <td>...</td>\n",
              "      <td>140.998318</td>\n",
              "      <td>色内1-15-13</td>\n",
              "      <td>小樽</td>\n",
              "      <td>北海道</td>\n",
              "      <td>047-0031</td>\n",
              "      <td>JP</td>\n",
              "      <td>https://www.lawson.co.jp</td>\n",
              "      <td>NaN</td>\n",
              "      <td>Convenience Stores</td>\n",
              "      <td>True</td>\n",
              "    </tr>\n",
              "    <tr>\n",
              "      <th>96</th>\n",
              "      <td>E_000da284c9870c</td>\n",
              "      <td>Cityplace Parade 2</td>\n",
              "      <td>43.640253</td>\n",
              "      <td>-79.397529</td>\n",
              "      <td>21 Iceboat Terrace &amp; 151 Dan Leckie Way</td>\n",
              "      <td>Toronto</td>\n",
              "      <td>ON</td>\n",
              "      <td>M5V 4A9</td>\n",
              "      <td>CA</td>\n",
              "      <td>http://www.cityplace.ca</td>\n",
              "      <td>...</td>\n",
              "      <td>-79.398128</td>\n",
              "      <td>21 Iceboat Terrace</td>\n",
              "      <td>Toronto</td>\n",
              "      <td>ON</td>\n",
              "      <td>M5V 4A9</td>\n",
              "      <td>CA</td>\n",
              "      <td>NaN</td>\n",
              "      <td>NaN</td>\n",
              "      <td>Residential Buildings (Apartments / Condos)</td>\n",
              "      <td>True</td>\n",
              "    </tr>\n",
              "    <tr>\n",
              "      <th>97</th>\n",
              "      <td>E_000dfeb9eb4e87</td>\n",
              "      <td>Plac Zawiszy</td>\n",
              "      <td>52.225121</td>\n",
              "      <td>20.989843</td>\n",
              "      <td>NaN</td>\n",
              "      <td>Warszawa</td>\n",
              "      <td>Mazowieckie</td>\n",
              "      <td>02-017</td>\n",
              "      <td>PL</td>\n",
              "      <td>NaN</td>\n",
              "      <td>...</td>\n",
              "      <td>20.987290</td>\n",
              "      <td>NaN</td>\n",
              "      <td>Warsaw</td>\n",
              "      <td>Masovian</td>\n",
              "      <td>00-811</td>\n",
              "      <td>PL</td>\n",
              "      <td>NaN</td>\n",
              "      <td>NaN</td>\n",
              "      <td>Bus Stops</td>\n",
              "      <td>False</td>\n",
              "    </tr>\n",
              "    <tr>\n",
              "      <th>98</th>\n",
              "      <td>E_000e3b02cbde30</td>\n",
              "      <td>Walmart Neighborhood Market</td>\n",
              "      <td>36.055210</td>\n",
              "      <td>-115.119751</td>\n",
              "      <td>7445 S Eastern Ave</td>\n",
              "      <td>Las Vegas</td>\n",
              "      <td>NV</td>\n",
              "      <td>89123</td>\n",
              "      <td>US</td>\n",
              "      <td>https://www.walmart.com/store/3356/las-vegas-n...</td>\n",
              "      <td>...</td>\n",
              "      <td>-115.136438</td>\n",
              "      <td>NaN</td>\n",
              "      <td>Las Vegas</td>\n",
              "      <td>NV</td>\n",
              "      <td>89119</td>\n",
              "      <td>US</td>\n",
              "      <td>NaN</td>\n",
              "      <td>NaN</td>\n",
              "      <td>Miscellaneous Shops</td>\n",
              "      <td>True</td>\n",
              "    </tr>\n",
              "    <tr>\n",
              "      <th>99</th>\n",
              "      <td>E_000e43f78a6063</td>\n",
              "      <td>Sense of Luxury - احساس الرفاهية</td>\n",
              "      <td>21.645936</td>\n",
              "      <td>39.137486</td>\n",
              "      <td>NaN</td>\n",
              "      <td>Jeddah</td>\n",
              "      <td>NaN</td>\n",
              "      <td>NaN</td>\n",
              "      <td>SA</td>\n",
              "      <td>NaN</td>\n",
              "      <td>...</td>\n",
              "      <td>39.137598</td>\n",
              "      <td>Prince sultan street</td>\n",
              "      <td>Jeddah</td>\n",
              "      <td>NaN</td>\n",
              "      <td>NaN</td>\n",
              "      <td>SA</td>\n",
              "      <td>NaN</td>\n",
              "      <td>22158050</td>\n",
              "      <td>Nail Salons, Salons / Barbershops</td>\n",
              "      <td>True</td>\n",
              "    </tr>\n",
              "  </tbody>\n",
              "</table>\n",
              "<p>100 rows × 25 columns</p>\n",
              "</div>\n",
              "      <button class=\"colab-df-convert\" onclick=\"convertToInteractive('df-eb0840e5-3fb1-4ac1-b9be-3b976b44e938')\"\n",
              "              title=\"Convert this dataframe to an interactive table.\"\n",
              "              style=\"display:none;\">\n",
              "        \n",
              "  <svg xmlns=\"http://www.w3.org/2000/svg\" height=\"24px\"viewBox=\"0 0 24 24\"\n",
              "       width=\"24px\">\n",
              "    <path d=\"M0 0h24v24H0V0z\" fill=\"none\"/>\n",
              "    <path d=\"M18.56 5.44l.94 2.06.94-2.06 2.06-.94-2.06-.94-.94-2.06-.94 2.06-2.06.94zm-11 1L8.5 8.5l.94-2.06 2.06-.94-2.06-.94L8.5 2.5l-.94 2.06-2.06.94zm10 10l.94 2.06.94-2.06 2.06-.94-2.06-.94-.94-2.06-.94 2.06-2.06.94z\"/><path d=\"M17.41 7.96l-1.37-1.37c-.4-.4-.92-.59-1.43-.59-.52 0-1.04.2-1.43.59L10.3 9.45l-7.72 7.72c-.78.78-.78 2.05 0 2.83L4 21.41c.39.39.9.59 1.41.59.51 0 1.02-.2 1.41-.59l7.78-7.78 2.81-2.81c.8-.78.8-2.07 0-2.86zM5.41 20L4 18.59l7.72-7.72 1.47 1.35L5.41 20z\"/>\n",
              "  </svg>\n",
              "      </button>\n",
              "      \n",
              "  <style>\n",
              "    .colab-df-container {\n",
              "      display:flex;\n",
              "      flex-wrap:wrap;\n",
              "      gap: 12px;\n",
              "    }\n",
              "\n",
              "    .colab-df-convert {\n",
              "      background-color: #E8F0FE;\n",
              "      border: none;\n",
              "      border-radius: 50%;\n",
              "      cursor: pointer;\n",
              "      display: none;\n",
              "      fill: #1967D2;\n",
              "      height: 32px;\n",
              "      padding: 0 0 0 0;\n",
              "      width: 32px;\n",
              "    }\n",
              "\n",
              "    .colab-df-convert:hover {\n",
              "      background-color: #E2EBFA;\n",
              "      box-shadow: 0px 1px 2px rgba(60, 64, 67, 0.3), 0px 1px 3px 1px rgba(60, 64, 67, 0.15);\n",
              "      fill: #174EA6;\n",
              "    }\n",
              "\n",
              "    [theme=dark] .colab-df-convert {\n",
              "      background-color: #3B4455;\n",
              "      fill: #D2E3FC;\n",
              "    }\n",
              "\n",
              "    [theme=dark] .colab-df-convert:hover {\n",
              "      background-color: #434B5C;\n",
              "      box-shadow: 0px 1px 3px 1px rgba(0, 0, 0, 0.15);\n",
              "      filter: drop-shadow(0px 1px 2px rgba(0, 0, 0, 0.3));\n",
              "      fill: #FFFFFF;\n",
              "    }\n",
              "  </style>\n",
              "\n",
              "      <script>\n",
              "        const buttonEl =\n",
              "          document.querySelector('#df-eb0840e5-3fb1-4ac1-b9be-3b976b44e938 button.colab-df-convert');\n",
              "        buttonEl.style.display =\n",
              "          google.colab.kernel.accessAllowed ? 'block' : 'none';\n",
              "\n",
              "        async function convertToInteractive(key) {\n",
              "          const element = document.querySelector('#df-eb0840e5-3fb1-4ac1-b9be-3b976b44e938');\n",
              "          const dataTable =\n",
              "            await google.colab.kernel.invokeFunction('convertToInteractive',\n",
              "                                                     [key], {});\n",
              "          if (!dataTable) return;\n",
              "\n",
              "          const docLinkHtml = 'Like what you see? Visit the ' +\n",
              "            '<a target=\"_blank\" href=https://colab.research.google.com/notebooks/data_table.ipynb>data table notebook</a>'\n",
              "            + ' to learn more about interactive tables.';\n",
              "          element.innerHTML = '';\n",
              "          dataTable['output_type'] = 'display_data';\n",
              "          await google.colab.output.renderOutput(dataTable, element);\n",
              "          const docLink = document.createElement('div');\n",
              "          docLink.innerHTML = docLinkHtml;\n",
              "          element.appendChild(docLink);\n",
              "        }\n",
              "      </script>\n",
              "    </div>\n",
              "  </div>\n",
              "  "
            ]
          },
          "metadata": {},
          "execution_count": 17
        }
      ]
    },
    {
      "cell_type": "code",
      "source": [
        "pairs.iloc[:,0:12]\n",
        "pairs.info()\n",
        "pairs.match.value_counts()"
      ],
      "metadata": {
        "colab": {
          "base_uri": "https://localhost:8080/"
        },
        "id": "j4JYrb7Oz-P1",
        "outputId": "45a85dbb-7aa9-41b0-d17d-ebec3eb84ec3"
      },
      "execution_count": 18,
      "outputs": [
        {
          "output_type": "stream",
          "name": "stdout",
          "text": [
            "<class 'pandas.core.frame.DataFrame'>\n",
            "RangeIndex: 100 entries, 0 to 99\n",
            "Data columns (total 25 columns):\n",
            " #   Column        Non-Null Count  Dtype  \n",
            "---  ------        --------------  -----  \n",
            " 0   id_1          100 non-null    object \n",
            " 1   name_1        100 non-null    object \n",
            " 2   latitude_1    100 non-null    float64\n",
            " 3   longitude_1   100 non-null    float64\n",
            " 4   address_1     85 non-null     object \n",
            " 5   city_1        89 non-null     object \n",
            " 6   state_1       78 non-null     object \n",
            " 7   zip_1         68 non-null     object \n",
            " 8   country_1     100 non-null    object \n",
            " 9   url_1         47 non-null     object \n",
            " 10  phone_1       48 non-null     object \n",
            " 11  categories_1  100 non-null    object \n",
            " 12  id_2          100 non-null    object \n",
            " 13  name_2        100 non-null    object \n",
            " 14  latitude_2    100 non-null    float64\n",
            " 15  longitude_2   100 non-null    float64\n",
            " 16  address_2     52 non-null     object \n",
            " 17  city_2        68 non-null     object \n",
            " 18  state_2       60 non-null     object \n",
            " 19  zip_2         44 non-null     object \n",
            " 20  country_2     100 non-null    object \n",
            " 21  url_2         19 non-null     object \n",
            " 22  phone_2       18 non-null     object \n",
            " 23  categories_2  90 non-null     object \n",
            " 24  match         100 non-null    bool   \n",
            "dtypes: bool(1), float64(4), object(20)\n",
            "memory usage: 19.0+ KB\n"
          ]
        },
        {
          "output_type": "execute_result",
          "data": {
            "text/plain": [
              "True     73\n",
              "False    27\n",
              "Name: match, dtype: int64"
            ]
          },
          "metadata": {},
          "execution_count": 18
        }
      ]
    },
    {
      "cell_type": "code",
      "source": [
        "word_columns = ['name_1','address_1','city_1','state_1','url_1','categories_1','name_2','address_2','city_2','state_2','url_2','categories_2']\n",
        "url_columns = ['url_1','url_2']\n",
        "pairs[url_columns] = remove_URL(pairs, url_columns)[url_columns]\n",
        "pairs[word_columns] = lower(pairs, word_columns)[word_columns]\n",
        "pairs[word_columns] = num_remove(pairs, word_columns)[word_columns]\n",
        "pairs[word_columns] = punc_remove(pairs, word_columns)[word_columns]\n",
        "pairs[word_columns] = space_remove(pairs, word_columns)[word_columns]\n",
        "# pairs[word_columns] = stop_remove(pairs, word_columns)[word_columns]\n",
        "# pairs[word_columns] = lemma_stemming(pairs, word_columns)[word_columns]"
      ],
      "metadata": {
        "id": "i1tGF7jXzJAZ"
      },
      "execution_count": 19,
      "outputs": []
    },
    {
      "cell_type": "code",
      "source": [
        "# wordnet similarity method\n",
        "def similarity(word1, word2):\n",
        "    max_sim = []\n",
        "    syn1 = wn.synsets(word1)\n",
        "    syn2 = wn.synsets(word2)\n",
        "    for s1 in syn1:\n",
        "        for s2 in syn2:\n",
        "            max_sim.append(s1.path_similarity(s2))\n",
        "    max_sim = [z for z in max_sim if z!=None]\n",
        "    if max_sim == []:\n",
        "        return 0\n",
        "    return max(max_sim)\n",
        "    \n",
        "def similarity_lis(lis_1, lis_2):\n",
        "    score_lis = []\n",
        "    for word in lis_1:\n",
        "        score_lis2 = []\n",
        "        for word_2 in lis_2:\n",
        "            sim = similarity(word, word_2)\n",
        "            if sim != 0:\n",
        "                score_lis2 += [sim]\n",
        "        if score_lis2 == []:\n",
        "            score_lis += [0]\n",
        "        else:\n",
        "            score_lis+=[max(score_lis2)]\n",
        "    if score_lis == []:\n",
        "        return 0\n",
        "    return sum(score_lis)/len(score_lis)\n",
        "\n",
        "def sim_lis(lis_1, lis_2):\n",
        "    return (similarity_lis(lis_1, lis_2) + similarity_lis(lis_2, lis_1))/2\n",
        "\n",
        "def nltk_similarity(df, cols_1, cols_2):\n",
        "    # length for cols_1 and cols_2 must be the same.\n",
        "    for i in range(len(cols_1)):\n",
        "        df[f\"{cols_1[i]}_nltk\"] = df.apply(lambda x: sim_lis(x[cols_1[i]],x[cols_2[i]]), axis = 1)\n",
        "    return df  "
      ],
      "metadata": {
        "id": "wy4AVXXh0vdV"
      },
      "execution_count": 20,
      "outputs": []
    },
    {
      "cell_type": "code",
      "source": [
        "col_1 = ['name_1','address_1','city_1','state_1','url_1','categories_1']\n",
        "col_2 = ['name_2','address_2','city_2','state_2','url_2','categories_2']\n",
        "import nltk\n",
        "nltk.download('wordnet')\n",
        "nltk.download('omw-1.4')\n",
        "pairs = nltk_similarity(pairs, col_1,col_2)"
      ],
      "metadata": {
        "colab": {
          "base_uri": "https://localhost:8080/"
        },
        "id": "rlfx5u3G0p9-",
        "outputId": "ceea5408-2c38-4d6d-f737-2848ffb94b3c"
      },
      "execution_count": 21,
      "outputs": [
        {
          "output_type": "stream",
          "name": "stderr",
          "text": [
            "[nltk_data] Downloading package wordnet to /root/nltk_data...\n",
            "[nltk_data]   Unzipping corpora/wordnet.zip.\n",
            "[nltk_data] Downloading package omw-1.4 to /root/nltk_data...\n",
            "[nltk_data]   Unzipping corpora/omw-1.4.zip.\n"
          ]
        }
      ]
    },
    {
      "cell_type": "code",
      "source": [
        "pairs"
      ],
      "metadata": {
        "colab": {
          "base_uri": "https://localhost:8080/",
          "height": 835
        },
        "id": "xmRc-t_l1MzY",
        "outputId": "8068764e-908f-40a2-c027-0adb4d8edd99"
      },
      "execution_count": 22,
      "outputs": [
        {
          "output_type": "execute_result",
          "data": {
            "text/plain": [
              "                id_1                           name_1  latitude_1  \\\n",
              "0   E_000001272c6c5d             café stad oudenaarde   50.859975   \n",
              "1   E_000008a8ba4f48                         turkcell   37.844510   \n",
              "2   E_000023d8f4be44                       island spa   14.518970   \n",
              "3   E_00007dcd2bb53f                 togos sandwiches   38.257797   \n",
              "4   E_0000c362229d93                       coffee cat    7.082218   \n",
              "..               ...                              ...         ...   \n",
              "95  E_000d7da93f373c                       ローソン 小樽色内店   43.198794   \n",
              "96  E_000da284c9870c                 cityplace parade   43.640253   \n",
              "97  E_000dfeb9eb4e87                     plac zawiszy   52.225121   \n",
              "98  E_000e3b02cbde30      walmart neighborhood market   36.055210   \n",
              "99  E_000e43f78a6063  sense of luxury  احساس الرفاهية   21.645936   \n",
              "\n",
              "    longitude_1                                 address_1      city_1  \\\n",
              "0      3.634196                               abdijstraat  nederename   \n",
              "1     27.844202                    adnan menderes bulvarı               \n",
              "2    121.018702  th flr newport mall resorts world manila  pasay city   \n",
              "3   -122.064599                          holiday ln ste b   fairfield   \n",
              "4    125.610244                               f torres st  davao city   \n",
              "..          ...                                       ...         ...   \n",
              "95   140.998369                                        色内         小樽市   \n",
              "96   -79.397529          iceboat terrace   dan leckie way     toronto   \n",
              "97    20.989843                                              warszawa   \n",
              "98  -115.119751                             s eastern ave   las vegas   \n",
              "99    39.137486                                                jeddah   \n",
              "\n",
              "           state_1     zip_1 country_1 url_1  ... url_2   phone_2  \\\n",
              "0   oostvlaanderen      9700        BE        ...             NaN   \n",
              "1                        NaN        TR        ...             NaN   \n",
              "2     metro manila       NaN        PH        ...             NaN   \n",
              "3               ca     94534        US        ...             NaN   \n",
              "4     davao region      8000        PH        ...             NaN   \n",
              "..             ...       ...       ...   ...  ...   ...       ...   \n",
              "95             北海道  047-0031        JP        ...             NaN   \n",
              "96              on   M5V 4A9        CA        ...             NaN   \n",
              "97     mazowieckie    02-017        PL        ...             NaN   \n",
              "98              nv     89123        US        ...             NaN   \n",
              "99                       NaN        SA        ...        22158050   \n",
              "\n",
              "                                categories_2  match  name_1_nltk  \\\n",
              "0                                       bars   True     0.825000   \n",
              "1                         electronics stores  False     1.000000   \n",
              "2                                       spas   True     0.783333   \n",
              "3                            sandwich places   True     0.802083   \n",
              "4           coffee shops cafés dessert shops  False     0.950000   \n",
              "..                                       ...    ...          ...   \n",
              "95                        convenience stores   True     0.000000   \n",
              "96  residential buildings apartments  condos   True     0.786806   \n",
              "97                                 bus stops  False     0.916667   \n",
              "98                       miscellaneous shops   True     0.827160   \n",
              "99           nail salons salons  barbershops   True     0.626344   \n",
              "\n",
              "    address_1_nltk city_1_nltk state_1_nltk url_1_nltk categories_1_nltk  \n",
              "0         0.000000    0.000000     0.000000        0.0          1.000000  \n",
              "1         0.563636    0.000000     0.000000        0.0          0.694444  \n",
              "2         0.000000    0.000000     0.000000        0.0          1.000000  \n",
              "3         0.000000    1.000000     1.000000        0.0          0.933333  \n",
              "4         0.607656    0.900000     0.916667        0.0          0.807292  \n",
              "..             ...         ...          ...        ...               ...  \n",
              "95        0.000000    0.000000     0.000000        0.0          0.944444  \n",
              "96        0.810417    1.000000     1.000000        0.0          0.900000  \n",
              "97        0.000000    0.958333     0.723485        0.0          0.888889  \n",
              "98        0.000000    0.888889     1.000000        0.0          0.795127  \n",
              "99        0.000000    1.000000     0.000000        0.0          0.872100  \n",
              "\n",
              "[100 rows x 31 columns]"
            ],
            "text/html": [
              "\n",
              "  <div id=\"df-1d97f3fc-1467-4394-826d-b71cd0f513d3\">\n",
              "    <div class=\"colab-df-container\">\n",
              "      <div>\n",
              "<style scoped>\n",
              "    .dataframe tbody tr th:only-of-type {\n",
              "        vertical-align: middle;\n",
              "    }\n",
              "\n",
              "    .dataframe tbody tr th {\n",
              "        vertical-align: top;\n",
              "    }\n",
              "\n",
              "    .dataframe thead th {\n",
              "        text-align: right;\n",
              "    }\n",
              "</style>\n",
              "<table border=\"1\" class=\"dataframe\">\n",
              "  <thead>\n",
              "    <tr style=\"text-align: right;\">\n",
              "      <th></th>\n",
              "      <th>id_1</th>\n",
              "      <th>name_1</th>\n",
              "      <th>latitude_1</th>\n",
              "      <th>longitude_1</th>\n",
              "      <th>address_1</th>\n",
              "      <th>city_1</th>\n",
              "      <th>state_1</th>\n",
              "      <th>zip_1</th>\n",
              "      <th>country_1</th>\n",
              "      <th>url_1</th>\n",
              "      <th>...</th>\n",
              "      <th>url_2</th>\n",
              "      <th>phone_2</th>\n",
              "      <th>categories_2</th>\n",
              "      <th>match</th>\n",
              "      <th>name_1_nltk</th>\n",
              "      <th>address_1_nltk</th>\n",
              "      <th>city_1_nltk</th>\n",
              "      <th>state_1_nltk</th>\n",
              "      <th>url_1_nltk</th>\n",
              "      <th>categories_1_nltk</th>\n",
              "    </tr>\n",
              "  </thead>\n",
              "  <tbody>\n",
              "    <tr>\n",
              "      <th>0</th>\n",
              "      <td>E_000001272c6c5d</td>\n",
              "      <td>café stad oudenaarde</td>\n",
              "      <td>50.859975</td>\n",
              "      <td>3.634196</td>\n",
              "      <td>abdijstraat</td>\n",
              "      <td>nederename</td>\n",
              "      <td>oostvlaanderen</td>\n",
              "      <td>9700</td>\n",
              "      <td>BE</td>\n",
              "      <td></td>\n",
              "      <td>...</td>\n",
              "      <td></td>\n",
              "      <td>NaN</td>\n",
              "      <td>bars</td>\n",
              "      <td>True</td>\n",
              "      <td>0.825000</td>\n",
              "      <td>0.000000</td>\n",
              "      <td>0.000000</td>\n",
              "      <td>0.000000</td>\n",
              "      <td>0.0</td>\n",
              "      <td>1.000000</td>\n",
              "    </tr>\n",
              "    <tr>\n",
              "      <th>1</th>\n",
              "      <td>E_000008a8ba4f48</td>\n",
              "      <td>turkcell</td>\n",
              "      <td>37.844510</td>\n",
              "      <td>27.844202</td>\n",
              "      <td>adnan menderes bulvarı</td>\n",
              "      <td></td>\n",
              "      <td></td>\n",
              "      <td>NaN</td>\n",
              "      <td>TR</td>\n",
              "      <td></td>\n",
              "      <td>...</td>\n",
              "      <td></td>\n",
              "      <td>NaN</td>\n",
              "      <td>electronics stores</td>\n",
              "      <td>False</td>\n",
              "      <td>1.000000</td>\n",
              "      <td>0.563636</td>\n",
              "      <td>0.000000</td>\n",
              "      <td>0.000000</td>\n",
              "      <td>0.0</td>\n",
              "      <td>0.694444</td>\n",
              "    </tr>\n",
              "    <tr>\n",
              "      <th>2</th>\n",
              "      <td>E_000023d8f4be44</td>\n",
              "      <td>island spa</td>\n",
              "      <td>14.518970</td>\n",
              "      <td>121.018702</td>\n",
              "      <td>th flr newport mall resorts world manila</td>\n",
              "      <td>pasay city</td>\n",
              "      <td>metro manila</td>\n",
              "      <td>NaN</td>\n",
              "      <td>PH</td>\n",
              "      <td></td>\n",
              "      <td>...</td>\n",
              "      <td></td>\n",
              "      <td>NaN</td>\n",
              "      <td>spas</td>\n",
              "      <td>True</td>\n",
              "      <td>0.783333</td>\n",
              "      <td>0.000000</td>\n",
              "      <td>0.000000</td>\n",
              "      <td>0.000000</td>\n",
              "      <td>0.0</td>\n",
              "      <td>1.000000</td>\n",
              "    </tr>\n",
              "    <tr>\n",
              "      <th>3</th>\n",
              "      <td>E_00007dcd2bb53f</td>\n",
              "      <td>togos sandwiches</td>\n",
              "      <td>38.257797</td>\n",
              "      <td>-122.064599</td>\n",
              "      <td>holiday ln ste b</td>\n",
              "      <td>fairfield</td>\n",
              "      <td>ca</td>\n",
              "      <td>94534</td>\n",
              "      <td>US</td>\n",
              "      <td></td>\n",
              "      <td>...</td>\n",
              "      <td></td>\n",
              "      <td>NaN</td>\n",
              "      <td>sandwich places</td>\n",
              "      <td>True</td>\n",
              "      <td>0.802083</td>\n",
              "      <td>0.000000</td>\n",
              "      <td>1.000000</td>\n",
              "      <td>1.000000</td>\n",
              "      <td>0.0</td>\n",
              "      <td>0.933333</td>\n",
              "    </tr>\n",
              "    <tr>\n",
              "      <th>4</th>\n",
              "      <td>E_0000c362229d93</td>\n",
              "      <td>coffee cat</td>\n",
              "      <td>7.082218</td>\n",
              "      <td>125.610244</td>\n",
              "      <td>f torres st</td>\n",
              "      <td>davao city</td>\n",
              "      <td>davao region</td>\n",
              "      <td>8000</td>\n",
              "      <td>PH</td>\n",
              "      <td></td>\n",
              "      <td>...</td>\n",
              "      <td></td>\n",
              "      <td>NaN</td>\n",
              "      <td>coffee shops cafés dessert shops</td>\n",
              "      <td>False</td>\n",
              "      <td>0.950000</td>\n",
              "      <td>0.607656</td>\n",
              "      <td>0.900000</td>\n",
              "      <td>0.916667</td>\n",
              "      <td>0.0</td>\n",
              "      <td>0.807292</td>\n",
              "    </tr>\n",
              "    <tr>\n",
              "      <th>...</th>\n",
              "      <td>...</td>\n",
              "      <td>...</td>\n",
              "      <td>...</td>\n",
              "      <td>...</td>\n",
              "      <td>...</td>\n",
              "      <td>...</td>\n",
              "      <td>...</td>\n",
              "      <td>...</td>\n",
              "      <td>...</td>\n",
              "      <td>...</td>\n",
              "      <td>...</td>\n",
              "      <td>...</td>\n",
              "      <td>...</td>\n",
              "      <td>...</td>\n",
              "      <td>...</td>\n",
              "      <td>...</td>\n",
              "      <td>...</td>\n",
              "      <td>...</td>\n",
              "      <td>...</td>\n",
              "      <td>...</td>\n",
              "      <td>...</td>\n",
              "    </tr>\n",
              "    <tr>\n",
              "      <th>95</th>\n",
              "      <td>E_000d7da93f373c</td>\n",
              "      <td>ローソン 小樽色内店</td>\n",
              "      <td>43.198794</td>\n",
              "      <td>140.998369</td>\n",
              "      <td>色内</td>\n",
              "      <td>小樽市</td>\n",
              "      <td>北海道</td>\n",
              "      <td>047-0031</td>\n",
              "      <td>JP</td>\n",
              "      <td></td>\n",
              "      <td>...</td>\n",
              "      <td></td>\n",
              "      <td>NaN</td>\n",
              "      <td>convenience stores</td>\n",
              "      <td>True</td>\n",
              "      <td>0.000000</td>\n",
              "      <td>0.000000</td>\n",
              "      <td>0.000000</td>\n",
              "      <td>0.000000</td>\n",
              "      <td>0.0</td>\n",
              "      <td>0.944444</td>\n",
              "    </tr>\n",
              "    <tr>\n",
              "      <th>96</th>\n",
              "      <td>E_000da284c9870c</td>\n",
              "      <td>cityplace parade</td>\n",
              "      <td>43.640253</td>\n",
              "      <td>-79.397529</td>\n",
              "      <td>iceboat terrace   dan leckie way</td>\n",
              "      <td>toronto</td>\n",
              "      <td>on</td>\n",
              "      <td>M5V 4A9</td>\n",
              "      <td>CA</td>\n",
              "      <td></td>\n",
              "      <td>...</td>\n",
              "      <td></td>\n",
              "      <td>NaN</td>\n",
              "      <td>residential buildings apartments  condos</td>\n",
              "      <td>True</td>\n",
              "      <td>0.786806</td>\n",
              "      <td>0.810417</td>\n",
              "      <td>1.000000</td>\n",
              "      <td>1.000000</td>\n",
              "      <td>0.0</td>\n",
              "      <td>0.900000</td>\n",
              "    </tr>\n",
              "    <tr>\n",
              "      <th>97</th>\n",
              "      <td>E_000dfeb9eb4e87</td>\n",
              "      <td>plac zawiszy</td>\n",
              "      <td>52.225121</td>\n",
              "      <td>20.989843</td>\n",
              "      <td></td>\n",
              "      <td>warszawa</td>\n",
              "      <td>mazowieckie</td>\n",
              "      <td>02-017</td>\n",
              "      <td>PL</td>\n",
              "      <td></td>\n",
              "      <td>...</td>\n",
              "      <td></td>\n",
              "      <td>NaN</td>\n",
              "      <td>bus stops</td>\n",
              "      <td>False</td>\n",
              "      <td>0.916667</td>\n",
              "      <td>0.000000</td>\n",
              "      <td>0.958333</td>\n",
              "      <td>0.723485</td>\n",
              "      <td>0.0</td>\n",
              "      <td>0.888889</td>\n",
              "    </tr>\n",
              "    <tr>\n",
              "      <th>98</th>\n",
              "      <td>E_000e3b02cbde30</td>\n",
              "      <td>walmart neighborhood market</td>\n",
              "      <td>36.055210</td>\n",
              "      <td>-115.119751</td>\n",
              "      <td>s eastern ave</td>\n",
              "      <td>las vegas</td>\n",
              "      <td>nv</td>\n",
              "      <td>89123</td>\n",
              "      <td>US</td>\n",
              "      <td></td>\n",
              "      <td>...</td>\n",
              "      <td></td>\n",
              "      <td>NaN</td>\n",
              "      <td>miscellaneous shops</td>\n",
              "      <td>True</td>\n",
              "      <td>0.827160</td>\n",
              "      <td>0.000000</td>\n",
              "      <td>0.888889</td>\n",
              "      <td>1.000000</td>\n",
              "      <td>0.0</td>\n",
              "      <td>0.795127</td>\n",
              "    </tr>\n",
              "    <tr>\n",
              "      <th>99</th>\n",
              "      <td>E_000e43f78a6063</td>\n",
              "      <td>sense of luxury  احساس الرفاهية</td>\n",
              "      <td>21.645936</td>\n",
              "      <td>39.137486</td>\n",
              "      <td></td>\n",
              "      <td>jeddah</td>\n",
              "      <td></td>\n",
              "      <td>NaN</td>\n",
              "      <td>SA</td>\n",
              "      <td></td>\n",
              "      <td>...</td>\n",
              "      <td></td>\n",
              "      <td>22158050</td>\n",
              "      <td>nail salons salons  barbershops</td>\n",
              "      <td>True</td>\n",
              "      <td>0.626344</td>\n",
              "      <td>0.000000</td>\n",
              "      <td>1.000000</td>\n",
              "      <td>0.000000</td>\n",
              "      <td>0.0</td>\n",
              "      <td>0.872100</td>\n",
              "    </tr>\n",
              "  </tbody>\n",
              "</table>\n",
              "<p>100 rows × 31 columns</p>\n",
              "</div>\n",
              "      <button class=\"colab-df-convert\" onclick=\"convertToInteractive('df-1d97f3fc-1467-4394-826d-b71cd0f513d3')\"\n",
              "              title=\"Convert this dataframe to an interactive table.\"\n",
              "              style=\"display:none;\">\n",
              "        \n",
              "  <svg xmlns=\"http://www.w3.org/2000/svg\" height=\"24px\"viewBox=\"0 0 24 24\"\n",
              "       width=\"24px\">\n",
              "    <path d=\"M0 0h24v24H0V0z\" fill=\"none\"/>\n",
              "    <path d=\"M18.56 5.44l.94 2.06.94-2.06 2.06-.94-2.06-.94-.94-2.06-.94 2.06-2.06.94zm-11 1L8.5 8.5l.94-2.06 2.06-.94-2.06-.94L8.5 2.5l-.94 2.06-2.06.94zm10 10l.94 2.06.94-2.06 2.06-.94-2.06-.94-.94-2.06-.94 2.06-2.06.94z\"/><path d=\"M17.41 7.96l-1.37-1.37c-.4-.4-.92-.59-1.43-.59-.52 0-1.04.2-1.43.59L10.3 9.45l-7.72 7.72c-.78.78-.78 2.05 0 2.83L4 21.41c.39.39.9.59 1.41.59.51 0 1.02-.2 1.41-.59l7.78-7.78 2.81-2.81c.8-.78.8-2.07 0-2.86zM5.41 20L4 18.59l7.72-7.72 1.47 1.35L5.41 20z\"/>\n",
              "  </svg>\n",
              "      </button>\n",
              "      \n",
              "  <style>\n",
              "    .colab-df-container {\n",
              "      display:flex;\n",
              "      flex-wrap:wrap;\n",
              "      gap: 12px;\n",
              "    }\n",
              "\n",
              "    .colab-df-convert {\n",
              "      background-color: #E8F0FE;\n",
              "      border: none;\n",
              "      border-radius: 50%;\n",
              "      cursor: pointer;\n",
              "      display: none;\n",
              "      fill: #1967D2;\n",
              "      height: 32px;\n",
              "      padding: 0 0 0 0;\n",
              "      width: 32px;\n",
              "    }\n",
              "\n",
              "    .colab-df-convert:hover {\n",
              "      background-color: #E2EBFA;\n",
              "      box-shadow: 0px 1px 2px rgba(60, 64, 67, 0.3), 0px 1px 3px 1px rgba(60, 64, 67, 0.15);\n",
              "      fill: #174EA6;\n",
              "    }\n",
              "\n",
              "    [theme=dark] .colab-df-convert {\n",
              "      background-color: #3B4455;\n",
              "      fill: #D2E3FC;\n",
              "    }\n",
              "\n",
              "    [theme=dark] .colab-df-convert:hover {\n",
              "      background-color: #434B5C;\n",
              "      box-shadow: 0px 1px 3px 1px rgba(0, 0, 0, 0.15);\n",
              "      filter: drop-shadow(0px 1px 2px rgba(0, 0, 0, 0.3));\n",
              "      fill: #FFFFFF;\n",
              "    }\n",
              "  </style>\n",
              "\n",
              "      <script>\n",
              "        const buttonEl =\n",
              "          document.querySelector('#df-1d97f3fc-1467-4394-826d-b71cd0f513d3 button.colab-df-convert');\n",
              "        buttonEl.style.display =\n",
              "          google.colab.kernel.accessAllowed ? 'block' : 'none';\n",
              "\n",
              "        async function convertToInteractive(key) {\n",
              "          const element = document.querySelector('#df-1d97f3fc-1467-4394-826d-b71cd0f513d3');\n",
              "          const dataTable =\n",
              "            await google.colab.kernel.invokeFunction('convertToInteractive',\n",
              "                                                     [key], {});\n",
              "          if (!dataTable) return;\n",
              "\n",
              "          const docLinkHtml = 'Like what you see? Visit the ' +\n",
              "            '<a target=\"_blank\" href=https://colab.research.google.com/notebooks/data_table.ipynb>data table notebook</a>'\n",
              "            + ' to learn more about interactive tables.';\n",
              "          element.innerHTML = '';\n",
              "          dataTable['output_type'] = 'display_data';\n",
              "          await google.colab.output.renderOutput(dataTable, element);\n",
              "          const docLink = document.createElement('div');\n",
              "          docLink.innerHTML = docLinkHtml;\n",
              "          element.appendChild(docLink);\n",
              "        }\n",
              "      </script>\n",
              "    </div>\n",
              "  </div>\n",
              "  "
            ]
          },
          "metadata": {},
          "execution_count": 22
        }
      ]
    },
    {
      "cell_type": "code",
      "source": [
        "new_df = pairs[[\"match\",\"name_1_nltk\",\"address_1_nltk\",\"city_1_nltk\",\"state_1_nltk\",\"url_1_nltk\",\"categories_1_nltk\"]]\n",
        "new_df"
      ],
      "metadata": {
        "colab": {
          "base_uri": "https://localhost:8080/",
          "height": 488
        },
        "id": "-4N6VH_J1RB5",
        "outputId": "2e444cda-07bc-4e2f-b772-29d276fef30d"
      },
      "execution_count": 23,
      "outputs": [
        {
          "output_type": "execute_result",
          "data": {
            "text/plain": [
              "    match  name_1_nltk  address_1_nltk  city_1_nltk  state_1_nltk  url_1_nltk  \\\n",
              "0    True     0.825000        0.000000     0.000000      0.000000         0.0   \n",
              "1   False     1.000000        0.563636     0.000000      0.000000         0.0   \n",
              "2    True     0.783333        0.000000     0.000000      0.000000         0.0   \n",
              "3    True     0.802083        0.000000     1.000000      1.000000         0.0   \n",
              "4   False     0.950000        0.607656     0.900000      0.916667         0.0   \n",
              "..    ...          ...             ...          ...           ...         ...   \n",
              "95   True     0.000000        0.000000     0.000000      0.000000         0.0   \n",
              "96   True     0.786806        0.810417     1.000000      1.000000         0.0   \n",
              "97  False     0.916667        0.000000     0.958333      0.723485         0.0   \n",
              "98   True     0.827160        0.000000     0.888889      1.000000         0.0   \n",
              "99   True     0.626344        0.000000     1.000000      0.000000         0.0   \n",
              "\n",
              "    categories_1_nltk  \n",
              "0            1.000000  \n",
              "1            0.694444  \n",
              "2            1.000000  \n",
              "3            0.933333  \n",
              "4            0.807292  \n",
              "..                ...  \n",
              "95           0.944444  \n",
              "96           0.900000  \n",
              "97           0.888889  \n",
              "98           0.795127  \n",
              "99           0.872100  \n",
              "\n",
              "[100 rows x 7 columns]"
            ],
            "text/html": [
              "\n",
              "  <div id=\"df-8aea0acf-18d6-4cef-830f-57f8f16ba71f\">\n",
              "    <div class=\"colab-df-container\">\n",
              "      <div>\n",
              "<style scoped>\n",
              "    .dataframe tbody tr th:only-of-type {\n",
              "        vertical-align: middle;\n",
              "    }\n",
              "\n",
              "    .dataframe tbody tr th {\n",
              "        vertical-align: top;\n",
              "    }\n",
              "\n",
              "    .dataframe thead th {\n",
              "        text-align: right;\n",
              "    }\n",
              "</style>\n",
              "<table border=\"1\" class=\"dataframe\">\n",
              "  <thead>\n",
              "    <tr style=\"text-align: right;\">\n",
              "      <th></th>\n",
              "      <th>match</th>\n",
              "      <th>name_1_nltk</th>\n",
              "      <th>address_1_nltk</th>\n",
              "      <th>city_1_nltk</th>\n",
              "      <th>state_1_nltk</th>\n",
              "      <th>url_1_nltk</th>\n",
              "      <th>categories_1_nltk</th>\n",
              "    </tr>\n",
              "  </thead>\n",
              "  <tbody>\n",
              "    <tr>\n",
              "      <th>0</th>\n",
              "      <td>True</td>\n",
              "      <td>0.825000</td>\n",
              "      <td>0.000000</td>\n",
              "      <td>0.000000</td>\n",
              "      <td>0.000000</td>\n",
              "      <td>0.0</td>\n",
              "      <td>1.000000</td>\n",
              "    </tr>\n",
              "    <tr>\n",
              "      <th>1</th>\n",
              "      <td>False</td>\n",
              "      <td>1.000000</td>\n",
              "      <td>0.563636</td>\n",
              "      <td>0.000000</td>\n",
              "      <td>0.000000</td>\n",
              "      <td>0.0</td>\n",
              "      <td>0.694444</td>\n",
              "    </tr>\n",
              "    <tr>\n",
              "      <th>2</th>\n",
              "      <td>True</td>\n",
              "      <td>0.783333</td>\n",
              "      <td>0.000000</td>\n",
              "      <td>0.000000</td>\n",
              "      <td>0.000000</td>\n",
              "      <td>0.0</td>\n",
              "      <td>1.000000</td>\n",
              "    </tr>\n",
              "    <tr>\n",
              "      <th>3</th>\n",
              "      <td>True</td>\n",
              "      <td>0.802083</td>\n",
              "      <td>0.000000</td>\n",
              "      <td>1.000000</td>\n",
              "      <td>1.000000</td>\n",
              "      <td>0.0</td>\n",
              "      <td>0.933333</td>\n",
              "    </tr>\n",
              "    <tr>\n",
              "      <th>4</th>\n",
              "      <td>False</td>\n",
              "      <td>0.950000</td>\n",
              "      <td>0.607656</td>\n",
              "      <td>0.900000</td>\n",
              "      <td>0.916667</td>\n",
              "      <td>0.0</td>\n",
              "      <td>0.807292</td>\n",
              "    </tr>\n",
              "    <tr>\n",
              "      <th>...</th>\n",
              "      <td>...</td>\n",
              "      <td>...</td>\n",
              "      <td>...</td>\n",
              "      <td>...</td>\n",
              "      <td>...</td>\n",
              "      <td>...</td>\n",
              "      <td>...</td>\n",
              "    </tr>\n",
              "    <tr>\n",
              "      <th>95</th>\n",
              "      <td>True</td>\n",
              "      <td>0.000000</td>\n",
              "      <td>0.000000</td>\n",
              "      <td>0.000000</td>\n",
              "      <td>0.000000</td>\n",
              "      <td>0.0</td>\n",
              "      <td>0.944444</td>\n",
              "    </tr>\n",
              "    <tr>\n",
              "      <th>96</th>\n",
              "      <td>True</td>\n",
              "      <td>0.786806</td>\n",
              "      <td>0.810417</td>\n",
              "      <td>1.000000</td>\n",
              "      <td>1.000000</td>\n",
              "      <td>0.0</td>\n",
              "      <td>0.900000</td>\n",
              "    </tr>\n",
              "    <tr>\n",
              "      <th>97</th>\n",
              "      <td>False</td>\n",
              "      <td>0.916667</td>\n",
              "      <td>0.000000</td>\n",
              "      <td>0.958333</td>\n",
              "      <td>0.723485</td>\n",
              "      <td>0.0</td>\n",
              "      <td>0.888889</td>\n",
              "    </tr>\n",
              "    <tr>\n",
              "      <th>98</th>\n",
              "      <td>True</td>\n",
              "      <td>0.827160</td>\n",
              "      <td>0.000000</td>\n",
              "      <td>0.888889</td>\n",
              "      <td>1.000000</td>\n",
              "      <td>0.0</td>\n",
              "      <td>0.795127</td>\n",
              "    </tr>\n",
              "    <tr>\n",
              "      <th>99</th>\n",
              "      <td>True</td>\n",
              "      <td>0.626344</td>\n",
              "      <td>0.000000</td>\n",
              "      <td>1.000000</td>\n",
              "      <td>0.000000</td>\n",
              "      <td>0.0</td>\n",
              "      <td>0.872100</td>\n",
              "    </tr>\n",
              "  </tbody>\n",
              "</table>\n",
              "<p>100 rows × 7 columns</p>\n",
              "</div>\n",
              "      <button class=\"colab-df-convert\" onclick=\"convertToInteractive('df-8aea0acf-18d6-4cef-830f-57f8f16ba71f')\"\n",
              "              title=\"Convert this dataframe to an interactive table.\"\n",
              "              style=\"display:none;\">\n",
              "        \n",
              "  <svg xmlns=\"http://www.w3.org/2000/svg\" height=\"24px\"viewBox=\"0 0 24 24\"\n",
              "       width=\"24px\">\n",
              "    <path d=\"M0 0h24v24H0V0z\" fill=\"none\"/>\n",
              "    <path d=\"M18.56 5.44l.94 2.06.94-2.06 2.06-.94-2.06-.94-.94-2.06-.94 2.06-2.06.94zm-11 1L8.5 8.5l.94-2.06 2.06-.94-2.06-.94L8.5 2.5l-.94 2.06-2.06.94zm10 10l.94 2.06.94-2.06 2.06-.94-2.06-.94-.94-2.06-.94 2.06-2.06.94z\"/><path d=\"M17.41 7.96l-1.37-1.37c-.4-.4-.92-.59-1.43-.59-.52 0-1.04.2-1.43.59L10.3 9.45l-7.72 7.72c-.78.78-.78 2.05 0 2.83L4 21.41c.39.39.9.59 1.41.59.51 0 1.02-.2 1.41-.59l7.78-7.78 2.81-2.81c.8-.78.8-2.07 0-2.86zM5.41 20L4 18.59l7.72-7.72 1.47 1.35L5.41 20z\"/>\n",
              "  </svg>\n",
              "      </button>\n",
              "      \n",
              "  <style>\n",
              "    .colab-df-container {\n",
              "      display:flex;\n",
              "      flex-wrap:wrap;\n",
              "      gap: 12px;\n",
              "    }\n",
              "\n",
              "    .colab-df-convert {\n",
              "      background-color: #E8F0FE;\n",
              "      border: none;\n",
              "      border-radius: 50%;\n",
              "      cursor: pointer;\n",
              "      display: none;\n",
              "      fill: #1967D2;\n",
              "      height: 32px;\n",
              "      padding: 0 0 0 0;\n",
              "      width: 32px;\n",
              "    }\n",
              "\n",
              "    .colab-df-convert:hover {\n",
              "      background-color: #E2EBFA;\n",
              "      box-shadow: 0px 1px 2px rgba(60, 64, 67, 0.3), 0px 1px 3px 1px rgba(60, 64, 67, 0.15);\n",
              "      fill: #174EA6;\n",
              "    }\n",
              "\n",
              "    [theme=dark] .colab-df-convert {\n",
              "      background-color: #3B4455;\n",
              "      fill: #D2E3FC;\n",
              "    }\n",
              "\n",
              "    [theme=dark] .colab-df-convert:hover {\n",
              "      background-color: #434B5C;\n",
              "      box-shadow: 0px 1px 3px 1px rgba(0, 0, 0, 0.15);\n",
              "      filter: drop-shadow(0px 1px 2px rgba(0, 0, 0, 0.3));\n",
              "      fill: #FFFFFF;\n",
              "    }\n",
              "  </style>\n",
              "\n",
              "      <script>\n",
              "        const buttonEl =\n",
              "          document.querySelector('#df-8aea0acf-18d6-4cef-830f-57f8f16ba71f button.colab-df-convert');\n",
              "        buttonEl.style.display =\n",
              "          google.colab.kernel.accessAllowed ? 'block' : 'none';\n",
              "\n",
              "        async function convertToInteractive(key) {\n",
              "          const element = document.querySelector('#df-8aea0acf-18d6-4cef-830f-57f8f16ba71f');\n",
              "          const dataTable =\n",
              "            await google.colab.kernel.invokeFunction('convertToInteractive',\n",
              "                                                     [key], {});\n",
              "          if (!dataTable) return;\n",
              "\n",
              "          const docLinkHtml = 'Like what you see? Visit the ' +\n",
              "            '<a target=\"_blank\" href=https://colab.research.google.com/notebooks/data_table.ipynb>data table notebook</a>'\n",
              "            + ' to learn more about interactive tables.';\n",
              "          element.innerHTML = '';\n",
              "          dataTable['output_type'] = 'display_data';\n",
              "          await google.colab.output.renderOutput(dataTable, element);\n",
              "          const docLink = document.createElement('div');\n",
              "          docLink.innerHTML = docLinkHtml;\n",
              "          element.appendChild(docLink);\n",
              "        }\n",
              "      </script>\n",
              "    </div>\n",
              "  </div>\n",
              "  "
            ]
          },
          "metadata": {},
          "execution_count": 23
        }
      ]
    },
    {
      "cell_type": "code",
      "metadata": {
        "id": "bwTgwzIM5PoF"
      },
      "source": [
        "target_col = \"match\"\n",
        "X = new_df.loc[:, new_df.columns != target_col]\n",
        "y = new_df.loc[:, target_col]"
      ],
      "execution_count": 24,
      "outputs": []
    },
    {
      "cell_type": "code",
      "source": [
        "y.value_counts()"
      ],
      "metadata": {
        "colab": {
          "base_uri": "https://localhost:8080/"
        },
        "id": "0kW55T1kuobz",
        "outputId": "3f155fa2-01d0-4bb0-b7d8-fdc76eb78a52"
      },
      "execution_count": 66,
      "outputs": [
        {
          "output_type": "execute_result",
          "data": {
            "text/plain": [
              "True     73\n",
              "False    27\n",
              "Name: match, dtype: int64"
            ]
          },
          "metadata": {},
          "execution_count": 66
        }
      ]
    },
    {
      "cell_type": "code",
      "metadata": {
        "id": "5vi_Co5e5qUX"
      },
      "source": [
        "X_train, X_test, y_train, y_test = train_test_split(X, y, \n",
        "                                                    test_size=0.33, \n",
        "                                                    random_state=42)"
      ],
      "execution_count": 25,
      "outputs": []
    },
    {
      "cell_type": "code",
      "source": [
        "X_train.head\n",
        "y_train.head"
      ],
      "metadata": {
        "colab": {
          "base_uri": "https://localhost:8080/"
        },
        "id": "-z9Hg3EE2HNO",
        "outputId": "8627d0dc-f5e3-46ad-8c9a-4fedc082b8e8"
      },
      "execution_count": 26,
      "outputs": [
        {
          "output_type": "execute_result",
          "data": {
            "text/plain": [
              "<bound method NDFrame.head of 28    False\n",
              "93    False\n",
              "5      True\n",
              "66     True\n",
              "65     True\n",
              "      ...  \n",
              "60    False\n",
              "71     True\n",
              "14    False\n",
              "92    False\n",
              "51     True\n",
              "Name: match, Length: 67, dtype: bool>"
            ]
          },
          "metadata": {},
          "execution_count": 26
        }
      ]
    },
    {
      "cell_type": "code",
      "metadata": {
        "id": "48aXcEzc6NQP"
      },
      "source": [
        "model_cb = CatBoostClassifier(task_type='GPU', iterations=100, \n",
        "                              random_state = 2021, \n",
        "                              eval_metric=\"F1\")"
      ],
      "execution_count": 27,
      "outputs": []
    },
    {
      "cell_type": "code",
      "source": [
        "X_train\n"
      ],
      "metadata": {
        "colab": {
          "base_uri": "https://localhost:8080/",
          "height": 488
        },
        "id": "p7sm1rOVsDK0",
        "outputId": "3dfdd965-4bdd-4f7e-94dc-7bc624ae9223"
      },
      "execution_count": 58,
      "outputs": [
        {
          "output_type": "execute_result",
          "data": {
            "text/plain": [
              "    name_1_nltk  address_1_nltk  city_1_nltk  state_1_nltk  url_1_nltk  \\\n",
              "28     0.770833        0.774074     0.857143      0.333333         0.0   \n",
              "93     0.427171        0.913043     0.909091      1.000000         0.0   \n",
              "5      0.000000        0.000000     0.000000      0.000000         0.0   \n",
              "66     0.900000        0.000000     0.000000      0.000000         0.0   \n",
              "65     0.538889        0.928571     0.000000      0.000000         0.0   \n",
              "..          ...             ...          ...           ...         ...   \n",
              "60     0.434295        0.732639     1.000000      1.000000         0.0   \n",
              "71     0.923077        0.529101     0.909091      0.941176         0.0   \n",
              "14     0.000000        0.000000     0.000000      0.000000         0.0   \n",
              "92     0.743728        0.000000     0.000000      0.000000         0.0   \n",
              "51     0.796296        0.000000     1.000000      0.616667         0.0   \n",
              "\n",
              "    categories_1_nltk  \n",
              "28           0.714286  \n",
              "93           0.809829  \n",
              "5            0.601810  \n",
              "66           0.944444  \n",
              "65           0.785714  \n",
              "..                ...  \n",
              "60           0.598485  \n",
              "71           0.923077  \n",
              "14           0.928571  \n",
              "92           0.833333  \n",
              "51           0.000000  \n",
              "\n",
              "[67 rows x 6 columns]"
            ],
            "text/html": [
              "\n",
              "  <div id=\"df-b774291c-2af3-4df0-b417-999b5e90831f\">\n",
              "    <div class=\"colab-df-container\">\n",
              "      <div>\n",
              "<style scoped>\n",
              "    .dataframe tbody tr th:only-of-type {\n",
              "        vertical-align: middle;\n",
              "    }\n",
              "\n",
              "    .dataframe tbody tr th {\n",
              "        vertical-align: top;\n",
              "    }\n",
              "\n",
              "    .dataframe thead th {\n",
              "        text-align: right;\n",
              "    }\n",
              "</style>\n",
              "<table border=\"1\" class=\"dataframe\">\n",
              "  <thead>\n",
              "    <tr style=\"text-align: right;\">\n",
              "      <th></th>\n",
              "      <th>name_1_nltk</th>\n",
              "      <th>address_1_nltk</th>\n",
              "      <th>city_1_nltk</th>\n",
              "      <th>state_1_nltk</th>\n",
              "      <th>url_1_nltk</th>\n",
              "      <th>categories_1_nltk</th>\n",
              "    </tr>\n",
              "  </thead>\n",
              "  <tbody>\n",
              "    <tr>\n",
              "      <th>28</th>\n",
              "      <td>0.770833</td>\n",
              "      <td>0.774074</td>\n",
              "      <td>0.857143</td>\n",
              "      <td>0.333333</td>\n",
              "      <td>0.0</td>\n",
              "      <td>0.714286</td>\n",
              "    </tr>\n",
              "    <tr>\n",
              "      <th>93</th>\n",
              "      <td>0.427171</td>\n",
              "      <td>0.913043</td>\n",
              "      <td>0.909091</td>\n",
              "      <td>1.000000</td>\n",
              "      <td>0.0</td>\n",
              "      <td>0.809829</td>\n",
              "    </tr>\n",
              "    <tr>\n",
              "      <th>5</th>\n",
              "      <td>0.000000</td>\n",
              "      <td>0.000000</td>\n",
              "      <td>0.000000</td>\n",
              "      <td>0.000000</td>\n",
              "      <td>0.0</td>\n",
              "      <td>0.601810</td>\n",
              "    </tr>\n",
              "    <tr>\n",
              "      <th>66</th>\n",
              "      <td>0.900000</td>\n",
              "      <td>0.000000</td>\n",
              "      <td>0.000000</td>\n",
              "      <td>0.000000</td>\n",
              "      <td>0.0</td>\n",
              "      <td>0.944444</td>\n",
              "    </tr>\n",
              "    <tr>\n",
              "      <th>65</th>\n",
              "      <td>0.538889</td>\n",
              "      <td>0.928571</td>\n",
              "      <td>0.000000</td>\n",
              "      <td>0.000000</td>\n",
              "      <td>0.0</td>\n",
              "      <td>0.785714</td>\n",
              "    </tr>\n",
              "    <tr>\n",
              "      <th>...</th>\n",
              "      <td>...</td>\n",
              "      <td>...</td>\n",
              "      <td>...</td>\n",
              "      <td>...</td>\n",
              "      <td>...</td>\n",
              "      <td>...</td>\n",
              "    </tr>\n",
              "    <tr>\n",
              "      <th>60</th>\n",
              "      <td>0.434295</td>\n",
              "      <td>0.732639</td>\n",
              "      <td>1.000000</td>\n",
              "      <td>1.000000</td>\n",
              "      <td>0.0</td>\n",
              "      <td>0.598485</td>\n",
              "    </tr>\n",
              "    <tr>\n",
              "      <th>71</th>\n",
              "      <td>0.923077</td>\n",
              "      <td>0.529101</td>\n",
              "      <td>0.909091</td>\n",
              "      <td>0.941176</td>\n",
              "      <td>0.0</td>\n",
              "      <td>0.923077</td>\n",
              "    </tr>\n",
              "    <tr>\n",
              "      <th>14</th>\n",
              "      <td>0.000000</td>\n",
              "      <td>0.000000</td>\n",
              "      <td>0.000000</td>\n",
              "      <td>0.000000</td>\n",
              "      <td>0.0</td>\n",
              "      <td>0.928571</td>\n",
              "    </tr>\n",
              "    <tr>\n",
              "      <th>92</th>\n",
              "      <td>0.743728</td>\n",
              "      <td>0.000000</td>\n",
              "      <td>0.000000</td>\n",
              "      <td>0.000000</td>\n",
              "      <td>0.0</td>\n",
              "      <td>0.833333</td>\n",
              "    </tr>\n",
              "    <tr>\n",
              "      <th>51</th>\n",
              "      <td>0.796296</td>\n",
              "      <td>0.000000</td>\n",
              "      <td>1.000000</td>\n",
              "      <td>0.616667</td>\n",
              "      <td>0.0</td>\n",
              "      <td>0.000000</td>\n",
              "    </tr>\n",
              "  </tbody>\n",
              "</table>\n",
              "<p>67 rows × 6 columns</p>\n",
              "</div>\n",
              "      <button class=\"colab-df-convert\" onclick=\"convertToInteractive('df-b774291c-2af3-4df0-b417-999b5e90831f')\"\n",
              "              title=\"Convert this dataframe to an interactive table.\"\n",
              "              style=\"display:none;\">\n",
              "        \n",
              "  <svg xmlns=\"http://www.w3.org/2000/svg\" height=\"24px\"viewBox=\"0 0 24 24\"\n",
              "       width=\"24px\">\n",
              "    <path d=\"M0 0h24v24H0V0z\" fill=\"none\"/>\n",
              "    <path d=\"M18.56 5.44l.94 2.06.94-2.06 2.06-.94-2.06-.94-.94-2.06-.94 2.06-2.06.94zm-11 1L8.5 8.5l.94-2.06 2.06-.94-2.06-.94L8.5 2.5l-.94 2.06-2.06.94zm10 10l.94 2.06.94-2.06 2.06-.94-2.06-.94-.94-2.06-.94 2.06-2.06.94z\"/><path d=\"M17.41 7.96l-1.37-1.37c-.4-.4-.92-.59-1.43-.59-.52 0-1.04.2-1.43.59L10.3 9.45l-7.72 7.72c-.78.78-.78 2.05 0 2.83L4 21.41c.39.39.9.59 1.41.59.51 0 1.02-.2 1.41-.59l7.78-7.78 2.81-2.81c.8-.78.8-2.07 0-2.86zM5.41 20L4 18.59l7.72-7.72 1.47 1.35L5.41 20z\"/>\n",
              "  </svg>\n",
              "      </button>\n",
              "      \n",
              "  <style>\n",
              "    .colab-df-container {\n",
              "      display:flex;\n",
              "      flex-wrap:wrap;\n",
              "      gap: 12px;\n",
              "    }\n",
              "\n",
              "    .colab-df-convert {\n",
              "      background-color: #E8F0FE;\n",
              "      border: none;\n",
              "      border-radius: 50%;\n",
              "      cursor: pointer;\n",
              "      display: none;\n",
              "      fill: #1967D2;\n",
              "      height: 32px;\n",
              "      padding: 0 0 0 0;\n",
              "      width: 32px;\n",
              "    }\n",
              "\n",
              "    .colab-df-convert:hover {\n",
              "      background-color: #E2EBFA;\n",
              "      box-shadow: 0px 1px 2px rgba(60, 64, 67, 0.3), 0px 1px 3px 1px rgba(60, 64, 67, 0.15);\n",
              "      fill: #174EA6;\n",
              "    }\n",
              "\n",
              "    [theme=dark] .colab-df-convert {\n",
              "      background-color: #3B4455;\n",
              "      fill: #D2E3FC;\n",
              "    }\n",
              "\n",
              "    [theme=dark] .colab-df-convert:hover {\n",
              "      background-color: #434B5C;\n",
              "      box-shadow: 0px 1px 3px 1px rgba(0, 0, 0, 0.15);\n",
              "      filter: drop-shadow(0px 1px 2px rgba(0, 0, 0, 0.3));\n",
              "      fill: #FFFFFF;\n",
              "    }\n",
              "  </style>\n",
              "\n",
              "      <script>\n",
              "        const buttonEl =\n",
              "          document.querySelector('#df-b774291c-2af3-4df0-b417-999b5e90831f button.colab-df-convert');\n",
              "        buttonEl.style.display =\n",
              "          google.colab.kernel.accessAllowed ? 'block' : 'none';\n",
              "\n",
              "        async function convertToInteractive(key) {\n",
              "          const element = document.querySelector('#df-b774291c-2af3-4df0-b417-999b5e90831f');\n",
              "          const dataTable =\n",
              "            await google.colab.kernel.invokeFunction('convertToInteractive',\n",
              "                                                     [key], {});\n",
              "          if (!dataTable) return;\n",
              "\n",
              "          const docLinkHtml = 'Like what you see? Visit the ' +\n",
              "            '<a target=\"_blank\" href=https://colab.research.google.com/notebooks/data_table.ipynb>data table notebook</a>'\n",
              "            + ' to learn more about interactive tables.';\n",
              "          element.innerHTML = '';\n",
              "          dataTable['output_type'] = 'display_data';\n",
              "          await google.colab.output.renderOutput(dataTable, element);\n",
              "          const docLink = document.createElement('div');\n",
              "          docLink.innerHTML = docLinkHtml;\n",
              "          element.appendChild(docLink);\n",
              "        }\n",
              "      </script>\n",
              "    </div>\n",
              "  </div>\n",
              "  "
            ]
          },
          "metadata": {},
          "execution_count": 58
        }
      ]
    },
    {
      "cell_type": "code",
      "metadata": {
        "id": "kmU3OQJY535k",
        "outputId": "1ac54731-3891-4b87-f6d3-d434d94108c1",
        "colab": {
          "base_uri": "https://localhost:8080/",
          "height": 1000,
          "referenced_widgets": [
            "017515a5afb441eeb80422b6a42236a2"
          ]
        }
      },
      "source": [
        "model_cb.fit(X_train, y_train, plot=True, \n",
        "             eval_set=(X_test, y_test))\n",
        "# cat_features= cat_features\n",
        "model_cb.save_model('tiny_800_cb_2',format=\"cbm\",\n",
        "           export_parameters=None,\n",
        "           pool=None)"
      ],
      "execution_count": 59,
      "outputs": [
        {
          "output_type": "display_data",
          "data": {
            "text/plain": [
              "MetricVisualizer(layout=Layout(align_self='stretch', height='500px'))"
            ],
            "application/vnd.jupyter.widget-view+json": {
              "version_major": 2,
              "version_minor": 0,
              "model_id": "017515a5afb441eeb80422b6a42236a2"
            }
          },
          "metadata": {}
        },
        {
          "output_type": "stream",
          "name": "stdout",
          "text": [
            "Learning rate set to 0.232439\n",
            "0:\tlearn: 0.9052632\ttest: 0.7600000\tbest: 0.7600000 (0)\ttotal: 32.6ms\tremaining: 3.23s\n",
            "1:\tlearn: 0.9000000\ttest: 0.7692308\tbest: 0.7692308 (1)\ttotal: 63.7ms\tremaining: 3.12s\n",
            "2:\tlearn: 0.9038462\ttest: 0.8771930\tbest: 0.8771930 (2)\ttotal: 93.9ms\tremaining: 3.04s\n",
            "3:\tlearn: 0.8952381\ttest: 0.8571429\tbest: 0.8771930 (2)\ttotal: 117ms\tremaining: 2.8s\n",
            "4:\tlearn: 0.9126214\ttest: 0.8771930\tbest: 0.8771930 (2)\ttotal: 121ms\tremaining: 2.3s\n",
            "5:\tlearn: 0.8952381\ttest: 0.8771930\tbest: 0.8771930 (2)\ttotal: 126ms\tremaining: 1.97s\n",
            "6:\tlearn: 0.8867925\ttest: 0.8771930\tbest: 0.8771930 (2)\ttotal: 131ms\tremaining: 1.74s\n",
            "7:\tlearn: 0.9126214\ttest: 0.8771930\tbest: 0.8771930 (2)\ttotal: 135ms\tremaining: 1.56s\n",
            "8:\tlearn: 0.9038462\ttest: 0.8771930\tbest: 0.8771930 (2)\ttotal: 144ms\tremaining: 1.46s\n",
            "9:\tlearn: 0.9126214\ttest: 0.8771930\tbest: 0.8771930 (2)\ttotal: 149ms\tremaining: 1.34s\n",
            "10:\tlearn: 0.9038462\ttest: 0.8771930\tbest: 0.8771930 (2)\ttotal: 154ms\tremaining: 1.24s\n",
            "11:\tlearn: 0.8952381\ttest: 0.8771930\tbest: 0.8771930 (2)\ttotal: 163ms\tremaining: 1.19s\n",
            "12:\tlearn: 0.8952381\ttest: 0.8620690\tbest: 0.8771930 (2)\ttotal: 175ms\tremaining: 1.17s\n",
            "13:\tlearn: 0.8952381\ttest: 0.8620690\tbest: 0.8771930 (2)\ttotal: 180ms\tremaining: 1.1s\n",
            "14:\tlearn: 0.8952381\ttest: 0.8813559\tbest: 0.8813559 (14)\ttotal: 184ms\tremaining: 1.04s\n",
            "15:\tlearn: 0.9126214\ttest: 0.8620690\tbest: 0.8813559 (14)\ttotal: 192ms\tremaining: 1.01s\n",
            "16:\tlearn: 0.9038462\ttest: 0.8421053\tbest: 0.8813559 (14)\ttotal: 205ms\tremaining: 1000ms\n",
            "17:\tlearn: 0.9126214\ttest: 0.8214286\tbest: 0.8813559 (14)\ttotal: 214ms\tremaining: 976ms\n",
            "18:\tlearn: 0.9126214\ttest: 0.8214286\tbest: 0.8813559 (14)\ttotal: 224ms\tremaining: 953ms\n",
            "19:\tlearn: 0.9126214\ttest: 0.8214286\tbest: 0.8813559 (14)\ttotal: 234ms\tremaining: 935ms\n",
            "20:\tlearn: 0.9215686\ttest: 0.8214286\tbest: 0.8813559 (14)\ttotal: 244ms\tremaining: 919ms\n",
            "21:\tlearn: 0.9126214\ttest: 0.8000000\tbest: 0.8813559 (14)\ttotal: 254ms\tremaining: 900ms\n",
            "22:\tlearn: 0.9215686\ttest: 0.8000000\tbest: 0.8813559 (14)\ttotal: 264ms\tremaining: 884ms\n",
            "23:\tlearn: 0.9215686\ttest: 0.8000000\tbest: 0.8813559 (14)\ttotal: 274ms\tremaining: 868ms\n",
            "24:\tlearn: 0.9215686\ttest: 0.8000000\tbest: 0.8813559 (14)\ttotal: 284ms\tremaining: 851ms\n",
            "25:\tlearn: 0.9215686\ttest: 0.8000000\tbest: 0.8813559 (14)\ttotal: 294ms\tremaining: 836ms\n",
            "26:\tlearn: 0.9306931\ttest: 0.8000000\tbest: 0.8813559 (14)\ttotal: 304ms\tremaining: 821ms\n",
            "27:\tlearn: 0.9400000\ttest: 0.8000000\tbest: 0.8813559 (14)\ttotal: 314ms\tremaining: 808ms\n",
            "28:\tlearn: 0.9400000\ttest: 0.8000000\tbest: 0.8813559 (14)\ttotal: 330ms\tremaining: 808ms\n",
            "29:\tlearn: 0.9400000\ttest: 0.8000000\tbest: 0.8813559 (14)\ttotal: 340ms\tremaining: 794ms\n",
            "30:\tlearn: 0.9494949\ttest: 0.8000000\tbest: 0.8813559 (14)\ttotal: 351ms\tremaining: 781ms\n",
            "31:\tlearn: 0.9494949\ttest: 0.8000000\tbest: 0.8813559 (14)\ttotal: 360ms\tremaining: 766ms\n",
            "32:\tlearn: 0.9494949\ttest: 0.8148148\tbest: 0.8813559 (14)\ttotal: 374ms\tremaining: 759ms\n",
            "33:\tlearn: 0.9494949\ttest: 0.8148148\tbest: 0.8813559 (14)\ttotal: 384ms\tremaining: 745ms\n",
            "34:\tlearn: 0.9494949\ttest: 0.8148148\tbest: 0.8813559 (14)\ttotal: 400ms\tremaining: 744ms\n",
            "35:\tlearn: 0.9591837\ttest: 0.8148148\tbest: 0.8813559 (14)\ttotal: 411ms\tremaining: 730ms\n",
            "36:\tlearn: 0.9591837\ttest: 0.8148148\tbest: 0.8813559 (14)\ttotal: 421ms\tremaining: 717ms\n",
            "37:\tlearn: 0.9591837\ttest: 0.8461538\tbest: 0.8813559 (14)\ttotal: 431ms\tremaining: 703ms\n",
            "38:\tlearn: 0.9591837\ttest: 0.8301887\tbest: 0.8813559 (14)\ttotal: 441ms\tremaining: 690ms\n",
            "39:\tlearn: 0.9591837\ttest: 0.8461538\tbest: 0.8813559 (14)\ttotal: 453ms\tremaining: 680ms\n",
            "40:\tlearn: 0.9690722\ttest: 0.8461538\tbest: 0.8813559 (14)\ttotal: 463ms\tremaining: 667ms\n",
            "41:\tlearn: 0.9690722\ttest: 0.8301887\tbest: 0.8813559 (14)\ttotal: 474ms\tremaining: 654ms\n",
            "42:\tlearn: 0.9690722\ttest: 0.8148148\tbest: 0.8813559 (14)\ttotal: 484ms\tremaining: 641ms\n",
            "43:\tlearn: 0.9690722\ttest: 0.8461538\tbest: 0.8813559 (14)\ttotal: 494ms\tremaining: 629ms\n",
            "44:\tlearn: 0.9690722\ttest: 0.8301887\tbest: 0.8813559 (14)\ttotal: 504ms\tremaining: 616ms\n",
            "45:\tlearn: 0.9690722\ttest: 0.8301887\tbest: 0.8813559 (14)\ttotal: 514ms\tremaining: 603ms\n",
            "46:\tlearn: 0.9690722\ttest: 0.8301887\tbest: 0.8813559 (14)\ttotal: 524ms\tremaining: 591ms\n",
            "47:\tlearn: 0.9690722\ttest: 0.8301887\tbest: 0.8813559 (14)\ttotal: 534ms\tremaining: 578ms\n",
            "48:\tlearn: 0.9690722\ttest: 0.8461538\tbest: 0.8813559 (14)\ttotal: 545ms\tremaining: 567ms\n",
            "49:\tlearn: 0.9690722\ttest: 0.8301887\tbest: 0.8813559 (14)\ttotal: 555ms\tremaining: 555ms\n",
            "50:\tlearn: 0.9690722\ttest: 0.8301887\tbest: 0.8813559 (14)\ttotal: 565ms\tremaining: 543ms\n",
            "51:\tlearn: 0.9690722\ttest: 0.8301887\tbest: 0.8813559 (14)\ttotal: 578ms\tremaining: 534ms\n",
            "52:\tlearn: 0.9690722\ttest: 0.8301887\tbest: 0.8813559 (14)\ttotal: 589ms\tremaining: 522ms\n",
            "53:\tlearn: 0.9690722\ttest: 0.8301887\tbest: 0.8813559 (14)\ttotal: 599ms\tremaining: 510ms\n",
            "54:\tlearn: 0.9690722\ttest: 0.8301887\tbest: 0.8813559 (14)\ttotal: 609ms\tremaining: 498ms\n",
            "55:\tlearn: 0.9791667\ttest: 0.8076923\tbest: 0.8813559 (14)\ttotal: 619ms\tremaining: 487ms\n",
            "56:\tlearn: 0.9791667\ttest: 0.8076923\tbest: 0.8813559 (14)\ttotal: 629ms\tremaining: 474ms\n",
            "57:\tlearn: 0.9791667\ttest: 0.8076923\tbest: 0.8813559 (14)\ttotal: 639ms\tremaining: 463ms\n",
            "58:\tlearn: 0.9894737\ttest: 0.8076923\tbest: 0.8813559 (14)\ttotal: 649ms\tremaining: 451ms\n",
            "59:\tlearn: 0.9894737\ttest: 0.8076923\tbest: 0.8813559 (14)\ttotal: 658ms\tremaining: 439ms\n",
            "60:\tlearn: 0.9791667\ttest: 0.8076923\tbest: 0.8813559 (14)\ttotal: 668ms\tremaining: 427ms\n",
            "61:\tlearn: 0.9791667\ttest: 0.8076923\tbest: 0.8813559 (14)\ttotal: 678ms\tremaining: 416ms\n",
            "62:\tlearn: 0.9894737\ttest: 0.8235294\tbest: 0.8813559 (14)\ttotal: 688ms\tremaining: 404ms\n",
            "63:\tlearn: 0.9894737\ttest: 0.8461538\tbest: 0.8813559 (14)\ttotal: 698ms\tremaining: 392ms\n",
            "64:\tlearn: 0.9894737\ttest: 0.8235294\tbest: 0.8813559 (14)\ttotal: 707ms\tremaining: 381ms\n",
            "65:\tlearn: 0.9894737\ttest: 0.8461538\tbest: 0.8813559 (14)\ttotal: 717ms\tremaining: 369ms\n",
            "66:\tlearn: 0.9894737\ttest: 0.8076923\tbest: 0.8813559 (14)\ttotal: 730ms\tremaining: 359ms\n",
            "67:\tlearn: 0.9894737\ttest: 0.8301887\tbest: 0.8813559 (14)\ttotal: 734ms\tremaining: 346ms\n",
            "68:\tlearn: 0.9894737\ttest: 0.8076923\tbest: 0.8813559 (14)\ttotal: 739ms\tremaining: 332ms\n",
            "69:\tlearn: 0.9894737\ttest: 0.8076923\tbest: 0.8813559 (14)\ttotal: 744ms\tremaining: 319ms\n",
            "70:\tlearn: 0.9894737\ttest: 0.8076923\tbest: 0.8813559 (14)\ttotal: 750ms\tremaining: 306ms\n",
            "71:\tlearn: 1.0000000\ttest: 0.8076923\tbest: 0.8813559 (14)\ttotal: 755ms\tremaining: 293ms\n",
            "72:\tlearn: 0.9894737\ttest: 0.8301887\tbest: 0.8813559 (14)\ttotal: 764ms\tremaining: 283ms\n",
            "73:\tlearn: 1.0000000\ttest: 0.8076923\tbest: 0.8813559 (14)\ttotal: 769ms\tremaining: 270ms\n",
            "74:\tlearn: 1.0000000\ttest: 0.8301887\tbest: 0.8813559 (14)\ttotal: 780ms\tremaining: 260ms\n",
            "75:\tlearn: 1.0000000\ttest: 0.8301887\tbest: 0.8813559 (14)\ttotal: 785ms\tremaining: 248ms\n",
            "76:\tlearn: 1.0000000\ttest: 0.8301887\tbest: 0.8813559 (14)\ttotal: 794ms\tremaining: 237ms\n",
            "77:\tlearn: 1.0000000\ttest: 0.8301887\tbest: 0.8813559 (14)\ttotal: 799ms\tremaining: 225ms\n",
            "78:\tlearn: 1.0000000\ttest: 0.8301887\tbest: 0.8813559 (14)\ttotal: 806ms\tremaining: 214ms\n",
            "79:\tlearn: 1.0000000\ttest: 0.8301887\tbest: 0.8813559 (14)\ttotal: 811ms\tremaining: 203ms\n",
            "80:\tlearn: 1.0000000\ttest: 0.8301887\tbest: 0.8813559 (14)\ttotal: 817ms\tremaining: 192ms\n",
            "81:\tlearn: 1.0000000\ttest: 0.8301887\tbest: 0.8813559 (14)\ttotal: 825ms\tremaining: 181ms\n",
            "82:\tlearn: 1.0000000\ttest: 0.8301887\tbest: 0.8813559 (14)\ttotal: 830ms\tremaining: 170ms\n",
            "83:\tlearn: 1.0000000\ttest: 0.8301887\tbest: 0.8813559 (14)\ttotal: 839ms\tremaining: 160ms\n",
            "84:\tlearn: 1.0000000\ttest: 0.8301887\tbest: 0.8813559 (14)\ttotal: 845ms\tremaining: 149ms\n",
            "85:\tlearn: 1.0000000\ttest: 0.8301887\tbest: 0.8813559 (14)\ttotal: 871ms\tremaining: 142ms\n",
            "86:\tlearn: 1.0000000\ttest: 0.8301887\tbest: 0.8813559 (14)\ttotal: 876ms\tremaining: 131ms\n",
            "87:\tlearn: 1.0000000\ttest: 0.8076923\tbest: 0.8813559 (14)\ttotal: 886ms\tremaining: 121ms\n",
            "88:\tlearn: 1.0000000\ttest: 0.8076923\tbest: 0.8813559 (14)\ttotal: 899ms\tremaining: 111ms\n",
            "89:\tlearn: 1.0000000\ttest: 0.8076923\tbest: 0.8813559 (14)\ttotal: 914ms\tremaining: 102ms\n",
            "90:\tlearn: 1.0000000\ttest: 0.8235294\tbest: 0.8813559 (14)\ttotal: 920ms\tremaining: 91ms\n",
            "91:\tlearn: 1.0000000\ttest: 0.8076923\tbest: 0.8813559 (14)\ttotal: 925ms\tremaining: 80.5ms\n",
            "92:\tlearn: 1.0000000\ttest: 0.8076923\tbest: 0.8813559 (14)\ttotal: 931ms\tremaining: 70ms\n",
            "93:\tlearn: 1.0000000\ttest: 0.8235294\tbest: 0.8813559 (14)\ttotal: 936ms\tremaining: 59.7ms\n",
            "94:\tlearn: 1.0000000\ttest: 0.8235294\tbest: 0.8813559 (14)\ttotal: 941ms\tremaining: 49.5ms\n",
            "95:\tlearn: 1.0000000\ttest: 0.8235294\tbest: 0.8813559 (14)\ttotal: 950ms\tremaining: 39.6ms\n",
            "96:\tlearn: 1.0000000\ttest: 0.8400000\tbest: 0.8813559 (14)\ttotal: 955ms\tremaining: 29.5ms\n",
            "97:\tlearn: 1.0000000\ttest: 0.8400000\tbest: 0.8813559 (14)\ttotal: 961ms\tremaining: 19.6ms\n",
            "98:\tlearn: 1.0000000\ttest: 0.8400000\tbest: 0.8813559 (14)\ttotal: 970ms\tremaining: 9.8ms\n",
            "99:\tlearn: 1.0000000\ttest: 0.8235294\tbest: 0.8813559 (14)\ttotal: 979ms\tremaining: 0us\n",
            "bestTest = 0.8813559322\n",
            "bestIteration = 14\n",
            "Shrink model to first 15 iterations.\n"
          ]
        }
      ]
    },
    {
      "cell_type": "code",
      "source": [
        "from_save = CatBoostClassifier()\n",
        "model_cb= from_save.load_model(\"tiny_800_cb_2\",format=\"cbm\")\n"
      ],
      "metadata": {
        "id": "wtrBBA0So1L2"
      },
      "execution_count": 60,
      "outputs": []
    },
    {
      "cell_type": "code",
      "source": [
        "X_test"
      ],
      "metadata": {
        "colab": {
          "base_uri": "https://localhost:8080/",
          "height": 1000
        },
        "id": "eJVCJuMssaAE",
        "outputId": "234b5da1-6444-49ae-8ed4-77e10e4f4348"
      },
      "execution_count": 62,
      "outputs": [
        {
          "output_type": "execute_result",
          "data": {
            "text/plain": [
              "    name_1_nltk  address_1_nltk  city_1_nltk  state_1_nltk  url_1_nltk  \\\n",
              "83     0.923077        1.000000     1.000000      0.000000         0.0   \n",
              "53     0.900000        0.800000     1.000000      1.000000         0.0   \n",
              "70     0.000000        0.000000     0.000000      0.000000         0.0   \n",
              "45     0.712993        0.000000     0.000000      0.000000         0.0   \n",
              "44     0.000000        0.000000     0.000000      0.000000         0.0   \n",
              "39     0.000000        0.000000     0.000000      0.000000         0.0   \n",
              "22     0.818627        0.000000     0.000000      0.000000         0.0   \n",
              "80     0.792308        0.000000     0.000000      0.000000         0.0   \n",
              "10     0.000000        0.000000     0.000000      0.000000         0.0   \n",
              "0      0.825000        0.000000     0.000000      0.000000         0.0   \n",
              "18     0.084936        0.000000     0.000000      0.000000         0.0   \n",
              "30     0.000000        0.000000     0.000000      0.000000         0.0   \n",
              "73     1.000000        0.000000     1.000000      1.000000         0.0   \n",
              "33     0.000000        0.000000     0.000000      0.000000         0.0   \n",
              "90     0.611111        0.833333     1.000000      1.000000         0.0   \n",
              "4      0.950000        0.607656     0.900000      0.916667         0.0   \n",
              "76     0.539216        0.671212     1.000000      0.928571         0.0   \n",
              "77     0.924094        0.000000     0.000000      0.000000         0.0   \n",
              "12     0.804598        0.000000     0.000000      0.000000         0.0   \n",
              "31     0.000000        0.000000     0.730769      0.000000         0.0   \n",
              "55     0.857143        1.000000     0.857143      1.000000         0.0   \n",
              "88     0.916667        0.000000     1.000000      1.000000         0.0   \n",
              "26     0.846154        0.844907     1.000000      1.000000         0.0   \n",
              "42     0.000000        0.000000     0.000000      0.000000         0.0   \n",
              "69     0.933333        0.904762     1.000000      1.000000         0.0   \n",
              "15     0.761040        0.783333     0.888889      1.000000         0.0   \n",
              "40     0.000000        0.000000     0.000000      0.000000         0.0   \n",
              "96     0.786806        0.810417     1.000000      1.000000         0.0   \n",
              "9      0.888889        0.630071     1.000000      0.000000         0.0   \n",
              "72     0.738889        0.000000     0.888889      0.900000         0.0   \n",
              "11     0.669312        0.000000     0.569444      1.000000         0.0   \n",
              "47     0.796296        0.000000     0.000000      0.000000         0.0   \n",
              "85     0.847503        1.000000     1.000000      0.933333         0.0   \n",
              "\n",
              "    categories_1_nltk  \n",
              "83           0.941176  \n",
              "53           1.000000  \n",
              "70           0.944444  \n",
              "45           0.597222  \n",
              "44           0.648810  \n",
              "39           0.886667  \n",
              "22           0.851541  \n",
              "80           0.705556  \n",
              "10           0.806250  \n",
              "0            1.000000  \n",
              "18           0.900000  \n",
              "30           0.558333  \n",
              "73           0.923077  \n",
              "33           0.833333  \n",
              "90           0.909091  \n",
              "4            0.807292  \n",
              "76           0.742424  \n",
              "77           0.892666  \n",
              "12           0.916667  \n",
              "31           0.770175  \n",
              "55           0.779861  \n",
              "88           0.800000  \n",
              "26           0.876344  \n",
              "42           0.000000  \n",
              "69           0.937500  \n",
              "15           1.000000  \n",
              "40           1.000000  \n",
              "96           0.900000  \n",
              "9            0.933333  \n",
              "72           0.000000  \n",
              "11           0.900000  \n",
              "47           1.000000  \n",
              "85           0.903890  "
            ],
            "text/html": [
              "\n",
              "  <div id=\"df-10e85c38-f752-4696-9080-a9450fc31014\">\n",
              "    <div class=\"colab-df-container\">\n",
              "      <div>\n",
              "<style scoped>\n",
              "    .dataframe tbody tr th:only-of-type {\n",
              "        vertical-align: middle;\n",
              "    }\n",
              "\n",
              "    .dataframe tbody tr th {\n",
              "        vertical-align: top;\n",
              "    }\n",
              "\n",
              "    .dataframe thead th {\n",
              "        text-align: right;\n",
              "    }\n",
              "</style>\n",
              "<table border=\"1\" class=\"dataframe\">\n",
              "  <thead>\n",
              "    <tr style=\"text-align: right;\">\n",
              "      <th></th>\n",
              "      <th>name_1_nltk</th>\n",
              "      <th>address_1_nltk</th>\n",
              "      <th>city_1_nltk</th>\n",
              "      <th>state_1_nltk</th>\n",
              "      <th>url_1_nltk</th>\n",
              "      <th>categories_1_nltk</th>\n",
              "    </tr>\n",
              "  </thead>\n",
              "  <tbody>\n",
              "    <tr>\n",
              "      <th>83</th>\n",
              "      <td>0.923077</td>\n",
              "      <td>1.000000</td>\n",
              "      <td>1.000000</td>\n",
              "      <td>0.000000</td>\n",
              "      <td>0.0</td>\n",
              "      <td>0.941176</td>\n",
              "    </tr>\n",
              "    <tr>\n",
              "      <th>53</th>\n",
              "      <td>0.900000</td>\n",
              "      <td>0.800000</td>\n",
              "      <td>1.000000</td>\n",
              "      <td>1.000000</td>\n",
              "      <td>0.0</td>\n",
              "      <td>1.000000</td>\n",
              "    </tr>\n",
              "    <tr>\n",
              "      <th>70</th>\n",
              "      <td>0.000000</td>\n",
              "      <td>0.000000</td>\n",
              "      <td>0.000000</td>\n",
              "      <td>0.000000</td>\n",
              "      <td>0.0</td>\n",
              "      <td>0.944444</td>\n",
              "    </tr>\n",
              "    <tr>\n",
              "      <th>45</th>\n",
              "      <td>0.712993</td>\n",
              "      <td>0.000000</td>\n",
              "      <td>0.000000</td>\n",
              "      <td>0.000000</td>\n",
              "      <td>0.0</td>\n",
              "      <td>0.597222</td>\n",
              "    </tr>\n",
              "    <tr>\n",
              "      <th>44</th>\n",
              "      <td>0.000000</td>\n",
              "      <td>0.000000</td>\n",
              "      <td>0.000000</td>\n",
              "      <td>0.000000</td>\n",
              "      <td>0.0</td>\n",
              "      <td>0.648810</td>\n",
              "    </tr>\n",
              "    <tr>\n",
              "      <th>39</th>\n",
              "      <td>0.000000</td>\n",
              "      <td>0.000000</td>\n",
              "      <td>0.000000</td>\n",
              "      <td>0.000000</td>\n",
              "      <td>0.0</td>\n",
              "      <td>0.886667</td>\n",
              "    </tr>\n",
              "    <tr>\n",
              "      <th>22</th>\n",
              "      <td>0.818627</td>\n",
              "      <td>0.000000</td>\n",
              "      <td>0.000000</td>\n",
              "      <td>0.000000</td>\n",
              "      <td>0.0</td>\n",
              "      <td>0.851541</td>\n",
              "    </tr>\n",
              "    <tr>\n",
              "      <th>80</th>\n",
              "      <td>0.792308</td>\n",
              "      <td>0.000000</td>\n",
              "      <td>0.000000</td>\n",
              "      <td>0.000000</td>\n",
              "      <td>0.0</td>\n",
              "      <td>0.705556</td>\n",
              "    </tr>\n",
              "    <tr>\n",
              "      <th>10</th>\n",
              "      <td>0.000000</td>\n",
              "      <td>0.000000</td>\n",
              "      <td>0.000000</td>\n",
              "      <td>0.000000</td>\n",
              "      <td>0.0</td>\n",
              "      <td>0.806250</td>\n",
              "    </tr>\n",
              "    <tr>\n",
              "      <th>0</th>\n",
              "      <td>0.825000</td>\n",
              "      <td>0.000000</td>\n",
              "      <td>0.000000</td>\n",
              "      <td>0.000000</td>\n",
              "      <td>0.0</td>\n",
              "      <td>1.000000</td>\n",
              "    </tr>\n",
              "    <tr>\n",
              "      <th>18</th>\n",
              "      <td>0.084936</td>\n",
              "      <td>0.000000</td>\n",
              "      <td>0.000000</td>\n",
              "      <td>0.000000</td>\n",
              "      <td>0.0</td>\n",
              "      <td>0.900000</td>\n",
              "    </tr>\n",
              "    <tr>\n",
              "      <th>30</th>\n",
              "      <td>0.000000</td>\n",
              "      <td>0.000000</td>\n",
              "      <td>0.000000</td>\n",
              "      <td>0.000000</td>\n",
              "      <td>0.0</td>\n",
              "      <td>0.558333</td>\n",
              "    </tr>\n",
              "    <tr>\n",
              "      <th>73</th>\n",
              "      <td>1.000000</td>\n",
              "      <td>0.000000</td>\n",
              "      <td>1.000000</td>\n",
              "      <td>1.000000</td>\n",
              "      <td>0.0</td>\n",
              "      <td>0.923077</td>\n",
              "    </tr>\n",
              "    <tr>\n",
              "      <th>33</th>\n",
              "      <td>0.000000</td>\n",
              "      <td>0.000000</td>\n",
              "      <td>0.000000</td>\n",
              "      <td>0.000000</td>\n",
              "      <td>0.0</td>\n",
              "      <td>0.833333</td>\n",
              "    </tr>\n",
              "    <tr>\n",
              "      <th>90</th>\n",
              "      <td>0.611111</td>\n",
              "      <td>0.833333</td>\n",
              "      <td>1.000000</td>\n",
              "      <td>1.000000</td>\n",
              "      <td>0.0</td>\n",
              "      <td>0.909091</td>\n",
              "    </tr>\n",
              "    <tr>\n",
              "      <th>4</th>\n",
              "      <td>0.950000</td>\n",
              "      <td>0.607656</td>\n",
              "      <td>0.900000</td>\n",
              "      <td>0.916667</td>\n",
              "      <td>0.0</td>\n",
              "      <td>0.807292</td>\n",
              "    </tr>\n",
              "    <tr>\n",
              "      <th>76</th>\n",
              "      <td>0.539216</td>\n",
              "      <td>0.671212</td>\n",
              "      <td>1.000000</td>\n",
              "      <td>0.928571</td>\n",
              "      <td>0.0</td>\n",
              "      <td>0.742424</td>\n",
              "    </tr>\n",
              "    <tr>\n",
              "      <th>77</th>\n",
              "      <td>0.924094</td>\n",
              "      <td>0.000000</td>\n",
              "      <td>0.000000</td>\n",
              "      <td>0.000000</td>\n",
              "      <td>0.0</td>\n",
              "      <td>0.892666</td>\n",
              "    </tr>\n",
              "    <tr>\n",
              "      <th>12</th>\n",
              "      <td>0.804598</td>\n",
              "      <td>0.000000</td>\n",
              "      <td>0.000000</td>\n",
              "      <td>0.000000</td>\n",
              "      <td>0.0</td>\n",
              "      <td>0.916667</td>\n",
              "    </tr>\n",
              "    <tr>\n",
              "      <th>31</th>\n",
              "      <td>0.000000</td>\n",
              "      <td>0.000000</td>\n",
              "      <td>0.730769</td>\n",
              "      <td>0.000000</td>\n",
              "      <td>0.0</td>\n",
              "      <td>0.770175</td>\n",
              "    </tr>\n",
              "    <tr>\n",
              "      <th>55</th>\n",
              "      <td>0.857143</td>\n",
              "      <td>1.000000</td>\n",
              "      <td>0.857143</td>\n",
              "      <td>1.000000</td>\n",
              "      <td>0.0</td>\n",
              "      <td>0.779861</td>\n",
              "    </tr>\n",
              "    <tr>\n",
              "      <th>88</th>\n",
              "      <td>0.916667</td>\n",
              "      <td>0.000000</td>\n",
              "      <td>1.000000</td>\n",
              "      <td>1.000000</td>\n",
              "      <td>0.0</td>\n",
              "      <td>0.800000</td>\n",
              "    </tr>\n",
              "    <tr>\n",
              "      <th>26</th>\n",
              "      <td>0.846154</td>\n",
              "      <td>0.844907</td>\n",
              "      <td>1.000000</td>\n",
              "      <td>1.000000</td>\n",
              "      <td>0.0</td>\n",
              "      <td>0.876344</td>\n",
              "    </tr>\n",
              "    <tr>\n",
              "      <th>42</th>\n",
              "      <td>0.000000</td>\n",
              "      <td>0.000000</td>\n",
              "      <td>0.000000</td>\n",
              "      <td>0.000000</td>\n",
              "      <td>0.0</td>\n",
              "      <td>0.000000</td>\n",
              "    </tr>\n",
              "    <tr>\n",
              "      <th>69</th>\n",
              "      <td>0.933333</td>\n",
              "      <td>0.904762</td>\n",
              "      <td>1.000000</td>\n",
              "      <td>1.000000</td>\n",
              "      <td>0.0</td>\n",
              "      <td>0.937500</td>\n",
              "    </tr>\n",
              "    <tr>\n",
              "      <th>15</th>\n",
              "      <td>0.761040</td>\n",
              "      <td>0.783333</td>\n",
              "      <td>0.888889</td>\n",
              "      <td>1.000000</td>\n",
              "      <td>0.0</td>\n",
              "      <td>1.000000</td>\n",
              "    </tr>\n",
              "    <tr>\n",
              "      <th>40</th>\n",
              "      <td>0.000000</td>\n",
              "      <td>0.000000</td>\n",
              "      <td>0.000000</td>\n",
              "      <td>0.000000</td>\n",
              "      <td>0.0</td>\n",
              "      <td>1.000000</td>\n",
              "    </tr>\n",
              "    <tr>\n",
              "      <th>96</th>\n",
              "      <td>0.786806</td>\n",
              "      <td>0.810417</td>\n",
              "      <td>1.000000</td>\n",
              "      <td>1.000000</td>\n",
              "      <td>0.0</td>\n",
              "      <td>0.900000</td>\n",
              "    </tr>\n",
              "    <tr>\n",
              "      <th>9</th>\n",
              "      <td>0.888889</td>\n",
              "      <td>0.630071</td>\n",
              "      <td>1.000000</td>\n",
              "      <td>0.000000</td>\n",
              "      <td>0.0</td>\n",
              "      <td>0.933333</td>\n",
              "    </tr>\n",
              "    <tr>\n",
              "      <th>72</th>\n",
              "      <td>0.738889</td>\n",
              "      <td>0.000000</td>\n",
              "      <td>0.888889</td>\n",
              "      <td>0.900000</td>\n",
              "      <td>0.0</td>\n",
              "      <td>0.000000</td>\n",
              "    </tr>\n",
              "    <tr>\n",
              "      <th>11</th>\n",
              "      <td>0.669312</td>\n",
              "      <td>0.000000</td>\n",
              "      <td>0.569444</td>\n",
              "      <td>1.000000</td>\n",
              "      <td>0.0</td>\n",
              "      <td>0.900000</td>\n",
              "    </tr>\n",
              "    <tr>\n",
              "      <th>47</th>\n",
              "      <td>0.796296</td>\n",
              "      <td>0.000000</td>\n",
              "      <td>0.000000</td>\n",
              "      <td>0.000000</td>\n",
              "      <td>0.0</td>\n",
              "      <td>1.000000</td>\n",
              "    </tr>\n",
              "    <tr>\n",
              "      <th>85</th>\n",
              "      <td>0.847503</td>\n",
              "      <td>1.000000</td>\n",
              "      <td>1.000000</td>\n",
              "      <td>0.933333</td>\n",
              "      <td>0.0</td>\n",
              "      <td>0.903890</td>\n",
              "    </tr>\n",
              "  </tbody>\n",
              "</table>\n",
              "</div>\n",
              "      <button class=\"colab-df-convert\" onclick=\"convertToInteractive('df-10e85c38-f752-4696-9080-a9450fc31014')\"\n",
              "              title=\"Convert this dataframe to an interactive table.\"\n",
              "              style=\"display:none;\">\n",
              "        \n",
              "  <svg xmlns=\"http://www.w3.org/2000/svg\" height=\"24px\"viewBox=\"0 0 24 24\"\n",
              "       width=\"24px\">\n",
              "    <path d=\"M0 0h24v24H0V0z\" fill=\"none\"/>\n",
              "    <path d=\"M18.56 5.44l.94 2.06.94-2.06 2.06-.94-2.06-.94-.94-2.06-.94 2.06-2.06.94zm-11 1L8.5 8.5l.94-2.06 2.06-.94-2.06-.94L8.5 2.5l-.94 2.06-2.06.94zm10 10l.94 2.06.94-2.06 2.06-.94-2.06-.94-.94-2.06-.94 2.06-2.06.94z\"/><path d=\"M17.41 7.96l-1.37-1.37c-.4-.4-.92-.59-1.43-.59-.52 0-1.04.2-1.43.59L10.3 9.45l-7.72 7.72c-.78.78-.78 2.05 0 2.83L4 21.41c.39.39.9.59 1.41.59.51 0 1.02-.2 1.41-.59l7.78-7.78 2.81-2.81c.8-.78.8-2.07 0-2.86zM5.41 20L4 18.59l7.72-7.72 1.47 1.35L5.41 20z\"/>\n",
              "  </svg>\n",
              "      </button>\n",
              "      \n",
              "  <style>\n",
              "    .colab-df-container {\n",
              "      display:flex;\n",
              "      flex-wrap:wrap;\n",
              "      gap: 12px;\n",
              "    }\n",
              "\n",
              "    .colab-df-convert {\n",
              "      background-color: #E8F0FE;\n",
              "      border: none;\n",
              "      border-radius: 50%;\n",
              "      cursor: pointer;\n",
              "      display: none;\n",
              "      fill: #1967D2;\n",
              "      height: 32px;\n",
              "      padding: 0 0 0 0;\n",
              "      width: 32px;\n",
              "    }\n",
              "\n",
              "    .colab-df-convert:hover {\n",
              "      background-color: #E2EBFA;\n",
              "      box-shadow: 0px 1px 2px rgba(60, 64, 67, 0.3), 0px 1px 3px 1px rgba(60, 64, 67, 0.15);\n",
              "      fill: #174EA6;\n",
              "    }\n",
              "\n",
              "    [theme=dark] .colab-df-convert {\n",
              "      background-color: #3B4455;\n",
              "      fill: #D2E3FC;\n",
              "    }\n",
              "\n",
              "    [theme=dark] .colab-df-convert:hover {\n",
              "      background-color: #434B5C;\n",
              "      box-shadow: 0px 1px 3px 1px rgba(0, 0, 0, 0.15);\n",
              "      filter: drop-shadow(0px 1px 2px rgba(0, 0, 0, 0.3));\n",
              "      fill: #FFFFFF;\n",
              "    }\n",
              "  </style>\n",
              "\n",
              "      <script>\n",
              "        const buttonEl =\n",
              "          document.querySelector('#df-10e85c38-f752-4696-9080-a9450fc31014 button.colab-df-convert');\n",
              "        buttonEl.style.display =\n",
              "          google.colab.kernel.accessAllowed ? 'block' : 'none';\n",
              "\n",
              "        async function convertToInteractive(key) {\n",
              "          const element = document.querySelector('#df-10e85c38-f752-4696-9080-a9450fc31014');\n",
              "          const dataTable =\n",
              "            await google.colab.kernel.invokeFunction('convertToInteractive',\n",
              "                                                     [key], {});\n",
              "          if (!dataTable) return;\n",
              "\n",
              "          const docLinkHtml = 'Like what you see? Visit the ' +\n",
              "            '<a target=\"_blank\" href=https://colab.research.google.com/notebooks/data_table.ipynb>data table notebook</a>'\n",
              "            + ' to learn more about interactive tables.';\n",
              "          element.innerHTML = '';\n",
              "          dataTable['output_type'] = 'display_data';\n",
              "          await google.colab.output.renderOutput(dataTable, element);\n",
              "          const docLink = document.createElement('div');\n",
              "          docLink.innerHTML = docLinkHtml;\n",
              "          element.appendChild(docLink);\n",
              "        }\n",
              "      </script>\n",
              "    </div>\n",
              "  </div>\n",
              "  "
            ]
          },
          "metadata": {},
          "execution_count": 62
        }
      ]
    },
    {
      "cell_type": "code",
      "metadata": {
        "id": "X550kU8D558B"
      },
      "source": [
        "y_pred = model_cb.predict(X)\n"
      ],
      "execution_count": 67,
      "outputs": []
    },
    {
      "cell_type": "code",
      "source": [
        "y_pred"
      ],
      "metadata": {
        "colab": {
          "base_uri": "https://localhost:8080/"
        },
        "id": "gG3X_wyqqcqs",
        "outputId": "ae9ccb8d-a52a-461a-cafc-a7a3dd59972f"
      },
      "execution_count": 68,
      "outputs": [
        {
          "output_type": "execute_result",
          "data": {
            "text/plain": [
              "array(['True', 'False', 'True', 'True', 'True', 'True', 'True', 'True',\n",
              "       'True', 'True', 'True', 'True', 'True', 'True', 'True', 'True',\n",
              "       'True', 'True', 'True', 'True', 'True', 'True', 'True', 'True',\n",
              "       'True', 'True', 'True', 'True', 'False', 'True', 'True', 'True',\n",
              "       'True', 'True', 'True', 'True', 'True', 'False', 'True', 'True',\n",
              "       'True', 'True', 'True', 'True', 'True', 'True', 'True', 'True',\n",
              "       'False', 'True', 'False', 'True', 'True', 'True', 'True', 'True',\n",
              "       'True', 'True', 'True', 'True', 'False', 'True', 'True', 'True',\n",
              "       'True', 'True', 'True', 'True', 'True', 'True', 'True', 'True',\n",
              "       'True', 'True', 'True', 'True', 'True', 'True', 'True', 'True',\n",
              "       'True', 'True', 'False', 'True', 'True', 'True', 'True', 'True',\n",
              "       'True', 'True', 'True', 'True', 'False', 'False', 'True', 'True',\n",
              "       'True', 'True', 'True', 'True'], dtype=object)"
            ]
          },
          "metadata": {},
          "execution_count": 68
        }
      ]
    },
    {
      "cell_type": "code",
      "source": [
        "y_pred"
      ],
      "metadata": {
        "colab": {
          "base_uri": "https://localhost:8080/"
        },
        "id": "_TiT-Ke6qYjj",
        "outputId": "a8efec7c-458e-484d-99d2-c90e24fb6708"
      },
      "execution_count": 51,
      "outputs": [
        {
          "output_type": "execute_result",
          "data": {
            "text/plain": [
              "array(['True', 'True', 'True', 'True', 'True', 'True', 'True', 'True',\n",
              "       'True', 'True', 'True', 'True', 'True', 'True', 'True', 'True',\n",
              "       'True', 'True', 'True', 'True', 'True', 'True', 'True', 'True',\n",
              "       'True', 'True', 'True', 'True', 'True', 'True', 'True', 'True',\n",
              "       'False'], dtype=object)"
            ]
          },
          "metadata": {},
          "execution_count": 51
        }
      ]
    },
    {
      "cell_type": "code",
      "metadata": {
        "id": "pRPR6rsH__H_",
        "outputId": "db521638-f719-48a3-a07a-d60425892994",
        "colab": {
          "base_uri": "https://localhost:8080/",
          "height": 661
        }
      },
      "source": [
        "f1_score(y_test, y_pred)"
      ],
      "execution_count": 52,
      "outputs": [
        {
          "output_type": "error",
          "ename": "TypeError",
          "evalue": "ignored",
          "traceback": [
            "\u001b[0;31m---------------------------------------------------------------------------\u001b[0m",
            "\u001b[0;31mTypeError\u001b[0m                                 Traceback (most recent call last)",
            "\u001b[0;32m/usr/local/lib/python3.7/dist-packages/sklearn/metrics/_classification.py\u001b[0m in \u001b[0;36m_check_targets\u001b[0;34m(y_true, y_pred)\u001b[0m\n\u001b[1;32m    110\u001b[0m             \u001b[0;32mtry\u001b[0m\u001b[0;34m:\u001b[0m\u001b[0;34m\u001b[0m\u001b[0;34m\u001b[0m\u001b[0m\n\u001b[0;32m--> 111\u001b[0;31m                 \u001b[0munique_values\u001b[0m \u001b[0;34m=\u001b[0m \u001b[0mnp\u001b[0m\u001b[0;34m.\u001b[0m\u001b[0munion1d\u001b[0m\u001b[0;34m(\u001b[0m\u001b[0my_true\u001b[0m\u001b[0;34m,\u001b[0m \u001b[0my_pred\u001b[0m\u001b[0;34m)\u001b[0m\u001b[0;34m\u001b[0m\u001b[0;34m\u001b[0m\u001b[0m\n\u001b[0m\u001b[1;32m    112\u001b[0m             \u001b[0;32mexcept\u001b[0m \u001b[0mTypeError\u001b[0m \u001b[0;32mas\u001b[0m \u001b[0me\u001b[0m\u001b[0;34m:\u001b[0m\u001b[0;34m\u001b[0m\u001b[0;34m\u001b[0m\u001b[0m\n",
            "\u001b[0;32m<__array_function__ internals>\u001b[0m in \u001b[0;36munion1d\u001b[0;34m(*args, **kwargs)\u001b[0m\n",
            "\u001b[0;32m/usr/local/lib/python3.7/dist-packages/numpy/lib/arraysetops.py\u001b[0m in \u001b[0;36munion1d\u001b[0;34m(ar1, ar2)\u001b[0m\n\u001b[1;32m    776\u001b[0m     \"\"\"\n\u001b[0;32m--> 777\u001b[0;31m     \u001b[0;32mreturn\u001b[0m \u001b[0munique\u001b[0m\u001b[0;34m(\u001b[0m\u001b[0mnp\u001b[0m\u001b[0;34m.\u001b[0m\u001b[0mconcatenate\u001b[0m\u001b[0;34m(\u001b[0m\u001b[0;34m(\u001b[0m\u001b[0mar1\u001b[0m\u001b[0;34m,\u001b[0m \u001b[0mar2\u001b[0m\u001b[0;34m)\u001b[0m\u001b[0;34m,\u001b[0m \u001b[0maxis\u001b[0m\u001b[0;34m=\u001b[0m\u001b[0;32mNone\u001b[0m\u001b[0;34m)\u001b[0m\u001b[0;34m)\u001b[0m\u001b[0;34m\u001b[0m\u001b[0;34m\u001b[0m\u001b[0m\n\u001b[0m\u001b[1;32m    778\u001b[0m \u001b[0;34m\u001b[0m\u001b[0m\n",
            "\u001b[0;32m<__array_function__ internals>\u001b[0m in \u001b[0;36munique\u001b[0;34m(*args, **kwargs)\u001b[0m\n",
            "\u001b[0;32m/usr/local/lib/python3.7/dist-packages/numpy/lib/arraysetops.py\u001b[0m in \u001b[0;36munique\u001b[0;34m(ar, return_index, return_inverse, return_counts, axis)\u001b[0m\n\u001b[1;32m    271\u001b[0m     \u001b[0;32mif\u001b[0m \u001b[0maxis\u001b[0m \u001b[0;32mis\u001b[0m \u001b[0;32mNone\u001b[0m\u001b[0;34m:\u001b[0m\u001b[0;34m\u001b[0m\u001b[0;34m\u001b[0m\u001b[0m\n\u001b[0;32m--> 272\u001b[0;31m         \u001b[0mret\u001b[0m \u001b[0;34m=\u001b[0m \u001b[0m_unique1d\u001b[0m\u001b[0;34m(\u001b[0m\u001b[0mar\u001b[0m\u001b[0;34m,\u001b[0m \u001b[0mreturn_index\u001b[0m\u001b[0;34m,\u001b[0m \u001b[0mreturn_inverse\u001b[0m\u001b[0;34m,\u001b[0m \u001b[0mreturn_counts\u001b[0m\u001b[0;34m)\u001b[0m\u001b[0;34m\u001b[0m\u001b[0;34m\u001b[0m\u001b[0m\n\u001b[0m\u001b[1;32m    273\u001b[0m         \u001b[0;32mreturn\u001b[0m \u001b[0m_unpack_tuple\u001b[0m\u001b[0;34m(\u001b[0m\u001b[0mret\u001b[0m\u001b[0;34m)\u001b[0m\u001b[0;34m\u001b[0m\u001b[0;34m\u001b[0m\u001b[0m\n",
            "\u001b[0;32m/usr/local/lib/python3.7/dist-packages/numpy/lib/arraysetops.py\u001b[0m in \u001b[0;36m_unique1d\u001b[0;34m(ar, return_index, return_inverse, return_counts)\u001b[0m\n\u001b[1;32m    332\u001b[0m     \u001b[0;32melse\u001b[0m\u001b[0;34m:\u001b[0m\u001b[0;34m\u001b[0m\u001b[0;34m\u001b[0m\u001b[0m\n\u001b[0;32m--> 333\u001b[0;31m         \u001b[0mar\u001b[0m\u001b[0;34m.\u001b[0m\u001b[0msort\u001b[0m\u001b[0;34m(\u001b[0m\u001b[0;34m)\u001b[0m\u001b[0;34m\u001b[0m\u001b[0;34m\u001b[0m\u001b[0m\n\u001b[0m\u001b[1;32m    334\u001b[0m         \u001b[0maux\u001b[0m \u001b[0;34m=\u001b[0m \u001b[0mar\u001b[0m\u001b[0;34m\u001b[0m\u001b[0;34m\u001b[0m\u001b[0m\n",
            "\u001b[0;31mTypeError\u001b[0m: '<' not supported between instances of 'str' and 'bool'",
            "\nThe above exception was the direct cause of the following exception:\n",
            "\u001b[0;31mTypeError\u001b[0m                                 Traceback (most recent call last)",
            "\u001b[0;32m<ipython-input-52-5124aba646c8>\u001b[0m in \u001b[0;36m<module>\u001b[0;34m()\u001b[0m\n\u001b[0;32m----> 1\u001b[0;31m \u001b[0mf1_score\u001b[0m\u001b[0;34m(\u001b[0m\u001b[0my_test\u001b[0m\u001b[0;34m,\u001b[0m \u001b[0my_pred\u001b[0m\u001b[0;34m)\u001b[0m\u001b[0;34m\u001b[0m\u001b[0;34m\u001b[0m\u001b[0m\n\u001b[0m",
            "\u001b[0;32m/usr/local/lib/python3.7/dist-packages/sklearn/metrics/_classification.py\u001b[0m in \u001b[0;36mf1_score\u001b[0;34m(y_true, y_pred, labels, pos_label, average, sample_weight, zero_division)\u001b[0m\n\u001b[1;32m   1129\u001b[0m         \u001b[0maverage\u001b[0m\u001b[0;34m=\u001b[0m\u001b[0maverage\u001b[0m\u001b[0;34m,\u001b[0m\u001b[0;34m\u001b[0m\u001b[0;34m\u001b[0m\u001b[0m\n\u001b[1;32m   1130\u001b[0m         \u001b[0msample_weight\u001b[0m\u001b[0;34m=\u001b[0m\u001b[0msample_weight\u001b[0m\u001b[0;34m,\u001b[0m\u001b[0;34m\u001b[0m\u001b[0;34m\u001b[0m\u001b[0m\n\u001b[0;32m-> 1131\u001b[0;31m         \u001b[0mzero_division\u001b[0m\u001b[0;34m=\u001b[0m\u001b[0mzero_division\u001b[0m\u001b[0;34m,\u001b[0m\u001b[0;34m\u001b[0m\u001b[0;34m\u001b[0m\u001b[0m\n\u001b[0m\u001b[1;32m   1132\u001b[0m     )\n\u001b[1;32m   1133\u001b[0m \u001b[0;34m\u001b[0m\u001b[0m\n",
            "\u001b[0;32m/usr/local/lib/python3.7/dist-packages/sklearn/metrics/_classification.py\u001b[0m in \u001b[0;36mfbeta_score\u001b[0;34m(y_true, y_pred, beta, labels, pos_label, average, sample_weight, zero_division)\u001b[0m\n\u001b[1;32m   1268\u001b[0m         \u001b[0mwarn_for\u001b[0m\u001b[0;34m=\u001b[0m\u001b[0;34m(\u001b[0m\u001b[0;34m\"f-score\"\u001b[0m\u001b[0;34m,\u001b[0m\u001b[0;34m)\u001b[0m\u001b[0;34m,\u001b[0m\u001b[0;34m\u001b[0m\u001b[0;34m\u001b[0m\u001b[0m\n\u001b[1;32m   1269\u001b[0m         \u001b[0msample_weight\u001b[0m\u001b[0;34m=\u001b[0m\u001b[0msample_weight\u001b[0m\u001b[0;34m,\u001b[0m\u001b[0;34m\u001b[0m\u001b[0;34m\u001b[0m\u001b[0m\n\u001b[0;32m-> 1270\u001b[0;31m         \u001b[0mzero_division\u001b[0m\u001b[0;34m=\u001b[0m\u001b[0mzero_division\u001b[0m\u001b[0;34m,\u001b[0m\u001b[0;34m\u001b[0m\u001b[0;34m\u001b[0m\u001b[0m\n\u001b[0m\u001b[1;32m   1271\u001b[0m     )\n\u001b[1;32m   1272\u001b[0m     \u001b[0;32mreturn\u001b[0m \u001b[0mf\u001b[0m\u001b[0;34m\u001b[0m\u001b[0;34m\u001b[0m\u001b[0m\n",
            "\u001b[0;32m/usr/local/lib/python3.7/dist-packages/sklearn/metrics/_classification.py\u001b[0m in \u001b[0;36mprecision_recall_fscore_support\u001b[0;34m(y_true, y_pred, beta, labels, pos_label, average, warn_for, sample_weight, zero_division)\u001b[0m\n\u001b[1;32m   1542\u001b[0m     \u001b[0;32mif\u001b[0m \u001b[0mbeta\u001b[0m \u001b[0;34m<\u001b[0m \u001b[0;36m0\u001b[0m\u001b[0;34m:\u001b[0m\u001b[0;34m\u001b[0m\u001b[0;34m\u001b[0m\u001b[0m\n\u001b[1;32m   1543\u001b[0m         \u001b[0;32mraise\u001b[0m \u001b[0mValueError\u001b[0m\u001b[0;34m(\u001b[0m\u001b[0;34m\"beta should be >=0 in the F-beta score\"\u001b[0m\u001b[0;34m)\u001b[0m\u001b[0;34m\u001b[0m\u001b[0;34m\u001b[0m\u001b[0m\n\u001b[0;32m-> 1544\u001b[0;31m     \u001b[0mlabels\u001b[0m \u001b[0;34m=\u001b[0m \u001b[0m_check_set_wise_labels\u001b[0m\u001b[0;34m(\u001b[0m\u001b[0my_true\u001b[0m\u001b[0;34m,\u001b[0m \u001b[0my_pred\u001b[0m\u001b[0;34m,\u001b[0m \u001b[0maverage\u001b[0m\u001b[0;34m,\u001b[0m \u001b[0mlabels\u001b[0m\u001b[0;34m,\u001b[0m \u001b[0mpos_label\u001b[0m\u001b[0;34m)\u001b[0m\u001b[0;34m\u001b[0m\u001b[0;34m\u001b[0m\u001b[0m\n\u001b[0m\u001b[1;32m   1545\u001b[0m \u001b[0;34m\u001b[0m\u001b[0m\n\u001b[1;32m   1546\u001b[0m     \u001b[0;31m# Calculate tp_sum, pred_sum, true_sum ###\u001b[0m\u001b[0;34m\u001b[0m\u001b[0;34m\u001b[0m\u001b[0;34m\u001b[0m\u001b[0m\n",
            "\u001b[0;32m/usr/local/lib/python3.7/dist-packages/sklearn/metrics/_classification.py\u001b[0m in \u001b[0;36m_check_set_wise_labels\u001b[0;34m(y_true, y_pred, average, labels, pos_label)\u001b[0m\n\u001b[1;32m   1346\u001b[0m         \u001b[0;32mraise\u001b[0m \u001b[0mValueError\u001b[0m\u001b[0;34m(\u001b[0m\u001b[0;34m\"average has to be one of \"\u001b[0m \u001b[0;34m+\u001b[0m \u001b[0mstr\u001b[0m\u001b[0;34m(\u001b[0m\u001b[0maverage_options\u001b[0m\u001b[0;34m)\u001b[0m\u001b[0;34m)\u001b[0m\u001b[0;34m\u001b[0m\u001b[0;34m\u001b[0m\u001b[0m\n\u001b[1;32m   1347\u001b[0m \u001b[0;34m\u001b[0m\u001b[0m\n\u001b[0;32m-> 1348\u001b[0;31m     \u001b[0my_type\u001b[0m\u001b[0;34m,\u001b[0m \u001b[0my_true\u001b[0m\u001b[0;34m,\u001b[0m \u001b[0my_pred\u001b[0m \u001b[0;34m=\u001b[0m \u001b[0m_check_targets\u001b[0m\u001b[0;34m(\u001b[0m\u001b[0my_true\u001b[0m\u001b[0;34m,\u001b[0m \u001b[0my_pred\u001b[0m\u001b[0;34m)\u001b[0m\u001b[0;34m\u001b[0m\u001b[0;34m\u001b[0m\u001b[0m\n\u001b[0m\u001b[1;32m   1349\u001b[0m     \u001b[0;31m# Convert to Python primitive type to avoid NumPy type / Python str\u001b[0m\u001b[0;34m\u001b[0m\u001b[0;34m\u001b[0m\u001b[0;34m\u001b[0m\u001b[0m\n\u001b[1;32m   1350\u001b[0m     \u001b[0;31m# comparison. See https://github.com/numpy/numpy/issues/6784\u001b[0m\u001b[0;34m\u001b[0m\u001b[0;34m\u001b[0m\u001b[0;34m\u001b[0m\u001b[0m\n",
            "\u001b[0;32m/usr/local/lib/python3.7/dist-packages/sklearn/metrics/_classification.py\u001b[0m in \u001b[0;36m_check_targets\u001b[0;34m(y_true, y_pred)\u001b[0m\n\u001b[1;32m    121\u001b[0m                     \u001b[0;34m\"predictions provided by the classifier coincides with \"\u001b[0m\u001b[0;34m\u001b[0m\u001b[0;34m\u001b[0m\u001b[0m\n\u001b[1;32m    122\u001b[0m                     \u001b[0;34m\"the true labels.\"\u001b[0m\u001b[0;34m\u001b[0m\u001b[0;34m\u001b[0m\u001b[0m\n\u001b[0;32m--> 123\u001b[0;31m                 ) from e\n\u001b[0m\u001b[1;32m    124\u001b[0m             \u001b[0;32mif\u001b[0m \u001b[0mlen\u001b[0m\u001b[0;34m(\u001b[0m\u001b[0munique_values\u001b[0m\u001b[0;34m)\u001b[0m \u001b[0;34m>\u001b[0m \u001b[0;36m2\u001b[0m\u001b[0;34m:\u001b[0m\u001b[0;34m\u001b[0m\u001b[0;34m\u001b[0m\u001b[0m\n\u001b[1;32m    125\u001b[0m                 \u001b[0my_type\u001b[0m \u001b[0;34m=\u001b[0m \u001b[0;34m\"multiclass\"\u001b[0m\u001b[0;34m\u001b[0m\u001b[0;34m\u001b[0m\u001b[0m\n",
            "\u001b[0;31mTypeError\u001b[0m: Labels in y_true and y_pred should be of the same type. Got y_true=[False  True] and y_pred=['False' 'True']. Make sure that the predictions provided by the classifier coincides with the true labels."
          ]
        }
      ]
    },
    {
      "cell_type": "code",
      "metadata": {
        "id": "Cro3MSvZADJ2"
      },
      "source": [
        "accuracy_score(y_test, y_pred)"
      ],
      "execution_count": null,
      "outputs": []
    },
    {
      "cell_type": "code",
      "metadata": {
        "id": "_U8xbzfDAvc1"
      },
      "source": [
        ""
      ],
      "execution_count": null,
      "outputs": []
    }
  ]
}