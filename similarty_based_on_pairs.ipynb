{
  "cells": [
    {
      "cell_type": "markdown",
      "metadata": {
        "id": "view-in-github",
        "colab_type": "text"
      },
      "source": [
        "<a href=\"https://colab.research.google.com/github/bsyh/foursquare/blob/main/similarty_based_on_pairs.ipynb\" target=\"_parent\"><img src=\"https://colab.research.google.com/assets/colab-badge.svg\" alt=\"Open In Colab\"/></a>"
      ]
    },
    {
      "cell_type": "markdown",
      "metadata": {
        "id": "eDId5Z6xIyz-"
      },
      "source": [
        "# 团队版本\n",
        "https://github.com/bsyh/foursquare\n"
      ]
    },
    {
      "cell_type": "markdown",
      "metadata": {
        "id": "a-5I7_lMHOaE"
      },
      "source": [
        "access to google drive"
      ]
    },
    {
      "cell_type": "code",
      "execution_count": 58,
      "metadata": {
        "colab": {
          "base_uri": "https://localhost:8080/"
        },
        "id": "fNr0YFB_EQoj",
        "outputId": "04015cc9-4361-4d63-ccc2-e0322540a394"
      },
      "outputs": [
        {
          "output_type": "stream",
          "name": "stdout",
          "text": [
            "Drive already mounted at /content/drive; to attempt to forcibly remount, call drive.mount(\"/content/drive\", force_remount=True).\n"
          ]
        }
      ],
      "source": [
        "from google.colab import drive\n",
        "\n",
        "drive.mount('/content/drive')\n",
        "root_path = 'drive/MyDrive/Foursquare/'\n",
        "\n",
        "data_path = f'{root_path}/data'\n",
        "transformer_model_path = f'{root_path}/transformer_model'"
      ]
    },
    {
      "cell_type": "markdown",
      "metadata": {
        "id": "XWcin6lWHGYr"
      },
      "source": [
        "create path"
      ]
    },
    {
      "cell_type": "markdown",
      "metadata": {
        "id": "t2qSnfs0GpVH"
      },
      "source": [
        "importimport packages"
      ]
    },
    {
      "cell_type": "code",
      "execution_count": 59,
      "metadata": {
        "id": "YNw4JbWWW5ik"
      },
      "outputs": [],
      "source": [
        "import pandas as pd\n",
        "import numpy as np\n"
      ]
    },
    {
      "cell_type": "code",
      "execution_count": 60,
      "metadata": {
        "colab": {
          "base_uri": "https://localhost:8080/"
        },
        "id": "3tgin7t4ky7s",
        "outputId": "77e82fa2-0e46-4a34-f811-576db0e2afad"
      },
      "outputs": [
        {
          "output_type": "stream",
          "name": "stdout",
          "text": [
            "Looking in indexes: https://pypi.org/simple, https://us-python.pkg.dev/colab-wheels/public/simple/\n",
            "Requirement already satisfied: sentence_transformers in /usr/local/lib/python3.7/dist-packages (2.2.2)\n",
            "Requirement already satisfied: sentencepiece in /usr/local/lib/python3.7/dist-packages (from sentence_transformers) (0.1.96)\n",
            "Requirement already satisfied: torch>=1.6.0 in /usr/local/lib/python3.7/dist-packages (from sentence_transformers) (1.11.0)\n",
            "Requirement already satisfied: scikit-learn in /usr/local/lib/python3.7/dist-packages (from sentence_transformers) (1.0.2)\n",
            "Requirement already satisfied: tqdm in /usr/local/lib/python3.7/dist-packages (from sentence_transformers) (4.64.0)\n",
            "Requirement already satisfied: numpy in /usr/local/lib/python3.7/dist-packages (from sentence_transformers) (1.21.6)\n",
            "Requirement already satisfied: huggingface-hub>=0.4.0 in /usr/local/lib/python3.7/dist-packages (from sentence_transformers) (0.8.1)\n",
            "Requirement already satisfied: scipy in /usr/local/lib/python3.7/dist-packages (from sentence_transformers) (1.4.1)\n",
            "Requirement already satisfied: torchvision in /usr/local/lib/python3.7/dist-packages (from sentence_transformers) (0.12.0+cu113)\n",
            "Requirement already satisfied: nltk in /usr/local/lib/python3.7/dist-packages (from sentence_transformers) (3.7)\n",
            "Requirement already satisfied: transformers<5.0.0,>=4.6.0 in /usr/local/lib/python3.7/dist-packages (from sentence_transformers) (4.20.1)\n",
            "Requirement already satisfied: importlib-metadata in /usr/local/lib/python3.7/dist-packages (from huggingface-hub>=0.4.0->sentence_transformers) (4.11.4)\n",
            "Requirement already satisfied: typing-extensions>=3.7.4.3 in /usr/local/lib/python3.7/dist-packages (from huggingface-hub>=0.4.0->sentence_transformers) (4.1.1)\n",
            "Requirement already satisfied: packaging>=20.9 in /usr/local/lib/python3.7/dist-packages (from huggingface-hub>=0.4.0->sentence_transformers) (21.3)\n",
            "Requirement already satisfied: pyyaml>=5.1 in /usr/local/lib/python3.7/dist-packages (from huggingface-hub>=0.4.0->sentence_transformers) (6.0)\n",
            "Requirement already satisfied: requests in /usr/local/lib/python3.7/dist-packages (from huggingface-hub>=0.4.0->sentence_transformers) (2.23.0)\n",
            "Requirement already satisfied: filelock in /usr/local/lib/python3.7/dist-packages (from huggingface-hub>=0.4.0->sentence_transformers) (3.7.1)\n",
            "Requirement already satisfied: pyparsing!=3.0.5,>=2.0.2 in /usr/local/lib/python3.7/dist-packages (from packaging>=20.9->huggingface-hub>=0.4.0->sentence_transformers) (3.0.9)\n",
            "Requirement already satisfied: regex!=2019.12.17 in /usr/local/lib/python3.7/dist-packages (from transformers<5.0.0,>=4.6.0->sentence_transformers) (2022.6.2)\n",
            "Requirement already satisfied: tokenizers!=0.11.3,<0.13,>=0.11.1 in /usr/local/lib/python3.7/dist-packages (from transformers<5.0.0,>=4.6.0->sentence_transformers) (0.12.1)\n",
            "Requirement already satisfied: zipp>=0.5 in /usr/local/lib/python3.7/dist-packages (from importlib-metadata->huggingface-hub>=0.4.0->sentence_transformers) (3.8.0)\n",
            "Requirement already satisfied: click in /usr/local/lib/python3.7/dist-packages (from nltk->sentence_transformers) (7.1.2)\n",
            "Requirement already satisfied: joblib in /usr/local/lib/python3.7/dist-packages (from nltk->sentence_transformers) (1.1.0)\n",
            "Requirement already satisfied: certifi>=2017.4.17 in /usr/local/lib/python3.7/dist-packages (from requests->huggingface-hub>=0.4.0->sentence_transformers) (2022.6.15)\n",
            "Requirement already satisfied: chardet<4,>=3.0.2 in /usr/local/lib/python3.7/dist-packages (from requests->huggingface-hub>=0.4.0->sentence_transformers) (3.0.4)\n",
            "Requirement already satisfied: idna<3,>=2.5 in /usr/local/lib/python3.7/dist-packages (from requests->huggingface-hub>=0.4.0->sentence_transformers) (2.10)\n",
            "Requirement already satisfied: urllib3!=1.25.0,!=1.25.1,<1.26,>=1.21.1 in /usr/local/lib/python3.7/dist-packages (from requests->huggingface-hub>=0.4.0->sentence_transformers) (1.25.11)\n",
            "Requirement already satisfied: threadpoolctl>=2.0.0 in /usr/local/lib/python3.7/dist-packages (from scikit-learn->sentence_transformers) (3.1.0)\n",
            "Requirement already satisfied: pillow!=8.3.*,>=5.3.0 in /usr/local/lib/python3.7/dist-packages (from torchvision->sentence_transformers) (7.1.2)\n"
          ]
        }
      ],
      "source": [
        "!pip install -U sentence_transformers\n",
        "\n",
        "from sentence_transformers import SentenceTransformer, util\n",
        "model = SentenceTransformer('stsb-roberta-large')\n",
        "model.save(transformer_model_path)\n",
        "\n",
        "\n",
        "model = SentenceTransformer(transformer_model_path)\n",
        "from sklearn.metrics.pairwise import cosine_similarity"
      ]
    },
    {
      "cell_type": "code",
      "source": [
        "pairs = pd.read_csv(f'{data_path}/pairs_tiny_100.csv')\n",
        "pairs = pairs.fillna(\"\")\n",
        "\n",
        "new_feature = {'total_similarity': [0.0 for ii in range(len(pairs))],'match':[False for ii in range(len(pairs))]}\n",
        "new_feature = pd.DataFrame(data=new_feature)\n",
        "\n",
        "import time\n",
        "start = time.time()\n",
        "for i in range(len(pairs)):\n",
        "  start_loop = time.time()\n",
        "  line = pairs.iloc[[i]]\n",
        "\n",
        "  # text_1 = str(line[\"name_1\"]+ '[sep]' + str(line['latitude_1']) + '[sep]' + str(line['longitude_1']) + '[sep]' + line['address_1'] + '[sep]' + line['city_1'] + '[sep]' + line['state_1'] + '[sep]' + line['zip_1'] + '[sep]' + line['country_1'] + '[sep]' + line['url_1'] + '[sep]' + line['phone_1'] + '[sep]' + line['categories_1'])\n",
        "  # text_2 = str(line[\"name_2\"]+ '[sep]' + str(line['latitude_2']) + '[sep]' + str(line['longitude_2']) + '[sep]' + line['address_2'] + '[sep]' + line['city_2'] + '[sep]' + line['state_2'] + '[sep]' + line['zip_2'] + '[sep]' + line['country_2'] + '[sep]' + line['url_2'] + '[sep]' + line['phone_2'] + '[sep]' + line['categories_2'])\n",
        "  \n",
        "  text_1 = str(line[\"name_1\"])\n",
        "  text_2 = str(line[\"name_2\"])\n",
        "\n",
        "\n",
        "  embedding1 = model.encode(text_1, convert_to_tensor=False)\n",
        "  embedding2 = model.encode(text_2, convert_to_tensor=False)\n",
        "\n",
        "  total_similarity = util.pytorch_cos_sim(embedding1, embedding2)[0][0].item()\n",
        "  print(total_similarity)\n",
        "\n",
        "  \n",
        "\n",
        "  new_feature.at[i,'total_similarity'] = total_similarity\n",
        "  new_feature.at[i,'match'] = line['match'].bool()\n",
        "\n",
        "  end_loop = time.time()\n",
        "\n",
        "  print(\"iteration of loop - time used:\", end_loop - start_loop)\n",
        "  print(total_similarity)\n",
        "\n",
        "\n",
        "pd.options.display.max_rows,pd.options.display.max_columns = 1000,14 # display all rows annd columns\n",
        "print(new_feature)\n",
        "\n",
        "end = time.time()\n",
        "print(\"time used:\", end - start)\n"
      ],
      "metadata": {
        "colab": {
          "base_uri": "https://localhost:8080/"
        },
        "id": "3j1SEs6G9I1c",
        "outputId": "4c0d0179-7498-4025-c00e-c7dfdabefdf2"
      },
      "execution_count": null,
      "outputs": [
        {
          "output_type": "stream",
          "name": "stdout",
          "text": [
            "0.7908469438552856\n",
            "iteration of loop - time used: 1.5639662742614746\n",
            "0.7908469438552856\n",
            "0.8597831726074219\n",
            "iteration of loop - time used: 1.564422607421875\n",
            "0.8597831726074219\n",
            "0.879366397857666\n",
            "iteration of loop - time used: 1.3824009895324707\n",
            "0.879366397857666\n",
            "0.6764047145843506\n",
            "iteration of loop - time used: 1.3324549198150635\n",
            "0.6764047145843506\n",
            "0.7720245122909546\n",
            "iteration of loop - time used: 1.3925042152404785\n",
            "0.7720245122909546\n",
            "0.8471135497093201\n",
            "iteration of loop - time used: 1.7050468921661377\n",
            "0.8471135497093201\n",
            "0.9207881093025208\n",
            "iteration of loop - time used: 1.405426025390625\n",
            "0.9207881093025208\n",
            "0.8700071573257446\n",
            "iteration of loop - time used: 1.3274359703063965\n",
            "0.8700071573257446\n",
            "0.8303756713867188\n",
            "iteration of loop - time used: 1.1729581356048584\n",
            "0.8303756713867188\n",
            "0.8767787218093872\n",
            "iteration of loop - time used: 0.8862831592559814\n",
            "0.8767787218093872\n",
            "0.8365737795829773\n",
            "iteration of loop - time used: 1.1069645881652832\n",
            "0.8365737795829773\n",
            "0.5553954839706421\n",
            "iteration of loop - time used: 0.9698829650878906\n",
            "0.5553954839706421\n",
            "0.8260143995285034\n",
            "iteration of loop - time used: 0.9924225807189941\n",
            "0.8260143995285034\n",
            "0.8279560804367065\n",
            "iteration of loop - time used: 0.8307459354400635\n",
            "0.8279560804367065\n",
            "0.7877497673034668\n",
            "iteration of loop - time used: 1.1763198375701904\n",
            "0.7877497673034668\n",
            "0.7394473552703857\n",
            "iteration of loop - time used: 0.912541389465332\n",
            "0.7394473552703857\n",
            "0.7844691872596741\n",
            "iteration of loop - time used: 0.9596316814422607\n",
            "0.7844691872596741\n",
            "0.7818999290466309\n",
            "iteration of loop - time used: 0.8793015480041504\n",
            "0.7818999290466309\n",
            "0.7675430774688721\n",
            "iteration of loop - time used: 1.015885829925537\n",
            "0.7675430774688721\n",
            "0.6727225184440613\n",
            "iteration of loop - time used: 0.8621463775634766\n",
            "0.6727225184440613\n",
            "0.8207725286483765\n",
            "iteration of loop - time used: 1.2738242149353027\n",
            "0.8207725286483765\n",
            "0.5851590633392334\n",
            "iteration of loop - time used: 0.9024171829223633\n",
            "0.5851590633392334\n",
            "0.6738494634628296\n",
            "iteration of loop - time used: 0.9110126495361328\n",
            "0.6738494634628296\n",
            "0.7452044486999512\n",
            "iteration of loop - time used: 0.8764135837554932\n",
            "0.7452044486999512\n",
            "0.8348414301872253\n",
            "iteration of loop - time used: 1.635305404663086\n",
            "0.8348414301872253\n",
            "0.9199292659759521\n",
            "iteration of loop - time used: 0.8817532062530518\n",
            "0.9199292659759521\n",
            "0.9091856479644775\n",
            "iteration of loop - time used: 1.0014708042144775\n",
            "0.9091856479644775\n",
            "0.5444745421409607\n",
            "iteration of loop - time used: 0.9245069026947021\n",
            "0.5444745421409607\n",
            "0.7605944871902466\n",
            "iteration of loop - time used: 0.8745219707489014\n",
            "0.7605944871902466\n",
            "0.8524618148803711\n",
            "iteration of loop - time used: 0.9369547367095947\n",
            "0.8524618148803711\n",
            "0.9075192213058472\n",
            "iteration of loop - time used: 1.4275248050689697\n",
            "0.9075192213058472\n",
            "0.7765443325042725\n",
            "iteration of loop - time used: 1.1581511497497559\n",
            "0.7765443325042725\n",
            "0.9099969863891602\n",
            "iteration of loop - time used: 0.990473747253418\n",
            "0.9099969863891602\n",
            "0.8126238584518433\n",
            "iteration of loop - time used: 0.9906036853790283\n",
            "0.8126238584518433\n",
            "0.8187373876571655\n",
            "iteration of loop - time used: 0.9105892181396484\n",
            "0.8187373876571655\n",
            "0.8719797730445862\n",
            "iteration of loop - time used: 0.993666410446167\n",
            "0.8719797730445862\n",
            "0.7022209167480469\n",
            "iteration of loop - time used: 0.8782265186309814\n",
            "0.7022209167480469\n",
            "0.8301583528518677\n",
            "iteration of loop - time used: 0.8708758354187012\n",
            "0.8301583528518677\n",
            "0.8000385761260986\n",
            "iteration of loop - time used: 0.9073541164398193\n",
            "0.8000385761260986\n",
            "0.8203139305114746\n",
            "iteration of loop - time used: 1.1583006381988525\n",
            "0.8203139305114746\n",
            "0.5838208198547363\n",
            "iteration of loop - time used: 1.1185712814331055\n",
            "0.5838208198547363\n",
            "0.8273881673812866\n",
            "iteration of loop - time used: 1.1208698749542236\n",
            "0.8273881673812866\n",
            "0.8540772199630737\n",
            "iteration of loop - time used: 1.2267329692840576\n",
            "0.8540772199630737\n",
            "0.8384084701538086\n",
            "iteration of loop - time used: 1.2415580749511719\n",
            "0.8384084701538086\n",
            "0.8033592700958252\n",
            "iteration of loop - time used: 1.2637965679168701\n",
            "0.8033592700958252\n",
            "0.7891474366188049\n",
            "iteration of loop - time used: 1.0552101135253906\n",
            "0.7891474366188049\n",
            "0.8188236951828003\n",
            "iteration of loop - time used: 1.1735241413116455\n",
            "0.8188236951828003\n",
            "0.7968183159828186\n",
            "iteration of loop - time used: 0.9313309192657471\n",
            "0.7968183159828186\n",
            "0.5735963582992554\n",
            "iteration of loop - time used: 0.8652200698852539\n",
            "0.5735963582992554\n",
            "0.8462569117546082\n",
            "iteration of loop - time used: 0.9502134323120117\n",
            "0.8462569117546082\n",
            "0.9074817895889282\n",
            "iteration of loop - time used: 1.1818890571594238\n",
            "0.9074817895889282\n",
            "0.6136979460716248\n",
            "iteration of loop - time used: 0.9003829956054688\n",
            "0.6136979460716248\n",
            "0.9211803078651428\n",
            "iteration of loop - time used: 0.8576343059539795\n",
            "0.9211803078651428\n",
            "0.909820020198822\n",
            "iteration of loop - time used: 0.8585026264190674\n",
            "0.909820020198822\n",
            "0.6580287218093872\n",
            "iteration of loop - time used: 0.902348518371582\n",
            "0.6580287218093872\n",
            "0.8965533971786499\n",
            "iteration of loop - time used: 0.8150672912597656\n",
            "0.8965533971786499\n",
            "0.888111412525177\n",
            "iteration of loop - time used: 0.8722434043884277\n",
            "0.888111412525177\n",
            "0.8483085632324219\n",
            "iteration of loop - time used: 0.8705472946166992\n",
            "0.8483085632324219\n",
            "0.7976688146591187\n",
            "iteration of loop - time used: 0.8158657550811768\n",
            "0.7976688146591187\n",
            "0.8309035897254944\n",
            "iteration of loop - time used: 0.988394021987915\n",
            "0.8309035897254944\n",
            "0.5114008188247681\n",
            "iteration of loop - time used: 0.8380331993103027\n",
            "0.5114008188247681\n",
            "0.8372488021850586\n",
            "iteration of loop - time used: 1.0668342113494873\n",
            "0.8372488021850586\n",
            "0.8797851800918579\n",
            "iteration of loop - time used: 0.9936590194702148\n",
            "0.8797851800918579\n",
            "0.7894452810287476\n",
            "iteration of loop - time used: 0.854764461517334\n",
            "0.7894452810287476\n",
            "0.8616727590560913\n",
            "iteration of loop - time used: 0.8605973720550537\n",
            "0.8616727590560913\n"
          ]
        }
      ]
    }
  ],
  "metadata": {
    "colab": {
      "collapsed_sections": [],
      "name": "similarty_based_on_pairs.ipynb",
      "provenance": [],
      "include_colab_link": true
    },
    "kernelspec": {
      "display_name": "Python 3",
      "name": "python3"
    },
    "language_info": {
      "name": "python"
    }
  },
  "nbformat": 4,
  "nbformat_minor": 0
}