{
  "metadata": {
    "kernelspec": {
      "language": "python",
      "display_name": "Python 3",
      "name": "python3"
    },
    "language_info": {
      "name": "python",
      "version": "3.7.12",
      "mimetype": "text/x-python",
      "codemirror_mode": {
        "name": "ipython",
        "version": 3
      },
      "pygments_lexer": "ipython3",
      "nbconvert_exporter": "python",
      "file_extension": ".py"
    },
    "colab": {
      "name": "lgb-catboost_all feature.ipynb",
      "provenance": [],
      "include_colab_link": true
    },
    "widgets": {
      "application/vnd.jupyter.widget-state+json": {
        "5265e604c6f341bd9483eb1ab7829897": {
          "model_module": "@jupyter-widgets/controls",
          "model_name": "HBoxModel",
          "model_module_version": "1.5.0",
          "state": {
            "_dom_classes": [],
            "_model_module": "@jupyter-widgets/controls",
            "_model_module_version": "1.5.0",
            "_model_name": "HBoxModel",
            "_view_count": null,
            "_view_module": "@jupyter-widgets/controls",
            "_view_module_version": "1.5.0",
            "_view_name": "HBoxView",
            "box_style": "",
            "children": [
              "IPY_MODEL_938dfe18d32142bca5aac78fbe856042",
              "IPY_MODEL_e4c2852b4a034ce2a0895efa9bac4cae",
              "IPY_MODEL_2a1a7c01e44141de8f7a76bebf326721"
            ],
            "layout": "IPY_MODEL_4dfdaec8ea5a4ddd820e782b68ad3b79"
          }
        },
        "938dfe18d32142bca5aac78fbe856042": {
          "model_module": "@jupyter-widgets/controls",
          "model_name": "HTMLModel",
          "model_module_version": "1.5.0",
          "state": {
            "_dom_classes": [],
            "_model_module": "@jupyter-widgets/controls",
            "_model_module_version": "1.5.0",
            "_model_name": "HTMLModel",
            "_view_count": null,
            "_view_module": "@jupyter-widgets/controls",
            "_view_module_version": "1.5.0",
            "_view_name": "HTMLView",
            "description": "",
            "description_tooltip": null,
            "layout": "IPY_MODEL_cff45d4c81d54b7582941a804462f39d",
            "placeholder": "​",
            "style": "IPY_MODEL_e54dcab492a84b3b9a993ae37a2893d5",
            "value": "100%"
          }
        },
        "e4c2852b4a034ce2a0895efa9bac4cae": {
          "model_module": "@jupyter-widgets/controls",
          "model_name": "FloatProgressModel",
          "model_module_version": "1.5.0",
          "state": {
            "_dom_classes": [],
            "_model_module": "@jupyter-widgets/controls",
            "_model_module_version": "1.5.0",
            "_model_name": "FloatProgressModel",
            "_view_count": null,
            "_view_module": "@jupyter-widgets/controls",
            "_view_module_version": "1.5.0",
            "_view_name": "ProgressView",
            "bar_style": "success",
            "description": "",
            "description_tooltip": null,
            "layout": "IPY_MODEL_98fced691cde46ee9431eb1f08ff18b2",
            "max": 222,
            "min": 0,
            "orientation": "horizontal",
            "style": "IPY_MODEL_3af016444302451283d2393c1d404b9f",
            "value": 222
          }
        },
        "2a1a7c01e44141de8f7a76bebf326721": {
          "model_module": "@jupyter-widgets/controls",
          "model_name": "HTMLModel",
          "model_module_version": "1.5.0",
          "state": {
            "_dom_classes": [],
            "_model_module": "@jupyter-widgets/controls",
            "_model_module_version": "1.5.0",
            "_model_name": "HTMLModel",
            "_view_count": null,
            "_view_module": "@jupyter-widgets/controls",
            "_view_module_version": "1.5.0",
            "_view_name": "HTMLView",
            "description": "",
            "description_tooltip": null,
            "layout": "IPY_MODEL_95c4990c5fdd4450b6e7ca8fdcc53cc0",
            "placeholder": "​",
            "style": "IPY_MODEL_c4c79af7c0134cac8b41d13786259ca6",
            "value": " 222/222 [01:43&lt;00:00,  2.28it/s]"
          }
        },
        "4dfdaec8ea5a4ddd820e782b68ad3b79": {
          "model_module": "@jupyter-widgets/base",
          "model_name": "LayoutModel",
          "model_module_version": "1.2.0",
          "state": {
            "_model_module": "@jupyter-widgets/base",
            "_model_module_version": "1.2.0",
            "_model_name": "LayoutModel",
            "_view_count": null,
            "_view_module": "@jupyter-widgets/base",
            "_view_module_version": "1.2.0",
            "_view_name": "LayoutView",
            "align_content": null,
            "align_items": null,
            "align_self": null,
            "border": null,
            "bottom": null,
            "display": null,
            "flex": null,
            "flex_flow": null,
            "grid_area": null,
            "grid_auto_columns": null,
            "grid_auto_flow": null,
            "grid_auto_rows": null,
            "grid_column": null,
            "grid_gap": null,
            "grid_row": null,
            "grid_template_areas": null,
            "grid_template_columns": null,
            "grid_template_rows": null,
            "height": null,
            "justify_content": null,
            "justify_items": null,
            "left": null,
            "margin": null,
            "max_height": null,
            "max_width": null,
            "min_height": null,
            "min_width": null,
            "object_fit": null,
            "object_position": null,
            "order": null,
            "overflow": null,
            "overflow_x": null,
            "overflow_y": null,
            "padding": null,
            "right": null,
            "top": null,
            "visibility": null,
            "width": null
          }
        },
        "cff45d4c81d54b7582941a804462f39d": {
          "model_module": "@jupyter-widgets/base",
          "model_name": "LayoutModel",
          "model_module_version": "1.2.0",
          "state": {
            "_model_module": "@jupyter-widgets/base",
            "_model_module_version": "1.2.0",
            "_model_name": "LayoutModel",
            "_view_count": null,
            "_view_module": "@jupyter-widgets/base",
            "_view_module_version": "1.2.0",
            "_view_name": "LayoutView",
            "align_content": null,
            "align_items": null,
            "align_self": null,
            "border": null,
            "bottom": null,
            "display": null,
            "flex": null,
            "flex_flow": null,
            "grid_area": null,
            "grid_auto_columns": null,
            "grid_auto_flow": null,
            "grid_auto_rows": null,
            "grid_column": null,
            "grid_gap": null,
            "grid_row": null,
            "grid_template_areas": null,
            "grid_template_columns": null,
            "grid_template_rows": null,
            "height": null,
            "justify_content": null,
            "justify_items": null,
            "left": null,
            "margin": null,
            "max_height": null,
            "max_width": null,
            "min_height": null,
            "min_width": null,
            "object_fit": null,
            "object_position": null,
            "order": null,
            "overflow": null,
            "overflow_x": null,
            "overflow_y": null,
            "padding": null,
            "right": null,
            "top": null,
            "visibility": null,
            "width": null
          }
        },
        "e54dcab492a84b3b9a993ae37a2893d5": {
          "model_module": "@jupyter-widgets/controls",
          "model_name": "DescriptionStyleModel",
          "model_module_version": "1.5.0",
          "state": {
            "_model_module": "@jupyter-widgets/controls",
            "_model_module_version": "1.5.0",
            "_model_name": "DescriptionStyleModel",
            "_view_count": null,
            "_view_module": "@jupyter-widgets/base",
            "_view_module_version": "1.2.0",
            "_view_name": "StyleView",
            "description_width": ""
          }
        },
        "98fced691cde46ee9431eb1f08ff18b2": {
          "model_module": "@jupyter-widgets/base",
          "model_name": "LayoutModel",
          "model_module_version": "1.2.0",
          "state": {
            "_model_module": "@jupyter-widgets/base",
            "_model_module_version": "1.2.0",
            "_model_name": "LayoutModel",
            "_view_count": null,
            "_view_module": "@jupyter-widgets/base",
            "_view_module_version": "1.2.0",
            "_view_name": "LayoutView",
            "align_content": null,
            "align_items": null,
            "align_self": null,
            "border": null,
            "bottom": null,
            "display": null,
            "flex": null,
            "flex_flow": null,
            "grid_area": null,
            "grid_auto_columns": null,
            "grid_auto_flow": null,
            "grid_auto_rows": null,
            "grid_column": null,
            "grid_gap": null,
            "grid_row": null,
            "grid_template_areas": null,
            "grid_template_columns": null,
            "grid_template_rows": null,
            "height": null,
            "justify_content": null,
            "justify_items": null,
            "left": null,
            "margin": null,
            "max_height": null,
            "max_width": null,
            "min_height": null,
            "min_width": null,
            "object_fit": null,
            "object_position": null,
            "order": null,
            "overflow": null,
            "overflow_x": null,
            "overflow_y": null,
            "padding": null,
            "right": null,
            "top": null,
            "visibility": null,
            "width": null
          }
        },
        "3af016444302451283d2393c1d404b9f": {
          "model_module": "@jupyter-widgets/controls",
          "model_name": "ProgressStyleModel",
          "model_module_version": "1.5.0",
          "state": {
            "_model_module": "@jupyter-widgets/controls",
            "_model_module_version": "1.5.0",
            "_model_name": "ProgressStyleModel",
            "_view_count": null,
            "_view_module": "@jupyter-widgets/base",
            "_view_module_version": "1.2.0",
            "_view_name": "StyleView",
            "bar_color": null,
            "description_width": ""
          }
        },
        "95c4990c5fdd4450b6e7ca8fdcc53cc0": {
          "model_module": "@jupyter-widgets/base",
          "model_name": "LayoutModel",
          "model_module_version": "1.2.0",
          "state": {
            "_model_module": "@jupyter-widgets/base",
            "_model_module_version": "1.2.0",
            "_model_name": "LayoutModel",
            "_view_count": null,
            "_view_module": "@jupyter-widgets/base",
            "_view_module_version": "1.2.0",
            "_view_name": "LayoutView",
            "align_content": null,
            "align_items": null,
            "align_self": null,
            "border": null,
            "bottom": null,
            "display": null,
            "flex": null,
            "flex_flow": null,
            "grid_area": null,
            "grid_auto_columns": null,
            "grid_auto_flow": null,
            "grid_auto_rows": null,
            "grid_column": null,
            "grid_gap": null,
            "grid_row": null,
            "grid_template_areas": null,
            "grid_template_columns": null,
            "grid_template_rows": null,
            "height": null,
            "justify_content": null,
            "justify_items": null,
            "left": null,
            "margin": null,
            "max_height": null,
            "max_width": null,
            "min_height": null,
            "min_width": null,
            "object_fit": null,
            "object_position": null,
            "order": null,
            "overflow": null,
            "overflow_x": null,
            "overflow_y": null,
            "padding": null,
            "right": null,
            "top": null,
            "visibility": null,
            "width": null
          }
        },
        "c4c79af7c0134cac8b41d13786259ca6": {
          "model_module": "@jupyter-widgets/controls",
          "model_name": "DescriptionStyleModel",
          "model_module_version": "1.5.0",
          "state": {
            "_model_module": "@jupyter-widgets/controls",
            "_model_module_version": "1.5.0",
            "_model_name": "DescriptionStyleModel",
            "_view_count": null,
            "_view_module": "@jupyter-widgets/base",
            "_view_module_version": "1.2.0",
            "_view_name": "StyleView",
            "description_width": ""
          }
        },
        "2e64dba036ef4199b3f5490382a364d6": {
          "model_module": "@jupyter-widgets/controls",
          "model_name": "HBoxModel",
          "model_module_version": "1.5.0",
          "state": {
            "_dom_classes": [],
            "_model_module": "@jupyter-widgets/controls",
            "_model_module_version": "1.5.0",
            "_model_name": "HBoxModel",
            "_view_count": null,
            "_view_module": "@jupyter-widgets/controls",
            "_view_module_version": "1.5.0",
            "_view_name": "HBoxView",
            "box_style": "",
            "children": [
              "IPY_MODEL_94732071fc8f4bdeb9ad09e62112e495",
              "IPY_MODEL_8dca4e2ee38440eaa96d71676c2283e1",
              "IPY_MODEL_41b918628b0a43a59cc3a07018f62faf"
            ],
            "layout": "IPY_MODEL_dd72830d37e14434962af242ff326f65"
          }
        },
        "94732071fc8f4bdeb9ad09e62112e495": {
          "model_module": "@jupyter-widgets/controls",
          "model_name": "HTMLModel",
          "model_module_version": "1.5.0",
          "state": {
            "_dom_classes": [],
            "_model_module": "@jupyter-widgets/controls",
            "_model_module_version": "1.5.0",
            "_model_name": "HTMLModel",
            "_view_count": null,
            "_view_module": "@jupyter-widgets/controls",
            "_view_module_version": "1.5.0",
            "_view_name": "HTMLView",
            "description": "",
            "description_tooltip": null,
            "layout": "IPY_MODEL_f6b119c3a784471488137b5569c609c3",
            "placeholder": "​",
            "style": "IPY_MODEL_abd95bd7b0ca498ab1416275d226edc9",
            "value": "100%"
          }
        },
        "8dca4e2ee38440eaa96d71676c2283e1": {
          "model_module": "@jupyter-widgets/controls",
          "model_name": "FloatProgressModel",
          "model_module_version": "1.5.0",
          "state": {
            "_dom_classes": [],
            "_model_module": "@jupyter-widgets/controls",
            "_model_module_version": "1.5.0",
            "_model_name": "FloatProgressModel",
            "_view_count": null,
            "_view_module": "@jupyter-widgets/controls",
            "_view_module_version": "1.5.0",
            "_view_name": "ProgressView",
            "bar_style": "success",
            "description": "",
            "description_tooltip": null,
            "layout": "IPY_MODEL_c1152a7b8cae4c0c810fb4a40ab02bfb",
            "max": 34,
            "min": 0,
            "orientation": "horizontal",
            "style": "IPY_MODEL_70bf4516b06f4216a36f0dabf8f990c6",
            "value": 34
          }
        },
        "41b918628b0a43a59cc3a07018f62faf": {
          "model_module": "@jupyter-widgets/controls",
          "model_name": "HTMLModel",
          "model_module_version": "1.5.0",
          "state": {
            "_dom_classes": [],
            "_model_module": "@jupyter-widgets/controls",
            "_model_module_version": "1.5.0",
            "_model_name": "HTMLModel",
            "_view_count": null,
            "_view_module": "@jupyter-widgets/controls",
            "_view_module_version": "1.5.0",
            "_view_name": "HTMLView",
            "description": "",
            "description_tooltip": null,
            "layout": "IPY_MODEL_2b7ef5d71a504b7e82e5e38455fc76ec",
            "placeholder": "​",
            "style": "IPY_MODEL_8e374e93a93848d884f31d7b9105be52",
            "value": " 34/34 [00:00&lt;00:00, 540.20it/s]"
          }
        },
        "dd72830d37e14434962af242ff326f65": {
          "model_module": "@jupyter-widgets/base",
          "model_name": "LayoutModel",
          "model_module_version": "1.2.0",
          "state": {
            "_model_module": "@jupyter-widgets/base",
            "_model_module_version": "1.2.0",
            "_model_name": "LayoutModel",
            "_view_count": null,
            "_view_module": "@jupyter-widgets/base",
            "_view_module_version": "1.2.0",
            "_view_name": "LayoutView",
            "align_content": null,
            "align_items": null,
            "align_self": null,
            "border": null,
            "bottom": null,
            "display": null,
            "flex": null,
            "flex_flow": null,
            "grid_area": null,
            "grid_auto_columns": null,
            "grid_auto_flow": null,
            "grid_auto_rows": null,
            "grid_column": null,
            "grid_gap": null,
            "grid_row": null,
            "grid_template_areas": null,
            "grid_template_columns": null,
            "grid_template_rows": null,
            "height": null,
            "justify_content": null,
            "justify_items": null,
            "left": null,
            "margin": null,
            "max_height": null,
            "max_width": null,
            "min_height": null,
            "min_width": null,
            "object_fit": null,
            "object_position": null,
            "order": null,
            "overflow": null,
            "overflow_x": null,
            "overflow_y": null,
            "padding": null,
            "right": null,
            "top": null,
            "visibility": null,
            "width": null
          }
        },
        "f6b119c3a784471488137b5569c609c3": {
          "model_module": "@jupyter-widgets/base",
          "model_name": "LayoutModel",
          "model_module_version": "1.2.0",
          "state": {
            "_model_module": "@jupyter-widgets/base",
            "_model_module_version": "1.2.0",
            "_model_name": "LayoutModel",
            "_view_count": null,
            "_view_module": "@jupyter-widgets/base",
            "_view_module_version": "1.2.0",
            "_view_name": "LayoutView",
            "align_content": null,
            "align_items": null,
            "align_self": null,
            "border": null,
            "bottom": null,
            "display": null,
            "flex": null,
            "flex_flow": null,
            "grid_area": null,
            "grid_auto_columns": null,
            "grid_auto_flow": null,
            "grid_auto_rows": null,
            "grid_column": null,
            "grid_gap": null,
            "grid_row": null,
            "grid_template_areas": null,
            "grid_template_columns": null,
            "grid_template_rows": null,
            "height": null,
            "justify_content": null,
            "justify_items": null,
            "left": null,
            "margin": null,
            "max_height": null,
            "max_width": null,
            "min_height": null,
            "min_width": null,
            "object_fit": null,
            "object_position": null,
            "order": null,
            "overflow": null,
            "overflow_x": null,
            "overflow_y": null,
            "padding": null,
            "right": null,
            "top": null,
            "visibility": null,
            "width": null
          }
        },
        "abd95bd7b0ca498ab1416275d226edc9": {
          "model_module": "@jupyter-widgets/controls",
          "model_name": "DescriptionStyleModel",
          "model_module_version": "1.5.0",
          "state": {
            "_model_module": "@jupyter-widgets/controls",
            "_model_module_version": "1.5.0",
            "_model_name": "DescriptionStyleModel",
            "_view_count": null,
            "_view_module": "@jupyter-widgets/base",
            "_view_module_version": "1.2.0",
            "_view_name": "StyleView",
            "description_width": ""
          }
        },
        "c1152a7b8cae4c0c810fb4a40ab02bfb": {
          "model_module": "@jupyter-widgets/base",
          "model_name": "LayoutModel",
          "model_module_version": "1.2.0",
          "state": {
            "_model_module": "@jupyter-widgets/base",
            "_model_module_version": "1.2.0",
            "_model_name": "LayoutModel",
            "_view_count": null,
            "_view_module": "@jupyter-widgets/base",
            "_view_module_version": "1.2.0",
            "_view_name": "LayoutView",
            "align_content": null,
            "align_items": null,
            "align_self": null,
            "border": null,
            "bottom": null,
            "display": null,
            "flex": null,
            "flex_flow": null,
            "grid_area": null,
            "grid_auto_columns": null,
            "grid_auto_flow": null,
            "grid_auto_rows": null,
            "grid_column": null,
            "grid_gap": null,
            "grid_row": null,
            "grid_template_areas": null,
            "grid_template_columns": null,
            "grid_template_rows": null,
            "height": null,
            "justify_content": null,
            "justify_items": null,
            "left": null,
            "margin": null,
            "max_height": null,
            "max_width": null,
            "min_height": null,
            "min_width": null,
            "object_fit": null,
            "object_position": null,
            "order": null,
            "overflow": null,
            "overflow_x": null,
            "overflow_y": null,
            "padding": null,
            "right": null,
            "top": null,
            "visibility": null,
            "width": null
          }
        },
        "70bf4516b06f4216a36f0dabf8f990c6": {
          "model_module": "@jupyter-widgets/controls",
          "model_name": "ProgressStyleModel",
          "model_module_version": "1.5.0",
          "state": {
            "_model_module": "@jupyter-widgets/controls",
            "_model_module_version": "1.5.0",
            "_model_name": "ProgressStyleModel",
            "_view_count": null,
            "_view_module": "@jupyter-widgets/base",
            "_view_module_version": "1.2.0",
            "_view_name": "StyleView",
            "bar_color": null,
            "description_width": ""
          }
        },
        "2b7ef5d71a504b7e82e5e38455fc76ec": {
          "model_module": "@jupyter-widgets/base",
          "model_name": "LayoutModel",
          "model_module_version": "1.2.0",
          "state": {
            "_model_module": "@jupyter-widgets/base",
            "_model_module_version": "1.2.0",
            "_model_name": "LayoutModel",
            "_view_count": null,
            "_view_module": "@jupyter-widgets/base",
            "_view_module_version": "1.2.0",
            "_view_name": "LayoutView",
            "align_content": null,
            "align_items": null,
            "align_self": null,
            "border": null,
            "bottom": null,
            "display": null,
            "flex": null,
            "flex_flow": null,
            "grid_area": null,
            "grid_auto_columns": null,
            "grid_auto_flow": null,
            "grid_auto_rows": null,
            "grid_column": null,
            "grid_gap": null,
            "grid_row": null,
            "grid_template_areas": null,
            "grid_template_columns": null,
            "grid_template_rows": null,
            "height": null,
            "justify_content": null,
            "justify_items": null,
            "left": null,
            "margin": null,
            "max_height": null,
            "max_width": null,
            "min_height": null,
            "min_width": null,
            "object_fit": null,
            "object_position": null,
            "order": null,
            "overflow": null,
            "overflow_x": null,
            "overflow_y": null,
            "padding": null,
            "right": null,
            "top": null,
            "visibility": null,
            "width": null
          }
        },
        "8e374e93a93848d884f31d7b9105be52": {
          "model_module": "@jupyter-widgets/controls",
          "model_name": "DescriptionStyleModel",
          "model_module_version": "1.5.0",
          "state": {
            "_model_module": "@jupyter-widgets/controls",
            "_model_module_version": "1.5.0",
            "_model_name": "DescriptionStyleModel",
            "_view_count": null,
            "_view_module": "@jupyter-widgets/base",
            "_view_module_version": "1.2.0",
            "_view_name": "StyleView",
            "description_width": ""
          }
        },
        "7dfbc9f88cf74d758276f60c11bd2e25": {
          "model_module": "@jupyter-widgets/controls",
          "model_name": "HBoxModel",
          "model_module_version": "1.5.0",
          "state": {
            "_dom_classes": [],
            "_model_module": "@jupyter-widgets/controls",
            "_model_module_version": "1.5.0",
            "_model_name": "HBoxModel",
            "_view_count": null,
            "_view_module": "@jupyter-widgets/controls",
            "_view_module_version": "1.5.0",
            "_view_name": "HBoxView",
            "box_style": "",
            "children": [
              "IPY_MODEL_f22f0b85f0284353893786dc3a7be112",
              "IPY_MODEL_6b18b94a7c964569af80831a5b7db4fe",
              "IPY_MODEL_f17b912a22f841e2bad370291a753d7f"
            ],
            "layout": "IPY_MODEL_dac42f43f5a44e23b9f3ba749c2e6c78"
          }
        },
        "f22f0b85f0284353893786dc3a7be112": {
          "model_module": "@jupyter-widgets/controls",
          "model_name": "HTMLModel",
          "model_module_version": "1.5.0",
          "state": {
            "_dom_classes": [],
            "_model_module": "@jupyter-widgets/controls",
            "_model_module_version": "1.5.0",
            "_model_name": "HTMLModel",
            "_view_count": null,
            "_view_module": "@jupyter-widgets/controls",
            "_view_module_version": "1.5.0",
            "_view_name": "HTMLView",
            "description": "",
            "description_tooltip": null,
            "layout": "IPY_MODEL_980dd5fce46a43b8a3083084deb108d1",
            "placeholder": "​",
            "style": "IPY_MODEL_c3034fb7034b45e6840df50799698813",
            "value": "100%"
          }
        },
        "6b18b94a7c964569af80831a5b7db4fe": {
          "model_module": "@jupyter-widgets/controls",
          "model_name": "FloatProgressModel",
          "model_module_version": "1.5.0",
          "state": {
            "_dom_classes": [],
            "_model_module": "@jupyter-widgets/controls",
            "_model_module_version": "1.5.0",
            "_model_name": "FloatProgressModel",
            "_view_count": null,
            "_view_module": "@jupyter-widgets/controls",
            "_view_module_version": "1.5.0",
            "_view_name": "ProgressView",
            "bar_style": "success",
            "description": "",
            "description_tooltip": null,
            "layout": "IPY_MODEL_8c27429a343c4f8da0ad62fdedfffc57",
            "max": 34,
            "min": 0,
            "orientation": "horizontal",
            "style": "IPY_MODEL_18b7804666f641f395982dd67c079da7",
            "value": 34
          }
        },
        "f17b912a22f841e2bad370291a753d7f": {
          "model_module": "@jupyter-widgets/controls",
          "model_name": "HTMLModel",
          "model_module_version": "1.5.0",
          "state": {
            "_dom_classes": [],
            "_model_module": "@jupyter-widgets/controls",
            "_model_module_version": "1.5.0",
            "_model_name": "HTMLModel",
            "_view_count": null,
            "_view_module": "@jupyter-widgets/controls",
            "_view_module_version": "1.5.0",
            "_view_name": "HTMLView",
            "description": "",
            "description_tooltip": null,
            "layout": "IPY_MODEL_5be57c6efe6e4699997d87190b9b1152",
            "placeholder": "​",
            "style": "IPY_MODEL_9a37dd5efdce4fd28bae51676e843534",
            "value": " 34/34 [00:00&lt;00:00, 494.19it/s]"
          }
        },
        "dac42f43f5a44e23b9f3ba749c2e6c78": {
          "model_module": "@jupyter-widgets/base",
          "model_name": "LayoutModel",
          "model_module_version": "1.2.0",
          "state": {
            "_model_module": "@jupyter-widgets/base",
            "_model_module_version": "1.2.0",
            "_model_name": "LayoutModel",
            "_view_count": null,
            "_view_module": "@jupyter-widgets/base",
            "_view_module_version": "1.2.0",
            "_view_name": "LayoutView",
            "align_content": null,
            "align_items": null,
            "align_self": null,
            "border": null,
            "bottom": null,
            "display": null,
            "flex": null,
            "flex_flow": null,
            "grid_area": null,
            "grid_auto_columns": null,
            "grid_auto_flow": null,
            "grid_auto_rows": null,
            "grid_column": null,
            "grid_gap": null,
            "grid_row": null,
            "grid_template_areas": null,
            "grid_template_columns": null,
            "grid_template_rows": null,
            "height": null,
            "justify_content": null,
            "justify_items": null,
            "left": null,
            "margin": null,
            "max_height": null,
            "max_width": null,
            "min_height": null,
            "min_width": null,
            "object_fit": null,
            "object_position": null,
            "order": null,
            "overflow": null,
            "overflow_x": null,
            "overflow_y": null,
            "padding": null,
            "right": null,
            "top": null,
            "visibility": null,
            "width": null
          }
        },
        "980dd5fce46a43b8a3083084deb108d1": {
          "model_module": "@jupyter-widgets/base",
          "model_name": "LayoutModel",
          "model_module_version": "1.2.0",
          "state": {
            "_model_module": "@jupyter-widgets/base",
            "_model_module_version": "1.2.0",
            "_model_name": "LayoutModel",
            "_view_count": null,
            "_view_module": "@jupyter-widgets/base",
            "_view_module_version": "1.2.0",
            "_view_name": "LayoutView",
            "align_content": null,
            "align_items": null,
            "align_self": null,
            "border": null,
            "bottom": null,
            "display": null,
            "flex": null,
            "flex_flow": null,
            "grid_area": null,
            "grid_auto_columns": null,
            "grid_auto_flow": null,
            "grid_auto_rows": null,
            "grid_column": null,
            "grid_gap": null,
            "grid_row": null,
            "grid_template_areas": null,
            "grid_template_columns": null,
            "grid_template_rows": null,
            "height": null,
            "justify_content": null,
            "justify_items": null,
            "left": null,
            "margin": null,
            "max_height": null,
            "max_width": null,
            "min_height": null,
            "min_width": null,
            "object_fit": null,
            "object_position": null,
            "order": null,
            "overflow": null,
            "overflow_x": null,
            "overflow_y": null,
            "padding": null,
            "right": null,
            "top": null,
            "visibility": null,
            "width": null
          }
        },
        "c3034fb7034b45e6840df50799698813": {
          "model_module": "@jupyter-widgets/controls",
          "model_name": "DescriptionStyleModel",
          "model_module_version": "1.5.0",
          "state": {
            "_model_module": "@jupyter-widgets/controls",
            "_model_module_version": "1.5.0",
            "_model_name": "DescriptionStyleModel",
            "_view_count": null,
            "_view_module": "@jupyter-widgets/base",
            "_view_module_version": "1.2.0",
            "_view_name": "StyleView",
            "description_width": ""
          }
        },
        "8c27429a343c4f8da0ad62fdedfffc57": {
          "model_module": "@jupyter-widgets/base",
          "model_name": "LayoutModel",
          "model_module_version": "1.2.0",
          "state": {
            "_model_module": "@jupyter-widgets/base",
            "_model_module_version": "1.2.0",
            "_model_name": "LayoutModel",
            "_view_count": null,
            "_view_module": "@jupyter-widgets/base",
            "_view_module_version": "1.2.0",
            "_view_name": "LayoutView",
            "align_content": null,
            "align_items": null,
            "align_self": null,
            "border": null,
            "bottom": null,
            "display": null,
            "flex": null,
            "flex_flow": null,
            "grid_area": null,
            "grid_auto_columns": null,
            "grid_auto_flow": null,
            "grid_auto_rows": null,
            "grid_column": null,
            "grid_gap": null,
            "grid_row": null,
            "grid_template_areas": null,
            "grid_template_columns": null,
            "grid_template_rows": null,
            "height": null,
            "justify_content": null,
            "justify_items": null,
            "left": null,
            "margin": null,
            "max_height": null,
            "max_width": null,
            "min_height": null,
            "min_width": null,
            "object_fit": null,
            "object_position": null,
            "order": null,
            "overflow": null,
            "overflow_x": null,
            "overflow_y": null,
            "padding": null,
            "right": null,
            "top": null,
            "visibility": null,
            "width": null
          }
        },
        "18b7804666f641f395982dd67c079da7": {
          "model_module": "@jupyter-widgets/controls",
          "model_name": "ProgressStyleModel",
          "model_module_version": "1.5.0",
          "state": {
            "_model_module": "@jupyter-widgets/controls",
            "_model_module_version": "1.5.0",
            "_model_name": "ProgressStyleModel",
            "_view_count": null,
            "_view_module": "@jupyter-widgets/base",
            "_view_module_version": "1.2.0",
            "_view_name": "StyleView",
            "bar_color": null,
            "description_width": ""
          }
        },
        "5be57c6efe6e4699997d87190b9b1152": {
          "model_module": "@jupyter-widgets/base",
          "model_name": "LayoutModel",
          "model_module_version": "1.2.0",
          "state": {
            "_model_module": "@jupyter-widgets/base",
            "_model_module_version": "1.2.0",
            "_model_name": "LayoutModel",
            "_view_count": null,
            "_view_module": "@jupyter-widgets/base",
            "_view_module_version": "1.2.0",
            "_view_name": "LayoutView",
            "align_content": null,
            "align_items": null,
            "align_self": null,
            "border": null,
            "bottom": null,
            "display": null,
            "flex": null,
            "flex_flow": null,
            "grid_area": null,
            "grid_auto_columns": null,
            "grid_auto_flow": null,
            "grid_auto_rows": null,
            "grid_column": null,
            "grid_gap": null,
            "grid_row": null,
            "grid_template_areas": null,
            "grid_template_columns": null,
            "grid_template_rows": null,
            "height": null,
            "justify_content": null,
            "justify_items": null,
            "left": null,
            "margin": null,
            "max_height": null,
            "max_width": null,
            "min_height": null,
            "min_width": null,
            "object_fit": null,
            "object_position": null,
            "order": null,
            "overflow": null,
            "overflow_x": null,
            "overflow_y": null,
            "padding": null,
            "right": null,
            "top": null,
            "visibility": null,
            "width": null
          }
        },
        "9a37dd5efdce4fd28bae51676e843534": {
          "model_module": "@jupyter-widgets/controls",
          "model_name": "DescriptionStyleModel",
          "model_module_version": "1.5.0",
          "state": {
            "_model_module": "@jupyter-widgets/controls",
            "_model_module_version": "1.5.0",
            "_model_name": "DescriptionStyleModel",
            "_view_count": null,
            "_view_module": "@jupyter-widgets/base",
            "_view_module_version": "1.2.0",
            "_view_name": "StyleView",
            "description_width": ""
          }
        },
        "d835c4c44a9e48d2b87ca5b3aae69a15": {
          "model_module": "@jupyter-widgets/controls",
          "model_name": "HBoxModel",
          "model_module_version": "1.5.0",
          "state": {
            "_dom_classes": [],
            "_model_module": "@jupyter-widgets/controls",
            "_model_module_version": "1.5.0",
            "_model_name": "HBoxModel",
            "_view_count": null,
            "_view_module": "@jupyter-widgets/controls",
            "_view_module_version": "1.5.0",
            "_view_name": "HBoxView",
            "box_style": "",
            "children": [
              "IPY_MODEL_a6a492661cb0474b9da7913c3ac07813",
              "IPY_MODEL_6753f6c2d49842aabc68a6bc2303505b",
              "IPY_MODEL_1724f5a5f4c641e3b3c5cdcd8d693961"
            ],
            "layout": "IPY_MODEL_7bd2282bb2ea49a4937efa0ccd53c835"
          }
        },
        "a6a492661cb0474b9da7913c3ac07813": {
          "model_module": "@jupyter-widgets/controls",
          "model_name": "HTMLModel",
          "model_module_version": "1.5.0",
          "state": {
            "_dom_classes": [],
            "_model_module": "@jupyter-widgets/controls",
            "_model_module_version": "1.5.0",
            "_model_name": "HTMLModel",
            "_view_count": null,
            "_view_module": "@jupyter-widgets/controls",
            "_view_module_version": "1.5.0",
            "_view_name": "HTMLView",
            "description": "",
            "description_tooltip": null,
            "layout": "IPY_MODEL_6687e6a9ae224445b312972ed5cd5f32",
            "placeholder": "​",
            "style": "IPY_MODEL_a319f3e87bd840ccb6fc0ac49e024501",
            "value": "100%"
          }
        },
        "6753f6c2d49842aabc68a6bc2303505b": {
          "model_module": "@jupyter-widgets/controls",
          "model_name": "FloatProgressModel",
          "model_module_version": "1.5.0",
          "state": {
            "_dom_classes": [],
            "_model_module": "@jupyter-widgets/controls",
            "_model_module_version": "1.5.0",
            "_model_name": "FloatProgressModel",
            "_view_count": null,
            "_view_module": "@jupyter-widgets/controls",
            "_view_module_version": "1.5.0",
            "_view_name": "ProgressView",
            "bar_style": "success",
            "description": "",
            "description_tooltip": null,
            "layout": "IPY_MODEL_1fedc61461f8420086c354c922e8ce5f",
            "max": 2,
            "min": 0,
            "orientation": "horizontal",
            "style": "IPY_MODEL_8e2051462ba2488fae309afb6fff3f35",
            "value": 2
          }
        },
        "1724f5a5f4c641e3b3c5cdcd8d693961": {
          "model_module": "@jupyter-widgets/controls",
          "model_name": "HTMLModel",
          "model_module_version": "1.5.0",
          "state": {
            "_dom_classes": [],
            "_model_module": "@jupyter-widgets/controls",
            "_model_module_version": "1.5.0",
            "_model_name": "HTMLModel",
            "_view_count": null,
            "_view_module": "@jupyter-widgets/controls",
            "_view_module_version": "1.5.0",
            "_view_name": "HTMLView",
            "description": "",
            "description_tooltip": null,
            "layout": "IPY_MODEL_7f10ea8e19464c028099a054dd9c1c96",
            "placeholder": "​",
            "style": "IPY_MODEL_ca0ea7a18b3e4185bc36516430c1e7aa",
            "value": " 2/2 [00:00&lt;00:00, 16.10it/s]"
          }
        },
        "7bd2282bb2ea49a4937efa0ccd53c835": {
          "model_module": "@jupyter-widgets/base",
          "model_name": "LayoutModel",
          "model_module_version": "1.2.0",
          "state": {
            "_model_module": "@jupyter-widgets/base",
            "_model_module_version": "1.2.0",
            "_model_name": "LayoutModel",
            "_view_count": null,
            "_view_module": "@jupyter-widgets/base",
            "_view_module_version": "1.2.0",
            "_view_name": "LayoutView",
            "align_content": null,
            "align_items": null,
            "align_self": null,
            "border": null,
            "bottom": null,
            "display": null,
            "flex": null,
            "flex_flow": null,
            "grid_area": null,
            "grid_auto_columns": null,
            "grid_auto_flow": null,
            "grid_auto_rows": null,
            "grid_column": null,
            "grid_gap": null,
            "grid_row": null,
            "grid_template_areas": null,
            "grid_template_columns": null,
            "grid_template_rows": null,
            "height": null,
            "justify_content": null,
            "justify_items": null,
            "left": null,
            "margin": null,
            "max_height": null,
            "max_width": null,
            "min_height": null,
            "min_width": null,
            "object_fit": null,
            "object_position": null,
            "order": null,
            "overflow": null,
            "overflow_x": null,
            "overflow_y": null,
            "padding": null,
            "right": null,
            "top": null,
            "visibility": null,
            "width": null
          }
        },
        "6687e6a9ae224445b312972ed5cd5f32": {
          "model_module": "@jupyter-widgets/base",
          "model_name": "LayoutModel",
          "model_module_version": "1.2.0",
          "state": {
            "_model_module": "@jupyter-widgets/base",
            "_model_module_version": "1.2.0",
            "_model_name": "LayoutModel",
            "_view_count": null,
            "_view_module": "@jupyter-widgets/base",
            "_view_module_version": "1.2.0",
            "_view_name": "LayoutView",
            "align_content": null,
            "align_items": null,
            "align_self": null,
            "border": null,
            "bottom": null,
            "display": null,
            "flex": null,
            "flex_flow": null,
            "grid_area": null,
            "grid_auto_columns": null,
            "grid_auto_flow": null,
            "grid_auto_rows": null,
            "grid_column": null,
            "grid_gap": null,
            "grid_row": null,
            "grid_template_areas": null,
            "grid_template_columns": null,
            "grid_template_rows": null,
            "height": null,
            "justify_content": null,
            "justify_items": null,
            "left": null,
            "margin": null,
            "max_height": null,
            "max_width": null,
            "min_height": null,
            "min_width": null,
            "object_fit": null,
            "object_position": null,
            "order": null,
            "overflow": null,
            "overflow_x": null,
            "overflow_y": null,
            "padding": null,
            "right": null,
            "top": null,
            "visibility": null,
            "width": null
          }
        },
        "a319f3e87bd840ccb6fc0ac49e024501": {
          "model_module": "@jupyter-widgets/controls",
          "model_name": "DescriptionStyleModel",
          "model_module_version": "1.5.0",
          "state": {
            "_model_module": "@jupyter-widgets/controls",
            "_model_module_version": "1.5.0",
            "_model_name": "DescriptionStyleModel",
            "_view_count": null,
            "_view_module": "@jupyter-widgets/base",
            "_view_module_version": "1.2.0",
            "_view_name": "StyleView",
            "description_width": ""
          }
        },
        "1fedc61461f8420086c354c922e8ce5f": {
          "model_module": "@jupyter-widgets/base",
          "model_name": "LayoutModel",
          "model_module_version": "1.2.0",
          "state": {
            "_model_module": "@jupyter-widgets/base",
            "_model_module_version": "1.2.0",
            "_model_name": "LayoutModel",
            "_view_count": null,
            "_view_module": "@jupyter-widgets/base",
            "_view_module_version": "1.2.0",
            "_view_name": "LayoutView",
            "align_content": null,
            "align_items": null,
            "align_self": null,
            "border": null,
            "bottom": null,
            "display": null,
            "flex": null,
            "flex_flow": null,
            "grid_area": null,
            "grid_auto_columns": null,
            "grid_auto_flow": null,
            "grid_auto_rows": null,
            "grid_column": null,
            "grid_gap": null,
            "grid_row": null,
            "grid_template_areas": null,
            "grid_template_columns": null,
            "grid_template_rows": null,
            "height": null,
            "justify_content": null,
            "justify_items": null,
            "left": null,
            "margin": null,
            "max_height": null,
            "max_width": null,
            "min_height": null,
            "min_width": null,
            "object_fit": null,
            "object_position": null,
            "order": null,
            "overflow": null,
            "overflow_x": null,
            "overflow_y": null,
            "padding": null,
            "right": null,
            "top": null,
            "visibility": null,
            "width": null
          }
        },
        "8e2051462ba2488fae309afb6fff3f35": {
          "model_module": "@jupyter-widgets/controls",
          "model_name": "ProgressStyleModel",
          "model_module_version": "1.5.0",
          "state": {
            "_model_module": "@jupyter-widgets/controls",
            "_model_module_version": "1.5.0",
            "_model_name": "ProgressStyleModel",
            "_view_count": null,
            "_view_module": "@jupyter-widgets/base",
            "_view_module_version": "1.2.0",
            "_view_name": "StyleView",
            "bar_color": null,
            "description_width": ""
          }
        },
        "7f10ea8e19464c028099a054dd9c1c96": {
          "model_module": "@jupyter-widgets/base",
          "model_name": "LayoutModel",
          "model_module_version": "1.2.0",
          "state": {
            "_model_module": "@jupyter-widgets/base",
            "_model_module_version": "1.2.0",
            "_model_name": "LayoutModel",
            "_view_count": null,
            "_view_module": "@jupyter-widgets/base",
            "_view_module_version": "1.2.0",
            "_view_name": "LayoutView",
            "align_content": null,
            "align_items": null,
            "align_self": null,
            "border": null,
            "bottom": null,
            "display": null,
            "flex": null,
            "flex_flow": null,
            "grid_area": null,
            "grid_auto_columns": null,
            "grid_auto_flow": null,
            "grid_auto_rows": null,
            "grid_column": null,
            "grid_gap": null,
            "grid_row": null,
            "grid_template_areas": null,
            "grid_template_columns": null,
            "grid_template_rows": null,
            "height": null,
            "justify_content": null,
            "justify_items": null,
            "left": null,
            "margin": null,
            "max_height": null,
            "max_width": null,
            "min_height": null,
            "min_width": null,
            "object_fit": null,
            "object_position": null,
            "order": null,
            "overflow": null,
            "overflow_x": null,
            "overflow_y": null,
            "padding": null,
            "right": null,
            "top": null,
            "visibility": null,
            "width": null
          }
        },
        "ca0ea7a18b3e4185bc36516430c1e7aa": {
          "model_module": "@jupyter-widgets/controls",
          "model_name": "DescriptionStyleModel",
          "model_module_version": "1.5.0",
          "state": {
            "_model_module": "@jupyter-widgets/controls",
            "_model_module_version": "1.5.0",
            "_model_name": "DescriptionStyleModel",
            "_view_count": null,
            "_view_module": "@jupyter-widgets/base",
            "_view_module_version": "1.2.0",
            "_view_name": "StyleView",
            "description_width": ""
          }
        },
        "0ceddc8dcd7042abaaf9b9ee95ad2158": {
          "model_module": "@jupyter-widgets/controls",
          "model_name": "HBoxModel",
          "model_module_version": "1.5.0",
          "state": {
            "_dom_classes": [],
            "_model_module": "@jupyter-widgets/controls",
            "_model_module_version": "1.5.0",
            "_model_name": "HBoxModel",
            "_view_count": null,
            "_view_module": "@jupyter-widgets/controls",
            "_view_module_version": "1.5.0",
            "_view_name": "HBoxView",
            "box_style": "",
            "children": [
              "IPY_MODEL_8379fe4042264e118331c36ff190909b",
              "IPY_MODEL_a464f318098f4527bab2a28e2157f290",
              "IPY_MODEL_619f45f57019436aa95aa872bd6d2f52"
            ],
            "layout": "IPY_MODEL_f268c5deb4654c7c8922c19b3f8c7385"
          }
        },
        "8379fe4042264e118331c36ff190909b": {
          "model_module": "@jupyter-widgets/controls",
          "model_name": "HTMLModel",
          "model_module_version": "1.5.0",
          "state": {
            "_dom_classes": [],
            "_model_module": "@jupyter-widgets/controls",
            "_model_module_version": "1.5.0",
            "_model_name": "HTMLModel",
            "_view_count": null,
            "_view_module": "@jupyter-widgets/controls",
            "_view_module_version": "1.5.0",
            "_view_name": "HTMLView",
            "description": "",
            "description_tooltip": null,
            "layout": "IPY_MODEL_0fd4d9774edd47dcbe8d41bdadfed21e",
            "placeholder": "​",
            "style": "IPY_MODEL_b36ff7564ac24d92af714e0926c695a5",
            "value": "100%"
          }
        },
        "a464f318098f4527bab2a28e2157f290": {
          "model_module": "@jupyter-widgets/controls",
          "model_name": "FloatProgressModel",
          "model_module_version": "1.5.0",
          "state": {
            "_dom_classes": [],
            "_model_module": "@jupyter-widgets/controls",
            "_model_module_version": "1.5.0",
            "_model_name": "FloatProgressModel",
            "_view_count": null,
            "_view_module": "@jupyter-widgets/controls",
            "_view_module_version": "1.5.0",
            "_view_name": "ProgressView",
            "bar_style": "success",
            "description": "",
            "description_tooltip": null,
            "layout": "IPY_MODEL_4074ccd15d5b4477be512a30dc8922bb",
            "max": 1,
            "min": 0,
            "orientation": "horizontal",
            "style": "IPY_MODEL_b810061638db449bbc684c929ebaa02b",
            "value": 1
          }
        },
        "619f45f57019436aa95aa872bd6d2f52": {
          "model_module": "@jupyter-widgets/controls",
          "model_name": "HTMLModel",
          "model_module_version": "1.5.0",
          "state": {
            "_dom_classes": [],
            "_model_module": "@jupyter-widgets/controls",
            "_model_module_version": "1.5.0",
            "_model_name": "HTMLModel",
            "_view_count": null,
            "_view_module": "@jupyter-widgets/controls",
            "_view_module_version": "1.5.0",
            "_view_name": "HTMLView",
            "description": "",
            "description_tooltip": null,
            "layout": "IPY_MODEL_da8b920b85fb447ab6a92fa3ed7cf1eb",
            "placeholder": "​",
            "style": "IPY_MODEL_c3b4ae9bde5a455ba252ad9408f44830",
            "value": " 1/1 [00:00&lt;00:00, 12.84it/s]"
          }
        },
        "f268c5deb4654c7c8922c19b3f8c7385": {
          "model_module": "@jupyter-widgets/base",
          "model_name": "LayoutModel",
          "model_module_version": "1.2.0",
          "state": {
            "_model_module": "@jupyter-widgets/base",
            "_model_module_version": "1.2.0",
            "_model_name": "LayoutModel",
            "_view_count": null,
            "_view_module": "@jupyter-widgets/base",
            "_view_module_version": "1.2.0",
            "_view_name": "LayoutView",
            "align_content": null,
            "align_items": null,
            "align_self": null,
            "border": null,
            "bottom": null,
            "display": null,
            "flex": null,
            "flex_flow": null,
            "grid_area": null,
            "grid_auto_columns": null,
            "grid_auto_flow": null,
            "grid_auto_rows": null,
            "grid_column": null,
            "grid_gap": null,
            "grid_row": null,
            "grid_template_areas": null,
            "grid_template_columns": null,
            "grid_template_rows": null,
            "height": null,
            "justify_content": null,
            "justify_items": null,
            "left": null,
            "margin": null,
            "max_height": null,
            "max_width": null,
            "min_height": null,
            "min_width": null,
            "object_fit": null,
            "object_position": null,
            "order": null,
            "overflow": null,
            "overflow_x": null,
            "overflow_y": null,
            "padding": null,
            "right": null,
            "top": null,
            "visibility": null,
            "width": null
          }
        },
        "0fd4d9774edd47dcbe8d41bdadfed21e": {
          "model_module": "@jupyter-widgets/base",
          "model_name": "LayoutModel",
          "model_module_version": "1.2.0",
          "state": {
            "_model_module": "@jupyter-widgets/base",
            "_model_module_version": "1.2.0",
            "_model_name": "LayoutModel",
            "_view_count": null,
            "_view_module": "@jupyter-widgets/base",
            "_view_module_version": "1.2.0",
            "_view_name": "LayoutView",
            "align_content": null,
            "align_items": null,
            "align_self": null,
            "border": null,
            "bottom": null,
            "display": null,
            "flex": null,
            "flex_flow": null,
            "grid_area": null,
            "grid_auto_columns": null,
            "grid_auto_flow": null,
            "grid_auto_rows": null,
            "grid_column": null,
            "grid_gap": null,
            "grid_row": null,
            "grid_template_areas": null,
            "grid_template_columns": null,
            "grid_template_rows": null,
            "height": null,
            "justify_content": null,
            "justify_items": null,
            "left": null,
            "margin": null,
            "max_height": null,
            "max_width": null,
            "min_height": null,
            "min_width": null,
            "object_fit": null,
            "object_position": null,
            "order": null,
            "overflow": null,
            "overflow_x": null,
            "overflow_y": null,
            "padding": null,
            "right": null,
            "top": null,
            "visibility": null,
            "width": null
          }
        },
        "b36ff7564ac24d92af714e0926c695a5": {
          "model_module": "@jupyter-widgets/controls",
          "model_name": "DescriptionStyleModel",
          "model_module_version": "1.5.0",
          "state": {
            "_model_module": "@jupyter-widgets/controls",
            "_model_module_version": "1.5.0",
            "_model_name": "DescriptionStyleModel",
            "_view_count": null,
            "_view_module": "@jupyter-widgets/base",
            "_view_module_version": "1.2.0",
            "_view_name": "StyleView",
            "description_width": ""
          }
        },
        "4074ccd15d5b4477be512a30dc8922bb": {
          "model_module": "@jupyter-widgets/base",
          "model_name": "LayoutModel",
          "model_module_version": "1.2.0",
          "state": {
            "_model_module": "@jupyter-widgets/base",
            "_model_module_version": "1.2.0",
            "_model_name": "LayoutModel",
            "_view_count": null,
            "_view_module": "@jupyter-widgets/base",
            "_view_module_version": "1.2.0",
            "_view_name": "LayoutView",
            "align_content": null,
            "align_items": null,
            "align_self": null,
            "border": null,
            "bottom": null,
            "display": null,
            "flex": null,
            "flex_flow": null,
            "grid_area": null,
            "grid_auto_columns": null,
            "grid_auto_flow": null,
            "grid_auto_rows": null,
            "grid_column": null,
            "grid_gap": null,
            "grid_row": null,
            "grid_template_areas": null,
            "grid_template_columns": null,
            "grid_template_rows": null,
            "height": null,
            "justify_content": null,
            "justify_items": null,
            "left": null,
            "margin": null,
            "max_height": null,
            "max_width": null,
            "min_height": null,
            "min_width": null,
            "object_fit": null,
            "object_position": null,
            "order": null,
            "overflow": null,
            "overflow_x": null,
            "overflow_y": null,
            "padding": null,
            "right": null,
            "top": null,
            "visibility": null,
            "width": null
          }
        },
        "b810061638db449bbc684c929ebaa02b": {
          "model_module": "@jupyter-widgets/controls",
          "model_name": "ProgressStyleModel",
          "model_module_version": "1.5.0",
          "state": {
            "_model_module": "@jupyter-widgets/controls",
            "_model_module_version": "1.5.0",
            "_model_name": "ProgressStyleModel",
            "_view_count": null,
            "_view_module": "@jupyter-widgets/base",
            "_view_module_version": "1.2.0",
            "_view_name": "StyleView",
            "bar_color": null,
            "description_width": ""
          }
        },
        "da8b920b85fb447ab6a92fa3ed7cf1eb": {
          "model_module": "@jupyter-widgets/base",
          "model_name": "LayoutModel",
          "model_module_version": "1.2.0",
          "state": {
            "_model_module": "@jupyter-widgets/base",
            "_model_module_version": "1.2.0",
            "_model_name": "LayoutModel",
            "_view_count": null,
            "_view_module": "@jupyter-widgets/base",
            "_view_module_version": "1.2.0",
            "_view_name": "LayoutView",
            "align_content": null,
            "align_items": null,
            "align_self": null,
            "border": null,
            "bottom": null,
            "display": null,
            "flex": null,
            "flex_flow": null,
            "grid_area": null,
            "grid_auto_columns": null,
            "grid_auto_flow": null,
            "grid_auto_rows": null,
            "grid_column": null,
            "grid_gap": null,
            "grid_row": null,
            "grid_template_areas": null,
            "grid_template_columns": null,
            "grid_template_rows": null,
            "height": null,
            "justify_content": null,
            "justify_items": null,
            "left": null,
            "margin": null,
            "max_height": null,
            "max_width": null,
            "min_height": null,
            "min_width": null,
            "object_fit": null,
            "object_position": null,
            "order": null,
            "overflow": null,
            "overflow_x": null,
            "overflow_y": null,
            "padding": null,
            "right": null,
            "top": null,
            "visibility": null,
            "width": null
          }
        },
        "c3b4ae9bde5a455ba252ad9408f44830": {
          "model_module": "@jupyter-widgets/controls",
          "model_name": "DescriptionStyleModel",
          "model_module_version": "1.5.0",
          "state": {
            "_model_module": "@jupyter-widgets/controls",
            "_model_module_version": "1.5.0",
            "_model_name": "DescriptionStyleModel",
            "_view_count": null,
            "_view_module": "@jupyter-widgets/base",
            "_view_module_version": "1.2.0",
            "_view_name": "StyleView",
            "description_width": ""
          }
        },
        "a84025b8e8464dcaa76308797ab618bb": {
          "model_module": "@jupyter-widgets/controls",
          "model_name": "HBoxModel",
          "model_module_version": "1.5.0",
          "state": {
            "_dom_classes": [],
            "_model_module": "@jupyter-widgets/controls",
            "_model_module_version": "1.5.0",
            "_model_name": "HBoxModel",
            "_view_count": null,
            "_view_module": "@jupyter-widgets/controls",
            "_view_module_version": "1.5.0",
            "_view_name": "HBoxView",
            "box_style": "",
            "children": [
              "IPY_MODEL_2c3b128879244b70bf2613c93cb28b21",
              "IPY_MODEL_bee720c3620d4e4694db225e9ac3529b",
              "IPY_MODEL_cc806737b8e348399dd1fa0dbbcd5b44"
            ],
            "layout": "IPY_MODEL_97799a0142d1453dbcdfc494585ccf2f"
          }
        },
        "2c3b128879244b70bf2613c93cb28b21": {
          "model_module": "@jupyter-widgets/controls",
          "model_name": "HTMLModel",
          "model_module_version": "1.5.0",
          "state": {
            "_dom_classes": [],
            "_model_module": "@jupyter-widgets/controls",
            "_model_module_version": "1.5.0",
            "_model_name": "HTMLModel",
            "_view_count": null,
            "_view_module": "@jupyter-widgets/controls",
            "_view_module_version": "1.5.0",
            "_view_name": "HTMLView",
            "description": "",
            "description_tooltip": null,
            "layout": "IPY_MODEL_9547096aec604fb3a09e394524228244",
            "placeholder": "​",
            "style": "IPY_MODEL_96e774d9ee144a45b1b55e5be50e1a4a",
            "value": "100%"
          }
        },
        "bee720c3620d4e4694db225e9ac3529b": {
          "model_module": "@jupyter-widgets/controls",
          "model_name": "FloatProgressModel",
          "model_module_version": "1.5.0",
          "state": {
            "_dom_classes": [],
            "_model_module": "@jupyter-widgets/controls",
            "_model_module_version": "1.5.0",
            "_model_name": "FloatProgressModel",
            "_view_count": null,
            "_view_module": "@jupyter-widgets/controls",
            "_view_module_version": "1.5.0",
            "_view_name": "ProgressView",
            "bar_style": "success",
            "description": "",
            "description_tooltip": null,
            "layout": "IPY_MODEL_bdfd7f776c3a4e8f80169c52eb351f6a",
            "max": 3,
            "min": 0,
            "orientation": "horizontal",
            "style": "IPY_MODEL_e9f4f60c645f4416bfbfa35d1fa9fc6e",
            "value": 3
          }
        },
        "cc806737b8e348399dd1fa0dbbcd5b44": {
          "model_module": "@jupyter-widgets/controls",
          "model_name": "HTMLModel",
          "model_module_version": "1.5.0",
          "state": {
            "_dom_classes": [],
            "_model_module": "@jupyter-widgets/controls",
            "_model_module_version": "1.5.0",
            "_model_name": "HTMLModel",
            "_view_count": null,
            "_view_module": "@jupyter-widgets/controls",
            "_view_module_version": "1.5.0",
            "_view_name": "HTMLView",
            "description": "",
            "description_tooltip": null,
            "layout": "IPY_MODEL_e8e48c6c2db746b58112d07db5808e52",
            "placeholder": "​",
            "style": "IPY_MODEL_64c52749bc424e4e8b431e1fe10178b7",
            "value": " 3/3 [00:00&lt;00:00, 35.30it/s]"
          }
        },
        "97799a0142d1453dbcdfc494585ccf2f": {
          "model_module": "@jupyter-widgets/base",
          "model_name": "LayoutModel",
          "model_module_version": "1.2.0",
          "state": {
            "_model_module": "@jupyter-widgets/base",
            "_model_module_version": "1.2.0",
            "_model_name": "LayoutModel",
            "_view_count": null,
            "_view_module": "@jupyter-widgets/base",
            "_view_module_version": "1.2.0",
            "_view_name": "LayoutView",
            "align_content": null,
            "align_items": null,
            "align_self": null,
            "border": null,
            "bottom": null,
            "display": null,
            "flex": null,
            "flex_flow": null,
            "grid_area": null,
            "grid_auto_columns": null,
            "grid_auto_flow": null,
            "grid_auto_rows": null,
            "grid_column": null,
            "grid_gap": null,
            "grid_row": null,
            "grid_template_areas": null,
            "grid_template_columns": null,
            "grid_template_rows": null,
            "height": null,
            "justify_content": null,
            "justify_items": null,
            "left": null,
            "margin": null,
            "max_height": null,
            "max_width": null,
            "min_height": null,
            "min_width": null,
            "object_fit": null,
            "object_position": null,
            "order": null,
            "overflow": null,
            "overflow_x": null,
            "overflow_y": null,
            "padding": null,
            "right": null,
            "top": null,
            "visibility": null,
            "width": null
          }
        },
        "9547096aec604fb3a09e394524228244": {
          "model_module": "@jupyter-widgets/base",
          "model_name": "LayoutModel",
          "model_module_version": "1.2.0",
          "state": {
            "_model_module": "@jupyter-widgets/base",
            "_model_module_version": "1.2.0",
            "_model_name": "LayoutModel",
            "_view_count": null,
            "_view_module": "@jupyter-widgets/base",
            "_view_module_version": "1.2.0",
            "_view_name": "LayoutView",
            "align_content": null,
            "align_items": null,
            "align_self": null,
            "border": null,
            "bottom": null,
            "display": null,
            "flex": null,
            "flex_flow": null,
            "grid_area": null,
            "grid_auto_columns": null,
            "grid_auto_flow": null,
            "grid_auto_rows": null,
            "grid_column": null,
            "grid_gap": null,
            "grid_row": null,
            "grid_template_areas": null,
            "grid_template_columns": null,
            "grid_template_rows": null,
            "height": null,
            "justify_content": null,
            "justify_items": null,
            "left": null,
            "margin": null,
            "max_height": null,
            "max_width": null,
            "min_height": null,
            "min_width": null,
            "object_fit": null,
            "object_position": null,
            "order": null,
            "overflow": null,
            "overflow_x": null,
            "overflow_y": null,
            "padding": null,
            "right": null,
            "top": null,
            "visibility": null,
            "width": null
          }
        },
        "96e774d9ee144a45b1b55e5be50e1a4a": {
          "model_module": "@jupyter-widgets/controls",
          "model_name": "DescriptionStyleModel",
          "model_module_version": "1.5.0",
          "state": {
            "_model_module": "@jupyter-widgets/controls",
            "_model_module_version": "1.5.0",
            "_model_name": "DescriptionStyleModel",
            "_view_count": null,
            "_view_module": "@jupyter-widgets/base",
            "_view_module_version": "1.2.0",
            "_view_name": "StyleView",
            "description_width": ""
          }
        },
        "bdfd7f776c3a4e8f80169c52eb351f6a": {
          "model_module": "@jupyter-widgets/base",
          "model_name": "LayoutModel",
          "model_module_version": "1.2.0",
          "state": {
            "_model_module": "@jupyter-widgets/base",
            "_model_module_version": "1.2.0",
            "_model_name": "LayoutModel",
            "_view_count": null,
            "_view_module": "@jupyter-widgets/base",
            "_view_module_version": "1.2.0",
            "_view_name": "LayoutView",
            "align_content": null,
            "align_items": null,
            "align_self": null,
            "border": null,
            "bottom": null,
            "display": null,
            "flex": null,
            "flex_flow": null,
            "grid_area": null,
            "grid_auto_columns": null,
            "grid_auto_flow": null,
            "grid_auto_rows": null,
            "grid_column": null,
            "grid_gap": null,
            "grid_row": null,
            "grid_template_areas": null,
            "grid_template_columns": null,
            "grid_template_rows": null,
            "height": null,
            "justify_content": null,
            "justify_items": null,
            "left": null,
            "margin": null,
            "max_height": null,
            "max_width": null,
            "min_height": null,
            "min_width": null,
            "object_fit": null,
            "object_position": null,
            "order": null,
            "overflow": null,
            "overflow_x": null,
            "overflow_y": null,
            "padding": null,
            "right": null,
            "top": null,
            "visibility": null,
            "width": null
          }
        },
        "e9f4f60c645f4416bfbfa35d1fa9fc6e": {
          "model_module": "@jupyter-widgets/controls",
          "model_name": "ProgressStyleModel",
          "model_module_version": "1.5.0",
          "state": {
            "_model_module": "@jupyter-widgets/controls",
            "_model_module_version": "1.5.0",
            "_model_name": "ProgressStyleModel",
            "_view_count": null,
            "_view_module": "@jupyter-widgets/base",
            "_view_module_version": "1.2.0",
            "_view_name": "StyleView",
            "bar_color": null,
            "description_width": ""
          }
        },
        "e8e48c6c2db746b58112d07db5808e52": {
          "model_module": "@jupyter-widgets/base",
          "model_name": "LayoutModel",
          "model_module_version": "1.2.0",
          "state": {
            "_model_module": "@jupyter-widgets/base",
            "_model_module_version": "1.2.0",
            "_model_name": "LayoutModel",
            "_view_count": null,
            "_view_module": "@jupyter-widgets/base",
            "_view_module_version": "1.2.0",
            "_view_name": "LayoutView",
            "align_content": null,
            "align_items": null,
            "align_self": null,
            "border": null,
            "bottom": null,
            "display": null,
            "flex": null,
            "flex_flow": null,
            "grid_area": null,
            "grid_auto_columns": null,
            "grid_auto_flow": null,
            "grid_auto_rows": null,
            "grid_column": null,
            "grid_gap": null,
            "grid_row": null,
            "grid_template_areas": null,
            "grid_template_columns": null,
            "grid_template_rows": null,
            "height": null,
            "justify_content": null,
            "justify_items": null,
            "left": null,
            "margin": null,
            "max_height": null,
            "max_width": null,
            "min_height": null,
            "min_width": null,
            "object_fit": null,
            "object_position": null,
            "order": null,
            "overflow": null,
            "overflow_x": null,
            "overflow_y": null,
            "padding": null,
            "right": null,
            "top": null,
            "visibility": null,
            "width": null
          }
        },
        "64c52749bc424e4e8b431e1fe10178b7": {
          "model_module": "@jupyter-widgets/controls",
          "model_name": "DescriptionStyleModel",
          "model_module_version": "1.5.0",
          "state": {
            "_model_module": "@jupyter-widgets/controls",
            "_model_module_version": "1.5.0",
            "_model_name": "DescriptionStyleModel",
            "_view_count": null,
            "_view_module": "@jupyter-widgets/base",
            "_view_module_version": "1.2.0",
            "_view_name": "StyleView",
            "description_width": ""
          }
        },
        "998b9455219b4d35ba941556f5ec05e3": {
          "model_module": "@jupyter-widgets/controls",
          "model_name": "HBoxModel",
          "model_module_version": "1.5.0",
          "state": {
            "_dom_classes": [],
            "_model_module": "@jupyter-widgets/controls",
            "_model_module_version": "1.5.0",
            "_model_name": "HBoxModel",
            "_view_count": null,
            "_view_module": "@jupyter-widgets/controls",
            "_view_module_version": "1.5.0",
            "_view_name": "HBoxView",
            "box_style": "",
            "children": [
              "IPY_MODEL_b700911c36994dd88a3cbe3efc50ba70",
              "IPY_MODEL_2564c3dfc8dd4716b8f0d6ba938de04e",
              "IPY_MODEL_eb6f09cc867a4300b4a6f29dbfdce6b1"
            ],
            "layout": "IPY_MODEL_ea2cdde58264462e973fc65b58a58f20"
          }
        },
        "b700911c36994dd88a3cbe3efc50ba70": {
          "model_module": "@jupyter-widgets/controls",
          "model_name": "HTMLModel",
          "model_module_version": "1.5.0",
          "state": {
            "_dom_classes": [],
            "_model_module": "@jupyter-widgets/controls",
            "_model_module_version": "1.5.0",
            "_model_name": "HTMLModel",
            "_view_count": null,
            "_view_module": "@jupyter-widgets/controls",
            "_view_module_version": "1.5.0",
            "_view_name": "HTMLView",
            "description": "",
            "description_tooltip": null,
            "layout": "IPY_MODEL_24831ee05470473bbc627e16899c4a90",
            "placeholder": "​",
            "style": "IPY_MODEL_9abbac1a4f444a0982ad43c114be0f10",
            "value": "100%"
          }
        },
        "2564c3dfc8dd4716b8f0d6ba938de04e": {
          "model_module": "@jupyter-widgets/controls",
          "model_name": "FloatProgressModel",
          "model_module_version": "1.5.0",
          "state": {
            "_dom_classes": [],
            "_model_module": "@jupyter-widgets/controls",
            "_model_module_version": "1.5.0",
            "_model_name": "FloatProgressModel",
            "_view_count": null,
            "_view_module": "@jupyter-widgets/controls",
            "_view_module_version": "1.5.0",
            "_view_name": "ProgressView",
            "bar_style": "success",
            "description": "",
            "description_tooltip": null,
            "layout": "IPY_MODEL_9df4682b0dd2491db4bd75e8186a49aa",
            "max": 1,
            "min": 0,
            "orientation": "horizontal",
            "style": "IPY_MODEL_45ab75a8f0de4b0e9eb32bba1ab04181",
            "value": 1
          }
        },
        "eb6f09cc867a4300b4a6f29dbfdce6b1": {
          "model_module": "@jupyter-widgets/controls",
          "model_name": "HTMLModel",
          "model_module_version": "1.5.0",
          "state": {
            "_dom_classes": [],
            "_model_module": "@jupyter-widgets/controls",
            "_model_module_version": "1.5.0",
            "_model_name": "HTMLModel",
            "_view_count": null,
            "_view_module": "@jupyter-widgets/controls",
            "_view_module_version": "1.5.0",
            "_view_name": "HTMLView",
            "description": "",
            "description_tooltip": null,
            "layout": "IPY_MODEL_4962c06703a941b48059118b0e73aa95",
            "placeholder": "​",
            "style": "IPY_MODEL_23cc4932fb0747f1ae4c4fcb2d1046c9",
            "value": " 1/1 [00:00&lt;00:00, 18.07it/s]"
          }
        },
        "ea2cdde58264462e973fc65b58a58f20": {
          "model_module": "@jupyter-widgets/base",
          "model_name": "LayoutModel",
          "model_module_version": "1.2.0",
          "state": {
            "_model_module": "@jupyter-widgets/base",
            "_model_module_version": "1.2.0",
            "_model_name": "LayoutModel",
            "_view_count": null,
            "_view_module": "@jupyter-widgets/base",
            "_view_module_version": "1.2.0",
            "_view_name": "LayoutView",
            "align_content": null,
            "align_items": null,
            "align_self": null,
            "border": null,
            "bottom": null,
            "display": null,
            "flex": null,
            "flex_flow": null,
            "grid_area": null,
            "grid_auto_columns": null,
            "grid_auto_flow": null,
            "grid_auto_rows": null,
            "grid_column": null,
            "grid_gap": null,
            "grid_row": null,
            "grid_template_areas": null,
            "grid_template_columns": null,
            "grid_template_rows": null,
            "height": null,
            "justify_content": null,
            "justify_items": null,
            "left": null,
            "margin": null,
            "max_height": null,
            "max_width": null,
            "min_height": null,
            "min_width": null,
            "object_fit": null,
            "object_position": null,
            "order": null,
            "overflow": null,
            "overflow_x": null,
            "overflow_y": null,
            "padding": null,
            "right": null,
            "top": null,
            "visibility": null,
            "width": null
          }
        },
        "24831ee05470473bbc627e16899c4a90": {
          "model_module": "@jupyter-widgets/base",
          "model_name": "LayoutModel",
          "model_module_version": "1.2.0",
          "state": {
            "_model_module": "@jupyter-widgets/base",
            "_model_module_version": "1.2.0",
            "_model_name": "LayoutModel",
            "_view_count": null,
            "_view_module": "@jupyter-widgets/base",
            "_view_module_version": "1.2.0",
            "_view_name": "LayoutView",
            "align_content": null,
            "align_items": null,
            "align_self": null,
            "border": null,
            "bottom": null,
            "display": null,
            "flex": null,
            "flex_flow": null,
            "grid_area": null,
            "grid_auto_columns": null,
            "grid_auto_flow": null,
            "grid_auto_rows": null,
            "grid_column": null,
            "grid_gap": null,
            "grid_row": null,
            "grid_template_areas": null,
            "grid_template_columns": null,
            "grid_template_rows": null,
            "height": null,
            "justify_content": null,
            "justify_items": null,
            "left": null,
            "margin": null,
            "max_height": null,
            "max_width": null,
            "min_height": null,
            "min_width": null,
            "object_fit": null,
            "object_position": null,
            "order": null,
            "overflow": null,
            "overflow_x": null,
            "overflow_y": null,
            "padding": null,
            "right": null,
            "top": null,
            "visibility": null,
            "width": null
          }
        },
        "9abbac1a4f444a0982ad43c114be0f10": {
          "model_module": "@jupyter-widgets/controls",
          "model_name": "DescriptionStyleModel",
          "model_module_version": "1.5.0",
          "state": {
            "_model_module": "@jupyter-widgets/controls",
            "_model_module_version": "1.5.0",
            "_model_name": "DescriptionStyleModel",
            "_view_count": null,
            "_view_module": "@jupyter-widgets/base",
            "_view_module_version": "1.2.0",
            "_view_name": "StyleView",
            "description_width": ""
          }
        },
        "9df4682b0dd2491db4bd75e8186a49aa": {
          "model_module": "@jupyter-widgets/base",
          "model_name": "LayoutModel",
          "model_module_version": "1.2.0",
          "state": {
            "_model_module": "@jupyter-widgets/base",
            "_model_module_version": "1.2.0",
            "_model_name": "LayoutModel",
            "_view_count": null,
            "_view_module": "@jupyter-widgets/base",
            "_view_module_version": "1.2.0",
            "_view_name": "LayoutView",
            "align_content": null,
            "align_items": null,
            "align_self": null,
            "border": null,
            "bottom": null,
            "display": null,
            "flex": null,
            "flex_flow": null,
            "grid_area": null,
            "grid_auto_columns": null,
            "grid_auto_flow": null,
            "grid_auto_rows": null,
            "grid_column": null,
            "grid_gap": null,
            "grid_row": null,
            "grid_template_areas": null,
            "grid_template_columns": null,
            "grid_template_rows": null,
            "height": null,
            "justify_content": null,
            "justify_items": null,
            "left": null,
            "margin": null,
            "max_height": null,
            "max_width": null,
            "min_height": null,
            "min_width": null,
            "object_fit": null,
            "object_position": null,
            "order": null,
            "overflow": null,
            "overflow_x": null,
            "overflow_y": null,
            "padding": null,
            "right": null,
            "top": null,
            "visibility": null,
            "width": null
          }
        },
        "45ab75a8f0de4b0e9eb32bba1ab04181": {
          "model_module": "@jupyter-widgets/controls",
          "model_name": "ProgressStyleModel",
          "model_module_version": "1.5.0",
          "state": {
            "_model_module": "@jupyter-widgets/controls",
            "_model_module_version": "1.5.0",
            "_model_name": "ProgressStyleModel",
            "_view_count": null,
            "_view_module": "@jupyter-widgets/base",
            "_view_module_version": "1.2.0",
            "_view_name": "StyleView",
            "bar_color": null,
            "description_width": ""
          }
        },
        "4962c06703a941b48059118b0e73aa95": {
          "model_module": "@jupyter-widgets/base",
          "model_name": "LayoutModel",
          "model_module_version": "1.2.0",
          "state": {
            "_model_module": "@jupyter-widgets/base",
            "_model_module_version": "1.2.0",
            "_model_name": "LayoutModel",
            "_view_count": null,
            "_view_module": "@jupyter-widgets/base",
            "_view_module_version": "1.2.0",
            "_view_name": "LayoutView",
            "align_content": null,
            "align_items": null,
            "align_self": null,
            "border": null,
            "bottom": null,
            "display": null,
            "flex": null,
            "flex_flow": null,
            "grid_area": null,
            "grid_auto_columns": null,
            "grid_auto_flow": null,
            "grid_auto_rows": null,
            "grid_column": null,
            "grid_gap": null,
            "grid_row": null,
            "grid_template_areas": null,
            "grid_template_columns": null,
            "grid_template_rows": null,
            "height": null,
            "justify_content": null,
            "justify_items": null,
            "left": null,
            "margin": null,
            "max_height": null,
            "max_width": null,
            "min_height": null,
            "min_width": null,
            "object_fit": null,
            "object_position": null,
            "order": null,
            "overflow": null,
            "overflow_x": null,
            "overflow_y": null,
            "padding": null,
            "right": null,
            "top": null,
            "visibility": null,
            "width": null
          }
        },
        "23cc4932fb0747f1ae4c4fcb2d1046c9": {
          "model_module": "@jupyter-widgets/controls",
          "model_name": "DescriptionStyleModel",
          "model_module_version": "1.5.0",
          "state": {
            "_model_module": "@jupyter-widgets/controls",
            "_model_module_version": "1.5.0",
            "_model_name": "DescriptionStyleModel",
            "_view_count": null,
            "_view_module": "@jupyter-widgets/base",
            "_view_module_version": "1.2.0",
            "_view_name": "StyleView",
            "description_width": ""
          }
        },
        "432b63966c064e60990c0bc2520418c2": {
          "model_module": "@jupyter-widgets/controls",
          "model_name": "HBoxModel",
          "model_module_version": "1.5.0",
          "state": {
            "_dom_classes": [],
            "_model_module": "@jupyter-widgets/controls",
            "_model_module_version": "1.5.0",
            "_model_name": "HBoxModel",
            "_view_count": null,
            "_view_module": "@jupyter-widgets/controls",
            "_view_module_version": "1.5.0",
            "_view_name": "HBoxView",
            "box_style": "",
            "children": [
              "IPY_MODEL_f53dd3f13a144b3cbf5bf2f0ce05b92d",
              "IPY_MODEL_5fe2bcc3e4a94f3b97bdafdb15bfa257",
              "IPY_MODEL_fb17a20326b243f788eb20facc07604f"
            ],
            "layout": "IPY_MODEL_57a825d3b6364b5281436b3d5dae7e64"
          }
        },
        "f53dd3f13a144b3cbf5bf2f0ce05b92d": {
          "model_module": "@jupyter-widgets/controls",
          "model_name": "HTMLModel",
          "model_module_version": "1.5.0",
          "state": {
            "_dom_classes": [],
            "_model_module": "@jupyter-widgets/controls",
            "_model_module_version": "1.5.0",
            "_model_name": "HTMLModel",
            "_view_count": null,
            "_view_module": "@jupyter-widgets/controls",
            "_view_module_version": "1.5.0",
            "_view_name": "HTMLView",
            "description": "",
            "description_tooltip": null,
            "layout": "IPY_MODEL_922a46a29a8047bfa6fe7da2b6bc1bc5",
            "placeholder": "​",
            "style": "IPY_MODEL_b0c9c769070f4c5c9d9db05f629707f7",
            "value": "100%"
          }
        },
        "5fe2bcc3e4a94f3b97bdafdb15bfa257": {
          "model_module": "@jupyter-widgets/controls",
          "model_name": "FloatProgressModel",
          "model_module_version": "1.5.0",
          "state": {
            "_dom_classes": [],
            "_model_module": "@jupyter-widgets/controls",
            "_model_module_version": "1.5.0",
            "_model_name": "FloatProgressModel",
            "_view_count": null,
            "_view_module": "@jupyter-widgets/controls",
            "_view_module_version": "1.5.0",
            "_view_name": "ProgressView",
            "bar_style": "success",
            "description": "",
            "description_tooltip": null,
            "layout": "IPY_MODEL_2f3897de8ab54fc685d2daec7bc301c1",
            "max": 41,
            "min": 0,
            "orientation": "horizontal",
            "style": "IPY_MODEL_d3675e97bb3a4fedbc7b647d83575363",
            "value": 41
          }
        },
        "fb17a20326b243f788eb20facc07604f": {
          "model_module": "@jupyter-widgets/controls",
          "model_name": "HTMLModel",
          "model_module_version": "1.5.0",
          "state": {
            "_dom_classes": [],
            "_model_module": "@jupyter-widgets/controls",
            "_model_module_version": "1.5.0",
            "_model_name": "HTMLModel",
            "_view_count": null,
            "_view_module": "@jupyter-widgets/controls",
            "_view_module_version": "1.5.0",
            "_view_name": "HTMLView",
            "description": "",
            "description_tooltip": null,
            "layout": "IPY_MODEL_6260ff731a0f454984a6a2e6d0a25256",
            "placeholder": "​",
            "style": "IPY_MODEL_126c3413b0244591a37d745406437928",
            "value": " 41/41 [00:00&lt;00:00, 511.74it/s]"
          }
        },
        "57a825d3b6364b5281436b3d5dae7e64": {
          "model_module": "@jupyter-widgets/base",
          "model_name": "LayoutModel",
          "model_module_version": "1.2.0",
          "state": {
            "_model_module": "@jupyter-widgets/base",
            "_model_module_version": "1.2.0",
            "_model_name": "LayoutModel",
            "_view_count": null,
            "_view_module": "@jupyter-widgets/base",
            "_view_module_version": "1.2.0",
            "_view_name": "LayoutView",
            "align_content": null,
            "align_items": null,
            "align_self": null,
            "border": null,
            "bottom": null,
            "display": null,
            "flex": null,
            "flex_flow": null,
            "grid_area": null,
            "grid_auto_columns": null,
            "grid_auto_flow": null,
            "grid_auto_rows": null,
            "grid_column": null,
            "grid_gap": null,
            "grid_row": null,
            "grid_template_areas": null,
            "grid_template_columns": null,
            "grid_template_rows": null,
            "height": null,
            "justify_content": null,
            "justify_items": null,
            "left": null,
            "margin": null,
            "max_height": null,
            "max_width": null,
            "min_height": null,
            "min_width": null,
            "object_fit": null,
            "object_position": null,
            "order": null,
            "overflow": null,
            "overflow_x": null,
            "overflow_y": null,
            "padding": null,
            "right": null,
            "top": null,
            "visibility": null,
            "width": null
          }
        },
        "922a46a29a8047bfa6fe7da2b6bc1bc5": {
          "model_module": "@jupyter-widgets/base",
          "model_name": "LayoutModel",
          "model_module_version": "1.2.0",
          "state": {
            "_model_module": "@jupyter-widgets/base",
            "_model_module_version": "1.2.0",
            "_model_name": "LayoutModel",
            "_view_count": null,
            "_view_module": "@jupyter-widgets/base",
            "_view_module_version": "1.2.0",
            "_view_name": "LayoutView",
            "align_content": null,
            "align_items": null,
            "align_self": null,
            "border": null,
            "bottom": null,
            "display": null,
            "flex": null,
            "flex_flow": null,
            "grid_area": null,
            "grid_auto_columns": null,
            "grid_auto_flow": null,
            "grid_auto_rows": null,
            "grid_column": null,
            "grid_gap": null,
            "grid_row": null,
            "grid_template_areas": null,
            "grid_template_columns": null,
            "grid_template_rows": null,
            "height": null,
            "justify_content": null,
            "justify_items": null,
            "left": null,
            "margin": null,
            "max_height": null,
            "max_width": null,
            "min_height": null,
            "min_width": null,
            "object_fit": null,
            "object_position": null,
            "order": null,
            "overflow": null,
            "overflow_x": null,
            "overflow_y": null,
            "padding": null,
            "right": null,
            "top": null,
            "visibility": null,
            "width": null
          }
        },
        "b0c9c769070f4c5c9d9db05f629707f7": {
          "model_module": "@jupyter-widgets/controls",
          "model_name": "DescriptionStyleModel",
          "model_module_version": "1.5.0",
          "state": {
            "_model_module": "@jupyter-widgets/controls",
            "_model_module_version": "1.5.0",
            "_model_name": "DescriptionStyleModel",
            "_view_count": null,
            "_view_module": "@jupyter-widgets/base",
            "_view_module_version": "1.2.0",
            "_view_name": "StyleView",
            "description_width": ""
          }
        },
        "2f3897de8ab54fc685d2daec7bc301c1": {
          "model_module": "@jupyter-widgets/base",
          "model_name": "LayoutModel",
          "model_module_version": "1.2.0",
          "state": {
            "_model_module": "@jupyter-widgets/base",
            "_model_module_version": "1.2.0",
            "_model_name": "LayoutModel",
            "_view_count": null,
            "_view_module": "@jupyter-widgets/base",
            "_view_module_version": "1.2.0",
            "_view_name": "LayoutView",
            "align_content": null,
            "align_items": null,
            "align_self": null,
            "border": null,
            "bottom": null,
            "display": null,
            "flex": null,
            "flex_flow": null,
            "grid_area": null,
            "grid_auto_columns": null,
            "grid_auto_flow": null,
            "grid_auto_rows": null,
            "grid_column": null,
            "grid_gap": null,
            "grid_row": null,
            "grid_template_areas": null,
            "grid_template_columns": null,
            "grid_template_rows": null,
            "height": null,
            "justify_content": null,
            "justify_items": null,
            "left": null,
            "margin": null,
            "max_height": null,
            "max_width": null,
            "min_height": null,
            "min_width": null,
            "object_fit": null,
            "object_position": null,
            "order": null,
            "overflow": null,
            "overflow_x": null,
            "overflow_y": null,
            "padding": null,
            "right": null,
            "top": null,
            "visibility": null,
            "width": null
          }
        },
        "d3675e97bb3a4fedbc7b647d83575363": {
          "model_module": "@jupyter-widgets/controls",
          "model_name": "ProgressStyleModel",
          "model_module_version": "1.5.0",
          "state": {
            "_model_module": "@jupyter-widgets/controls",
            "_model_module_version": "1.5.0",
            "_model_name": "ProgressStyleModel",
            "_view_count": null,
            "_view_module": "@jupyter-widgets/base",
            "_view_module_version": "1.2.0",
            "_view_name": "StyleView",
            "bar_color": null,
            "description_width": ""
          }
        },
        "6260ff731a0f454984a6a2e6d0a25256": {
          "model_module": "@jupyter-widgets/base",
          "model_name": "LayoutModel",
          "model_module_version": "1.2.0",
          "state": {
            "_model_module": "@jupyter-widgets/base",
            "_model_module_version": "1.2.0",
            "_model_name": "LayoutModel",
            "_view_count": null,
            "_view_module": "@jupyter-widgets/base",
            "_view_module_version": "1.2.0",
            "_view_name": "LayoutView",
            "align_content": null,
            "align_items": null,
            "align_self": null,
            "border": null,
            "bottom": null,
            "display": null,
            "flex": null,
            "flex_flow": null,
            "grid_area": null,
            "grid_auto_columns": null,
            "grid_auto_flow": null,
            "grid_auto_rows": null,
            "grid_column": null,
            "grid_gap": null,
            "grid_row": null,
            "grid_template_areas": null,
            "grid_template_columns": null,
            "grid_template_rows": null,
            "height": null,
            "justify_content": null,
            "justify_items": null,
            "left": null,
            "margin": null,
            "max_height": null,
            "max_width": null,
            "min_height": null,
            "min_width": null,
            "object_fit": null,
            "object_position": null,
            "order": null,
            "overflow": null,
            "overflow_x": null,
            "overflow_y": null,
            "padding": null,
            "right": null,
            "top": null,
            "visibility": null,
            "width": null
          }
        },
        "126c3413b0244591a37d745406437928": {
          "model_module": "@jupyter-widgets/controls",
          "model_name": "DescriptionStyleModel",
          "model_module_version": "1.5.0",
          "state": {
            "_model_module": "@jupyter-widgets/controls",
            "_model_module_version": "1.5.0",
            "_model_name": "DescriptionStyleModel",
            "_view_count": null,
            "_view_module": "@jupyter-widgets/base",
            "_view_module_version": "1.2.0",
            "_view_name": "StyleView",
            "description_width": ""
          }
        },
        "dc22fa4072834ed796d62a94c375292d": {
          "model_module": "@jupyter-widgets/controls",
          "model_name": "HBoxModel",
          "model_module_version": "1.5.0",
          "state": {
            "_dom_classes": [],
            "_model_module": "@jupyter-widgets/controls",
            "_model_module_version": "1.5.0",
            "_model_name": "HBoxModel",
            "_view_count": null,
            "_view_module": "@jupyter-widgets/controls",
            "_view_module_version": "1.5.0",
            "_view_name": "HBoxView",
            "box_style": "",
            "children": [
              "IPY_MODEL_67bd84eda2384decb9abe087d4d8265a",
              "IPY_MODEL_337889476ba9463d9ce653469c48962d",
              "IPY_MODEL_f2af67ff12b54a45b3ff09ab3cffa9af"
            ],
            "layout": "IPY_MODEL_fae0d6303b644a3b97f123020535f60d"
          }
        },
        "67bd84eda2384decb9abe087d4d8265a": {
          "model_module": "@jupyter-widgets/controls",
          "model_name": "HTMLModel",
          "model_module_version": "1.5.0",
          "state": {
            "_dom_classes": [],
            "_model_module": "@jupyter-widgets/controls",
            "_model_module_version": "1.5.0",
            "_model_name": "HTMLModel",
            "_view_count": null,
            "_view_module": "@jupyter-widgets/controls",
            "_view_module_version": "1.5.0",
            "_view_name": "HTMLView",
            "description": "",
            "description_tooltip": null,
            "layout": "IPY_MODEL_a5c33e232f924ebe8ac3164a13dac571",
            "placeholder": "​",
            "style": "IPY_MODEL_53bf9e900c2f41da8d66f7ae63b24a89",
            "value": "100%"
          }
        },
        "337889476ba9463d9ce653469c48962d": {
          "model_module": "@jupyter-widgets/controls",
          "model_name": "FloatProgressModel",
          "model_module_version": "1.5.0",
          "state": {
            "_dom_classes": [],
            "_model_module": "@jupyter-widgets/controls",
            "_model_module_version": "1.5.0",
            "_model_name": "FloatProgressModel",
            "_view_count": null,
            "_view_module": "@jupyter-widgets/controls",
            "_view_module_version": "1.5.0",
            "_view_name": "ProgressView",
            "bar_style": "success",
            "description": "",
            "description_tooltip": null,
            "layout": "IPY_MODEL_a184aecb68094f68858bd02b87611d7b",
            "max": 4,
            "min": 0,
            "orientation": "horizontal",
            "style": "IPY_MODEL_f5f98ce7f9e04c69b761f400985ca360",
            "value": 4
          }
        },
        "f2af67ff12b54a45b3ff09ab3cffa9af": {
          "model_module": "@jupyter-widgets/controls",
          "model_name": "HTMLModel",
          "model_module_version": "1.5.0",
          "state": {
            "_dom_classes": [],
            "_model_module": "@jupyter-widgets/controls",
            "_model_module_version": "1.5.0",
            "_model_name": "HTMLModel",
            "_view_count": null,
            "_view_module": "@jupyter-widgets/controls",
            "_view_module_version": "1.5.0",
            "_view_name": "HTMLView",
            "description": "",
            "description_tooltip": null,
            "layout": "IPY_MODEL_24699946bfaa4912905ff305707ad0d4",
            "placeholder": "​",
            "style": "IPY_MODEL_3606aecb4fa64771bdcba2acbeddbc74",
            "value": " 4/4 [00:00&lt;00:00,  6.68it/s]"
          }
        },
        "fae0d6303b644a3b97f123020535f60d": {
          "model_module": "@jupyter-widgets/base",
          "model_name": "LayoutModel",
          "model_module_version": "1.2.0",
          "state": {
            "_model_module": "@jupyter-widgets/base",
            "_model_module_version": "1.2.0",
            "_model_name": "LayoutModel",
            "_view_count": null,
            "_view_module": "@jupyter-widgets/base",
            "_view_module_version": "1.2.0",
            "_view_name": "LayoutView",
            "align_content": null,
            "align_items": null,
            "align_self": null,
            "border": null,
            "bottom": null,
            "display": null,
            "flex": null,
            "flex_flow": null,
            "grid_area": null,
            "grid_auto_columns": null,
            "grid_auto_flow": null,
            "grid_auto_rows": null,
            "grid_column": null,
            "grid_gap": null,
            "grid_row": null,
            "grid_template_areas": null,
            "grid_template_columns": null,
            "grid_template_rows": null,
            "height": null,
            "justify_content": null,
            "justify_items": null,
            "left": null,
            "margin": null,
            "max_height": null,
            "max_width": null,
            "min_height": null,
            "min_width": null,
            "object_fit": null,
            "object_position": null,
            "order": null,
            "overflow": null,
            "overflow_x": null,
            "overflow_y": null,
            "padding": null,
            "right": null,
            "top": null,
            "visibility": null,
            "width": null
          }
        },
        "a5c33e232f924ebe8ac3164a13dac571": {
          "model_module": "@jupyter-widgets/base",
          "model_name": "LayoutModel",
          "model_module_version": "1.2.0",
          "state": {
            "_model_module": "@jupyter-widgets/base",
            "_model_module_version": "1.2.0",
            "_model_name": "LayoutModel",
            "_view_count": null,
            "_view_module": "@jupyter-widgets/base",
            "_view_module_version": "1.2.0",
            "_view_name": "LayoutView",
            "align_content": null,
            "align_items": null,
            "align_self": null,
            "border": null,
            "bottom": null,
            "display": null,
            "flex": null,
            "flex_flow": null,
            "grid_area": null,
            "grid_auto_columns": null,
            "grid_auto_flow": null,
            "grid_auto_rows": null,
            "grid_column": null,
            "grid_gap": null,
            "grid_row": null,
            "grid_template_areas": null,
            "grid_template_columns": null,
            "grid_template_rows": null,
            "height": null,
            "justify_content": null,
            "justify_items": null,
            "left": null,
            "margin": null,
            "max_height": null,
            "max_width": null,
            "min_height": null,
            "min_width": null,
            "object_fit": null,
            "object_position": null,
            "order": null,
            "overflow": null,
            "overflow_x": null,
            "overflow_y": null,
            "padding": null,
            "right": null,
            "top": null,
            "visibility": null,
            "width": null
          }
        },
        "53bf9e900c2f41da8d66f7ae63b24a89": {
          "model_module": "@jupyter-widgets/controls",
          "model_name": "DescriptionStyleModel",
          "model_module_version": "1.5.0",
          "state": {
            "_model_module": "@jupyter-widgets/controls",
            "_model_module_version": "1.5.0",
            "_model_name": "DescriptionStyleModel",
            "_view_count": null,
            "_view_module": "@jupyter-widgets/base",
            "_view_module_version": "1.2.0",
            "_view_name": "StyleView",
            "description_width": ""
          }
        },
        "a184aecb68094f68858bd02b87611d7b": {
          "model_module": "@jupyter-widgets/base",
          "model_name": "LayoutModel",
          "model_module_version": "1.2.0",
          "state": {
            "_model_module": "@jupyter-widgets/base",
            "_model_module_version": "1.2.0",
            "_model_name": "LayoutModel",
            "_view_count": null,
            "_view_module": "@jupyter-widgets/base",
            "_view_module_version": "1.2.0",
            "_view_name": "LayoutView",
            "align_content": null,
            "align_items": null,
            "align_self": null,
            "border": null,
            "bottom": null,
            "display": null,
            "flex": null,
            "flex_flow": null,
            "grid_area": null,
            "grid_auto_columns": null,
            "grid_auto_flow": null,
            "grid_auto_rows": null,
            "grid_column": null,
            "grid_gap": null,
            "grid_row": null,
            "grid_template_areas": null,
            "grid_template_columns": null,
            "grid_template_rows": null,
            "height": null,
            "justify_content": null,
            "justify_items": null,
            "left": null,
            "margin": null,
            "max_height": null,
            "max_width": null,
            "min_height": null,
            "min_width": null,
            "object_fit": null,
            "object_position": null,
            "order": null,
            "overflow": null,
            "overflow_x": null,
            "overflow_y": null,
            "padding": null,
            "right": null,
            "top": null,
            "visibility": null,
            "width": null
          }
        },
        "f5f98ce7f9e04c69b761f400985ca360": {
          "model_module": "@jupyter-widgets/controls",
          "model_name": "ProgressStyleModel",
          "model_module_version": "1.5.0",
          "state": {
            "_model_module": "@jupyter-widgets/controls",
            "_model_module_version": "1.5.0",
            "_model_name": "ProgressStyleModel",
            "_view_count": null,
            "_view_module": "@jupyter-widgets/base",
            "_view_module_version": "1.2.0",
            "_view_name": "StyleView",
            "bar_color": null,
            "description_width": ""
          }
        },
        "24699946bfaa4912905ff305707ad0d4": {
          "model_module": "@jupyter-widgets/base",
          "model_name": "LayoutModel",
          "model_module_version": "1.2.0",
          "state": {
            "_model_module": "@jupyter-widgets/base",
            "_model_module_version": "1.2.0",
            "_model_name": "LayoutModel",
            "_view_count": null,
            "_view_module": "@jupyter-widgets/base",
            "_view_module_version": "1.2.0",
            "_view_name": "LayoutView",
            "align_content": null,
            "align_items": null,
            "align_self": null,
            "border": null,
            "bottom": null,
            "display": null,
            "flex": null,
            "flex_flow": null,
            "grid_area": null,
            "grid_auto_columns": null,
            "grid_auto_flow": null,
            "grid_auto_rows": null,
            "grid_column": null,
            "grid_gap": null,
            "grid_row": null,
            "grid_template_areas": null,
            "grid_template_columns": null,
            "grid_template_rows": null,
            "height": null,
            "justify_content": null,
            "justify_items": null,
            "left": null,
            "margin": null,
            "max_height": null,
            "max_width": null,
            "min_height": null,
            "min_width": null,
            "object_fit": null,
            "object_position": null,
            "order": null,
            "overflow": null,
            "overflow_x": null,
            "overflow_y": null,
            "padding": null,
            "right": null,
            "top": null,
            "visibility": null,
            "width": null
          }
        },
        "3606aecb4fa64771bdcba2acbeddbc74": {
          "model_module": "@jupyter-widgets/controls",
          "model_name": "DescriptionStyleModel",
          "model_module_version": "1.5.0",
          "state": {
            "_model_module": "@jupyter-widgets/controls",
            "_model_module_version": "1.5.0",
            "_model_name": "DescriptionStyleModel",
            "_view_count": null,
            "_view_module": "@jupyter-widgets/base",
            "_view_module_version": "1.2.0",
            "_view_name": "StyleView",
            "description_width": ""
          }
        },
        "667f6dd6f00340018cd0f604614b5455": {
          "model_module": "@jupyter-widgets/controls",
          "model_name": "HBoxModel",
          "model_module_version": "1.5.0",
          "state": {
            "_dom_classes": [],
            "_model_module": "@jupyter-widgets/controls",
            "_model_module_version": "1.5.0",
            "_model_name": "HBoxModel",
            "_view_count": null,
            "_view_module": "@jupyter-widgets/controls",
            "_view_module_version": "1.5.0",
            "_view_name": "HBoxView",
            "box_style": "",
            "children": [
              "IPY_MODEL_c64a5fb083ff48d3860244462c326e7c",
              "IPY_MODEL_bb67481ab5ab4b4e95c4f53683dc8c25",
              "IPY_MODEL_efa2cc50af7a4e09b228b20cc8a22bb0"
            ],
            "layout": "IPY_MODEL_53a58cd3236042e5be5ab25bc9482aae"
          }
        },
        "c64a5fb083ff48d3860244462c326e7c": {
          "model_module": "@jupyter-widgets/controls",
          "model_name": "HTMLModel",
          "model_module_version": "1.5.0",
          "state": {
            "_dom_classes": [],
            "_model_module": "@jupyter-widgets/controls",
            "_model_module_version": "1.5.0",
            "_model_name": "HTMLModel",
            "_view_count": null,
            "_view_module": "@jupyter-widgets/controls",
            "_view_module_version": "1.5.0",
            "_view_name": "HTMLView",
            "description": "",
            "description_tooltip": null,
            "layout": "IPY_MODEL_af7ad58b53024e208fe96c6acd6248b8",
            "placeholder": "​",
            "style": "IPY_MODEL_b1ec9f1c447e4c37a28d0217df168db7",
            "value": "100%"
          }
        },
        "bb67481ab5ab4b4e95c4f53683dc8c25": {
          "model_module": "@jupyter-widgets/controls",
          "model_name": "FloatProgressModel",
          "model_module_version": "1.5.0",
          "state": {
            "_dom_classes": [],
            "_model_module": "@jupyter-widgets/controls",
            "_model_module_version": "1.5.0",
            "_model_name": "FloatProgressModel",
            "_view_count": null,
            "_view_module": "@jupyter-widgets/controls",
            "_view_module_version": "1.5.0",
            "_view_name": "ProgressView",
            "bar_style": "success",
            "description": "",
            "description_tooltip": null,
            "layout": "IPY_MODEL_5b6b727f2bc640918a3cae0ec8e044fe",
            "max": 50,
            "min": 0,
            "orientation": "horizontal",
            "style": "IPY_MODEL_620d984233ee48f38d0bed8a46fd273d",
            "value": 50
          }
        },
        "efa2cc50af7a4e09b228b20cc8a22bb0": {
          "model_module": "@jupyter-widgets/controls",
          "model_name": "HTMLModel",
          "model_module_version": "1.5.0",
          "state": {
            "_dom_classes": [],
            "_model_module": "@jupyter-widgets/controls",
            "_model_module_version": "1.5.0",
            "_model_name": "HTMLModel",
            "_view_count": null,
            "_view_module": "@jupyter-widgets/controls",
            "_view_module_version": "1.5.0",
            "_view_name": "HTMLView",
            "description": "",
            "description_tooltip": null,
            "layout": "IPY_MODEL_68ee6dfdedba41c893bdb60d92c77e74",
            "placeholder": "​",
            "style": "IPY_MODEL_cc86b5e710bd465b9d0bd72d247f15c3",
            "value": " 50/50 [00:00&lt;00:00, 695.68it/s]"
          }
        },
        "53a58cd3236042e5be5ab25bc9482aae": {
          "model_module": "@jupyter-widgets/base",
          "model_name": "LayoutModel",
          "model_module_version": "1.2.0",
          "state": {
            "_model_module": "@jupyter-widgets/base",
            "_model_module_version": "1.2.0",
            "_model_name": "LayoutModel",
            "_view_count": null,
            "_view_module": "@jupyter-widgets/base",
            "_view_module_version": "1.2.0",
            "_view_name": "LayoutView",
            "align_content": null,
            "align_items": null,
            "align_self": null,
            "border": null,
            "bottom": null,
            "display": null,
            "flex": null,
            "flex_flow": null,
            "grid_area": null,
            "grid_auto_columns": null,
            "grid_auto_flow": null,
            "grid_auto_rows": null,
            "grid_column": null,
            "grid_gap": null,
            "grid_row": null,
            "grid_template_areas": null,
            "grid_template_columns": null,
            "grid_template_rows": null,
            "height": null,
            "justify_content": null,
            "justify_items": null,
            "left": null,
            "margin": null,
            "max_height": null,
            "max_width": null,
            "min_height": null,
            "min_width": null,
            "object_fit": null,
            "object_position": null,
            "order": null,
            "overflow": null,
            "overflow_x": null,
            "overflow_y": null,
            "padding": null,
            "right": null,
            "top": null,
            "visibility": null,
            "width": null
          }
        },
        "af7ad58b53024e208fe96c6acd6248b8": {
          "model_module": "@jupyter-widgets/base",
          "model_name": "LayoutModel",
          "model_module_version": "1.2.0",
          "state": {
            "_model_module": "@jupyter-widgets/base",
            "_model_module_version": "1.2.0",
            "_model_name": "LayoutModel",
            "_view_count": null,
            "_view_module": "@jupyter-widgets/base",
            "_view_module_version": "1.2.0",
            "_view_name": "LayoutView",
            "align_content": null,
            "align_items": null,
            "align_self": null,
            "border": null,
            "bottom": null,
            "display": null,
            "flex": null,
            "flex_flow": null,
            "grid_area": null,
            "grid_auto_columns": null,
            "grid_auto_flow": null,
            "grid_auto_rows": null,
            "grid_column": null,
            "grid_gap": null,
            "grid_row": null,
            "grid_template_areas": null,
            "grid_template_columns": null,
            "grid_template_rows": null,
            "height": null,
            "justify_content": null,
            "justify_items": null,
            "left": null,
            "margin": null,
            "max_height": null,
            "max_width": null,
            "min_height": null,
            "min_width": null,
            "object_fit": null,
            "object_position": null,
            "order": null,
            "overflow": null,
            "overflow_x": null,
            "overflow_y": null,
            "padding": null,
            "right": null,
            "top": null,
            "visibility": null,
            "width": null
          }
        },
        "b1ec9f1c447e4c37a28d0217df168db7": {
          "model_module": "@jupyter-widgets/controls",
          "model_name": "DescriptionStyleModel",
          "model_module_version": "1.5.0",
          "state": {
            "_model_module": "@jupyter-widgets/controls",
            "_model_module_version": "1.5.0",
            "_model_name": "DescriptionStyleModel",
            "_view_count": null,
            "_view_module": "@jupyter-widgets/base",
            "_view_module_version": "1.2.0",
            "_view_name": "StyleView",
            "description_width": ""
          }
        },
        "5b6b727f2bc640918a3cae0ec8e044fe": {
          "model_module": "@jupyter-widgets/base",
          "model_name": "LayoutModel",
          "model_module_version": "1.2.0",
          "state": {
            "_model_module": "@jupyter-widgets/base",
            "_model_module_version": "1.2.0",
            "_model_name": "LayoutModel",
            "_view_count": null,
            "_view_module": "@jupyter-widgets/base",
            "_view_module_version": "1.2.0",
            "_view_name": "LayoutView",
            "align_content": null,
            "align_items": null,
            "align_self": null,
            "border": null,
            "bottom": null,
            "display": null,
            "flex": null,
            "flex_flow": null,
            "grid_area": null,
            "grid_auto_columns": null,
            "grid_auto_flow": null,
            "grid_auto_rows": null,
            "grid_column": null,
            "grid_gap": null,
            "grid_row": null,
            "grid_template_areas": null,
            "grid_template_columns": null,
            "grid_template_rows": null,
            "height": null,
            "justify_content": null,
            "justify_items": null,
            "left": null,
            "margin": null,
            "max_height": null,
            "max_width": null,
            "min_height": null,
            "min_width": null,
            "object_fit": null,
            "object_position": null,
            "order": null,
            "overflow": null,
            "overflow_x": null,
            "overflow_y": null,
            "padding": null,
            "right": null,
            "top": null,
            "visibility": null,
            "width": null
          }
        },
        "620d984233ee48f38d0bed8a46fd273d": {
          "model_module": "@jupyter-widgets/controls",
          "model_name": "ProgressStyleModel",
          "model_module_version": "1.5.0",
          "state": {
            "_model_module": "@jupyter-widgets/controls",
            "_model_module_version": "1.5.0",
            "_model_name": "ProgressStyleModel",
            "_view_count": null,
            "_view_module": "@jupyter-widgets/base",
            "_view_module_version": "1.2.0",
            "_view_name": "StyleView",
            "bar_color": null,
            "description_width": ""
          }
        },
        "68ee6dfdedba41c893bdb60d92c77e74": {
          "model_module": "@jupyter-widgets/base",
          "model_name": "LayoutModel",
          "model_module_version": "1.2.0",
          "state": {
            "_model_module": "@jupyter-widgets/base",
            "_model_module_version": "1.2.0",
            "_model_name": "LayoutModel",
            "_view_count": null,
            "_view_module": "@jupyter-widgets/base",
            "_view_module_version": "1.2.0",
            "_view_name": "LayoutView",
            "align_content": null,
            "align_items": null,
            "align_self": null,
            "border": null,
            "bottom": null,
            "display": null,
            "flex": null,
            "flex_flow": null,
            "grid_area": null,
            "grid_auto_columns": null,
            "grid_auto_flow": null,
            "grid_auto_rows": null,
            "grid_column": null,
            "grid_gap": null,
            "grid_row": null,
            "grid_template_areas": null,
            "grid_template_columns": null,
            "grid_template_rows": null,
            "height": null,
            "justify_content": null,
            "justify_items": null,
            "left": null,
            "margin": null,
            "max_height": null,
            "max_width": null,
            "min_height": null,
            "min_width": null,
            "object_fit": null,
            "object_position": null,
            "order": null,
            "overflow": null,
            "overflow_x": null,
            "overflow_y": null,
            "padding": null,
            "right": null,
            "top": null,
            "visibility": null,
            "width": null
          }
        },
        "cc86b5e710bd465b9d0bd72d247f15c3": {
          "model_module": "@jupyter-widgets/controls",
          "model_name": "DescriptionStyleModel",
          "model_module_version": "1.5.0",
          "state": {
            "_model_module": "@jupyter-widgets/controls",
            "_model_module_version": "1.5.0",
            "_model_name": "DescriptionStyleModel",
            "_view_count": null,
            "_view_module": "@jupyter-widgets/base",
            "_view_module_version": "1.2.0",
            "_view_name": "StyleView",
            "description_width": ""
          }
        }
      }
    }
  },
  "nbformat_minor": 0,
  "nbformat": 4,
  "cells": [
    {
      "cell_type": "markdown",
      "metadata": {
        "id": "view-in-github",
        "colab_type": "text"
      },
      "source": [
        "<a href=\"https://colab.research.google.com/github/bsyh/foursquare/blob/main/lgb_catboost_all_feature.ipynb\" target=\"_parent\"><img src=\"https://colab.research.google.com/assets/colab-badge.svg\" alt=\"Open In Colab\"/></a>"
      ]
    },
    {
      "cell_type": "markdown",
      "source": [
        "## Notebook for Foursquare Competition"
      ],
      "metadata": {
        "papermill": {
          "duration": 0.050913,
          "end_time": "2022-06-07T00:16:32.502909",
          "exception": false,
          "start_time": "2022-06-07T00:16:32.451996",
          "status": "completed"
        },
        "tags": [],
        "id": "VxnSkw7I7YUz"
      }
    },
    {
      "cell_type": "markdown",
      "source": [
        "* Get 25 neighbors using Latitude + Longitude\n",
        "* Get 25 neighbors using Name tokenized by roberta-base + Latitude + Longitude\n",
        "* Concat dataframes and drop duplicates\n",
        "* Filter dataframe to reduce its size\n",
        "* Create 48 features\n",
        "* Predict with LGBM\n",
        "* Predict with Catboost\n",
        "* Ensemble: 0.2xCatboost + 0.8xLGBM\n",
        "* Post-processing 1: if A matches B then B matches A\n",
        "* Post-processing 2: if A matches B and B matches C, then A matchs C and C matches A\n",
        "* Submit"
      ],
      "metadata": {
        "id": "JSF5IkfJ7YU5"
      }
    },
    {
      "cell_type": "markdown",
      "source": [
        "### Import"
      ],
      "metadata": {
        "id": "9e0EI45r7YU6"
      }
    },
    {
      "cell_type": "code",
      "source": [
        "%%capture\n",
        "# install reverse-geocode\n",
        "!mkdir -p /tmp/pip/cache/\n",
        "!cp ../input/reverse-geocode/reverse_geocode.xyz /tmp/pip/cache/reverse_geocode.tar.gz\n",
        "!pip install /tmp/pip/cache/reverse_geocode.tar.gz\n",
        "!ls"
      ],
      "metadata": {
        "papermill": {
          "duration": 36.953941,
          "end_time": "2022-06-07T00:17:09.827598",
          "exception": false,
          "start_time": "2022-06-07T00:16:32.873657",
          "status": "completed"
        },
        "tags": [],
        "execution": {
          "iopub.status.busy": "2022-07-04T01:53:23.554001Z",
          "iopub.execute_input": "2022-07-04T01:53:23.554315Z",
          "iopub.status.idle": "2022-07-04T01:53:57.737578Z",
          "shell.execute_reply.started": "2022-07-04T01:53:23.554272Z",
          "shell.execute_reply": "2022-07-04T01:53:57.736364Z"
        },
        "trusted": true,
        "id": "TP-yJc6m7YU7"
      },
      "execution_count": 31,
      "outputs": []
    },
    {
      "cell_type": "code",
      "source": [
        "from google.colab import drive\n",
        "\n",
        "drive.mount('/content/drive')\n",
        "root_path = 'drive/MyDrive/Foursquare/'\n",
        "!ls"
      ],
      "metadata": {
        "colab": {
          "base_uri": "https://localhost:8080/"
        },
        "id": "oOZLiZuH-Ufk",
        "outputId": "2c484edd-21af-47df-d6e1-97a920ebb4c5"
      },
      "execution_count": 32,
      "outputs": [
        {
          "output_type": "stream",
          "name": "stdout",
          "text": [
            "Drive already mounted at /content/drive; to attempt to forcibly remount, call drive.mount(\"/content/drive\", force_remount=True).\n",
            "drive  sample_data\n"
          ]
        }
      ]
    },
    {
      "cell_type": "code",
      "source": [
        "!pip install scikit-learn-intelex --progress-bar off >> /tmp/pip_sklearnex.log\n"
      ],
      "metadata": {
        "id": "vRLabba17vkt"
      },
      "execution_count": 33,
      "outputs": []
    },
    {
      "cell_type": "code",
      "source": [
        "!pip install unidecode\n"
      ],
      "metadata": {
        "colab": {
          "base_uri": "https://localhost:8080/"
        },
        "id": "kjMoWky88NG3",
        "outputId": "0f6f3152-bac5-48da-9328-c72a964f9ba9"
      },
      "execution_count": 34,
      "outputs": [
        {
          "output_type": "stream",
          "name": "stdout",
          "text": [
            "Looking in indexes: https://pypi.org/simple, https://us-python.pkg.dev/colab-wheels/public/simple/\n",
            "Requirement already satisfied: unidecode in /usr/local/lib/python3.7/dist-packages (1.3.4)\n"
          ]
        }
      ]
    },
    {
      "cell_type": "code",
      "source": [
        "!pip install reverse_geocode"
      ],
      "metadata": {
        "colab": {
          "base_uri": "https://localhost:8080/"
        },
        "id": "6uiqfkuY8RXP",
        "outputId": "3513f897-f1f2-48a7-9c0c-6eb36fd4cb63"
      },
      "execution_count": 35,
      "outputs": [
        {
          "output_type": "stream",
          "name": "stdout",
          "text": [
            "Looking in indexes: https://pypi.org/simple, https://us-python.pkg.dev/colab-wheels/public/simple/\n",
            "Requirement already satisfied: reverse_geocode in /usr/local/lib/python3.7/dist-packages (1.4.1)\n",
            "Requirement already satisfied: numpy in /usr/local/lib/python3.7/dist-packages (from reverse_geocode) (1.21.6)\n",
            "Requirement already satisfied: scipy in /usr/local/lib/python3.7/dist-packages (from reverse_geocode) (1.4.1)\n"
          ]
        }
      ]
    },
    {
      "cell_type": "code",
      "source": [
        "!pip install Levenshtein"
      ],
      "metadata": {
        "colab": {
          "base_uri": "https://localhost:8080/"
        },
        "id": "oq2FeJJa9zYF",
        "outputId": "990412a8-8213-406b-d64d-ed5ac1b02dfd"
      },
      "execution_count": 36,
      "outputs": [
        {
          "output_type": "stream",
          "name": "stdout",
          "text": [
            "Looking in indexes: https://pypi.org/simple, https://us-python.pkg.dev/colab-wheels/public/simple/\n",
            "Requirement already satisfied: Levenshtein in /usr/local/lib/python3.7/dist-packages (0.18.1)\n",
            "Requirement already satisfied: rapidfuzz<3.0.0,>=2.0.1 in /usr/local/lib/python3.7/dist-packages (from Levenshtein) (2.1.1)\n",
            "Requirement already satisfied: jarowinkler<1.1.0,>=1.0.3 in /usr/local/lib/python3.7/dist-packages (from rapidfuzz<3.0.0,>=2.0.1->Levenshtein) (1.0.5)\n"
          ]
        }
      ]
    },
    {
      "cell_type": "code",
      "source": [
        "!pip install transformers"
      ],
      "metadata": {
        "colab": {
          "base_uri": "https://localhost:8080/"
        },
        "id": "96IOYXiF98hR",
        "outputId": "235b74f5-4b7f-4406-eb3b-26ba99453308"
      },
      "execution_count": 37,
      "outputs": [
        {
          "output_type": "stream",
          "name": "stdout",
          "text": [
            "Looking in indexes: https://pypi.org/simple, https://us-python.pkg.dev/colab-wheels/public/simple/\n",
            "Requirement already satisfied: transformers in /usr/local/lib/python3.7/dist-packages (4.20.1)\n",
            "Requirement already satisfied: numpy>=1.17 in /usr/local/lib/python3.7/dist-packages (from transformers) (1.21.6)\n",
            "Requirement already satisfied: tqdm>=4.27 in /usr/local/lib/python3.7/dist-packages (from transformers) (4.64.0)\n",
            "Requirement already satisfied: filelock in /usr/local/lib/python3.7/dist-packages (from transformers) (3.7.1)\n",
            "Requirement already satisfied: importlib-metadata in /usr/local/lib/python3.7/dist-packages (from transformers) (4.11.4)\n",
            "Requirement already satisfied: pyyaml>=5.1 in /usr/local/lib/python3.7/dist-packages (from transformers) (6.0)\n",
            "Requirement already satisfied: requests in /usr/local/lib/python3.7/dist-packages (from transformers) (2.23.0)\n",
            "Requirement already satisfied: huggingface-hub<1.0,>=0.1.0 in /usr/local/lib/python3.7/dist-packages (from transformers) (0.8.1)\n",
            "Requirement already satisfied: packaging>=20.0 in /usr/local/lib/python3.7/dist-packages (from transformers) (21.3)\n",
            "Requirement already satisfied: regex!=2019.12.17 in /usr/local/lib/python3.7/dist-packages (from transformers) (2022.6.2)\n",
            "Requirement already satisfied: tokenizers!=0.11.3,<0.13,>=0.11.1 in /usr/local/lib/python3.7/dist-packages (from transformers) (0.12.1)\n",
            "Requirement already satisfied: typing-extensions>=3.7.4.3 in /usr/local/lib/python3.7/dist-packages (from huggingface-hub<1.0,>=0.1.0->transformers) (4.1.1)\n",
            "Requirement already satisfied: pyparsing!=3.0.5,>=2.0.2 in /usr/local/lib/python3.7/dist-packages (from packaging>=20.0->transformers) (3.0.9)\n",
            "Requirement already satisfied: zipp>=0.5 in /usr/local/lib/python3.7/dist-packages (from importlib-metadata->transformers) (3.8.0)\n",
            "Requirement already satisfied: certifi>=2017.4.17 in /usr/local/lib/python3.7/dist-packages (from requests->transformers) (2022.6.15)\n",
            "Requirement already satisfied: idna<3,>=2.5 in /usr/local/lib/python3.7/dist-packages (from requests->transformers) (2.10)\n",
            "Requirement already satisfied: urllib3!=1.25.0,!=1.25.1,<1.26,>=1.21.1 in /usr/local/lib/python3.7/dist-packages (from requests->transformers) (1.24.3)\n",
            "Requirement already satisfied: chardet<4,>=3.0.2 in /usr/local/lib/python3.7/dist-packages (from requests->transformers) (3.0.4)\n"
          ]
        }
      ]
    },
    {
      "cell_type": "code",
      "source": [
        "from sklearnex import patch_sklearn\n",
        "patch_sklearn()\n",
        "import pandas as pd\n",
        "import numpy as np\n",
        "from tqdm.auto import tqdm\n",
        "import os\n",
        "import gc\n",
        "import random\n",
        "from sklearn.model_selection import GroupKFold\n",
        "import warnings\n",
        "import pickle\n",
        "from unidecode import unidecode\n",
        "import reverse_geocode\n",
        "import string\n",
        "import Levenshtein\n",
        "import difflib\n",
        "from sklearn.neighbors import NearestNeighbors\n",
        "from transformers import AutoTokenizer\n",
        "import time\n",
        "import joblib\n",
        "from math import radians"
      ],
      "metadata": {
        "id": "H5QntWoelAkH",
        "outputId": "60003a59-6954-4561-e0f2-df9fd2e22590",
        "papermill": {
          "duration": 0.83961,
          "end_time": "2022-06-07T00:17:11.036906",
          "exception": false,
          "start_time": "2022-06-07T00:17:10.197296",
          "status": "completed"
        },
        "tags": [],
        "execution": {
          "iopub.status.busy": "2022-07-04T01:53:57.739574Z",
          "iopub.execute_input": "2022-07-04T01:53:57.739830Z",
          "iopub.status.idle": "2022-07-04T01:54:06.460064Z",
          "shell.execute_reply.started": "2022-07-04T01:53:57.739793Z",
          "shell.execute_reply": "2022-07-04T01:54:06.459136Z"
        },
        "trusted": true,
        "colab": {
          "base_uri": "https://localhost:8080/"
        }
      },
      "execution_count": 38,
      "outputs": [
        {
          "output_type": "stream",
          "name": "stderr",
          "text": [
            "Intel(R) Extension for Scikit-learn* enabled (https://github.com/intel/scikit-learn-intelex)\n"
          ]
        }
      ]
    },
    {
      "cell_type": "code",
      "source": [
        "from transformers import RobertaTokenizer, RobertaModel\n",
        "tokenizer = RobertaTokenizer.from_pretrained('roberta-base')\n"
      ],
      "metadata": {
        "execution": {
          "iopub.status.busy": "2022-07-04T01:54:06.461183Z",
          "iopub.execute_input": "2022-07-04T01:54:06.461617Z",
          "iopub.status.idle": "2022-07-04T01:54:06.653604Z",
          "shell.execute_reply.started": "2022-07-04T01:54:06.461583Z",
          "shell.execute_reply": "2022-07-04T01:54:06.652776Z"
        },
        "trusted": true,
        "id": "xFw602fM7YU8"
      },
      "execution_count": 39,
      "outputs": []
    },
    {
      "cell_type": "markdown",
      "source": [
        "### Config and Read"
      ],
      "metadata": {
        "papermill": {
          "duration": 0.049616,
          "end_time": "2022-06-07T00:17:11.135907",
          "exception": false,
          "start_time": "2022-06-07T00:17:11.086291",
          "status": "completed"
        },
        "tags": [],
        "id": "aGMP64DR7YU9"
      }
    },
    {
      "cell_type": "code",
      "source": [
        "class CFG:\n",
        "    seed = 46\n",
        "    target = \"point_of_interest\"\n",
        "    n_neighbors = 25\n",
        "    n_splits = 3\n",
        "    threshold = 0.528812\n",
        "random.seed(CFG.seed)\n",
        "os.environ[\"PYTHONHASHSEED\"] = str(CFG.seed)\n",
        "np.random.seed(CFG.seed)"
      ],
      "metadata": {
        "papermill": {
          "duration": 0.059316,
          "end_time": "2022-06-07T00:17:11.245406",
          "exception": false,
          "start_time": "2022-06-07T00:17:11.18609",
          "status": "completed"
        },
        "tags": [],
        "execution": {
          "iopub.status.busy": "2022-07-04T01:54:06.655118Z",
          "iopub.execute_input": "2022-07-04T01:54:06.655463Z",
          "iopub.status.idle": "2022-07-04T01:54:06.660350Z",
          "shell.execute_reply.started": "2022-07-04T01:54:06.655427Z",
          "shell.execute_reply": "2022-07-04T01:54:06.659623Z"
        },
        "trusted": true,
        "id": "aabPx04C7YU-"
      },
      "execution_count": 40,
      "outputs": []
    },
    {
      "cell_type": "code",
      "source": [
        ""
      ],
      "metadata": {
        "id": "Q9dHOqef_G8t"
      },
      "execution_count": 40,
      "outputs": []
    },
    {
      "cell_type": "code",
      "source": [
        "test = pd.read_csv(\"/content/drive/MyDrive/Foursquare/data/train_tiny_1.csv\")\n",
        "\n"
      ],
      "metadata": {
        "id": "wz7JepVilAkN",
        "papermill": {
          "duration": 0.078064,
          "end_time": "2022-06-07T00:17:11.373548",
          "exception": false,
          "start_time": "2022-06-07T00:17:11.295484",
          "status": "completed"
        },
        "tags": [],
        "execution": {
          "iopub.status.busy": "2022-07-04T01:54:06.662628Z",
          "iopub.execute_input": "2022-07-04T01:54:06.662893Z",
          "iopub.status.idle": "2022-07-04T01:54:06.690929Z",
          "shell.execute_reply.started": "2022-07-04T01:54:06.662857Z",
          "shell.execute_reply": "2022-07-04T01:54:06.689682Z"
        },
        "trusted": true
      },
      "execution_count": 41,
      "outputs": []
    },
    {
      "cell_type": "code",
      "source": [
        "test =pd.read_pickle('/content/drive/MyDrive/Foursquare/train_pairs_raw.pkl')\n"
      ],
      "metadata": {
        "id": "aEm7jgijGFXU"
      },
      "execution_count": null,
      "outputs": []
    },
    {
      "cell_type": "code",
      "source": [
        "test[CFG.target] = \"TEST\"\n",
        "test.head(3)"
      ],
      "metadata": {
        "papermill": {
          "duration": 0.08028,
          "end_time": "2022-06-07T00:17:11.503808",
          "exception": false,
          "start_time": "2022-06-07T00:17:11.423528",
          "status": "completed"
        },
        "tags": [],
        "execution": {
          "iopub.status.busy": "2022-07-04T01:54:06.692443Z",
          "iopub.execute_input": "2022-07-04T01:54:06.693404Z",
          "iopub.status.idle": "2022-07-04T01:54:06.719237Z",
          "shell.execute_reply.started": "2022-07-04T01:54:06.693350Z",
          "shell.execute_reply": "2022-07-04T01:54:06.718337Z"
        },
        "trusted": true,
        "colab": {
          "base_uri": "https://localhost:8080/",
          "height": 260
        },
        "id": "80Wdh8Wd7YU_",
        "outputId": "0ef56972-97ce-49c6-d1d0-7067a7dcb7f2"
      },
      "execution_count": 42,
      "outputs": [
        {
          "output_type": "execute_result",
          "data": {
            "text/plain": [
              "                 id                  name   latitude   longitude      address  \\\n",
              "0  E_000001272c6c5d  Café Stad Oudenaarde  50.859975    3.634196  Abdijstraat   \n",
              "1  E_000002eae2a589        Carioca Manero -22.907225  -43.178244          NaN   \n",
              "2  E_000007f24ebc95      ร้านตัดผมการาเกด  13.780813  100.484900          NaN   \n",
              "\n",
              "         city            state   zip country  url phone  \\\n",
              "0  Nederename  Oost-Vlaanderen  9700      BE  NaN   NaN   \n",
              "1         NaN              NaN   NaN      BR  NaN   NaN   \n",
              "2         NaN              NaN   NaN      TH  NaN   NaN   \n",
              "\n",
              "              categories point_of_interest  \n",
              "0                   Bars              TEST  \n",
              "1  Brazilian Restaurants              TEST  \n",
              "2   Salons / Barbershops              TEST  "
            ],
            "text/html": [
              "\n",
              "  <div id=\"df-2ca5d028-c4d6-40ba-a559-fb5336b18b53\">\n",
              "    <div class=\"colab-df-container\">\n",
              "      <div>\n",
              "<style scoped>\n",
              "    .dataframe tbody tr th:only-of-type {\n",
              "        vertical-align: middle;\n",
              "    }\n",
              "\n",
              "    .dataframe tbody tr th {\n",
              "        vertical-align: top;\n",
              "    }\n",
              "\n",
              "    .dataframe thead th {\n",
              "        text-align: right;\n",
              "    }\n",
              "</style>\n",
              "<table border=\"1\" class=\"dataframe\">\n",
              "  <thead>\n",
              "    <tr style=\"text-align: right;\">\n",
              "      <th></th>\n",
              "      <th>id</th>\n",
              "      <th>name</th>\n",
              "      <th>latitude</th>\n",
              "      <th>longitude</th>\n",
              "      <th>address</th>\n",
              "      <th>city</th>\n",
              "      <th>state</th>\n",
              "      <th>zip</th>\n",
              "      <th>country</th>\n",
              "      <th>url</th>\n",
              "      <th>phone</th>\n",
              "      <th>categories</th>\n",
              "      <th>point_of_interest</th>\n",
              "    </tr>\n",
              "  </thead>\n",
              "  <tbody>\n",
              "    <tr>\n",
              "      <th>0</th>\n",
              "      <td>E_000001272c6c5d</td>\n",
              "      <td>Café Stad Oudenaarde</td>\n",
              "      <td>50.859975</td>\n",
              "      <td>3.634196</td>\n",
              "      <td>Abdijstraat</td>\n",
              "      <td>Nederename</td>\n",
              "      <td>Oost-Vlaanderen</td>\n",
              "      <td>9700</td>\n",
              "      <td>BE</td>\n",
              "      <td>NaN</td>\n",
              "      <td>NaN</td>\n",
              "      <td>Bars</td>\n",
              "      <td>TEST</td>\n",
              "    </tr>\n",
              "    <tr>\n",
              "      <th>1</th>\n",
              "      <td>E_000002eae2a589</td>\n",
              "      <td>Carioca Manero</td>\n",
              "      <td>-22.907225</td>\n",
              "      <td>-43.178244</td>\n",
              "      <td>NaN</td>\n",
              "      <td>NaN</td>\n",
              "      <td>NaN</td>\n",
              "      <td>NaN</td>\n",
              "      <td>BR</td>\n",
              "      <td>NaN</td>\n",
              "      <td>NaN</td>\n",
              "      <td>Brazilian Restaurants</td>\n",
              "      <td>TEST</td>\n",
              "    </tr>\n",
              "    <tr>\n",
              "      <th>2</th>\n",
              "      <td>E_000007f24ebc95</td>\n",
              "      <td>ร้านตัดผมการาเกด</td>\n",
              "      <td>13.780813</td>\n",
              "      <td>100.484900</td>\n",
              "      <td>NaN</td>\n",
              "      <td>NaN</td>\n",
              "      <td>NaN</td>\n",
              "      <td>NaN</td>\n",
              "      <td>TH</td>\n",
              "      <td>NaN</td>\n",
              "      <td>NaN</td>\n",
              "      <td>Salons / Barbershops</td>\n",
              "      <td>TEST</td>\n",
              "    </tr>\n",
              "  </tbody>\n",
              "</table>\n",
              "</div>\n",
              "      <button class=\"colab-df-convert\" onclick=\"convertToInteractive('df-2ca5d028-c4d6-40ba-a559-fb5336b18b53')\"\n",
              "              title=\"Convert this dataframe to an interactive table.\"\n",
              "              style=\"display:none;\">\n",
              "        \n",
              "  <svg xmlns=\"http://www.w3.org/2000/svg\" height=\"24px\"viewBox=\"0 0 24 24\"\n",
              "       width=\"24px\">\n",
              "    <path d=\"M0 0h24v24H0V0z\" fill=\"none\"/>\n",
              "    <path d=\"M18.56 5.44l.94 2.06.94-2.06 2.06-.94-2.06-.94-.94-2.06-.94 2.06-2.06.94zm-11 1L8.5 8.5l.94-2.06 2.06-.94-2.06-.94L8.5 2.5l-.94 2.06-2.06.94zm10 10l.94 2.06.94-2.06 2.06-.94-2.06-.94-.94-2.06-.94 2.06-2.06.94z\"/><path d=\"M17.41 7.96l-1.37-1.37c-.4-.4-.92-.59-1.43-.59-.52 0-1.04.2-1.43.59L10.3 9.45l-7.72 7.72c-.78.78-.78 2.05 0 2.83L4 21.41c.39.39.9.59 1.41.59.51 0 1.02-.2 1.41-.59l7.78-7.78 2.81-2.81c.8-.78.8-2.07 0-2.86zM5.41 20L4 18.59l7.72-7.72 1.47 1.35L5.41 20z\"/>\n",
              "  </svg>\n",
              "      </button>\n",
              "      \n",
              "  <style>\n",
              "    .colab-df-container {\n",
              "      display:flex;\n",
              "      flex-wrap:wrap;\n",
              "      gap: 12px;\n",
              "    }\n",
              "\n",
              "    .colab-df-convert {\n",
              "      background-color: #E8F0FE;\n",
              "      border: none;\n",
              "      border-radius: 50%;\n",
              "      cursor: pointer;\n",
              "      display: none;\n",
              "      fill: #1967D2;\n",
              "      height: 32px;\n",
              "      padding: 0 0 0 0;\n",
              "      width: 32px;\n",
              "    }\n",
              "\n",
              "    .colab-df-convert:hover {\n",
              "      background-color: #E2EBFA;\n",
              "      box-shadow: 0px 1px 2px rgba(60, 64, 67, 0.3), 0px 1px 3px 1px rgba(60, 64, 67, 0.15);\n",
              "      fill: #174EA6;\n",
              "    }\n",
              "\n",
              "    [theme=dark] .colab-df-convert {\n",
              "      background-color: #3B4455;\n",
              "      fill: #D2E3FC;\n",
              "    }\n",
              "\n",
              "    [theme=dark] .colab-df-convert:hover {\n",
              "      background-color: #434B5C;\n",
              "      box-shadow: 0px 1px 3px 1px rgba(0, 0, 0, 0.15);\n",
              "      filter: drop-shadow(0px 1px 2px rgba(0, 0, 0, 0.3));\n",
              "      fill: #FFFFFF;\n",
              "    }\n",
              "  </style>\n",
              "\n",
              "      <script>\n",
              "        const buttonEl =\n",
              "          document.querySelector('#df-2ca5d028-c4d6-40ba-a559-fb5336b18b53 button.colab-df-convert');\n",
              "        buttonEl.style.display =\n",
              "          google.colab.kernel.accessAllowed ? 'block' : 'none';\n",
              "\n",
              "        async function convertToInteractive(key) {\n",
              "          const element = document.querySelector('#df-2ca5d028-c4d6-40ba-a559-fb5336b18b53');\n",
              "          const dataTable =\n",
              "            await google.colab.kernel.invokeFunction('convertToInteractive',\n",
              "                                                     [key], {});\n",
              "          if (!dataTable) return;\n",
              "\n",
              "          const docLinkHtml = 'Like what you see? Visit the ' +\n",
              "            '<a target=\"_blank\" href=https://colab.research.google.com/notebooks/data_table.ipynb>data table notebook</a>'\n",
              "            + ' to learn more about interactive tables.';\n",
              "          element.innerHTML = '';\n",
              "          dataTable['output_type'] = 'display_data';\n",
              "          await google.colab.output.renderOutput(dataTable, element);\n",
              "          const docLink = document.createElement('div');\n",
              "          docLink.innerHTML = docLinkHtml;\n",
              "          element.appendChild(docLink);\n",
              "        }\n",
              "      </script>\n",
              "    </div>\n",
              "  </div>\n",
              "  "
            ]
          },
          "metadata": {},
          "execution_count": 42
        }
      ]
    },
    {
      "cell_type": "markdown",
      "source": [
        "### Clean data"
      ],
      "metadata": {
        "papermill": {
          "duration": 0.050458,
          "end_time": "2022-06-07T00:17:11.604788",
          "exception": false,
          "start_time": "2022-06-07T00:17:11.55433",
          "status": "completed"
        },
        "tags": [],
        "id": "kLmCHfnl7YVA"
      }
    },
    {
      "cell_type": "code",
      "source": [
        "test"
      ],
      "metadata": {
        "colab": {
          "base_uri": "https://localhost:8080/",
          "height": 696
        },
        "id": "eHpVavSkCzFI",
        "outputId": "5c126b4b-6ae3-454e-d43f-5993310e5c20"
      },
      "execution_count": 43,
      "outputs": [
        {
          "output_type": "execute_result",
          "data": {
            "text/plain": [
              "                   id                     name   latitude   longitude  \\\n",
              "0    E_000001272c6c5d     Café Stad Oudenaarde  50.859975    3.634196   \n",
              "1    E_000002eae2a589           Carioca Manero -22.907225  -43.178244   \n",
              "2    E_000007f24ebc95         ร้านตัดผมการาเกด  13.780813  100.484900   \n",
              "3    E_000008a8ba4f48                 Turkcell  37.844510   27.844202   \n",
              "4    E_00001d92066153  Restaurante Casa Cofiño  43.338196   -4.326821   \n",
              "..                ...                      ...        ...         ...   \n",
              "217  E_d15509444cc4b3   Fróðskaparsetur Føroya  62.007957   -6.776671   \n",
              "218  E_d4e90d9ac57a62            Monte Roraima   5.195122  -60.737564   \n",
              "219  E_e19ccace1c0e89    La Estrella de Panamá   8.974208  -79.539428   \n",
              "220  E_e9f986cf55406d         Juba Grand Hotel   4.846744   31.617271   \n",
              "221  E_f73c5b1990c290                 Infantes  40.473376   -3.687722   \n",
              "\n",
              "                    address              city              state   zip  \\\n",
              "0               Abdijstraat        Nederename    Oost-Vlaanderen  9700   \n",
              "1                       NaN               NaN                NaN   NaN   \n",
              "2                       NaN               NaN                NaN   NaN   \n",
              "3    Adnan Menderes Bulvarı               NaN                NaN   NaN   \n",
              "4                       NaN          Caviedes          Cantabria   NaN   \n",
              "..                      ...               ...                ...   ...   \n",
              "217                  Nóatún          Torshavn                NaN   NaN   \n",
              "218                     NaN          Uiramutã            Roraima   NaN   \n",
              "219          Vía Frangipani  Ciudad de Panamá             Panamá   NaN   \n",
              "220                Jubatown              Juba  Central Equatoria   NaN   \n",
              "221                     NaN               NaN                NaN   NaN   \n",
              "\n",
              "    country  url     phone                           categories  \\\n",
              "0        BE  NaN       NaN                                 Bars   \n",
              "1        BR  NaN       NaN                Brazilian Restaurants   \n",
              "2        TH  NaN       NaN                 Salons / Barbershops   \n",
              "3        TR  NaN       NaN                   Mobile Phone Shops   \n",
              "4        ES  NaN       NaN                  Spanish Restaurants   \n",
              "..      ...  ...       ...                                  ...   \n",
              "217      FO  NaN       NaN                         Universities   \n",
              "218      GY  NaN       NaN                            Mountains   \n",
              "219      PM  NaN  204-0000                     Coworking Spaces   \n",
              "220      SS  NaN       NaN                               Hotels   \n",
              "221      VU  NaN       NaN  Indian Restaurants, Nursery Schools   \n",
              "\n",
              "    point_of_interest  \n",
              "0                TEST  \n",
              "1                TEST  \n",
              "2                TEST  \n",
              "3                TEST  \n",
              "4                TEST  \n",
              "..                ...  \n",
              "217              TEST  \n",
              "218              TEST  \n",
              "219              TEST  \n",
              "220              TEST  \n",
              "221              TEST  \n",
              "\n",
              "[222 rows x 13 columns]"
            ],
            "text/html": [
              "\n",
              "  <div id=\"df-d833b81c-fc93-4bba-965e-6564dee7bba9\">\n",
              "    <div class=\"colab-df-container\">\n",
              "      <div>\n",
              "<style scoped>\n",
              "    .dataframe tbody tr th:only-of-type {\n",
              "        vertical-align: middle;\n",
              "    }\n",
              "\n",
              "    .dataframe tbody tr th {\n",
              "        vertical-align: top;\n",
              "    }\n",
              "\n",
              "    .dataframe thead th {\n",
              "        text-align: right;\n",
              "    }\n",
              "</style>\n",
              "<table border=\"1\" class=\"dataframe\">\n",
              "  <thead>\n",
              "    <tr style=\"text-align: right;\">\n",
              "      <th></th>\n",
              "      <th>id</th>\n",
              "      <th>name</th>\n",
              "      <th>latitude</th>\n",
              "      <th>longitude</th>\n",
              "      <th>address</th>\n",
              "      <th>city</th>\n",
              "      <th>state</th>\n",
              "      <th>zip</th>\n",
              "      <th>country</th>\n",
              "      <th>url</th>\n",
              "      <th>phone</th>\n",
              "      <th>categories</th>\n",
              "      <th>point_of_interest</th>\n",
              "    </tr>\n",
              "  </thead>\n",
              "  <tbody>\n",
              "    <tr>\n",
              "      <th>0</th>\n",
              "      <td>E_000001272c6c5d</td>\n",
              "      <td>Café Stad Oudenaarde</td>\n",
              "      <td>50.859975</td>\n",
              "      <td>3.634196</td>\n",
              "      <td>Abdijstraat</td>\n",
              "      <td>Nederename</td>\n",
              "      <td>Oost-Vlaanderen</td>\n",
              "      <td>9700</td>\n",
              "      <td>BE</td>\n",
              "      <td>NaN</td>\n",
              "      <td>NaN</td>\n",
              "      <td>Bars</td>\n",
              "      <td>TEST</td>\n",
              "    </tr>\n",
              "    <tr>\n",
              "      <th>1</th>\n",
              "      <td>E_000002eae2a589</td>\n",
              "      <td>Carioca Manero</td>\n",
              "      <td>-22.907225</td>\n",
              "      <td>-43.178244</td>\n",
              "      <td>NaN</td>\n",
              "      <td>NaN</td>\n",
              "      <td>NaN</td>\n",
              "      <td>NaN</td>\n",
              "      <td>BR</td>\n",
              "      <td>NaN</td>\n",
              "      <td>NaN</td>\n",
              "      <td>Brazilian Restaurants</td>\n",
              "      <td>TEST</td>\n",
              "    </tr>\n",
              "    <tr>\n",
              "      <th>2</th>\n",
              "      <td>E_000007f24ebc95</td>\n",
              "      <td>ร้านตัดผมการาเกด</td>\n",
              "      <td>13.780813</td>\n",
              "      <td>100.484900</td>\n",
              "      <td>NaN</td>\n",
              "      <td>NaN</td>\n",
              "      <td>NaN</td>\n",
              "      <td>NaN</td>\n",
              "      <td>TH</td>\n",
              "      <td>NaN</td>\n",
              "      <td>NaN</td>\n",
              "      <td>Salons / Barbershops</td>\n",
              "      <td>TEST</td>\n",
              "    </tr>\n",
              "    <tr>\n",
              "      <th>3</th>\n",
              "      <td>E_000008a8ba4f48</td>\n",
              "      <td>Turkcell</td>\n",
              "      <td>37.844510</td>\n",
              "      <td>27.844202</td>\n",
              "      <td>Adnan Menderes Bulvarı</td>\n",
              "      <td>NaN</td>\n",
              "      <td>NaN</td>\n",
              "      <td>NaN</td>\n",
              "      <td>TR</td>\n",
              "      <td>NaN</td>\n",
              "      <td>NaN</td>\n",
              "      <td>Mobile Phone Shops</td>\n",
              "      <td>TEST</td>\n",
              "    </tr>\n",
              "    <tr>\n",
              "      <th>4</th>\n",
              "      <td>E_00001d92066153</td>\n",
              "      <td>Restaurante Casa Cofiño</td>\n",
              "      <td>43.338196</td>\n",
              "      <td>-4.326821</td>\n",
              "      <td>NaN</td>\n",
              "      <td>Caviedes</td>\n",
              "      <td>Cantabria</td>\n",
              "      <td>NaN</td>\n",
              "      <td>ES</td>\n",
              "      <td>NaN</td>\n",
              "      <td>NaN</td>\n",
              "      <td>Spanish Restaurants</td>\n",
              "      <td>TEST</td>\n",
              "    </tr>\n",
              "    <tr>\n",
              "      <th>...</th>\n",
              "      <td>...</td>\n",
              "      <td>...</td>\n",
              "      <td>...</td>\n",
              "      <td>...</td>\n",
              "      <td>...</td>\n",
              "      <td>...</td>\n",
              "      <td>...</td>\n",
              "      <td>...</td>\n",
              "      <td>...</td>\n",
              "      <td>...</td>\n",
              "      <td>...</td>\n",
              "      <td>...</td>\n",
              "      <td>...</td>\n",
              "    </tr>\n",
              "    <tr>\n",
              "      <th>217</th>\n",
              "      <td>E_d15509444cc4b3</td>\n",
              "      <td>Fróðskaparsetur Føroya</td>\n",
              "      <td>62.007957</td>\n",
              "      <td>-6.776671</td>\n",
              "      <td>Nóatún</td>\n",
              "      <td>Torshavn</td>\n",
              "      <td>NaN</td>\n",
              "      <td>NaN</td>\n",
              "      <td>FO</td>\n",
              "      <td>NaN</td>\n",
              "      <td>NaN</td>\n",
              "      <td>Universities</td>\n",
              "      <td>TEST</td>\n",
              "    </tr>\n",
              "    <tr>\n",
              "      <th>218</th>\n",
              "      <td>E_d4e90d9ac57a62</td>\n",
              "      <td>Monte Roraima</td>\n",
              "      <td>5.195122</td>\n",
              "      <td>-60.737564</td>\n",
              "      <td>NaN</td>\n",
              "      <td>Uiramutã</td>\n",
              "      <td>Roraima</td>\n",
              "      <td>NaN</td>\n",
              "      <td>GY</td>\n",
              "      <td>NaN</td>\n",
              "      <td>NaN</td>\n",
              "      <td>Mountains</td>\n",
              "      <td>TEST</td>\n",
              "    </tr>\n",
              "    <tr>\n",
              "      <th>219</th>\n",
              "      <td>E_e19ccace1c0e89</td>\n",
              "      <td>La Estrella de Panamá</td>\n",
              "      <td>8.974208</td>\n",
              "      <td>-79.539428</td>\n",
              "      <td>Vía Frangipani</td>\n",
              "      <td>Ciudad de Panamá</td>\n",
              "      <td>Panamá</td>\n",
              "      <td>NaN</td>\n",
              "      <td>PM</td>\n",
              "      <td>NaN</td>\n",
              "      <td>204-0000</td>\n",
              "      <td>Coworking Spaces</td>\n",
              "      <td>TEST</td>\n",
              "    </tr>\n",
              "    <tr>\n",
              "      <th>220</th>\n",
              "      <td>E_e9f986cf55406d</td>\n",
              "      <td>Juba Grand Hotel</td>\n",
              "      <td>4.846744</td>\n",
              "      <td>31.617271</td>\n",
              "      <td>Jubatown</td>\n",
              "      <td>Juba</td>\n",
              "      <td>Central Equatoria</td>\n",
              "      <td>NaN</td>\n",
              "      <td>SS</td>\n",
              "      <td>NaN</td>\n",
              "      <td>NaN</td>\n",
              "      <td>Hotels</td>\n",
              "      <td>TEST</td>\n",
              "    </tr>\n",
              "    <tr>\n",
              "      <th>221</th>\n",
              "      <td>E_f73c5b1990c290</td>\n",
              "      <td>Infantes</td>\n",
              "      <td>40.473376</td>\n",
              "      <td>-3.687722</td>\n",
              "      <td>NaN</td>\n",
              "      <td>NaN</td>\n",
              "      <td>NaN</td>\n",
              "      <td>NaN</td>\n",
              "      <td>VU</td>\n",
              "      <td>NaN</td>\n",
              "      <td>NaN</td>\n",
              "      <td>Indian Restaurants, Nursery Schools</td>\n",
              "      <td>TEST</td>\n",
              "    </tr>\n",
              "  </tbody>\n",
              "</table>\n",
              "<p>222 rows × 13 columns</p>\n",
              "</div>\n",
              "      <button class=\"colab-df-convert\" onclick=\"convertToInteractive('df-d833b81c-fc93-4bba-965e-6564dee7bba9')\"\n",
              "              title=\"Convert this dataframe to an interactive table.\"\n",
              "              style=\"display:none;\">\n",
              "        \n",
              "  <svg xmlns=\"http://www.w3.org/2000/svg\" height=\"24px\"viewBox=\"0 0 24 24\"\n",
              "       width=\"24px\">\n",
              "    <path d=\"M0 0h24v24H0V0z\" fill=\"none\"/>\n",
              "    <path d=\"M18.56 5.44l.94 2.06.94-2.06 2.06-.94-2.06-.94-.94-2.06-.94 2.06-2.06.94zm-11 1L8.5 8.5l.94-2.06 2.06-.94-2.06-.94L8.5 2.5l-.94 2.06-2.06.94zm10 10l.94 2.06.94-2.06 2.06-.94-2.06-.94-.94-2.06-.94 2.06-2.06.94z\"/><path d=\"M17.41 7.96l-1.37-1.37c-.4-.4-.92-.59-1.43-.59-.52 0-1.04.2-1.43.59L10.3 9.45l-7.72 7.72c-.78.78-.78 2.05 0 2.83L4 21.41c.39.39.9.59 1.41.59.51 0 1.02-.2 1.41-.59l7.78-7.78 2.81-2.81c.8-.78.8-2.07 0-2.86zM5.41 20L4 18.59l7.72-7.72 1.47 1.35L5.41 20z\"/>\n",
              "  </svg>\n",
              "      </button>\n",
              "      \n",
              "  <style>\n",
              "    .colab-df-container {\n",
              "      display:flex;\n",
              "      flex-wrap:wrap;\n",
              "      gap: 12px;\n",
              "    }\n",
              "\n",
              "    .colab-df-convert {\n",
              "      background-color: #E8F0FE;\n",
              "      border: none;\n",
              "      border-radius: 50%;\n",
              "      cursor: pointer;\n",
              "      display: none;\n",
              "      fill: #1967D2;\n",
              "      height: 32px;\n",
              "      padding: 0 0 0 0;\n",
              "      width: 32px;\n",
              "    }\n",
              "\n",
              "    .colab-df-convert:hover {\n",
              "      background-color: #E2EBFA;\n",
              "      box-shadow: 0px 1px 2px rgba(60, 64, 67, 0.3), 0px 1px 3px 1px rgba(60, 64, 67, 0.15);\n",
              "      fill: #174EA6;\n",
              "    }\n",
              "\n",
              "    [theme=dark] .colab-df-convert {\n",
              "      background-color: #3B4455;\n",
              "      fill: #D2E3FC;\n",
              "    }\n",
              "\n",
              "    [theme=dark] .colab-df-convert:hover {\n",
              "      background-color: #434B5C;\n",
              "      box-shadow: 0px 1px 3px 1px rgba(0, 0, 0, 0.15);\n",
              "      filter: drop-shadow(0px 1px 2px rgba(0, 0, 0, 0.3));\n",
              "      fill: #FFFFFF;\n",
              "    }\n",
              "  </style>\n",
              "\n",
              "      <script>\n",
              "        const buttonEl =\n",
              "          document.querySelector('#df-d833b81c-fc93-4bba-965e-6564dee7bba9 button.colab-df-convert');\n",
              "        buttonEl.style.display =\n",
              "          google.colab.kernel.accessAllowed ? 'block' : 'none';\n",
              "\n",
              "        async function convertToInteractive(key) {\n",
              "          const element = document.querySelector('#df-d833b81c-fc93-4bba-965e-6564dee7bba9');\n",
              "          const dataTable =\n",
              "            await google.colab.kernel.invokeFunction('convertToInteractive',\n",
              "                                                     [key], {});\n",
              "          if (!dataTable) return;\n",
              "\n",
              "          const docLinkHtml = 'Like what you see? Visit the ' +\n",
              "            '<a target=\"_blank\" href=https://colab.research.google.com/notebooks/data_table.ipynb>data table notebook</a>'\n",
              "            + ' to learn more about interactive tables.';\n",
              "          element.innerHTML = '';\n",
              "          dataTable['output_type'] = 'display_data';\n",
              "          await google.colab.output.renderOutput(dataTable, element);\n",
              "          const docLink = document.createElement('div');\n",
              "          docLink.innerHTML = docLinkHtml;\n",
              "          element.appendChild(docLink);\n",
              "        }\n",
              "      </script>\n",
              "    </div>\n",
              "  </div>\n",
              "  "
            ]
          },
          "metadata": {},
          "execution_count": 43
        }
      ]
    },
    {
      "cell_type": "code",
      "source": [
        "# Get address number to create a new feature later\n",
        "test['number'] = test.address.str.extract('(\\d+)')"
      ],
      "metadata": {
        "execution": {
          "iopub.status.busy": "2022-07-04T01:54:06.720704Z",
          "iopub.execute_input": "2022-07-04T01:54:06.721022Z",
          "iopub.status.idle": "2022-07-04T01:54:06.727507Z",
          "shell.execute_reply.started": "2022-07-04T01:54:06.720978Z",
          "shell.execute_reply": "2022-07-04T01:54:06.726396Z"
        },
        "trusted": true,
        "id": "-RJXZOEi7YVB"
      },
      "execution_count": 44,
      "outputs": []
    },
    {
      "cell_type": "code",
      "source": [
        "test.drop(['state'], axis=1, inplace=True)"
      ],
      "metadata": {
        "papermill": {
          "duration": 0.064729,
          "end_time": "2022-06-07T00:17:11.71937",
          "exception": false,
          "start_time": "2022-06-07T00:17:11.654641",
          "status": "completed"
        },
        "tags": [],
        "execution": {
          "iopub.status.busy": "2022-07-04T01:54:06.729110Z",
          "iopub.execute_input": "2022-07-04T01:54:06.730024Z",
          "iopub.status.idle": "2022-07-04T01:54:06.744448Z",
          "shell.execute_reply.started": "2022-07-04T01:54:06.729977Z",
          "shell.execute_reply": "2022-07-04T01:54:06.743510Z"
        },
        "trusted": true,
        "id": "MlL3DbQX7YVC"
      },
      "execution_count": 45,
      "outputs": []
    },
    {
      "cell_type": "code",
      "source": [
        "gc.collect()"
      ],
      "metadata": {
        "execution": {
          "iopub.status.busy": "2022-07-04T01:54:06.745945Z",
          "iopub.execute_input": "2022-07-04T01:54:06.746185Z",
          "iopub.status.idle": "2022-07-04T01:54:06.942731Z",
          "shell.execute_reply.started": "2022-07-04T01:54:06.746157Z",
          "shell.execute_reply": "2022-07-04T01:54:06.941764Z"
        },
        "trusted": true,
        "colab": {
          "base_uri": "https://localhost:8080/"
        },
        "id": "J-TKERcG7YVC",
        "outputId": "f75a5e20-6467-4b44-9dab-d17ca8f117be"
      },
      "execution_count": 46,
      "outputs": [
        {
          "output_type": "execute_result",
          "data": {
            "text/plain": [
              "622"
            ]
          },
          "metadata": {},
          "execution_count": 46
        }
      ]
    },
    {
      "cell_type": "code",
      "source": [
        "def clean_country(cols):\n",
        "    lat = cols[0]\n",
        "    long = cols[1]\n",
        "    country = cols[2]\n",
        "    \n",
        "    if country != country: # check if is nan\n",
        "        coordinates = (lat, long),\n",
        "        result = reverse_geocode.search(coordinates)\n",
        "        return result[0]['country_code']\n",
        "    return country"
      ],
      "metadata": {
        "execution": {
          "iopub.status.busy": "2022-07-04T01:54:06.944441Z",
          "iopub.execute_input": "2022-07-04T01:54:06.944714Z",
          "iopub.status.idle": "2022-07-04T01:54:06.953086Z",
          "shell.execute_reply.started": "2022-07-04T01:54:06.944685Z",
          "shell.execute_reply": "2022-07-04T01:54:06.952052Z"
        },
        "trusted": true,
        "id": "60NR8HSA7YVD"
      },
      "execution_count": 47,
      "outputs": []
    },
    {
      "cell_type": "code",
      "source": [
        "test['country'] = test[['latitude','longitude','country']].apply(clean_country, axis=1)"
      ],
      "metadata": {
        "execution": {
          "iopub.status.busy": "2022-07-04T01:54:06.954365Z",
          "iopub.execute_input": "2022-07-04T01:54:06.955531Z",
          "iopub.status.idle": "2022-07-04T01:54:06.965738Z",
          "shell.execute_reply.started": "2022-07-04T01:54:06.955481Z",
          "shell.execute_reply": "2022-07-04T01:54:06.964793Z"
        },
        "trusted": true,
        "id": "8ZjDsIYI7YVD"
      },
      "execution_count": 48,
      "outputs": []
    },
    {
      "cell_type": "code",
      "source": [
        "china = test.loc[test['country'] == 'CN']['name'].values\n",
        "japan = test.loc[test['country'] == 'JP']['name'].values"
      ],
      "metadata": {
        "execution": {
          "iopub.status.busy": "2022-07-04T01:54:06.969041Z",
          "iopub.execute_input": "2022-07-04T01:54:06.969435Z",
          "iopub.status.idle": "2022-07-04T01:54:06.982033Z",
          "shell.execute_reply.started": "2022-07-04T01:54:06.969387Z",
          "shell.execute_reply": "2022-07-04T01:54:06.979913Z"
        },
        "trusted": true,
        "id": "CmhIBs1_7YVD"
      },
      "execution_count": 49,
      "outputs": []
    },
    {
      "cell_type": "code",
      "source": [
        "def standard_data(df):\n",
        "    columns = ['name', 'categories', 'country', 'zip', 'phone', 'url', 'city']\n",
        "    \n",
        "    for c in columns:        \n",
        "        df[c] = df[c].astype(str).str.lower()\n",
        "        df[c] = df[c].apply(lambda x: unidecode(x)) # will remove for china and japan later\n",
        "        df[c] = df[c].astype(str).str.lower()\n",
        "        if c in ['zip', 'phone', 'url']:\n",
        "            df[c] = df[c].str.replace('[{}]'.format(string.punctuation), '')\n",
        "            df[c] = df[c].str.replace(' ', '')\n",
        "        if c == 'url':\n",
        "            df[c] = df[c].str.replace('http://', '')\n",
        "            df[c] = df[c].str.replace('https://', '')\n",
        "            df[c] = df[c].str.replace('http:', '')\n",
        "            df[c] = df[c].str.replace('https:', '')\n",
        "            df[c] = df[c].str.replace('http', '')\n",
        "            df[c] = df[c].str.replace('https', '')\n",
        "            df[c] = df[c].str.replace('www.', '')\n",
        "            df[c] = df[c].str.replace('www', '')\n",
        "        df[c] = df[c].replace('nan', np.nan)\n",
        "    return df"
      ],
      "metadata": {
        "papermill": {
          "duration": 0.061251,
          "end_time": "2022-06-07T00:17:11.832345",
          "exception": false,
          "start_time": "2022-06-07T00:17:11.771094",
          "status": "completed"
        },
        "tags": [],
        "execution": {
          "iopub.status.busy": "2022-07-04T01:54:06.984108Z",
          "iopub.execute_input": "2022-07-04T01:54:06.984721Z",
          "iopub.status.idle": "2022-07-04T01:54:06.998198Z",
          "shell.execute_reply.started": "2022-07-04T01:54:06.984672Z",
          "shell.execute_reply": "2022-07-04T01:54:06.997233Z"
        },
        "trusted": true,
        "id": "-xBa0k_17YVD"
      },
      "execution_count": 50,
      "outputs": []
    },
    {
      "cell_type": "code",
      "source": [
        "test = standard_data(test)"
      ],
      "metadata": {
        "papermill": {
          "duration": 0.071084,
          "end_time": "2022-06-07T00:17:11.953063",
          "exception": false,
          "start_time": "2022-06-07T00:17:11.881979",
          "status": "completed"
        },
        "tags": [],
        "execution": {
          "iopub.status.busy": "2022-07-04T01:54:07.002308Z",
          "iopub.execute_input": "2022-07-04T01:54:07.003341Z",
          "iopub.status.idle": "2022-07-04T01:54:07.048497Z",
          "shell.execute_reply.started": "2022-07-04T01:54:07.003291Z",
          "shell.execute_reply": "2022-07-04T01:54:07.047456Z"
        },
        "trusted": true,
        "colab": {
          "base_uri": "https://localhost:8080/"
        },
        "id": "e7_MHWG27YVG",
        "outputId": "9372d718-693e-4971-9c2e-53ab6e9d7a02"
      },
      "execution_count": 51,
      "outputs": [
        {
          "output_type": "stream",
          "name": "stderr",
          "text": [
            "/usr/local/lib/python3.7/dist-packages/ipykernel_launcher.py:9: FutureWarning: The default value of regex will change from True to False in a future version.\n",
            "  if __name__ == '__main__':\n",
            "/usr/local/lib/python3.7/dist-packages/ipykernel_launcher.py:18: FutureWarning: The default value of regex will change from True to False in a future version.\n"
          ]
        }
      ]
    },
    {
      "cell_type": "code",
      "source": [
        "test.loc[test['country'] == 'cn', 'name'] = china\n",
        "test.loc[test['country'] == 'jp', 'name'] = japan\n",
        "del china, japan\n",
        "gc.collect()"
      ],
      "metadata": {
        "execution": {
          "iopub.status.busy": "2022-07-04T01:54:07.050152Z",
          "iopub.execute_input": "2022-07-04T01:54:07.050755Z",
          "iopub.status.idle": "2022-07-04T01:54:07.262431Z",
          "shell.execute_reply.started": "2022-07-04T01:54:07.050703Z",
          "shell.execute_reply": "2022-07-04T01:54:07.261492Z"
        },
        "trusted": true,
        "colab": {
          "base_uri": "https://localhost:8080/"
        },
        "id": "IIAeAjpG7YVG",
        "outputId": "3bdcba51-2d4c-42f6-e4b3-6cac86dad363"
      },
      "execution_count": 52,
      "outputs": [
        {
          "output_type": "execute_result",
          "data": {
            "text/plain": [
              "317"
            ]
          },
          "metadata": {},
          "execution_count": 52
        }
      ]
    },
    {
      "cell_type": "markdown",
      "source": [
        "### Add count features"
      ],
      "metadata": {
        "papermill": {
          "duration": 0.049186,
          "end_time": "2022-06-07T00:17:14.274486",
          "exception": false,
          "start_time": "2022-06-07T00:17:14.2253",
          "status": "completed"
        },
        "tags": [],
        "id": "w0TZpHB77YVG"
      }
    },
    {
      "cell_type": "code",
      "source": [
        "test['latitude_round'] = test['latitude'].round(1)\n",
        "test['longitude_round'] = test['longitude'].round(1)\n",
        "\n",
        "test['latitude'] = test['latitude'].apply(lambda x: radians(x))\n",
        "test['longitude'] = test['longitude'].apply(lambda x: radians(x))"
      ],
      "metadata": {
        "papermill": {
          "duration": 0.059267,
          "end_time": "2022-06-07T00:17:14.383303",
          "exception": false,
          "start_time": "2022-06-07T00:17:14.324036",
          "status": "completed"
        },
        "tags": [],
        "execution": {
          "iopub.status.busy": "2022-07-04T01:54:07.264071Z",
          "iopub.execute_input": "2022-07-04T01:54:07.264403Z",
          "iopub.status.idle": "2022-07-04T01:54:07.276689Z",
          "shell.execute_reply.started": "2022-07-04T01:54:07.264359Z",
          "shell.execute_reply": "2022-07-04T01:54:07.275679Z"
        },
        "trusted": true,
        "id": "mBSiZzEe7YVH"
      },
      "execution_count": 53,
      "outputs": []
    },
    {
      "cell_type": "code",
      "source": [
        "test['latitude_round_count'] = -99\n",
        "test['longitude_round_count'] = -99\n",
        "test['name_count'] = -99\n",
        "test['country_count'] = -99"
      ],
      "metadata": {
        "papermill": {
          "duration": 0.074659,
          "end_time": "2022-06-07T00:17:14.517654",
          "exception": false,
          "start_time": "2022-06-07T00:17:14.442995",
          "status": "completed"
        },
        "tags": [],
        "execution": {
          "iopub.status.busy": "2022-07-04T01:54:07.278161Z",
          "iopub.execute_input": "2022-07-04T01:54:07.278738Z",
          "iopub.status.idle": "2022-07-04T01:54:07.288876Z",
          "shell.execute_reply.started": "2022-07-04T01:54:07.278700Z",
          "shell.execute_reply": "2022-07-04T01:54:07.288176Z"
        },
        "trusted": true,
        "id": "Xe2CvCr37YVH"
      },
      "execution_count": 54,
      "outputs": []
    },
    {
      "cell_type": "code",
      "source": [
        "def count_values(df, col):\n",
        "    freq_encode = df[col].value_counts(dropna=True).to_dict()\n",
        "    df[col+'_count'] = df[col].map(freq_encode)\n",
        "    return df[col+'_count']"
      ],
      "metadata": {
        "papermill": {
          "duration": 0.058028,
          "end_time": "2022-06-07T00:17:14.625429",
          "exception": false,
          "start_time": "2022-06-07T00:17:14.567401",
          "status": "completed"
        },
        "tags": [],
        "execution": {
          "iopub.status.busy": "2022-07-04T01:54:07.290665Z",
          "iopub.execute_input": "2022-07-04T01:54:07.291236Z",
          "iopub.status.idle": "2022-07-04T01:54:07.300712Z",
          "shell.execute_reply.started": "2022-07-04T01:54:07.291190Z",
          "shell.execute_reply": "2022-07-04T01:54:07.299739Z"
        },
        "trusted": true,
        "id": "TstV1Apx7YVH"
      },
      "execution_count": 55,
      "outputs": []
    },
    {
      "cell_type": "code",
      "source": [
        "for col in ['country']:\n",
        "    test[col+'_count'] = count_values(test, col)\n",
        "    test[col+'_count'].fillna(-99, inplace=True)\n",
        "    test[col+'_count'] = test[col+'_count'].astype(int)"
      ],
      "metadata": {
        "papermill": {
          "duration": 0.071512,
          "end_time": "2022-06-07T00:17:14.74658",
          "exception": false,
          "start_time": "2022-06-07T00:17:14.675068",
          "status": "completed"
        },
        "tags": [],
        "execution": {
          "iopub.status.busy": "2022-07-04T01:54:07.302278Z",
          "iopub.execute_input": "2022-07-04T01:54:07.302603Z",
          "iopub.status.idle": "2022-07-04T01:54:07.316357Z",
          "shell.execute_reply.started": "2022-07-04T01:54:07.302561Z",
          "shell.execute_reply": "2022-07-04T01:54:07.315430Z"
        },
        "trusted": true,
        "id": "R0ysslF57YVH"
      },
      "execution_count": 56,
      "outputs": []
    },
    {
      "cell_type": "code",
      "source": [
        "gc.collect()"
      ],
      "metadata": {
        "execution": {
          "iopub.status.busy": "2022-07-04T01:54:07.317946Z",
          "iopub.execute_input": "2022-07-04T01:54:07.318343Z",
          "iopub.status.idle": "2022-07-04T01:54:07.523947Z",
          "shell.execute_reply.started": "2022-07-04T01:54:07.318298Z",
          "shell.execute_reply": "2022-07-04T01:54:07.522938Z"
        },
        "trusted": true,
        "colab": {
          "base_uri": "https://localhost:8080/"
        },
        "id": "P7zHa-897YVH",
        "outputId": "a2b7dfea-2425-456a-bc22-eb5940ca2584"
      },
      "execution_count": 57,
      "outputs": [
        {
          "output_type": "execute_result",
          "data": {
            "text/plain": [
              "250"
            ]
          },
          "metadata": {},
          "execution_count": 57
        }
      ]
    },
    {
      "cell_type": "markdown",
      "source": [
        "### Helper functions"
      ],
      "metadata": {
        "id": "ZUgSLaSy7YVI"
      }
    },
    {
      "cell_type": "code",
      "source": [
        "def add_distance_features(cols, *args):\n",
        "    str1 = cols[0]\n",
        "    str2 = cols[1]\n",
        "    feat = ''.join(args)\n",
        "    \n",
        "    if str1 == str1 and str2 == str2 and str1 != '' and str2 != '':\n",
        "        if feat == 'leven':\n",
        "            if str1 == str2:\n",
        "                return 0\n",
        "            return Levenshtein.distance(str1, str2) # Levenshtein\n",
        "        elif feat == 'jaro':\n",
        "            if str1 == str2:\n",
        "                return 1\n",
        "            return Levenshtein.jaro_winkler(str1, str2) # jaro_winkler\n",
        "        elif feat == 'lcs':\n",
        "            return LCS(str1, str2) # LCS\n",
        "        elif feat == 'jaccard_char':\n",
        "            if str1 == str2:\n",
        "                return 1\n",
        "            return calculate_jaccard_char(str1, str2) # jaccard char\n",
        "        elif feat == 'jaccard_char_smallest':\n",
        "            if str1 == str2:\n",
        "                return 1\n",
        "            return calculate_jaccard_char_smallest(str1, str2) # jaccard char smallest\n",
        "        elif feat == 'jaccard_word':\n",
        "            if str1 == str2:\n",
        "                return 1\n",
        "            return calculate_jaccard_word(str1, str2) # jaccard word\n",
        "        elif feat == 'jaccard_word_smallest':\n",
        "            if str1 == str2:\n",
        "                return 1\n",
        "            return calculate_jaccard_word_smallest(str1, str2) # jaccard word smallest\n",
        "    return -99"
      ],
      "metadata": {
        "execution": {
          "iopub.status.busy": "2022-07-04T01:54:07.525159Z",
          "iopub.execute_input": "2022-07-04T01:54:07.525993Z",
          "iopub.status.idle": "2022-07-04T01:54:07.535813Z",
          "shell.execute_reply.started": "2022-07-04T01:54:07.525945Z",
          "shell.execute_reply": "2022-07-04T01:54:07.534827Z"
        },
        "trusted": true,
        "id": "qnDPkD2l7YVI"
      },
      "execution_count": 58,
      "outputs": []
    },
    {
      "cell_type": "code",
      "source": [
        "def calculate_jaccard_char(str1, str2):\n",
        "    \n",
        "    # Combine both tokens to find union.\n",
        "    both_tokens = str1 + str2\n",
        "    union = set(both_tokens)\n",
        "    if len(union) == 0:\n",
        "        return 0\n",
        "    \n",
        "    # Calculate intersection.\n",
        "    intersection = set()\n",
        "    for w in set(str1):\n",
        "        if w in set(str2):\n",
        "            intersection.add(w)\n",
        "\n",
        "    jaccard_score = len(intersection)/len(union)\n",
        "    \n",
        "    return jaccard_score"
      ],
      "metadata": {
        "execution": {
          "iopub.status.busy": "2022-07-04T01:54:07.537150Z",
          "iopub.execute_input": "2022-07-04T01:54:07.537530Z",
          "iopub.status.idle": "2022-07-04T01:54:07.551624Z",
          "shell.execute_reply.started": "2022-07-04T01:54:07.537486Z",
          "shell.execute_reply": "2022-07-04T01:54:07.550760Z"
        },
        "trusted": true,
        "id": "IIhdOiJb7YVI"
      },
      "execution_count": 59,
      "outputs": []
    },
    {
      "cell_type": "code",
      "source": [
        "def calculate_jaccard_char_smallest(str1, str2):\n",
        "    str1 = set(str1)\n",
        "    str2 = set(str2)\n",
        "    \n",
        "    small = min(len(str1), len(str2))\n",
        "    if small == 0:\n",
        "        return 0\n",
        "    \n",
        "    # Calculate intersection.\n",
        "    intersection = set()\n",
        "    for w in str1:\n",
        "        if w in str2:\n",
        "            intersection.add(w)\n",
        "\n",
        "    jaccard_score = len(intersection)/small\n",
        "    \n",
        "    return jaccard_score"
      ],
      "metadata": {
        "execution": {
          "iopub.status.busy": "2022-07-04T01:54:07.553414Z",
          "iopub.execute_input": "2022-07-04T01:54:07.553678Z",
          "iopub.status.idle": "2022-07-04T01:54:07.562882Z",
          "shell.execute_reply.started": "2022-07-04T01:54:07.553646Z",
          "shell.execute_reply": "2022-07-04T01:54:07.562108Z"
        },
        "trusted": true,
        "id": "o_JTGhnI7YVI"
      },
      "execution_count": 60,
      "outputs": []
    },
    {
      "cell_type": "code",
      "source": [
        "def calculate_jaccard_word(str1, str2):\n",
        "    \n",
        "    # Combine both tokens to find union.\n",
        "    words1 = str1.split()\n",
        "    words2 = str2.split()\n",
        "    union = set(words1 + words2)\n",
        "    if len(union) == 0:\n",
        "        return 0\n",
        "    \n",
        "    # Calculate intersection.\n",
        "    intersection = set()\n",
        "    for word in union:\n",
        "        if word in words1 and word in words2:\n",
        "            intersection.add(word)\n",
        "\n",
        "    jaccard_score = len(intersection)/len(union)\n",
        "    \n",
        "    return jaccard_score"
      ],
      "metadata": {
        "execution": {
          "iopub.status.busy": "2022-07-04T01:54:07.564158Z",
          "iopub.execute_input": "2022-07-04T01:54:07.564577Z",
          "iopub.status.idle": "2022-07-04T01:54:07.576847Z",
          "shell.execute_reply.started": "2022-07-04T01:54:07.564535Z",
          "shell.execute_reply": "2022-07-04T01:54:07.576022Z"
        },
        "trusted": true,
        "id": "w5IeZXh-7YVI"
      },
      "execution_count": 61,
      "outputs": []
    },
    {
      "cell_type": "code",
      "source": [
        "def calculate_jaccard_word_smallest(str1, str2):\n",
        "    \n",
        "    if str1 == str2:\n",
        "        return 1\n",
        "    \n",
        "    # Combine both tokens to find union.\n",
        "    words1 = str1.split()\n",
        "    words2 = str2.split()\n",
        "    union = set(words1 + words2)\n",
        "    small = min(len(set(words1)), len(set(words2)))\n",
        "    if small == 0:\n",
        "        return 0\n",
        "    \n",
        "    # Calculate intersection.\n",
        "    intersection = set()\n",
        "    for word in union:\n",
        "        if word in words1 and word in words2:\n",
        "            intersection.add(word)\n",
        "\n",
        "    jaccard_score = len(intersection)/small\n",
        "    \n",
        "    return jaccard_score"
      ],
      "metadata": {
        "execution": {
          "iopub.status.busy": "2022-07-04T01:54:07.577907Z",
          "iopub.execute_input": "2022-07-04T01:54:07.578666Z",
          "iopub.status.idle": "2022-07-04T01:54:07.587526Z",
          "shell.execute_reply.started": "2022-07-04T01:54:07.578627Z",
          "shell.execute_reply": "2022-07-04T01:54:07.586725Z"
        },
        "trusted": true,
        "id": "EUBA9hw37YVJ"
      },
      "execution_count": 62,
      "outputs": []
    },
    {
      "cell_type": "code",
      "source": [
        "%load_ext Cython"
      ],
      "metadata": {
        "execution": {
          "iopub.status.busy": "2022-07-04T01:54:07.588638Z",
          "iopub.execute_input": "2022-07-04T01:54:07.589560Z",
          "iopub.status.idle": "2022-07-04T01:54:08.845143Z",
          "shell.execute_reply.started": "2022-07-04T01:54:07.589518Z",
          "shell.execute_reply": "2022-07-04T01:54:08.844242Z"
        },
        "trusted": true,
        "id": "cyQTA9o07YVJ"
      },
      "execution_count": 63,
      "outputs": []
    },
    {
      "cell_type": "code",
      "source": [
        "%%cython\n",
        "import numpy as np  # noqa\n",
        "cpdef int LCS(str S, str T):\n",
        "    cdef int i, j\n",
        "    cdef int cost\n",
        "    cdef int v1,v2,v3,v4\n",
        "    cdef int[:, :] dp = np.zeros((len(S) + 1, len(T) + 1), dtype=np.int32)\n",
        "    for i in range(len(S)):\n",
        "        for j in range(len(T)):\n",
        "            cost = (int)(S[i] == T[j])\n",
        "            v1 = dp[i, j] + cost\n",
        "            v2 = dp[i + 1, j]\n",
        "            v3 = dp[i, j + 1]\n",
        "            v4 = dp[i + 1, j + 1]\n",
        "            dp[i + 1, j + 1] = max((v1,v2,v3,v4))\n",
        "    return dp[len(S)][len(T)]"
      ],
      "metadata": {
        "execution": {
          "iopub.status.busy": "2022-07-04T01:54:08.846122Z",
          "iopub.execute_input": "2022-07-04T01:54:08.846366Z",
          "iopub.status.idle": "2022-07-04T01:54:15.972391Z",
          "shell.execute_reply.started": "2022-07-04T01:54:08.846335Z",
          "shell.execute_reply": "2022-07-04T01:54:15.970549Z"
        },
        "trusted": true,
        "id": "WfYUsO6r7YVJ"
      },
      "execution_count": 64,
      "outputs": []
    },
    {
      "cell_type": "code",
      "source": [
        "from math import sin, cos, sqrt, atan2\n",
        "\n",
        "def get_real_distance(cols):\n",
        "    R = 6378.0 # radius of earth in km\n",
        "    \n",
        "    lat1 = cols[0]\n",
        "    lon1 = cols[1]\n",
        "    lat2 = cols[2]\n",
        "    lon2 = cols[3]\n",
        "\n",
        "    dlon = lon2 - lon1\n",
        "    dlat = lat2 - lat1\n",
        "\n",
        "    a = sin(dlat / 2)**2 + cos(lat1) * cos(lat2) * sin(dlon / 2)**2\n",
        "    c = 2 * atan2(sqrt(a), sqrt(1 - a))\n",
        "\n",
        "    distance = R * c\n",
        "\n",
        "    return distance"
      ],
      "metadata": {
        "execution": {
          "iopub.status.busy": "2022-07-04T01:54:15.974401Z",
          "iopub.execute_input": "2022-07-04T01:54:15.975026Z",
          "iopub.status.idle": "2022-07-04T01:54:15.984381Z",
          "shell.execute_reply.started": "2022-07-04T01:54:15.974973Z",
          "shell.execute_reply": "2022-07-04T01:54:15.983459Z"
        },
        "trusted": true,
        "id": "UIulNzhK7YVJ"
      },
      "execution_count": 65,
      "outputs": []
    },
    {
      "cell_type": "markdown",
      "source": [
        "### Search Candidates"
      ],
      "metadata": {
        "id": "9yJIRkRD3jr-",
        "papermill": {
          "duration": 0.053159,
          "end_time": "2022-06-07T00:17:14.962604",
          "exception": false,
          "start_time": "2022-06-07T00:17:14.909445",
          "status": "completed"
        },
        "tags": []
      }
    },
    {
      "cell_type": "code",
      "source": [
        "if len(test) < CFG.n_neighbors:\n",
        "    CFG.n_neighbors = len(test)"
      ],
      "metadata": {
        "execution": {
          "iopub.status.busy": "2022-07-04T01:54:15.986411Z",
          "iopub.execute_input": "2022-07-04T01:54:15.987111Z",
          "iopub.status.idle": "2022-07-04T01:54:16.009972Z",
          "shell.execute_reply.started": "2022-07-04T01:54:15.987061Z",
          "shell.execute_reply": "2022-07-04T01:54:16.009208Z"
        },
        "trusted": true,
        "id": "SoDhDJ1J7YVK"
      },
      "execution_count": 66,
      "outputs": []
    },
    {
      "cell_type": "code",
      "source": [
        "def get_vectors(df, col):\n",
        "    \"\"\"Function to search candidates by name vectorized + latitude + longitude\"\"\"\n",
        "    encoded_input = tokenizer(df[col].fillna('nan').tolist(), return_tensors='np', padding=True)\n",
        "    encoded_input = encoded_input['input_ids']\n",
        "    encoded_input = np.c_[encoded_input, df['latitude'].values, df['longitude'].values]\n",
        "    normalized_encoded_input = encoded_input/np.linalg.norm(encoded_input)\n",
        "    return normalized_encoded_input"
      ],
      "metadata": {
        "execution": {
          "iopub.status.busy": "2022-07-04T01:54:16.012197Z",
          "iopub.execute_input": "2022-07-04T01:54:16.013018Z",
          "iopub.status.idle": "2022-07-04T01:54:16.021032Z",
          "shell.execute_reply.started": "2022-07-04T01:54:16.012971Z",
          "shell.execute_reply": "2022-07-04T01:54:16.020377Z"
        },
        "trusted": true,
        "id": "zaNtEOU37YVK"
      },
      "execution_count": 67,
      "outputs": []
    },
    {
      "cell_type": "code",
      "source": [
        "def get_neighbors_vector(embeddings, n_neighbors, metric, algorithm):\n",
        "    \"\"\"Function to search candidates by name vectorized + latitude + longitude\"\"\"\n",
        "    matcher = NearestNeighbors(n_neighbors = n_neighbors,\n",
        "                       metric = metric,\n",
        "                       radius=1,\n",
        "                       algorithm=algorithm,\n",
        "                       leaf_size=30,\n",
        "                       p=2,\n",
        "                       n_jobs=-1)\n",
        "    \n",
        "    matcher.fit(embeddings)\n",
        "    distances, indices = matcher.kneighbors(embeddings)\n",
        "    return distances, indices"
      ],
      "metadata": {
        "execution": {
          "iopub.status.busy": "2022-07-04T01:54:16.022293Z",
          "iopub.execute_input": "2022-07-04T01:54:16.022946Z",
          "iopub.status.idle": "2022-07-04T01:54:16.032174Z",
          "shell.execute_reply.started": "2022-07-04T01:54:16.022913Z",
          "shell.execute_reply": "2022-07-04T01:54:16.031552Z"
        },
        "trusted": true,
        "id": "3GDbqfHz7YVK"
      },
      "execution_count": 68,
      "outputs": []
    },
    {
      "cell_type": "code",
      "source": [
        "def get_neighbors_lat_long(df, n_neighbors, metric, algorithm):\n",
        "    \"\"\"Function to search candidates by latitude and longitude\"\"\"\n",
        "    matcher = NearestNeighbors(n_neighbors = n_neighbors,\n",
        "                       metric = metric,\n",
        "                       radius=1,\n",
        "                       algorithm=algorithm,\n",
        "                       leaf_size=30,\n",
        "                       p=2,\n",
        "                       n_jobs=-1)\n",
        "    matcher.fit(df[['latitude', 'longitude']])\n",
        "    distances, indices = matcher.kneighbors(df[['latitude', 'longitude']])\n",
        "    return distances, indices"
      ],
      "metadata": {
        "execution": {
          "iopub.status.busy": "2022-07-04T01:54:16.033668Z",
          "iopub.execute_input": "2022-07-04T01:54:16.033898Z",
          "iopub.status.idle": "2022-07-04T01:54:16.043055Z",
          "shell.execute_reply.started": "2022-07-04T01:54:16.033871Z",
          "shell.execute_reply": "2022-07-04T01:54:16.042235Z"
        },
        "trusted": true,
        "id": "qcLNP_3R7YVK"
      },
      "execution_count": 69,
      "outputs": []
    },
    {
      "cell_type": "code",
      "source": [
        "candidate_df = pd.DataFrame()\n",
        "\n",
        "for country, country_df in tqdm(test.groupby(\"country\")):\n",
        "    dfs = []\n",
        "    country_df = country_df.reset_index(drop=True)\n",
        "    \n",
        "    # name count\n",
        "    freq_encode = country_df['name'].value_counts(dropna=True).to_dict()\n",
        "    country_df['name_count'] = country_df['name'].map(freq_encode)\n",
        "    \n",
        "    # latitude_round count\n",
        "    freq_encode = country_df['latitude_round'].value_counts(dropna=True).to_dict()\n",
        "    country_df['latitude_round_count'] = country_df['latitude_round'].map(freq_encode)\n",
        "    \n",
        "    # longitude_round count\n",
        "    freq_encode = country_df['longitude_round'].value_counts(dropna=True).to_dict()\n",
        "    country_df['longitude_round_count'] = country_df['longitude_round'].map(freq_encode)\n",
        "    \n",
        "    # get neighbors by name vectorized + lat + long\n",
        "    embeddings = get_vectors(country_df, 'name')\n",
        "    distances, indices = get_neighbors_vector(embeddings, min(len(country_df), CFG.n_neighbors), 'hamming', 'auto')\n",
        "\n",
        "    # get neighbors by lat + long\n",
        "    distances2, indices2 = get_neighbors_lat_long(country_df, min(len(country_df), CFG.n_neighbors), 'manhattan', 'auto')\n",
        "    \n",
        "    for i in range(min(len(country_df), CFG.n_neighbors)):        \n",
        "        # name vectorized + lat + long\n",
        "        tmp_df = pd.DataFrame()\n",
        "        tmp_df = country_df[[\"id\"]].copy()\n",
        "        tmp_df[\"dist\"] = distances[:, i]\n",
        "        tmp_df['dist_mean_neighboors'] = distances[:, :].mean()\n",
        "        tmp_df[\"dist_type\"] = 0\n",
        "        tmp_df[\"country\"] = country\n",
        "        tmp_df['country_count'] = country_df['country_count']\n",
        "        tmp_df['latitude_round_count'] = country_df['latitude_round_count']\n",
        "        tmp_df['latitude_round_count_neighbor'] = country_df['latitude_round_count'].values[indices[:, i]]\n",
        "        tmp_df['longitude_round_count'] = country_df['longitude_round_count']\n",
        "        tmp_df['longitude_round_count_neighbor'] = country_df['longitude_round_count'].values[indices[:, i]]\n",
        "        tmp_df['latitude'] = country_df['latitude']\n",
        "        tmp_df['latitude_neighbor'] = country_df['latitude'].values[indices[:, i]]\n",
        "        tmp_df['longitude'] = country_df['longitude']\n",
        "        tmp_df['longitude_neighbor'] = country_df['longitude'].values[indices[:, i]]\n",
        "        tmp_df['id_neighbor'] = country_df['id'].values[indices[:, i]]\n",
        "        tmp_df[\"neighbor_nearest\"] = i\n",
        "        tmp_df['number'] = country_df['number']\n",
        "        tmp_df['number_neighbor'] = country_df['number'].values[indices[:, i]]\n",
        "        tmp_df['name'] = country_df['name']\n",
        "        tmp_df['name_neighbor'] = country_df['name'].values[indices[:, i]]\n",
        "        tmp_df['name_count'] = country_df['name_count']\n",
        "        tmp_df['name_count_neighbor'] = country_df['name_count'].values[indices[:, i]]\n",
        "        tmp_df['categories'] = country_df['categories']\n",
        "        tmp_df['categories_neighbor'] = country_df['categories'].values[indices[:, i]]\n",
        "        tmp_df['address'] = country_df['address']\n",
        "        tmp_df['address_neighbor'] = country_df['address'].values[indices[:, i]]\n",
        "        tmp_df['zip'] = country_df['zip']\n",
        "        tmp_df['zip_neighbor'] = country_df['zip'].values[indices[:, i]]\n",
        "        tmp_df['phone'] = country_df['phone']\n",
        "        tmp_df['phone_neighbor'] = country_df['phone'].values[indices[:, i]]\n",
        "        tmp_df['url'] = country_df['url']\n",
        "        tmp_df['url_neighbor'] = country_df['url'].values[indices[:, i]]\n",
        "        tmp_df['city'] = country_df['city']\n",
        "        tmp_df['city_neighbor'] = country_df['city'].values[indices[:, i]]\n",
        "        tmp_df['name_jaccard_char'] = tmp_df[['name', 'name_neighbor']].apply(add_distance_features, args='jaccard_char', axis=1)\n",
        "        tmp_df['name_jaccard_char_smallest'] = tmp_df[['name', 'name_neighbor']].apply(add_distance_features, args='jaccard_char_smallest', axis=1)\n",
        "        tmp_df['name_jaccard_word'] = tmp_df[['name', 'name_neighbor']].apply(add_distance_features, args='jaccard_word', axis=1)\n",
        "        tmp_df['name_jaccard_word_smallest'] = tmp_df[['name', 'name_neighbor']].apply(add_distance_features, args='jaccard_word_smallest', axis=1)\n",
        "        \n",
        "        # lat + long\n",
        "        tmp_df2 = pd.DataFrame()\n",
        "        tmp_df2 = country_df[[\"id\"]].copy()\n",
        "        tmp_df2[\"dist\"] = distances2[:, i]\n",
        "        tmp_df2['dist_mean_neighboors'] = distances2[:, :].mean()\n",
        "        tmp_df2[\"dist_type\"] = 1\n",
        "        tmp_df2[\"country\"] = country\n",
        "        tmp_df2['country_count'] = country_df['country_count']\n",
        "        tmp_df2['latitude_round_count'] = country_df['latitude_round_count']\n",
        "        tmp_df2['latitude_round_count_neighbor'] = country_df['latitude_round_count'].values[indices2[:, i]]\n",
        "        tmp_df2['longitude_round_count'] = country_df['longitude_round_count']\n",
        "        tmp_df2['longitude_round_count_neighbor'] = country_df['longitude_round_count'].values[indices2[:, i]]\n",
        "        tmp_df2['latitude'] = country_df['latitude']\n",
        "        tmp_df2['latitude_neighbor'] = country_df['latitude'].values[indices2[:, i]]\n",
        "        tmp_df2['longitude'] = country_df['longitude']\n",
        "        tmp_df2['longitude_neighbor'] = country_df['longitude'].values[indices2[:, i]]\n",
        "        tmp_df2['id_neighbor'] = country_df['id'].values[indices2[:, i]]\n",
        "        tmp_df2[\"neighbor_nearest\"] = i\n",
        "        tmp_df2['number'] = country_df['number']\n",
        "        tmp_df2['number_neighbor'] = country_df['number'].values[indices2[:, i]]\n",
        "        tmp_df2['name'] = country_df['name']\n",
        "        tmp_df2['name_neighbor'] = country_df['name'].values[indices2[:, i]]\n",
        "        tmp_df2['name_count'] = country_df['name_count']\n",
        "        tmp_df2['name_count_neighbor'] = country_df['name_count'].values[indices2[:, i]]\n",
        "        tmp_df2['categories'] = country_df['categories']\n",
        "        tmp_df2['categories_neighbor'] = country_df['categories'].values[indices2[:, i]]\n",
        "        tmp_df2['address'] = country_df['address']\n",
        "        tmp_df2['address_neighbor'] = country_df['address'].values[indices[:, i]]\n",
        "        tmp_df2['zip'] = country_df['zip']\n",
        "        tmp_df2['zip_neighbor'] = country_df['zip'].values[indices[:, i]]\n",
        "        tmp_df2['phone'] = country_df['phone']\n",
        "        tmp_df2['phone_neighbor'] = country_df['phone'].values[indices[:, i]]\n",
        "        tmp_df2['url'] = country_df['url']\n",
        "        tmp_df2['url_neighbor'] = country_df['url'].values[indices[:, i]]\n",
        "        tmp_df2['city'] = country_df['city']\n",
        "        tmp_df2['city_neighbor'] = country_df['city'].values[indices[:, i]]\n",
        "        tmp_df2['name_jaccard_char'] = tmp_df2[['name', 'name_neighbor']].apply(add_distance_features, args='jaccard_char', axis=1)\n",
        "        tmp_df2['name_jaccard_char_smallest'] = tmp_df2[['name', 'name_neighbor']].apply(add_distance_features, args='jaccard_char_smallest', axis=1)\n",
        "        tmp_df2['name_jaccard_word'] = tmp_df2[['name', 'name_neighbor']].apply(add_distance_features, args='jaccard_word', axis=1)\n",
        "        tmp_df2['name_jaccard_word_smallest'] = tmp_df2[['name', 'name_neighbor']].apply(add_distance_features, args='jaccard_word_smallest', axis=1)\n",
        "        \n",
        "        # Concat both dataframes\n",
        "        tmp_final = pd.concat([tmp_df,tmp_df2])\n",
        "        tmp_final.drop_duplicates(subset=['id', 'id_neighbor'], keep='first', inplace=True, ignore_index=False)\n",
        "        \n",
        "        # Calculate real dist\n",
        "        tmp_final['real_dist'] = tmp_final[['latitude','longitude','latitude_neighbor','longitude_neighbor']].apply(get_real_distance, axis=1)\n",
        "        tmp_final.drop(['latitude','longitude','latitude_neighbor','longitude_neighbor'], axis=1, inplace=True)\n",
        "        gc.collect()\n",
        "        \n",
        "        # Filter\n",
        "        tmp_final = tmp_final[(tmp_final['neighbor_nearest'] <= 1) | (tmp_final['real_dist'] < 15) | (tmp_final['name_jaccard_char'] >= 0.75) | (tmp_final['name_jaccard_word'] >= 0.25)]\n",
        "        tmp_final = tmp_final[(tmp_final['neighbor_nearest'] <= 10) | (tmp_final['real_dist'] < 10) | (tmp_final['name_jaccard_char_smallest'] >= 0.9) | (tmp_final['name_jaccard_word'] >= 0.3)]\n",
        "        tmp_final = tmp_final[(tmp_final['neighbor_nearest'] <= 20) | (tmp_final['real_dist'] < 1) | (tmp_final['name_jaccard_char_smallest'] >= 0.99) | (tmp_final['name_jaccard_word_smallest'] >= 0.4)]\n",
        "        \n",
        "        dfs.append(tmp_final)\n",
        "        del tmp_df, tmp_df2, tmp_final\n",
        "        gc.collect()\n",
        "        \n",
        "    dfs = pd.concat(dfs)\n",
        "    candidate_df = pd.concat([candidate_df, dfs])\n",
        "\n",
        "del dfs, tokenizer\n",
        "gc.collect()"
      ],
      "metadata": {
        "execution": {
          "iopub.status.busy": "2022-07-04T01:54:16.044547Z",
          "iopub.execute_input": "2022-07-04T01:54:16.044897Z",
          "iopub.status.idle": "2022-07-04T01:54:19.767137Z",
          "shell.execute_reply.started": "2022-07-04T01:54:16.044867Z",
          "shell.execute_reply": "2022-07-04T01:54:19.766182Z"
        },
        "trusted": true,
        "colab": {
          "base_uri": "https://localhost:8080/",
          "height": 0,
          "referenced_widgets": [
            "5265e604c6f341bd9483eb1ab7829897",
            "938dfe18d32142bca5aac78fbe856042",
            "e4c2852b4a034ce2a0895efa9bac4cae",
            "2a1a7c01e44141de8f7a76bebf326721",
            "4dfdaec8ea5a4ddd820e782b68ad3b79",
            "cff45d4c81d54b7582941a804462f39d",
            "e54dcab492a84b3b9a993ae37a2893d5",
            "98fced691cde46ee9431eb1f08ff18b2",
            "3af016444302451283d2393c1d404b9f",
            "95c4990c5fdd4450b6e7ca8fdcc53cc0",
            "c4c79af7c0134cac8b41d13786259ca6"
          ]
        },
        "id": "hhRKSfVV7YVK",
        "outputId": "b6271ead-0162-4dc8-cb54-0a6b43aa7d13"
      },
      "execution_count": 70,
      "outputs": [
        {
          "output_type": "display_data",
          "data": {
            "text/plain": [
              "  0%|          | 0/222 [00:00<?, ?it/s]"
            ],
            "application/vnd.jupyter.widget-view+json": {
              "version_major": 2,
              "version_minor": 0,
              "model_id": "5265e604c6f341bd9483eb1ab7829897"
            }
          },
          "metadata": {}
        },
        {
          "output_type": "execute_result",
          "data": {
            "text/plain": [
              "496"
            ]
          },
          "metadata": {},
          "execution_count": 70
        }
      ]
    },
    {
      "cell_type": "code",
      "source": [
        "del test\n",
        "gc.collect()"
      ],
      "metadata": {
        "execution": {
          "iopub.status.busy": "2022-07-04T01:54:19.768810Z",
          "iopub.execute_input": "2022-07-04T01:54:19.769298Z",
          "iopub.status.idle": "2022-07-04T01:54:19.992568Z",
          "shell.execute_reply.started": "2022-07-04T01:54:19.769236Z",
          "shell.execute_reply": "2022-07-04T01:54:19.991779Z"
        },
        "trusted": true,
        "colab": {
          "base_uri": "https://localhost:8080/"
        },
        "id": "zy2hX0ku7YVN",
        "outputId": "d01b05aa-d4ef-48a7-a7ad-a5d7861c4c16"
      },
      "execution_count": 71,
      "outputs": [
        {
          "output_type": "execute_result",
          "data": {
            "text/plain": [
              "50"
            ]
          },
          "metadata": {},
          "execution_count": 71
        }
      ]
    },
    {
      "cell_type": "code",
      "source": [
        "candidate_df.drop('country', axis=1, inplace=True)\n",
        "gc.collect()"
      ],
      "metadata": {
        "execution": {
          "iopub.status.busy": "2022-07-04T01:54:19.993879Z",
          "iopub.execute_input": "2022-07-04T01:54:19.994667Z",
          "iopub.status.idle": "2022-07-04T01:54:20.225773Z",
          "shell.execute_reply.started": "2022-07-04T01:54:19.994621Z",
          "shell.execute_reply": "2022-07-04T01:54:20.224768Z"
        },
        "trusted": true,
        "colab": {
          "base_uri": "https://localhost:8080/"
        },
        "id": "8kSeLHxm7YVP",
        "outputId": "f95d5958-b6e7-489d-ff2c-6ae0c76fb0ad"
      },
      "execution_count": 72,
      "outputs": [
        {
          "output_type": "execute_result",
          "data": {
            "text/plain": [
              "50"
            ]
          },
          "metadata": {},
          "execution_count": 72
        }
      ]
    },
    {
      "cell_type": "code",
      "source": [
        "candidate_df.reset_index(drop=True, inplace=True)\n",
        "candidate_df.shape"
      ],
      "metadata": {
        "execution": {
          "iopub.status.busy": "2022-07-04T01:54:20.227004Z",
          "iopub.execute_input": "2022-07-04T01:54:20.227216Z",
          "iopub.status.idle": "2022-07-04T01:54:20.233328Z",
          "shell.execute_reply.started": "2022-07-04T01:54:20.227191Z",
          "shell.execute_reply": "2022-07-04T01:54:20.232173Z"
        },
        "trusted": true,
        "colab": {
          "base_uri": "https://localhost:8080/"
        },
        "id": "PbYlDu2z7YVP",
        "outputId": "0236524d-16bf-4205-9ed7-62cb848c6362"
      },
      "execution_count": 73,
      "outputs": [
        {
          "output_type": "execute_result",
          "data": {
            "text/plain": [
              "(222, 34)"
            ]
          },
          "metadata": {},
          "execution_count": 73
        }
      ]
    },
    {
      "cell_type": "markdown",
      "source": [
        "### Reduce Memory"
      ],
      "metadata": {
        "id": "8jKvmWa17YVP"
      }
    },
    {
      "cell_type": "code",
      "source": [
        "for col in tqdm(candidate_df.columns):\n",
        "    if '_count' in col:\n",
        "        candidate_df[col].fillna(-99, inplace=True)\n",
        "        candidate_df[col] = candidate_df[col].astype(int)"
      ],
      "metadata": {
        "execution": {
          "iopub.status.busy": "2022-07-04T01:54:20.234664Z",
          "iopub.execute_input": "2022-07-04T01:54:20.235083Z",
          "iopub.status.idle": "2022-07-04T01:54:20.280933Z",
          "shell.execute_reply.started": "2022-07-04T01:54:20.235027Z",
          "shell.execute_reply": "2022-07-04T01:54:20.280063Z"
        },
        "trusted": true,
        "colab": {
          "base_uri": "https://localhost:8080/",
          "height": 0,
          "referenced_widgets": [
            "2e64dba036ef4199b3f5490382a364d6",
            "94732071fc8f4bdeb9ad09e62112e495",
            "8dca4e2ee38440eaa96d71676c2283e1",
            "41b918628b0a43a59cc3a07018f62faf",
            "dd72830d37e14434962af242ff326f65",
            "f6b119c3a784471488137b5569c609c3",
            "abd95bd7b0ca498ab1416275d226edc9",
            "c1152a7b8cae4c0c810fb4a40ab02bfb",
            "70bf4516b06f4216a36f0dabf8f990c6",
            "2b7ef5d71a504b7e82e5e38455fc76ec",
            "8e374e93a93848d884f31d7b9105be52"
          ]
        },
        "id": "seaIoXR37YVQ",
        "outputId": "ddea42c4-baae-4198-f6c6-de8152af1f12"
      },
      "execution_count": 74,
      "outputs": [
        {
          "output_type": "display_data",
          "data": {
            "text/plain": [
              "  0%|          | 0/34 [00:00<?, ?it/s]"
            ],
            "application/vnd.jupyter.widget-view+json": {
              "version_major": 2,
              "version_minor": 0,
              "model_id": "2e64dba036ef4199b3f5490382a364d6"
            }
          },
          "metadata": {}
        }
      ]
    },
    {
      "cell_type": "code",
      "source": [
        "def reduce_mem_usage(df, cols, verbose=True):\n",
        "    numerics = ['int16', 'int32', 'int64', 'float16', 'float32', 'float64']\n",
        "    start_mem = df.memory_usage().sum() / 1024**2\n",
        "    for col in tqdm(cols):\n",
        "        col_type = df[col].dtypes\n",
        "        if col_type in numerics:\n",
        "            c_min = df[col].min()\n",
        "            c_max = df[col].max()\n",
        "            if str(col_type)[:3] == 'int':\n",
        "                if c_min > np.iinfo(np.int8).min and c_max < np.iinfo(np.int8).max:\n",
        "                    if 'int8' not in str(col_type):\n",
        "                        df[col] = df[col].astype(np.int8)\n",
        "                elif c_min > np.iinfo(np.int16).min and c_max < np.iinfo(np.int16).max:\n",
        "                    if 'int16' not in str(col_type):\n",
        "                        df[col] = df[col].astype(np.int16)\n",
        "                elif c_min > np.iinfo(np.int32).min and c_max < np.iinfo(np.int32).max:\n",
        "                    if 'int32' not in str(col_type):\n",
        "                        df[col] = df[col].astype(np.int32)\n",
        "                elif c_min > np.iinfo(np.int64).min and c_max < np.iinfo(np.int64).max:\n",
        "                    if 'int64' not in str(col_type):\n",
        "                        df[col] = df[col].astype(np.int64)\n",
        "            else:\n",
        "                c_prec = df[col].apply(lambda x: np.finfo(x).precision).max()\n",
        "                if c_min > np.finfo(np.float16).min and c_max < np.finfo(np.float16).max and c_prec == np.finfo(np.float16).precision:\n",
        "                    if 'float16' not in str(col_type):\n",
        "                        df[col] = df[col].astype(np.float16)\n",
        "                elif c_min > np.finfo(np.float32).min and c_max < np.finfo(np.float32).max and c_prec == np.finfo(np.float32).precision:\n",
        "                    if 'float32' not in str(col_type):\n",
        "                        df[col] = df[col].astype(np.float32)\n",
        "                else:\n",
        "                    if 'float64' not in str(col_type):\n",
        "                        df[col] = df[col].astype(np.float64)\n",
        "    end_mem = df.memory_usage().sum() / 1024**2\n",
        "    if verbose: print('Mem. usage decreased to {:5.2f} Mb ({:.1f}% reduction)'.format(end_mem, 100 * (start_mem - end_mem) / start_mem))\n",
        "    return df"
      ],
      "metadata": {
        "execution": {
          "iopub.status.busy": "2022-07-04T01:54:20.282619Z",
          "iopub.execute_input": "2022-07-04T01:54:20.282845Z",
          "iopub.status.idle": "2022-07-04T01:54:20.297629Z",
          "shell.execute_reply.started": "2022-07-04T01:54:20.282817Z",
          "shell.execute_reply": "2022-07-04T01:54:20.296618Z"
        },
        "trusted": true,
        "id": "WfOVfIDS7YVQ"
      },
      "execution_count": 75,
      "outputs": []
    },
    {
      "cell_type": "code",
      "source": [
        "candidate_df = reduce_mem_usage(candidate_df, candidate_df.columns)"
      ],
      "metadata": {
        "execution": {
          "iopub.status.busy": "2022-07-04T01:54:20.298841Z",
          "iopub.execute_input": "2022-07-04T01:54:20.299307Z",
          "iopub.status.idle": "2022-07-04T01:54:20.363152Z",
          "shell.execute_reply.started": "2022-07-04T01:54:20.299245Z",
          "shell.execute_reply": "2022-07-04T01:54:20.362226Z"
        },
        "trusted": true,
        "colab": {
          "base_uri": "https://localhost:8080/",
          "height": 0,
          "referenced_widgets": [
            "7dfbc9f88cf74d758276f60c11bd2e25",
            "f22f0b85f0284353893786dc3a7be112",
            "6b18b94a7c964569af80831a5b7db4fe",
            "f17b912a22f841e2bad370291a753d7f",
            "dac42f43f5a44e23b9f3ba749c2e6c78",
            "980dd5fce46a43b8a3083084deb108d1",
            "c3034fb7034b45e6840df50799698813",
            "8c27429a343c4f8da0ad62fdedfffc57",
            "18b7804666f641f395982dd67c079da7",
            "5be57c6efe6e4699997d87190b9b1152",
            "9a37dd5efdce4fd28bae51676e843534"
          ]
        },
        "id": "El0xF82L7YVQ",
        "outputId": "94d23d2b-5190-4e65-bfe6-c690ed18e3fe"
      },
      "execution_count": 76,
      "outputs": [
        {
          "output_type": "display_data",
          "data": {
            "text/plain": [
              "  0%|          | 0/34 [00:00<?, ?it/s]"
            ],
            "application/vnd.jupyter.widget-view+json": {
              "version_major": 2,
              "version_minor": 0,
              "model_id": "7dfbc9f88cf74d758276f60c11bd2e25"
            }
          },
          "metadata": {}
        },
        {
          "output_type": "stream",
          "name": "stdout",
          "text": [
            "Mem. usage decreased to  0.04 Mb (33.4% reduction)\n"
          ]
        }
      ]
    },
    {
      "cell_type": "code",
      "source": [
        "gc.collect()"
      ],
      "metadata": {
        "execution": {
          "iopub.status.busy": "2022-07-04T01:54:20.364384Z",
          "iopub.execute_input": "2022-07-04T01:54:20.364622Z",
          "iopub.status.idle": "2022-07-04T01:54:20.591027Z",
          "shell.execute_reply.started": "2022-07-04T01:54:20.364593Z",
          "shell.execute_reply": "2022-07-04T01:54:20.590329Z"
        },
        "trusted": true,
        "colab": {
          "base_uri": "https://localhost:8080/"
        },
        "id": "jgzTSfvi7YVQ",
        "outputId": "04fd3043-4bba-4e28-929f-ccbe536d6e67"
      },
      "execution_count": 77,
      "outputs": [
        {
          "output_type": "execute_result",
          "data": {
            "text/plain": [
              "0"
            ]
          },
          "metadata": {},
          "execution_count": 77
        }
      ]
    },
    {
      "cell_type": "markdown",
      "source": [
        "### Feature Engineering"
      ],
      "metadata": {
        "id": "6k59Vk9d5Pmx",
        "papermill": {
          "duration": 0.050459,
          "end_time": "2022-06-07T00:17:17.11685",
          "exception": false,
          "start_time": "2022-06-07T00:17:17.066391",
          "status": "completed"
        },
        "tags": []
      }
    },
    {
      "cell_type": "code",
      "source": [
        "columns = ['name', 'categories']\n",
        "feats = ['jaccard_char', 'jaccard_char_smallest', 'jaccard_word', 'jaccard_word_smallest',\n",
        "         'leven', 'jaro', 'lcs']\n",
        "\n",
        "for col in tqdm(columns):\n",
        "    for feat in feats:\n",
        "        if col == 'name' and 'jaccard' in feat:\n",
        "            continue\n",
        "        candidate_df[col+'_'+feat] = candidate_df[[col, col+'_neighbor']].apply(add_distance_features, args=feat, axis=1)"
      ],
      "metadata": {
        "execution": {
          "iopub.status.busy": "2022-07-04T01:54:20.595446Z",
          "iopub.execute_input": "2022-07-04T01:54:20.595933Z",
          "iopub.status.idle": "2022-07-04T01:54:20.651924Z",
          "shell.execute_reply.started": "2022-07-04T01:54:20.595890Z",
          "shell.execute_reply": "2022-07-04T01:54:20.650933Z"
        },
        "trusted": true,
        "colab": {
          "base_uri": "https://localhost:8080/",
          "height": 0,
          "referenced_widgets": [
            "d835c4c44a9e48d2b87ca5b3aae69a15",
            "a6a492661cb0474b9da7913c3ac07813",
            "6753f6c2d49842aabc68a6bc2303505b",
            "1724f5a5f4c641e3b3c5cdcd8d693961",
            "7bd2282bb2ea49a4937efa0ccd53c835",
            "6687e6a9ae224445b312972ed5cd5f32",
            "a319f3e87bd840ccb6fc0ac49e024501",
            "1fedc61461f8420086c354c922e8ce5f",
            "8e2051462ba2488fae309afb6fff3f35",
            "7f10ea8e19464c028099a054dd9c1c96",
            "ca0ea7a18b3e4185bc36516430c1e7aa"
          ]
        },
        "id": "uGYfdKyz7YVR",
        "outputId": "64c40d48-7ea4-4e7f-c991-447dfd41477c"
      },
      "execution_count": 78,
      "outputs": [
        {
          "output_type": "display_data",
          "data": {
            "text/plain": [
              "  0%|          | 0/2 [00:00<?, ?it/s]"
            ],
            "application/vnd.jupyter.widget-view+json": {
              "version_major": 2,
              "version_minor": 0,
              "model_id": "d835c4c44a9e48d2b87ca5b3aae69a15"
            }
          },
          "metadata": {}
        }
      ]
    },
    {
      "cell_type": "code",
      "source": [
        "gc.collect()"
      ],
      "metadata": {
        "execution": {
          "iopub.status.busy": "2022-07-04T01:54:20.652994Z",
          "iopub.execute_input": "2022-07-04T01:54:20.653228Z",
          "iopub.status.idle": "2022-07-04T01:54:20.877901Z",
          "shell.execute_reply.started": "2022-07-04T01:54:20.653200Z",
          "shell.execute_reply": "2022-07-04T01:54:20.877033Z"
        },
        "trusted": true,
        "colab": {
          "base_uri": "https://localhost:8080/"
        },
        "id": "2ZXYWbEs7YVS",
        "outputId": "bcf087fb-e9d8-4914-9c5c-33427fb2318f"
      },
      "execution_count": 79,
      "outputs": [
        {
          "output_type": "execute_result",
          "data": {
            "text/plain": [
              "169"
            ]
          },
          "metadata": {},
          "execution_count": 79
        }
      ]
    },
    {
      "cell_type": "code",
      "source": [
        "columns = ['address']\n",
        "feats = ['jaccard_char', 'jaccard_word', 'lcs']\n",
        "\n",
        "for col in tqdm(columns):\n",
        "    for feat in feats:\n",
        "        candidate_df[col+'_'+feat] = candidate_df[[col, col+'_neighbor']].apply(add_distance_features, args=feat, axis=1)\n",
        "    candidate_df.drop([col, col+'_neighbor'], axis=1, inplace=True)"
      ],
      "metadata": {
        "execution": {
          "iopub.status.busy": "2022-07-04T01:54:20.879524Z",
          "iopub.execute_input": "2022-07-04T01:54:20.879794Z",
          "iopub.status.idle": "2022-07-04T01:54:20.922772Z",
          "shell.execute_reply.started": "2022-07-04T01:54:20.879762Z",
          "shell.execute_reply": "2022-07-04T01:54:20.921954Z"
        },
        "trusted": true,
        "colab": {
          "base_uri": "https://localhost:8080/",
          "height": 0,
          "referenced_widgets": [
            "0ceddc8dcd7042abaaf9b9ee95ad2158",
            "8379fe4042264e118331c36ff190909b",
            "a464f318098f4527bab2a28e2157f290",
            "619f45f57019436aa95aa872bd6d2f52",
            "f268c5deb4654c7c8922c19b3f8c7385",
            "0fd4d9774edd47dcbe8d41bdadfed21e",
            "b36ff7564ac24d92af714e0926c695a5",
            "4074ccd15d5b4477be512a30dc8922bb",
            "b810061638db449bbc684c929ebaa02b",
            "da8b920b85fb447ab6a92fa3ed7cf1eb",
            "c3b4ae9bde5a455ba252ad9408f44830"
          ]
        },
        "id": "r_9wIVdx7YVS",
        "outputId": "a46d415a-0e25-4317-ba08-58ac1c64c48c"
      },
      "execution_count": 80,
      "outputs": [
        {
          "output_type": "display_data",
          "data": {
            "text/plain": [
              "  0%|          | 0/1 [00:00<?, ?it/s]"
            ],
            "application/vnd.jupyter.widget-view+json": {
              "version_major": 2,
              "version_minor": 0,
              "model_id": "0ceddc8dcd7042abaaf9b9ee95ad2158"
            }
          },
          "metadata": {}
        }
      ]
    },
    {
      "cell_type": "code",
      "source": [
        "gc.collect()"
      ],
      "metadata": {
        "execution": {
          "iopub.status.busy": "2022-07-04T01:54:20.924090Z",
          "iopub.execute_input": "2022-07-04T01:54:20.924336Z",
          "iopub.status.idle": "2022-07-04T01:54:21.145110Z",
          "shell.execute_reply.started": "2022-07-04T01:54:20.924304Z",
          "shell.execute_reply": "2022-07-04T01:54:21.144184Z"
        },
        "trusted": true,
        "colab": {
          "base_uri": "https://localhost:8080/"
        },
        "id": "NSGdMJn27YVS",
        "outputId": "7f898f79-5701-41df-bdd3-83f21bd7f231"
      },
      "execution_count": 81,
      "outputs": [
        {
          "output_type": "execute_result",
          "data": {
            "text/plain": [
              "70"
            ]
          },
          "metadata": {},
          "execution_count": 81
        }
      ]
    },
    {
      "cell_type": "code",
      "source": [
        "columns = ['zip', 'phone', 'url']\n",
        "feats = ['jaro']\n",
        "\n",
        "for col in tqdm(columns):\n",
        "    for feat in feats:\n",
        "        candidate_df[col+'_'+feat] = candidate_df[[col, col+'_neighbor']].apply(add_distance_features, args=feat, axis=1)\n",
        "    candidate_df.drop([col, col+'_neighbor'], axis=1, inplace=True)"
      ],
      "metadata": {
        "execution": {
          "iopub.status.busy": "2022-07-04T01:54:21.146707Z",
          "iopub.execute_input": "2022-07-04T01:54:21.146963Z",
          "iopub.status.idle": "2022-07-04T01:54:21.190886Z",
          "shell.execute_reply.started": "2022-07-04T01:54:21.146933Z",
          "shell.execute_reply": "2022-07-04T01:54:21.189999Z"
        },
        "trusted": true,
        "colab": {
          "base_uri": "https://localhost:8080/",
          "height": 0,
          "referenced_widgets": [
            "a84025b8e8464dcaa76308797ab618bb",
            "2c3b128879244b70bf2613c93cb28b21",
            "bee720c3620d4e4694db225e9ac3529b",
            "cc806737b8e348399dd1fa0dbbcd5b44",
            "97799a0142d1453dbcdfc494585ccf2f",
            "9547096aec604fb3a09e394524228244",
            "96e774d9ee144a45b1b55e5be50e1a4a",
            "bdfd7f776c3a4e8f80169c52eb351f6a",
            "e9f4f60c645f4416bfbfa35d1fa9fc6e",
            "e8e48c6c2db746b58112d07db5808e52",
            "64c52749bc424e4e8b431e1fe10178b7"
          ]
        },
        "id": "cDxaB26h7YVS",
        "outputId": "1392ed3b-16f9-4a5d-dfbd-6224b7712c36"
      },
      "execution_count": 82,
      "outputs": [
        {
          "output_type": "display_data",
          "data": {
            "text/plain": [
              "  0%|          | 0/3 [00:00<?, ?it/s]"
            ],
            "application/vnd.jupyter.widget-view+json": {
              "version_major": 2,
              "version_minor": 0,
              "model_id": "a84025b8e8464dcaa76308797ab618bb"
            }
          },
          "metadata": {}
        }
      ]
    },
    {
      "cell_type": "code",
      "source": [
        "gc.collect()"
      ],
      "metadata": {
        "execution": {
          "iopub.status.busy": "2022-07-04T01:54:21.192304Z",
          "iopub.execute_input": "2022-07-04T01:54:21.193095Z",
          "iopub.status.idle": "2022-07-04T01:54:21.412386Z",
          "shell.execute_reply.started": "2022-07-04T01:54:21.193061Z",
          "shell.execute_reply": "2022-07-04T01:54:21.411375Z"
        },
        "trusted": true,
        "colab": {
          "base_uri": "https://localhost:8080/"
        },
        "id": "XG4tA9kz7YVS",
        "outputId": "79e875da-3dac-4983-cf7d-cc168a14a2fc"
      },
      "execution_count": 83,
      "outputs": [
        {
          "output_type": "execute_result",
          "data": {
            "text/plain": [
              "70"
            ]
          },
          "metadata": {},
          "execution_count": 83
        }
      ]
    },
    {
      "cell_type": "code",
      "source": [
        "columns = ['city']\n",
        "feats = ['jaccard_char']\n",
        "\n",
        "for col in tqdm(columns):\n",
        "    print(col+':')\n",
        "    for feat in feats:\n",
        "        print(feat)\n",
        "        candidate_df[col+'_'+feat] = candidate_df[[col, col+'_neighbor']].apply(add_distance_features, args=feat, axis=1)\n",
        "    candidate_df.drop([col, col+'_neighbor'], axis=1, inplace=True)"
      ],
      "metadata": {
        "execution": {
          "iopub.status.busy": "2022-07-04T01:54:21.413486Z",
          "iopub.execute_input": "2022-07-04T01:54:21.413799Z",
          "iopub.status.idle": "2022-07-04T01:54:21.454662Z",
          "shell.execute_reply.started": "2022-07-04T01:54:21.413769Z",
          "shell.execute_reply": "2022-07-04T01:54:21.453800Z"
        },
        "trusted": true,
        "colab": {
          "base_uri": "https://localhost:8080/",
          "height": 0,
          "referenced_widgets": [
            "998b9455219b4d35ba941556f5ec05e3",
            "b700911c36994dd88a3cbe3efc50ba70",
            "2564c3dfc8dd4716b8f0d6ba938de04e",
            "eb6f09cc867a4300b4a6f29dbfdce6b1",
            "ea2cdde58264462e973fc65b58a58f20",
            "24831ee05470473bbc627e16899c4a90",
            "9abbac1a4f444a0982ad43c114be0f10",
            "9df4682b0dd2491db4bd75e8186a49aa",
            "45ab75a8f0de4b0e9eb32bba1ab04181",
            "4962c06703a941b48059118b0e73aa95",
            "23cc4932fb0747f1ae4c4fcb2d1046c9"
          ]
        },
        "id": "1ljCw4xr7YVS",
        "outputId": "12f2e411-e434-4c2f-89ad-07d728c38b6e"
      },
      "execution_count": 84,
      "outputs": [
        {
          "output_type": "display_data",
          "data": {
            "text/plain": [
              "  0%|          | 0/1 [00:00<?, ?it/s]"
            ],
            "application/vnd.jupyter.widget-view+json": {
              "version_major": 2,
              "version_minor": 0,
              "model_id": "998b9455219b4d35ba941556f5ec05e3"
            }
          },
          "metadata": {}
        },
        {
          "output_type": "stream",
          "name": "stdout",
          "text": [
            "city:\n",
            "jaccard_char\n"
          ]
        }
      ]
    },
    {
      "cell_type": "code",
      "source": [
        "gc.collect()"
      ],
      "metadata": {
        "execution": {
          "iopub.status.busy": "2022-07-04T01:54:21.455904Z",
          "iopub.execute_input": "2022-07-04T01:54:21.456104Z",
          "iopub.status.idle": "2022-07-04T01:54:21.679967Z",
          "shell.execute_reply.started": "2022-07-04T01:54:21.456079Z",
          "shell.execute_reply": "2022-07-04T01:54:21.678972Z"
        },
        "trusted": true,
        "colab": {
          "base_uri": "https://localhost:8080/"
        },
        "id": "5pNYDDa07YVT",
        "outputId": "eaf36f8c-1ba9-48f8-84c1-2b9585674425"
      },
      "execution_count": 85,
      "outputs": [
        {
          "output_type": "execute_result",
          "data": {
            "text/plain": [
              "0"
            ]
          },
          "metadata": {},
          "execution_count": 85
        }
      ]
    },
    {
      "cell_type": "code",
      "source": [
        "candidate_df = reduce_mem_usage(candidate_df, candidate_df.columns)\n",
        "gc.collect()"
      ],
      "metadata": {
        "execution": {
          "iopub.status.busy": "2022-07-04T01:54:21.681688Z",
          "iopub.execute_input": "2022-07-04T01:54:21.681920Z",
          "iopub.status.idle": "2022-07-04T01:54:21.960747Z",
          "shell.execute_reply.started": "2022-07-04T01:54:21.681893Z",
          "shell.execute_reply": "2022-07-04T01:54:21.959850Z"
        },
        "trusted": true,
        "colab": {
          "base_uri": "https://localhost:8080/",
          "height": 0,
          "referenced_widgets": [
            "432b63966c064e60990c0bc2520418c2",
            "f53dd3f13a144b3cbf5bf2f0ce05b92d",
            "5fe2bcc3e4a94f3b97bdafdb15bfa257",
            "fb17a20326b243f788eb20facc07604f",
            "57a825d3b6364b5281436b3d5dae7e64",
            "922a46a29a8047bfa6fe7da2b6bc1bc5",
            "b0c9c769070f4c5c9d9db05f629707f7",
            "2f3897de8ab54fc685d2daec7bc301c1",
            "d3675e97bb3a4fedbc7b647d83575363",
            "6260ff731a0f454984a6a2e6d0a25256",
            "126c3413b0244591a37d745406437928"
          ]
        },
        "id": "Raqf7F1i7YVT",
        "outputId": "418dc382-7d9b-4516-f82a-ad6a615fd94c"
      },
      "execution_count": 86,
      "outputs": [
        {
          "output_type": "display_data",
          "data": {
            "text/plain": [
              "  0%|          | 0/41 [00:00<?, ?it/s]"
            ],
            "application/vnd.jupyter.widget-view+json": {
              "version_major": 2,
              "version_minor": 0,
              "model_id": "432b63966c064e60990c0bc2520418c2"
            }
          },
          "metadata": {}
        },
        {
          "output_type": "stream",
          "name": "stdout",
          "text": [
            "Mem. usage decreased to  0.03 Mb (50.1% reduction)\n"
          ]
        },
        {
          "output_type": "execute_result",
          "data": {
            "text/plain": [
              "92"
            ]
          },
          "metadata": {},
          "execution_count": 86
        }
      ]
    },
    {
      "cell_type": "code",
      "source": [
        "columns = ['name', 'categories', 'name_neighbor', 'categories_neighbor']\n",
        "for col in tqdm(columns):\n",
        "    candidate_df[col+'_len'] = candidate_df[col].astype(str).map(len) \n",
        "    candidate_df.loc[candidate_df[col].isnull(), col+'_len'] = -99\n",
        "    candidate_df[col+'_count_word'] = candidate_df[col].astype(str).apply(lambda x: len(x.split()))\n",
        "    candidate_df.loc[candidate_df[col].isnull(), col+'_count_word'] = -99\n",
        "    candidate_df.drop(col, axis=1, inplace=True)\n",
        "    gc.collect()"
      ],
      "metadata": {
        "execution": {
          "iopub.status.busy": "2022-07-04T01:54:21.961952Z",
          "iopub.execute_input": "2022-07-04T01:54:21.962835Z",
          "iopub.status.idle": "2022-07-04T01:54:22.911734Z",
          "shell.execute_reply.started": "2022-07-04T01:54:21.962798Z",
          "shell.execute_reply": "2022-07-04T01:54:22.910754Z"
        },
        "trusted": true,
        "colab": {
          "base_uri": "https://localhost:8080/",
          "height": 0,
          "referenced_widgets": [
            "dc22fa4072834ed796d62a94c375292d",
            "67bd84eda2384decb9abe087d4d8265a",
            "337889476ba9463d9ce653469c48962d",
            "f2af67ff12b54a45b3ff09ab3cffa9af",
            "fae0d6303b644a3b97f123020535f60d",
            "a5c33e232f924ebe8ac3164a13dac571",
            "53bf9e900c2f41da8d66f7ae63b24a89",
            "a184aecb68094f68858bd02b87611d7b",
            "f5f98ce7f9e04c69b761f400985ca360",
            "24699946bfaa4912905ff305707ad0d4",
            "3606aecb4fa64771bdcba2acbeddbc74"
          ]
        },
        "id": "zM47Jov37YVT",
        "outputId": "bb915991-ad4c-491c-f933-44f3bb7c04b1"
      },
      "execution_count": 87,
      "outputs": [
        {
          "output_type": "display_data",
          "data": {
            "text/plain": [
              "  0%|          | 0/4 [00:00<?, ?it/s]"
            ],
            "application/vnd.jupyter.widget-view+json": {
              "version_major": 2,
              "version_minor": 0,
              "model_id": "dc22fa4072834ed796d62a94c375292d"
            }
          },
          "metadata": {}
        }
      ]
    },
    {
      "cell_type": "code",
      "source": [
        "candidate_df['name_lcs_smallest'] = candidate_df['name_lcs'] / candidate_df[['name_len', 'name_neighbor_len']].min(axis=1)\n",
        "candidate_df['name_lcs_biggest'] = candidate_df['name_lcs'] / candidate_df[['name_len', 'name_neighbor_len']].max(axis=1)\n",
        "candidate_df['categories_lcs_smallest'] = candidate_df['categories_lcs'] / candidate_df[['categories_len', 'categories_neighbor_len']].min(axis=1)\n",
        "candidate_df['categories_lcs_biggest'] = candidate_df['categories_lcs'] / candidate_df[['categories_len', 'categories_neighbor_len']].max(axis=1)"
      ],
      "metadata": {
        "execution": {
          "iopub.status.busy": "2022-07-04T01:54:22.913004Z",
          "iopub.execute_input": "2022-07-04T01:54:22.913286Z",
          "iopub.status.idle": "2022-07-04T01:54:22.928601Z",
          "shell.execute_reply.started": "2022-07-04T01:54:22.913232Z",
          "shell.execute_reply": "2022-07-04T01:54:22.927724Z"
        },
        "trusted": true,
        "id": "dvkpDidS7YVT"
      },
      "execution_count": 88,
      "outputs": []
    },
    {
      "cell_type": "code",
      "source": [
        "candidate_df['name_leven_biggest'] = candidate_df['name_leven'] / candidate_df[['name_len', 'name_neighbor_len']].max(axis=1)\n",
        "candidate_df['categories_leven_biggest'] = candidate_df['categories_leven'] / candidate_df[['categories_len', 'categories_neighbor_len']].max(axis=1)"
      ],
      "metadata": {
        "execution": {
          "iopub.status.busy": "2022-07-04T01:54:22.930163Z",
          "iopub.execute_input": "2022-07-04T01:54:22.930465Z",
          "iopub.status.idle": "2022-07-04T01:54:22.940626Z",
          "shell.execute_reply.started": "2022-07-04T01:54:22.930432Z",
          "shell.execute_reply": "2022-07-04T01:54:22.939506Z"
        },
        "trusted": true,
        "id": "A911MNOi7YVT"
      },
      "execution_count": 89,
      "outputs": []
    },
    {
      "cell_type": "markdown",
      "source": [
        "### Create Feature About Address Number"
      ],
      "metadata": {
        "papermill": {
          "duration": 0.05935,
          "end_time": "2022-06-07T00:17:20.914854",
          "exception": false,
          "start_time": "2022-06-07T00:17:20.855504",
          "status": "completed"
        },
        "tags": [],
        "id": "aNP2IKkH7YVT"
      }
    },
    {
      "cell_type": "code",
      "source": [
        "candidate_df['same_number'] = candidate_df['number'] == candidate_df['number_neighbor']\n",
        "candidate_df['same_number'] = candidate_df['same_number'].astype(int)"
      ],
      "metadata": {
        "papermill": {
          "duration": 0.067969,
          "end_time": "2022-06-07T00:17:21.040608",
          "exception": false,
          "start_time": "2022-06-07T00:17:20.972639",
          "status": "completed"
        },
        "tags": [],
        "execution": {
          "iopub.status.busy": "2022-07-04T01:54:22.941961Z",
          "iopub.execute_input": "2022-07-04T01:54:22.942204Z",
          "iopub.status.idle": "2022-07-04T01:54:22.948818Z",
          "shell.execute_reply.started": "2022-07-04T01:54:22.942176Z",
          "shell.execute_reply": "2022-07-04T01:54:22.947960Z"
        },
        "trusted": true,
        "id": "J_fVNar07YVT"
      },
      "execution_count": 90,
      "outputs": []
    },
    {
      "cell_type": "code",
      "source": [
        "candidate_df.drop(['number', 'number_neighbor'], axis=1, inplace=True)\n",
        "gc.collect()"
      ],
      "metadata": {
        "execution": {
          "iopub.status.busy": "2022-07-04T01:54:22.949952Z",
          "iopub.execute_input": "2022-07-04T01:54:22.950169Z",
          "iopub.status.idle": "2022-07-04T01:54:23.182823Z",
          "shell.execute_reply.started": "2022-07-04T01:54:22.950143Z",
          "shell.execute_reply": "2022-07-04T01:54:23.181805Z"
        },
        "trusted": true,
        "colab": {
          "base_uri": "https://localhost:8080/"
        },
        "id": "MP1s-VMC7YVT",
        "outputId": "3d548910-cfd0-4188-c4db-619cf615acbd"
      },
      "execution_count": 91,
      "outputs": [
        {
          "output_type": "execute_result",
          "data": {
            "text/plain": [
              "220"
            ]
          },
          "metadata": {},
          "execution_count": 91
        }
      ]
    },
    {
      "cell_type": "code",
      "source": [
        "candidate_df.shape"
      ],
      "metadata": {
        "execution": {
          "iopub.status.busy": "2022-07-04T01:54:23.184323Z",
          "iopub.execute_input": "2022-07-04T01:54:23.184704Z",
          "iopub.status.idle": "2022-07-04T01:54:23.196137Z",
          "shell.execute_reply.started": "2022-07-04T01:54:23.184657Z",
          "shell.execute_reply": "2022-07-04T01:54:23.195140Z"
        },
        "trusted": true,
        "colab": {
          "base_uri": "https://localhost:8080/"
        },
        "id": "0J5DZpzt7YVU",
        "outputId": "b320d352-3246-454f-b77b-11aae57ead89"
      },
      "execution_count": 92,
      "outputs": [
        {
          "output_type": "execute_result",
          "data": {
            "text/plain": [
              "(222, 50)"
            ]
          },
          "metadata": {},
          "execution_count": 92
        }
      ]
    },
    {
      "cell_type": "markdown",
      "source": [
        "### Final Reduce Memory"
      ],
      "metadata": {
        "id": "EJSMLZ0E7YVU"
      }
    },
    {
      "cell_type": "code",
      "source": [
        "candidate_df.replace([np.inf, -np.inf], -99, inplace=True)\n",
        "candidate_df.fillna(-99, inplace=True)"
      ],
      "metadata": {
        "execution": {
          "iopub.status.busy": "2022-07-04T01:54:23.199366Z",
          "iopub.execute_input": "2022-07-04T01:54:23.199949Z",
          "iopub.status.idle": "2022-07-04T01:54:23.208774Z",
          "shell.execute_reply.started": "2022-07-04T01:54:23.199916Z",
          "shell.execute_reply": "2022-07-04T01:54:23.207790Z"
        },
        "trusted": true,
        "id": "atB_Kt4Z7YVU"
      },
      "execution_count": 93,
      "outputs": []
    },
    {
      "cell_type": "code",
      "source": [
        "gc.collect()\n",
        "candidate_df = reduce_mem_usage(candidate_df, candidate_df.columns)\n",
        "gc.collect()"
      ],
      "metadata": {
        "execution": {
          "iopub.status.busy": "2022-07-04T01:54:23.209870Z",
          "iopub.execute_input": "2022-07-04T01:54:23.210696Z",
          "iopub.status.idle": "2022-07-04T01:54:23.705803Z",
          "shell.execute_reply.started": "2022-07-04T01:54:23.210645Z",
          "shell.execute_reply": "2022-07-04T01:54:23.704933Z"
        },
        "trusted": true,
        "colab": {
          "base_uri": "https://localhost:8080/",
          "height": 0,
          "referenced_widgets": [
            "667f6dd6f00340018cd0f604614b5455",
            "c64a5fb083ff48d3860244462c326e7c",
            "bb67481ab5ab4b4e95c4f53683dc8c25",
            "efa2cc50af7a4e09b228b20cc8a22bb0",
            "53a58cd3236042e5be5ab25bc9482aae",
            "af7ad58b53024e208fe96c6acd6248b8",
            "b1ec9f1c447e4c37a28d0217df168db7",
            "5b6b727f2bc640918a3cae0ec8e044fe",
            "620d984233ee48f38d0bed8a46fd273d",
            "68ee6dfdedba41c893bdb60d92c77e74",
            "cc86b5e710bd465b9d0bd72d247f15c3"
          ]
        },
        "id": "RAyabBOz7YVU",
        "outputId": "323d9a0e-fd8d-4c44-b534-96124cc1006c"
      },
      "execution_count": 94,
      "outputs": [
        {
          "output_type": "display_data",
          "data": {
            "text/plain": [
              "  0%|          | 0/50 [00:00<?, ?it/s]"
            ],
            "application/vnd.jupyter.widget-view+json": {
              "version_major": 2,
              "version_minor": 0,
              "model_id": "667f6dd6f00340018cd0f604614b5455"
            }
          },
          "metadata": {}
        },
        {
          "output_type": "stream",
          "name": "stdout",
          "text": [
            "Mem. usage decreased to  0.03 Mb (33.1% reduction)\n"
          ]
        },
        {
          "output_type": "execute_result",
          "data": {
            "text/plain": [
              "21"
            ]
          },
          "metadata": {},
          "execution_count": 94
        }
      ]
    },
    {
      "cell_type": "markdown",
      "source": [
        "### Delete Not Used Columns"
      ],
      "metadata": {
        "id": "Q3HV5kfs6saZ",
        "papermill": {
          "duration": 0.057177,
          "end_time": "2022-06-07T00:17:21.155417",
          "exception": false,
          "start_time": "2022-06-07T00:17:21.09824",
          "status": "completed"
        },
        "tags": []
      }
    },
    {
      "cell_type": "code",
      "source": [
        "len(candidate_df.columns)"
      ],
      "metadata": {
        "execution": {
          "iopub.status.busy": "2022-07-04T01:54:23.706823Z",
          "iopub.execute_input": "2022-07-04T01:54:23.707022Z",
          "iopub.status.idle": "2022-07-04T01:54:23.711704Z",
          "shell.execute_reply.started": "2022-07-04T01:54:23.706997Z",
          "shell.execute_reply": "2022-07-04T01:54:23.711094Z"
        },
        "trusted": true,
        "colab": {
          "base_uri": "https://localhost:8080/"
        },
        "id": "Dukf1JfH7YVU",
        "outputId": "a2a76eaf-6e98-49b1-9394-1d9bd5bba039"
      },
      "execution_count": 95,
      "outputs": [
        {
          "output_type": "execute_result",
          "data": {
            "text/plain": [
              "50"
            ]
          },
          "metadata": {},
          "execution_count": 95
        }
      ]
    },
    {
      "cell_type": "code",
      "source": [
        "columns = candidate_df.columns.to_list()\n",
        "not_use = ['id', 'id_neighbor', 'name', 'name_neighbor', 'address', 'address_neighbor', 'city',\n",
        "          'city_neighbor', 'country', 'country_neighbor', 'zip', 'zip_neighbor', 'url', 'url_neighbor',\n",
        "          'phone', 'phone_neighbor', 'categories', 'categories_neighbor', 'point_of_interest',\n",
        "          'point_of_interest_neighbor', 'target', 'number', 'number_neighbor', 'name_gesh', 'categories_gesh']\n",
        "features = [item for item in columns if item not in not_use]"
      ],
      "metadata": {
        "id": "GHMG8t1UlAkT",
        "papermill": {
          "duration": 0.066536,
          "end_time": "2022-06-07T00:17:21.27877",
          "exception": false,
          "start_time": "2022-06-07T00:17:21.212234",
          "status": "completed"
        },
        "tags": [],
        "execution": {
          "iopub.status.busy": "2022-07-04T01:54:23.712458Z",
          "iopub.execute_input": "2022-07-04T01:54:23.712642Z",
          "iopub.status.idle": "2022-07-04T01:54:23.722304Z",
          "shell.execute_reply.started": "2022-07-04T01:54:23.712618Z",
          "shell.execute_reply": "2022-07-04T01:54:23.721599Z"
        },
        "trusted": true
      },
      "execution_count": 96,
      "outputs": []
    },
    {
      "cell_type": "code",
      "source": [
        "len(features)"
      ],
      "metadata": {
        "execution": {
          "iopub.status.busy": "2022-07-04T01:54:23.723305Z",
          "iopub.execute_input": "2022-07-04T01:54:23.723973Z",
          "iopub.status.idle": "2022-07-04T01:54:23.734872Z",
          "shell.execute_reply.started": "2022-07-04T01:54:23.723936Z",
          "shell.execute_reply": "2022-07-04T01:54:23.734305Z"
        },
        "trusted": true,
        "colab": {
          "base_uri": "https://localhost:8080/"
        },
        "id": "o_HKgBbL7YVV",
        "outputId": "ab7417e0-8b82-4fdd-ba49-80f809252af2"
      },
      "execution_count": 97,
      "outputs": [
        {
          "output_type": "execute_result",
          "data": {
            "text/plain": [
              "48"
            ]
          },
          "metadata": {},
          "execution_count": 97
        }
      ]
    },
    {
      "cell_type": "code",
      "source": [
        "candidate_df = candidate_df[features + ['id', 'id_neighbor']]\n",
        "candidate_df.reset_index(drop=True, inplace=True)"
      ],
      "metadata": {
        "id": "aKSy9cc3lAkT",
        "papermill": {
          "duration": 0.066967,
          "end_time": "2022-06-07T00:17:21.403988",
          "exception": false,
          "start_time": "2022-06-07T00:17:21.337021",
          "status": "completed"
        },
        "tags": [],
        "execution": {
          "iopub.status.busy": "2022-07-04T01:54:23.735862Z",
          "iopub.execute_input": "2022-07-04T01:54:23.736378Z",
          "iopub.status.idle": "2022-07-04T01:54:23.745233Z",
          "shell.execute_reply.started": "2022-07-04T01:54:23.736340Z",
          "shell.execute_reply": "2022-07-04T01:54:23.744466Z"
        },
        "trusted": true
      },
      "execution_count": 98,
      "outputs": []
    },
    {
      "cell_type": "code",
      "source": [
        "candidate_df"
      ],
      "metadata": {
        "execution": {
          "iopub.status.busy": "2022-07-04T01:55:16.311150Z",
          "iopub.execute_input": "2022-07-04T01:55:16.312504Z",
          "iopub.status.idle": "2022-07-04T01:55:16.346827Z",
          "shell.execute_reply.started": "2022-07-04T01:55:16.312446Z",
          "shell.execute_reply": "2022-07-04T01:55:16.345979Z"
        },
        "trusted": true,
        "colab": {
          "base_uri": "https://localhost:8080/",
          "height": 488
        },
        "id": "adLSIRH37YVV",
        "outputId": "08aba952-60fd-40e2-8cdb-1c419db30419"
      },
      "execution_count": 99,
      "outputs": [
        {
          "output_type": "execute_result",
          "data": {
            "text/plain": [
              "     dist  dist_mean_neighboors  dist_type  country_count  \\\n",
              "0     0.0                   0.0          0              1   \n",
              "1     0.0                   0.0          0              1   \n",
              "2     0.0                   0.0          0              1   \n",
              "3     0.0                   0.0          0              1   \n",
              "4     0.0                   0.0          0              1   \n",
              "..    ...                   ...        ...            ...   \n",
              "217   0.0                   0.0          0              1   \n",
              "218   0.0                   0.0          0              1   \n",
              "219   0.0                   0.0          0              1   \n",
              "220   0.0                   0.0          0              1   \n",
              "221   0.0                   0.0          0              1   \n",
              "\n",
              "     latitude_round_count  latitude_round_count_neighbor  \\\n",
              "0                       1                              1   \n",
              "1                       1                              1   \n",
              "2                       1                              1   \n",
              "3                       1                              1   \n",
              "4                       1                              1   \n",
              "..                    ...                            ...   \n",
              "217                     1                              1   \n",
              "218                     1                              1   \n",
              "219                     1                              1   \n",
              "220                     1                              1   \n",
              "221                     1                              1   \n",
              "\n",
              "     longitude_round_count  longitude_round_count_neighbor  neighbor_nearest  \\\n",
              "0                        1                               1                 0   \n",
              "1                        1                               1                 0   \n",
              "2                        1                               1                 0   \n",
              "3                        1                               1                 0   \n",
              "4                        1                               1                 0   \n",
              "..                     ...                             ...               ...   \n",
              "217                      1                               1                 0   \n",
              "218                      1                               1                 0   \n",
              "219                      1                               1                 0   \n",
              "220                      1                               1                 0   \n",
              "221                      1                               1                 0   \n",
              "\n",
              "     name_count  ...  categories_neighbor_count_word  name_lcs_smallest  \\\n",
              "0             1  ...                               4                1.0   \n",
              "1             1  ...                               1                1.0   \n",
              "2             1  ...                               2                1.0   \n",
              "3             1  ...                               2                1.0   \n",
              "4             1  ...                               2                1.0   \n",
              "..          ...  ...                             ...                ...   \n",
              "217           1  ...                             -99                1.0   \n",
              "218           1  ...                               1                1.0   \n",
              "219           1  ...                             -99                1.0   \n",
              "220           1  ...                               1                1.0   \n",
              "221           1  ...                               3                1.0   \n",
              "\n",
              "     name_lcs_biggest  categories_lcs_smallest  categories_lcs_biggest  \\\n",
              "0                 1.0                      1.0                     1.0   \n",
              "1                 1.0                      1.0                     1.0   \n",
              "2                 1.0                      1.0                     1.0   \n",
              "3                 1.0                      1.0                     1.0   \n",
              "4                 1.0                      1.0                     1.0   \n",
              "..                ...                      ...                     ...   \n",
              "217               1.0                      1.0                     1.0   \n",
              "218               1.0                      1.0                     1.0   \n",
              "219               1.0                      1.0                     1.0   \n",
              "220               1.0                      1.0                     1.0   \n",
              "221               1.0                      1.0                     1.0   \n",
              "\n",
              "     name_leven_biggest  categories_leven_biggest  same_number  \\\n",
              "0                   0.0                       0.0            1   \n",
              "1                   0.0                       0.0            0   \n",
              "2                   0.0                       0.0            0   \n",
              "3                   0.0                       0.0            0   \n",
              "4                   0.0                       0.0            0   \n",
              "..                  ...                       ...          ...   \n",
              "217                 0.0                       1.0            0   \n",
              "218                 0.0                       0.0            0   \n",
              "219                 0.0                       1.0            0   \n",
              "220                 0.0                       0.0            0   \n",
              "221                 0.0                       0.0            0   \n",
              "\n",
              "                   id       id_neighbor  \n",
              "0    E_1104d3664585a4  E_1104d3664585a4  \n",
              "1    E_0013149ad8ed18  E_0013149ad8ed18  \n",
              "2    E_0889acc6f5da01  E_0889acc6f5da01  \n",
              "3    E_002c723e4ea298  E_002c723e4ea298  \n",
              "4    E_0cbebe31dd80dd  E_0cbebe31dd80dd  \n",
              "..                ...               ...  \n",
              "217  E_0566487cfab999  E_0566487cfab999  \n",
              "218  E_361c98819fb4ec  E_361c98819fb4ec  \n",
              "219  E_0003ffef645c7f  E_0003ffef645c7f  \n",
              "220  E_01497d78e4b45c  E_01497d78e4b45c  \n",
              "221  E_07ec12a516df45  E_07ec12a516df45  \n",
              "\n",
              "[222 rows x 50 columns]"
            ],
            "text/html": [
              "\n",
              "  <div id=\"df-1263c71d-ef81-40d5-b333-edc7757dce13\">\n",
              "    <div class=\"colab-df-container\">\n",
              "      <div>\n",
              "<style scoped>\n",
              "    .dataframe tbody tr th:only-of-type {\n",
              "        vertical-align: middle;\n",
              "    }\n",
              "\n",
              "    .dataframe tbody tr th {\n",
              "        vertical-align: top;\n",
              "    }\n",
              "\n",
              "    .dataframe thead th {\n",
              "        text-align: right;\n",
              "    }\n",
              "</style>\n",
              "<table border=\"1\" class=\"dataframe\">\n",
              "  <thead>\n",
              "    <tr style=\"text-align: right;\">\n",
              "      <th></th>\n",
              "      <th>dist</th>\n",
              "      <th>dist_mean_neighboors</th>\n",
              "      <th>dist_type</th>\n",
              "      <th>country_count</th>\n",
              "      <th>latitude_round_count</th>\n",
              "      <th>latitude_round_count_neighbor</th>\n",
              "      <th>longitude_round_count</th>\n",
              "      <th>longitude_round_count_neighbor</th>\n",
              "      <th>neighbor_nearest</th>\n",
              "      <th>name_count</th>\n",
              "      <th>...</th>\n",
              "      <th>categories_neighbor_count_word</th>\n",
              "      <th>name_lcs_smallest</th>\n",
              "      <th>name_lcs_biggest</th>\n",
              "      <th>categories_lcs_smallest</th>\n",
              "      <th>categories_lcs_biggest</th>\n",
              "      <th>name_leven_biggest</th>\n",
              "      <th>categories_leven_biggest</th>\n",
              "      <th>same_number</th>\n",
              "      <th>id</th>\n",
              "      <th>id_neighbor</th>\n",
              "    </tr>\n",
              "  </thead>\n",
              "  <tbody>\n",
              "    <tr>\n",
              "      <th>0</th>\n",
              "      <td>0.0</td>\n",
              "      <td>0.0</td>\n",
              "      <td>0</td>\n",
              "      <td>1</td>\n",
              "      <td>1</td>\n",
              "      <td>1</td>\n",
              "      <td>1</td>\n",
              "      <td>1</td>\n",
              "      <td>0</td>\n",
              "      <td>1</td>\n",
              "      <td>...</td>\n",
              "      <td>4</td>\n",
              "      <td>1.0</td>\n",
              "      <td>1.0</td>\n",
              "      <td>1.0</td>\n",
              "      <td>1.0</td>\n",
              "      <td>0.0</td>\n",
              "      <td>0.0</td>\n",
              "      <td>1</td>\n",
              "      <td>E_1104d3664585a4</td>\n",
              "      <td>E_1104d3664585a4</td>\n",
              "    </tr>\n",
              "    <tr>\n",
              "      <th>1</th>\n",
              "      <td>0.0</td>\n",
              "      <td>0.0</td>\n",
              "      <td>0</td>\n",
              "      <td>1</td>\n",
              "      <td>1</td>\n",
              "      <td>1</td>\n",
              "      <td>1</td>\n",
              "      <td>1</td>\n",
              "      <td>0</td>\n",
              "      <td>1</td>\n",
              "      <td>...</td>\n",
              "      <td>1</td>\n",
              "      <td>1.0</td>\n",
              "      <td>1.0</td>\n",
              "      <td>1.0</td>\n",
              "      <td>1.0</td>\n",
              "      <td>0.0</td>\n",
              "      <td>0.0</td>\n",
              "      <td>0</td>\n",
              "      <td>E_0013149ad8ed18</td>\n",
              "      <td>E_0013149ad8ed18</td>\n",
              "    </tr>\n",
              "    <tr>\n",
              "      <th>2</th>\n",
              "      <td>0.0</td>\n",
              "      <td>0.0</td>\n",
              "      <td>0</td>\n",
              "      <td>1</td>\n",
              "      <td>1</td>\n",
              "      <td>1</td>\n",
              "      <td>1</td>\n",
              "      <td>1</td>\n",
              "      <td>0</td>\n",
              "      <td>1</td>\n",
              "      <td>...</td>\n",
              "      <td>2</td>\n",
              "      <td>1.0</td>\n",
              "      <td>1.0</td>\n",
              "      <td>1.0</td>\n",
              "      <td>1.0</td>\n",
              "      <td>0.0</td>\n",
              "      <td>0.0</td>\n",
              "      <td>0</td>\n",
              "      <td>E_0889acc6f5da01</td>\n",
              "      <td>E_0889acc6f5da01</td>\n",
              "    </tr>\n",
              "    <tr>\n",
              "      <th>3</th>\n",
              "      <td>0.0</td>\n",
              "      <td>0.0</td>\n",
              "      <td>0</td>\n",
              "      <td>1</td>\n",
              "      <td>1</td>\n",
              "      <td>1</td>\n",
              "      <td>1</td>\n",
              "      <td>1</td>\n",
              "      <td>0</td>\n",
              "      <td>1</td>\n",
              "      <td>...</td>\n",
              "      <td>2</td>\n",
              "      <td>1.0</td>\n",
              "      <td>1.0</td>\n",
              "      <td>1.0</td>\n",
              "      <td>1.0</td>\n",
              "      <td>0.0</td>\n",
              "      <td>0.0</td>\n",
              "      <td>0</td>\n",
              "      <td>E_002c723e4ea298</td>\n",
              "      <td>E_002c723e4ea298</td>\n",
              "    </tr>\n",
              "    <tr>\n",
              "      <th>4</th>\n",
              "      <td>0.0</td>\n",
              "      <td>0.0</td>\n",
              "      <td>0</td>\n",
              "      <td>1</td>\n",
              "      <td>1</td>\n",
              "      <td>1</td>\n",
              "      <td>1</td>\n",
              "      <td>1</td>\n",
              "      <td>0</td>\n",
              "      <td>1</td>\n",
              "      <td>...</td>\n",
              "      <td>2</td>\n",
              "      <td>1.0</td>\n",
              "      <td>1.0</td>\n",
              "      <td>1.0</td>\n",
              "      <td>1.0</td>\n",
              "      <td>0.0</td>\n",
              "      <td>0.0</td>\n",
              "      <td>0</td>\n",
              "      <td>E_0cbebe31dd80dd</td>\n",
              "      <td>E_0cbebe31dd80dd</td>\n",
              "    </tr>\n",
              "    <tr>\n",
              "      <th>...</th>\n",
              "      <td>...</td>\n",
              "      <td>...</td>\n",
              "      <td>...</td>\n",
              "      <td>...</td>\n",
              "      <td>...</td>\n",
              "      <td>...</td>\n",
              "      <td>...</td>\n",
              "      <td>...</td>\n",
              "      <td>...</td>\n",
              "      <td>...</td>\n",
              "      <td>...</td>\n",
              "      <td>...</td>\n",
              "      <td>...</td>\n",
              "      <td>...</td>\n",
              "      <td>...</td>\n",
              "      <td>...</td>\n",
              "      <td>...</td>\n",
              "      <td>...</td>\n",
              "      <td>...</td>\n",
              "      <td>...</td>\n",
              "      <td>...</td>\n",
              "    </tr>\n",
              "    <tr>\n",
              "      <th>217</th>\n",
              "      <td>0.0</td>\n",
              "      <td>0.0</td>\n",
              "      <td>0</td>\n",
              "      <td>1</td>\n",
              "      <td>1</td>\n",
              "      <td>1</td>\n",
              "      <td>1</td>\n",
              "      <td>1</td>\n",
              "      <td>0</td>\n",
              "      <td>1</td>\n",
              "      <td>...</td>\n",
              "      <td>-99</td>\n",
              "      <td>1.0</td>\n",
              "      <td>1.0</td>\n",
              "      <td>1.0</td>\n",
              "      <td>1.0</td>\n",
              "      <td>0.0</td>\n",
              "      <td>1.0</td>\n",
              "      <td>0</td>\n",
              "      <td>E_0566487cfab999</td>\n",
              "      <td>E_0566487cfab999</td>\n",
              "    </tr>\n",
              "    <tr>\n",
              "      <th>218</th>\n",
              "      <td>0.0</td>\n",
              "      <td>0.0</td>\n",
              "      <td>0</td>\n",
              "      <td>1</td>\n",
              "      <td>1</td>\n",
              "      <td>1</td>\n",
              "      <td>1</td>\n",
              "      <td>1</td>\n",
              "      <td>0</td>\n",
              "      <td>1</td>\n",
              "      <td>...</td>\n",
              "      <td>1</td>\n",
              "      <td>1.0</td>\n",
              "      <td>1.0</td>\n",
              "      <td>1.0</td>\n",
              "      <td>1.0</td>\n",
              "      <td>0.0</td>\n",
              "      <td>0.0</td>\n",
              "      <td>0</td>\n",
              "      <td>E_361c98819fb4ec</td>\n",
              "      <td>E_361c98819fb4ec</td>\n",
              "    </tr>\n",
              "    <tr>\n",
              "      <th>219</th>\n",
              "      <td>0.0</td>\n",
              "      <td>0.0</td>\n",
              "      <td>0</td>\n",
              "      <td>1</td>\n",
              "      <td>1</td>\n",
              "      <td>1</td>\n",
              "      <td>1</td>\n",
              "      <td>1</td>\n",
              "      <td>0</td>\n",
              "      <td>1</td>\n",
              "      <td>...</td>\n",
              "      <td>-99</td>\n",
              "      <td>1.0</td>\n",
              "      <td>1.0</td>\n",
              "      <td>1.0</td>\n",
              "      <td>1.0</td>\n",
              "      <td>0.0</td>\n",
              "      <td>1.0</td>\n",
              "      <td>0</td>\n",
              "      <td>E_0003ffef645c7f</td>\n",
              "      <td>E_0003ffef645c7f</td>\n",
              "    </tr>\n",
              "    <tr>\n",
              "      <th>220</th>\n",
              "      <td>0.0</td>\n",
              "      <td>0.0</td>\n",
              "      <td>0</td>\n",
              "      <td>1</td>\n",
              "      <td>1</td>\n",
              "      <td>1</td>\n",
              "      <td>1</td>\n",
              "      <td>1</td>\n",
              "      <td>0</td>\n",
              "      <td>1</td>\n",
              "      <td>...</td>\n",
              "      <td>1</td>\n",
              "      <td>1.0</td>\n",
              "      <td>1.0</td>\n",
              "      <td>1.0</td>\n",
              "      <td>1.0</td>\n",
              "      <td>0.0</td>\n",
              "      <td>0.0</td>\n",
              "      <td>0</td>\n",
              "      <td>E_01497d78e4b45c</td>\n",
              "      <td>E_01497d78e4b45c</td>\n",
              "    </tr>\n",
              "    <tr>\n",
              "      <th>221</th>\n",
              "      <td>0.0</td>\n",
              "      <td>0.0</td>\n",
              "      <td>0</td>\n",
              "      <td>1</td>\n",
              "      <td>1</td>\n",
              "      <td>1</td>\n",
              "      <td>1</td>\n",
              "      <td>1</td>\n",
              "      <td>0</td>\n",
              "      <td>1</td>\n",
              "      <td>...</td>\n",
              "      <td>3</td>\n",
              "      <td>1.0</td>\n",
              "      <td>1.0</td>\n",
              "      <td>1.0</td>\n",
              "      <td>1.0</td>\n",
              "      <td>0.0</td>\n",
              "      <td>0.0</td>\n",
              "      <td>0</td>\n",
              "      <td>E_07ec12a516df45</td>\n",
              "      <td>E_07ec12a516df45</td>\n",
              "    </tr>\n",
              "  </tbody>\n",
              "</table>\n",
              "<p>222 rows × 50 columns</p>\n",
              "</div>\n",
              "      <button class=\"colab-df-convert\" onclick=\"convertToInteractive('df-1263c71d-ef81-40d5-b333-edc7757dce13')\"\n",
              "              title=\"Convert this dataframe to an interactive table.\"\n",
              "              style=\"display:none;\">\n",
              "        \n",
              "  <svg xmlns=\"http://www.w3.org/2000/svg\" height=\"24px\"viewBox=\"0 0 24 24\"\n",
              "       width=\"24px\">\n",
              "    <path d=\"M0 0h24v24H0V0z\" fill=\"none\"/>\n",
              "    <path d=\"M18.56 5.44l.94 2.06.94-2.06 2.06-.94-2.06-.94-.94-2.06-.94 2.06-2.06.94zm-11 1L8.5 8.5l.94-2.06 2.06-.94-2.06-.94L8.5 2.5l-.94 2.06-2.06.94zm10 10l.94 2.06.94-2.06 2.06-.94-2.06-.94-.94-2.06-.94 2.06-2.06.94z\"/><path d=\"M17.41 7.96l-1.37-1.37c-.4-.4-.92-.59-1.43-.59-.52 0-1.04.2-1.43.59L10.3 9.45l-7.72 7.72c-.78.78-.78 2.05 0 2.83L4 21.41c.39.39.9.59 1.41.59.51 0 1.02-.2 1.41-.59l7.78-7.78 2.81-2.81c.8-.78.8-2.07 0-2.86zM5.41 20L4 18.59l7.72-7.72 1.47 1.35L5.41 20z\"/>\n",
              "  </svg>\n",
              "      </button>\n",
              "      \n",
              "  <style>\n",
              "    .colab-df-container {\n",
              "      display:flex;\n",
              "      flex-wrap:wrap;\n",
              "      gap: 12px;\n",
              "    }\n",
              "\n",
              "    .colab-df-convert {\n",
              "      background-color: #E8F0FE;\n",
              "      border: none;\n",
              "      border-radius: 50%;\n",
              "      cursor: pointer;\n",
              "      display: none;\n",
              "      fill: #1967D2;\n",
              "      height: 32px;\n",
              "      padding: 0 0 0 0;\n",
              "      width: 32px;\n",
              "    }\n",
              "\n",
              "    .colab-df-convert:hover {\n",
              "      background-color: #E2EBFA;\n",
              "      box-shadow: 0px 1px 2px rgba(60, 64, 67, 0.3), 0px 1px 3px 1px rgba(60, 64, 67, 0.15);\n",
              "      fill: #174EA6;\n",
              "    }\n",
              "\n",
              "    [theme=dark] .colab-df-convert {\n",
              "      background-color: #3B4455;\n",
              "      fill: #D2E3FC;\n",
              "    }\n",
              "\n",
              "    [theme=dark] .colab-df-convert:hover {\n",
              "      background-color: #434B5C;\n",
              "      box-shadow: 0px 1px 3px 1px rgba(0, 0, 0, 0.15);\n",
              "      filter: drop-shadow(0px 1px 2px rgba(0, 0, 0, 0.3));\n",
              "      fill: #FFFFFF;\n",
              "    }\n",
              "  </style>\n",
              "\n",
              "      <script>\n",
              "        const buttonEl =\n",
              "          document.querySelector('#df-1263c71d-ef81-40d5-b333-edc7757dce13 button.colab-df-convert');\n",
              "        buttonEl.style.display =\n",
              "          google.colab.kernel.accessAllowed ? 'block' : 'none';\n",
              "\n",
              "        async function convertToInteractive(key) {\n",
              "          const element = document.querySelector('#df-1263c71d-ef81-40d5-b333-edc7757dce13');\n",
              "          const dataTable =\n",
              "            await google.colab.kernel.invokeFunction('convertToInteractive',\n",
              "                                                     [key], {});\n",
              "          if (!dataTable) return;\n",
              "\n",
              "          const docLinkHtml = 'Like what you see? Visit the ' +\n",
              "            '<a target=\"_blank\" href=https://colab.research.google.com/notebooks/data_table.ipynb>data table notebook</a>'\n",
              "            + ' to learn more about interactive tables.';\n",
              "          element.innerHTML = '';\n",
              "          dataTable['output_type'] = 'display_data';\n",
              "          await google.colab.output.renderOutput(dataTable, element);\n",
              "          const docLink = document.createElement('div');\n",
              "          docLink.innerHTML = docLinkHtml;\n",
              "          element.appendChild(docLink);\n",
              "        }\n",
              "      </script>\n",
              "    </div>\n",
              "  </div>\n",
              "  "
            ]
          },
          "metadata": {},
          "execution_count": 99
        }
      ]
    },
    {
      "cell_type": "code",
      "source": [
        "candidate_df.columns"
      ],
      "metadata": {
        "colab": {
          "base_uri": "https://localhost:8080/"
        },
        "id": "jOcDRLLN7YVV",
        "outputId": "59228949-1f6c-40dc-ad79-e65968a87fa4"
      },
      "execution_count": 101,
      "outputs": [
        {
          "output_type": "execute_result",
          "data": {
            "text/plain": [
              "Index(['dist', 'dist_mean_neighboors', 'dist_type', 'country_count',\n",
              "       'latitude_round_count', 'latitude_round_count_neighbor',\n",
              "       'longitude_round_count', 'longitude_round_count_neighbor',\n",
              "       'neighbor_nearest', 'name_count', 'name_count_neighbor',\n",
              "       'name_jaccard_char', 'name_jaccard_char_smallest', 'name_jaccard_word',\n",
              "       'name_jaccard_word_smallest', 'real_dist', 'name_leven', 'name_jaro',\n",
              "       'name_lcs', 'categories_jaccard_char',\n",
              "       'categories_jaccard_char_smallest', 'categories_jaccard_word',\n",
              "       'categories_jaccard_word_smallest', 'categories_leven',\n",
              "       'categories_jaro', 'categories_lcs', 'address_jaccard_char',\n",
              "       'address_jaccard_word', 'address_lcs', 'zip_jaro', 'phone_jaro',\n",
              "       'url_jaro', 'city_jaccard_char', 'name_len', 'name_count_word',\n",
              "       'categories_len', 'categories_count_word', 'name_neighbor_len',\n",
              "       'name_neighbor_count_word', 'categories_neighbor_len',\n",
              "       'categories_neighbor_count_word', 'name_lcs_smallest',\n",
              "       'name_lcs_biggest', 'categories_lcs_smallest', 'categories_lcs_biggest',\n",
              "       'name_leven_biggest', 'categories_leven_biggest', 'same_number', 'id',\n",
              "       'id_neighbor'],\n",
              "      dtype='object')"
            ]
          },
          "metadata": {},
          "execution_count": 101
        }
      ]
    },
    {
      "cell_type": "markdown",
      "source": [
        "train catboost model\n"
      ],
      "metadata": {
        "id": "PXoz_RHwEhGv"
      }
    },
    {
      "cell_type": "code",
      "source": [
        ""
      ],
      "metadata": {
        "id": "z1RDpgDpEkDB"
      },
      "execution_count": null,
      "outputs": []
    },
    {
      "cell_type": "markdown",
      "source": [
        ""
      ],
      "metadata": {
        "id": "4OttFm7F7YVV"
      }
    },
    {
      "cell_type": "code",
      "source": [
        "gc.collect()"
      ],
      "metadata": {
        "execution": {
          "iopub.status.busy": "2022-06-28T22:00:59.628965Z",
          "iopub.execute_input": "2022-06-28T22:00:59.629525Z",
          "iopub.status.idle": "2022-06-28T22:00:59.860799Z",
          "shell.execute_reply.started": "2022-06-28T22:00:59.629482Z",
          "shell.execute_reply": "2022-06-28T22:00:59.860191Z"
        },
        "trusted": true,
        "id": "WNv9eJZf7YVV"
      },
      "execution_count": null,
      "outputs": []
    },
    {
      "cell_type": "markdown",
      "source": [
        "### Inference"
      ],
      "metadata": {
        "papermill": {
          "duration": 0.057256,
          "end_time": "2022-06-07T00:17:21.518261",
          "exception": false,
          "start_time": "2022-06-07T00:17:21.461005",
          "status": "completed"
        },
        "tags": [],
        "id": "0zt9YuKe7YVV"
      }
    },
    {
      "cell_type": "code",
      "source": [
        "from catboost import CatBoostClassifier\n",
        "chunks = 10\n",
        "chunk_size = int(len(candidate_df) / chunks)\n",
        "pred_cat = np.zeros(len(candidate_df))\n",
        "pred_lgb = np.zeros(len(candidate_df))\n",
        "\n",
        "for i in tqdm(range(CFG.n_splits)):\n",
        "    \n",
        "    # catboost\n",
        "    model = CatBoostClassifier()\n",
        "    model.load_model(f'../input/modelcatboostfoursquare2/model2/catboost_fold{i}.cbm')\n",
        "    for chunk in range(chunks):\n",
        "        if chunk < chunks - 1:\n",
        "            pred_cat[chunk*chunk_size:chunk*chunk_size+chunk_size] += model.predict_proba(candidate_df[features][chunk*chunk_size:chunk*chunk_size+chunk_size].to_numpy())[:,1] / CFG.n_splits\n",
        "        else:\n",
        "            pred_cat[chunk*chunk_size:] += model.predict_proba(candidate_df[features][chunk*chunk_size:].to_numpy())[:,1] / CFG.n_splits\n",
        "    del model\n",
        "    gc.collect()\n",
        "    \n",
        "    # lgb\n",
        "    model = joblib.load(f'../input/modellgbfoursquare29/model29/lgbm_fold{i}.pkl')\n",
        "    for chunk in range(chunks):\n",
        "        if chunk < chunks - 1:\n",
        "            pred_lgb[chunk*chunk_size:chunk*chunk_size+chunk_size] += model.predict(candidate_df[features][chunk*chunk_size:chunk*chunk_size+chunk_size].to_numpy()) / CFG.n_splits\n",
        "        else:\n",
        "            pred_lgb[chunk*chunk_size:] += model.predict(candidate_df[features][chunk*chunk_size:].to_numpy()) / CFG.n_splits\n",
        "    del model\n",
        "    gc.collect()\n",
        "\n",
        "candidate_df = candidate_df[['id', 'id_neighbor']]\n",
        "pred = 0.5*pred_cat + 0.5*pred_lgb\n",
        "del pred_cat, pred_lgb\n",
        "gc.collect()\n",
        "pred = (pred >= CFG.threshold).astype(int)\n",
        "candidate_df['pred'] = pred"
      ],
      "metadata": {
        "execution": {
          "iopub.status.busy": "2022-06-28T22:00:59.862071Z",
          "iopub.execute_input": "2022-06-28T22:00:59.863053Z",
          "iopub.status.idle": "2022-06-28T22:01:06.019479Z",
          "shell.execute_reply.started": "2022-06-28T22:00:59.862982Z",
          "shell.execute_reply": "2022-06-28T22:01:06.018388Z"
        },
        "trusted": true,
        "id": "AJjCl20M7YVW"
      },
      "execution_count": null,
      "outputs": []
    },
    {
      "cell_type": "markdown",
      "source": [
        "### Set matches"
      ],
      "metadata": {
        "id": "WGNQy1UW7YVW"
      }
    },
    {
      "cell_type": "code",
      "source": [
        "test_original = pd.read_csv(\"../input/foursquare-location-matching/test.csv\", usecols=['id'])"
      ],
      "metadata": {
        "papermill": {
          "duration": 0.070158,
          "end_time": "2022-06-07T00:17:23.453007",
          "exception": false,
          "start_time": "2022-06-07T00:17:23.382849",
          "status": "completed"
        },
        "tags": [],
        "execution": {
          "iopub.status.busy": "2022-06-28T22:01:06.021247Z",
          "iopub.execute_input": "2022-06-28T22:01:06.021595Z",
          "iopub.status.idle": "2022-06-28T22:01:06.031606Z",
          "shell.execute_reply.started": "2022-06-28T22:01:06.021551Z",
          "shell.execute_reply": "2022-06-28T22:01:06.030327Z"
        },
        "trusted": true,
        "id": "kkVdjbDS7YVW"
      },
      "execution_count": null,
      "outputs": []
    },
    {
      "cell_type": "code",
      "source": [
        "matches = []\n",
        "ids_check = []\n",
        "candidate_df_ones = candidate_df[candidate_df['pred'] == 1][['id','id_neighbor']]\n",
        "for id, id_df in tqdm(candidate_df_ones.groupby('id')):\n",
        "    match = id_df['id_neighbor'].to_list()\n",
        "    if id not in match:\n",
        "        match = [id] + match\n",
        "    match = ' '.join(match)\n",
        "    matches.append(match)\n",
        "    ids_check.append(id)\n",
        "\n",
        "del candidate_df, candidate_df_ones\n",
        "gc.collect()\n",
        "\n",
        "test_original[\"matches\"] = test_original[\"id\"]\n",
        "test_original.loc[test_original['id'].isin(ids_check), 'matches'] = matches"
      ],
      "metadata": {
        "papermill": {
          "duration": 0.106748,
          "end_time": "2022-06-07T00:17:23.617771",
          "exception": false,
          "start_time": "2022-06-07T00:17:23.511023",
          "status": "completed"
        },
        "tags": [],
        "execution": {
          "iopub.status.busy": "2022-06-28T22:01:06.033432Z",
          "iopub.execute_input": "2022-06-28T22:01:06.033841Z",
          "iopub.status.idle": "2022-06-28T22:01:06.319755Z",
          "shell.execute_reply.started": "2022-06-28T22:01:06.033791Z",
          "shell.execute_reply": "2022-06-28T22:01:06.318701Z"
        },
        "trusted": true,
        "id": "JyQ3NtEA7YVX"
      },
      "execution_count": null,
      "outputs": []
    },
    {
      "cell_type": "markdown",
      "source": [
        "### Postproccess"
      ],
      "metadata": {
        "id": "qNZKb3Mx7YVX"
      }
    },
    {
      "cell_type": "code",
      "source": [
        "def postprocess(df):\n",
        "    \"\"\" if A matches B then B matches A\"\"\"\n",
        "    id2match = dict(zip(df[\"id\"].values, df[\"matches\"].str.split()))\n",
        "\n",
        "    for match in tqdm(df[\"matches\"]):\n",
        "        match = match.split()\n",
        "        if len(match) == 1:        \n",
        "            continue\n",
        "\n",
        "        base = match[0]\n",
        "        for m in match[1:]:\n",
        "            if not base in id2match[m]:\n",
        "                id2match[m].append(base)\n",
        "    df[\"matches\"] = df[\"id\"].map(id2match).map(\" \".join)\n",
        "    return df \n",
        "\n",
        "test_original = postprocess(test_original)"
      ],
      "metadata": {
        "execution": {
          "iopub.status.busy": "2022-06-28T22:01:06.321256Z",
          "iopub.execute_input": "2022-06-28T22:01:06.321515Z",
          "iopub.status.idle": "2022-06-28T22:01:06.369785Z",
          "shell.execute_reply.started": "2022-06-28T22:01:06.321486Z",
          "shell.execute_reply": "2022-06-28T22:01:06.368891Z"
        },
        "trusted": true,
        "id": "G0eXjEdD7YVX"
      },
      "execution_count": null,
      "outputs": []
    },
    {
      "cell_type": "code",
      "source": [
        "def postprocess2(df):\n",
        "    \"\"\" if A matches B and B matches C, then A matchs C and C matches A \"\"\"\n",
        "    match_map = df.set_index('id')['matches'].to_dict()\n",
        "    matches = []\n",
        "    ids_check = []\n",
        "    for id, id_df in tqdm(df.groupby('id')):\n",
        "        match = id_df['matches'].str.split().iloc[0]\n",
        "        new_match = []\n",
        "        for match_id in match:\n",
        "            if match_id != id:\n",
        "                new_match += match_map[match_id].split()\n",
        "\n",
        "        if len(new_match) > 0:\n",
        "            match += new_match\n",
        "            match = list(dict.fromkeys(match)) # remove duplicates\n",
        "        match = ' '.join(match)\n",
        "        matches.append(match)\n",
        "        ids_check.append(id)\n",
        "\n",
        "    df.loc[df['id'].isin(ids_check), 'matches'] = matches\n",
        "    return df\n",
        "\n",
        "test_original = postprocess2(test_original)"
      ],
      "metadata": {
        "execution": {
          "iopub.status.busy": "2022-06-28T22:01:06.371019Z",
          "iopub.execute_input": "2022-06-28T22:01:06.371258Z",
          "iopub.status.idle": "2022-06-28T22:01:06.427041Z",
          "shell.execute_reply.started": "2022-06-28T22:01:06.371228Z",
          "shell.execute_reply": "2022-06-28T22:01:06.426159Z"
        },
        "trusted": true,
        "id": "DwLkQFMy7YVY"
      },
      "execution_count": null,
      "outputs": []
    },
    {
      "cell_type": "markdown",
      "source": [
        "### Submit"
      ],
      "metadata": {
        "papermill": {
          "duration": 0.058093,
          "end_time": "2022-06-07T00:17:23.982251",
          "exception": false,
          "start_time": "2022-06-07T00:17:23.924158",
          "status": "completed"
        },
        "tags": [],
        "id": "4ldxkEvG7YVY"
      }
    },
    {
      "cell_type": "code",
      "source": [
        "ssub = pd.read_csv(\"../input/foursquare-location-matching/sample_submission.csv\")\n",
        "ssub = ssub.drop(columns=\"matches\")\n",
        "ssub = ssub.merge(test_original[[\"id\", \"matches\"]], on=\"id\")\n",
        "ssub.to_csv(\"submission.csv\", index=False)\n",
        "\n",
        "ssub.head()"
      ],
      "metadata": {
        "papermill": {
          "duration": 0.094804,
          "end_time": "2022-06-07T00:17:24.13712",
          "exception": false,
          "start_time": "2022-06-07T00:17:24.042316",
          "status": "completed"
        },
        "tags": [],
        "execution": {
          "iopub.status.busy": "2022-06-28T22:01:06.428376Z",
          "iopub.execute_input": "2022-06-28T22:01:06.428599Z",
          "iopub.status.idle": "2022-06-28T22:01:06.46306Z",
          "shell.execute_reply.started": "2022-06-28T22:01:06.428572Z",
          "shell.execute_reply": "2022-06-28T22:01:06.462183Z"
        },
        "trusted": true,
        "id": "6UG_B8mo7YVZ"
      },
      "execution_count": null,
      "outputs": []
    },
    {
      "cell_type": "markdown",
      "source": [
        "👍"
      ],
      "metadata": {
        "id": "uxD80fQ37YVZ"
      }
    }
  ]
}