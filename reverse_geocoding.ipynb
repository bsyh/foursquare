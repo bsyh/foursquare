{
  "nbformat": 4,
  "nbformat_minor": 0,
  "metadata": {
    "colab": {
      "name": "reverse_geocoding.ipynb",
      "provenance": [],
      "authorship_tag": "ABX9TyOfCpRaLIAU9PeJ6Hq9ZHs9",
      "include_colab_link": true
    },
    "kernelspec": {
      "name": "python3",
      "display_name": "Python 3"
    },
    "language_info": {
      "name": "python"
    }
  },
  "cells": [
    {
      "cell_type": "markdown",
      "metadata": {
        "id": "view-in-github",
        "colab_type": "text"
      },
      "source": [
        "<a href=\"https://colab.research.google.com/github/bsyh/foursquare/blob/main/reverse_geocoding.ipynb\" target=\"_parent\"><img src=\"https://colab.research.google.com/assets/colab-badge.svg\" alt=\"Open In Colab\"/></a>"
      ]
    },
    {
      "cell_type": "code",
      "source": [
        "!pip install reverse_geocoder\n",
        "import reverse_geocoder as rg\n"
      ],
      "metadata": {
        "id": "JC_pXQQrdToy"
      },
      "execution_count": null,
      "outputs": []
    },
    {
      "cell_type": "code",
      "execution_count": 5,
      "metadata": {
        "colab": {
          "base_uri": "https://localhost:8080/"
        },
        "id": "B_xQNqH9caed",
        "outputId": "39430df1-f075-4766-e633-596b0d0aa34e"
      },
      "outputs": [
        {
          "output_type": "stream",
          "name": "stdout",
          "text": [
            "BE\n"
          ]
        }
      ],
      "source": [
        "\n",
        "coordinates = [50.85997533509320,3.6341963487748300]\n",
        "result = rg.search(coordinates)\n",
        "\n",
        "print(result[0]['cc'])"
      ]
    }
  ]
}